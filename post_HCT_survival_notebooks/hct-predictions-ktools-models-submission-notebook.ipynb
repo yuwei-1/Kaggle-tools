{
 "cells": [
  {
   "cell_type": "code",
   "execution_count": 1,
   "id": "28cfb7ea",
   "metadata": {
    "collapsed": true,
    "execution": {
     "iopub.execute_input": "2025-01-17T21:27:43.527180Z",
     "iopub.status.busy": "2025-01-17T21:27:43.526776Z",
     "iopub.status.idle": "2025-01-17T21:28:01.470036Z",
     "shell.execute_reply": "2025-01-17T21:28:01.468807Z"
    },
    "jupyter": {
     "outputs_hidden": true
    },
    "papermill": {
     "duration": 17.956584,
     "end_time": "2025-01-17T21:28:01.472119",
     "exception": false,
     "start_time": "2025-01-17T21:27:43.515535",
     "status": "completed"
    },
    "tags": []
   },
   "outputs": [
    {
     "name": "stdout",
     "output_type": "stream",
     "text": [
      "Collecting lifelines\r\n",
      "  Downloading lifelines-0.30.0-py3-none-any.whl.metadata (3.2 kB)\r\n",
      "Requirement already satisfied: numpy>=1.14.0 in /usr/local/lib/python3.10/dist-packages (from lifelines) (1.26.4)\r\n",
      "Requirement already satisfied: scipy>=1.7.0 in /usr/local/lib/python3.10/dist-packages (from lifelines) (1.13.1)\r\n",
      "Requirement already satisfied: pandas>=2.1 in /usr/local/lib/python3.10/dist-packages (from lifelines) (2.1.4)\r\n",
      "Requirement already satisfied: matplotlib>=3.0 in /usr/local/lib/python3.10/dist-packages (from lifelines) (3.7.1)\r\n",
      "Requirement already satisfied: autograd>=1.5 in /usr/local/lib/python3.10/dist-packages (from lifelines) (1.7.0)\r\n",
      "Collecting autograd-gamma>=0.3 (from lifelines)\r\n",
      "  Downloading autograd-gamma-0.5.0.tar.gz (4.0 kB)\r\n",
      "  Preparing metadata (setup.py) ... \u001b[?25l\u001b[?25hdone\r\n",
      "Collecting formulaic>=0.2.2 (from lifelines)\r\n",
      "  Downloading formulaic-1.1.1-py3-none-any.whl.metadata (6.9 kB)\r\n",
      "Collecting interface-meta>=1.2.0 (from formulaic>=0.2.2->lifelines)\r\n",
      "  Downloading interface_meta-1.3.0-py3-none-any.whl.metadata (6.7 kB)\r\n",
      "Requirement already satisfied: typing-extensions>=4.2.0 in /usr/local/lib/python3.10/dist-packages (from formulaic>=0.2.2->lifelines) (4.12.2)\r\n",
      "Requirement already satisfied: wrapt>=1.0 in /usr/local/lib/python3.10/dist-packages (from formulaic>=0.2.2->lifelines) (1.16.0)\r\n",
      "Requirement already satisfied: contourpy>=1.0.1 in /usr/local/lib/python3.10/dist-packages (from matplotlib>=3.0->lifelines) (1.3.0)\r\n",
      "Requirement already satisfied: cycler>=0.10 in /usr/local/lib/python3.10/dist-packages (from matplotlib>=3.0->lifelines) (0.12.1)\r\n",
      "Requirement already satisfied: fonttools>=4.22.0 in /usr/local/lib/python3.10/dist-packages (from matplotlib>=3.0->lifelines) (4.53.1)\r\n",
      "Requirement already satisfied: kiwisolver>=1.0.1 in /usr/local/lib/python3.10/dist-packages (from matplotlib>=3.0->lifelines) (1.4.7)\r\n",
      "Requirement already satisfied: packaging>=20.0 in /usr/local/lib/python3.10/dist-packages (from matplotlib>=3.0->lifelines) (24.1)\r\n",
      "Requirement already satisfied: pillow>=6.2.0 in /usr/local/lib/python3.10/dist-packages (from matplotlib>=3.0->lifelines) (10.4.0)\r\n",
      "Requirement already satisfied: pyparsing>=2.3.1 in /usr/local/lib/python3.10/dist-packages (from matplotlib>=3.0->lifelines) (3.1.4)\r\n",
      "Requirement already satisfied: python-dateutil>=2.7 in /usr/local/lib/python3.10/dist-packages (from matplotlib>=3.0->lifelines) (2.8.2)\r\n",
      "Requirement already satisfied: pytz>=2020.1 in /usr/local/lib/python3.10/dist-packages (from pandas>=2.1->lifelines) (2024.2)\r\n",
      "Requirement already satisfied: tzdata>=2022.1 in /usr/local/lib/python3.10/dist-packages (from pandas>=2.1->lifelines) (2024.1)\r\n",
      "Requirement already satisfied: six>=1.5 in /usr/local/lib/python3.10/dist-packages (from python-dateutil>=2.7->matplotlib>=3.0->lifelines) (1.16.0)\r\n",
      "Downloading lifelines-0.30.0-py3-none-any.whl (349 kB)\r\n",
      "\u001b[2K   \u001b[90m━━━━━━━━━━━━━━━━━━━━━━━━━━━━━━━━━━━━━━━━\u001b[0m \u001b[32m349.3/349.3 kB\u001b[0m \u001b[31m7.3 MB/s\u001b[0m eta \u001b[36m0:00:00\u001b[0m\r\n",
      "\u001b[?25hDownloading formulaic-1.1.1-py3-none-any.whl (115 kB)\r\n",
      "\u001b[2K   \u001b[90m━━━━━━━━━━━━━━━━━━━━━━━━━━━━━━━━━━━━━━━━\u001b[0m \u001b[32m115.7/115.7 kB\u001b[0m \u001b[31m5.5 MB/s\u001b[0m eta \u001b[36m0:00:00\u001b[0m\r\n",
      "\u001b[?25hDownloading interface_meta-1.3.0-py3-none-any.whl (14 kB)\r\n",
      "Building wheels for collected packages: autograd-gamma\r\n",
      "  Building wheel for autograd-gamma (setup.py) ... \u001b[?25l\u001b[?25hdone\r\n",
      "  Created wheel for autograd-gamma: filename=autograd_gamma-0.5.0-py3-none-any.whl size=4031 sha256=1b3617ad7e455efa9c48f63a6efe6dbd6976704efc42ca7c453ad08063307961\r\n",
      "  Stored in directory: /root/.cache/pip/wheels/25/cc/e0/ef2969164144c899fedb22b338f6703e2b9cf46eeebf254991\r\n",
      "Successfully built autograd-gamma\r\n",
      "Installing collected packages: interface-meta, autograd-gamma, formulaic, lifelines\r\n",
      "Successfully installed autograd-gamma-0.5.0 formulaic-1.1.1 interface-meta-1.3.0 lifelines-0.30.0\r\n",
      "Requirement already satisfied: scikit-learn in /usr/local/lib/python3.10/dist-packages (1.2.2)\r\n",
      "Collecting scikit-learn\r\n",
      "  Downloading scikit_learn-1.6.1-cp310-cp310-manylinux_2_17_x86_64.manylinux2014_x86_64.whl.metadata (18 kB)\r\n",
      "Requirement already satisfied: numpy>=1.19.5 in /usr/local/lib/python3.10/dist-packages (from scikit-learn) (1.26.4)\r\n",
      "Requirement already satisfied: scipy>=1.6.0 in /usr/local/lib/python3.10/dist-packages (from scikit-learn) (1.13.1)\r\n",
      "Requirement already satisfied: joblib>=1.2.0 in /usr/local/lib/python3.10/dist-packages (from scikit-learn) (1.4.2)\r\n",
      "Requirement already satisfied: threadpoolctl>=3.1.0 in /usr/local/lib/python3.10/dist-packages (from scikit-learn) (3.5.0)\r\n",
      "Downloading scikit_learn-1.6.1-cp310-cp310-manylinux_2_17_x86_64.manylinux2014_x86_64.whl (13.5 MB)\r\n",
      "\u001b[2K   \u001b[90m━━━━━━━━━━━━━━━━━━━━━━━━━━━━━━━━━━━━━━━━\u001b[0m \u001b[32m13.5/13.5 MB\u001b[0m \u001b[31m80.6 MB/s\u001b[0m eta \u001b[36m0:00:00\u001b[0m\r\n",
      "\u001b[?25hInstalling collected packages: scikit-learn\r\n",
      "  Attempting uninstall: scikit-learn\r\n",
      "    Found existing installation: scikit-learn 1.2.2\r\n",
      "    Uninstalling scikit-learn-1.2.2:\r\n",
      "      Successfully uninstalled scikit-learn-1.2.2\r\n",
      "Successfully installed scikit-learn-1.6.1\r\n"
     ]
    }
   ],
   "source": [
    "!pip install lifelines\n",
    "!pip install -U scikit-learn"
   ]
  },
  {
   "cell_type": "code",
   "execution_count": 3,
   "id": "28ff55d1",
   "metadata": {
    "execution": {
     "iopub.execute_input": "2025-01-17T21:28:01.508178Z",
     "iopub.status.busy": "2025-01-17T21:28:01.507765Z",
     "iopub.status.idle": "2025-01-17T21:28:01.511800Z",
     "shell.execute_reply": "2025-01-17T21:28:01.510963Z"
    },
    "papermill": {
     "duration": 0.012713,
     "end_time": "2025-01-17T21:28:01.513374",
     "exception": false,
     "start_time": "2025-01-17T21:28:01.500661",
     "status": "completed"
    },
    "tags": []
   },
   "outputs": [],
   "source": [
    "import shutil\n",
    "import os\n",
    "import sys\n",
    "import pandas as pd\n",
    "from functools import reduce\n",
    "from lifelines.utils import concordance_index\n",
    "import numpy as np\n",
    "import pandas as pd\n",
    "import pandas.api.types\n",
    "import numpy as np\n",
    "from typing import Union\n",
    "from lifelines.utils import concordance_index\n",
    "from functools import reduce\n",
    "from typing import Any, Dict, List, Tuple, Callable, Union\n",
    "import numpy as np\n",
    "import pandas as pd\n",
    "from copy import deepcopy"
   ]
  },
  {
   "cell_type": "code",
   "execution_count": 5,
   "id": "3fdf03f6",
   "metadata": {
    "execution": {
     "iopub.execute_input": "2025-01-17T21:28:03.805189Z",
     "iopub.status.busy": "2025-01-17T21:28:03.804621Z",
     "iopub.status.idle": "2025-01-17T21:28:03.821093Z",
     "shell.execute_reply": "2025-01-17T21:28:03.819834Z"
    },
    "papermill": {
     "duration": 0.025651,
     "end_time": "2025-01-17T21:28:03.822825",
     "exception": false,
     "start_time": "2025-01-17T21:28:03.797174",
     "status": "completed"
    },
    "tags": []
   },
   "outputs": [],
   "source": [
    "from functools import reduce\n",
    "from typing import Any, Dict, List, Tuple, Callable, Union\n",
    "import numpy as np\n",
    "import pandas as pd\n",
    "from copy import deepcopy\n",
    "\n",
    "\n",
    "class CrossValidationExecutor:\n",
    "\n",
    "    def __init__(self,\n",
    "                 sklearn_model_instance,\n",
    "                 evaluation_metric : Callable,\n",
    "                 kfold_object,\n",
    "                 training_features : Union[List[str], None] = None,\n",
    "                 use_test_as_valid = True,\n",
    "                 num_classes = None,\n",
    "                 verbose=1) -> None:\n",
    "        \n",
    "        self.model = sklearn_model_instance\n",
    "        self._evaluation_metric = evaluation_metric\n",
    "        self._kf = kfold_object\n",
    "        self._num_splits = kfold_object.get_n_splits()\n",
    "        self._training_features = training_features\n",
    "        self._use_test_as_valid = use_test_as_valid\n",
    "        self._num_classes = num_classes\n",
    "        self._verbose = verbose\n",
    "\n",
    "    def run(self, X : pd.DataFrame, y : Union[pd.DataFrame, pd.Series], test_data=None, additional_data=None, local_transform_list=[lambda x : x], output_transform_list=[lambda x : x[-1]]) -> Tuple[Tuple[float], np.ndarray, List[Any]]:\n",
    "\n",
    "        training_features = X.columns.tolist() if self._training_features is None else self._training_features\n",
    "        X.reset_index(drop=True, inplace=True)\n",
    "        y.reset_index(drop=True, inplace=True)\n",
    "\n",
    "        if additional_data is not None:\n",
    "            X_add, y_add = additional_data\n",
    "            pd.testing.assert_index_equal(X.columns, X_add.columns, check_exact=True)\n",
    "            pd.testing.assert_series_equal(X.dtypes, X_add.dtypes, check_exact=True)\n",
    "            pd.testing.assert_index_equal(y.columns, y_add.columns, check_exact=True)\n",
    "            pd.testing.assert_series_equal(y.dtypes, y_add.dtypes, check_exact=True)\n",
    "\n",
    "        cv_results = []\n",
    "        model_list = []\n",
    "        oof_predictions = None\n",
    "        metric_predictions = None\n",
    "        test_predictions = None\n",
    "\n",
    "        for i, (train_index, val_index) in enumerate(self._kf.split(X, y)):\n",
    "            \n",
    "            X_full_test = X.loc[val_index, :]\n",
    "            X_train, X_test = X.loc[train_index, training_features], X.loc[val_index, training_features]\n",
    "            y_train, y_test = y.loc[train_index], y.loc[val_index]\n",
    "\n",
    "            if additional_data is not None:\n",
    "                X_train = pd.concat([X_train, X_add], axis=0)\n",
    "                y_train = pd.concat([y_train, y_add], axis=0)\n",
    "\n",
    "            X_train, y_train = reduce(lambda acc, func: func(acc), local_transform_list, (X_train, y_train))\n",
    "            validation_set = None\n",
    "            if self._use_test_as_valid:\n",
    "                validation_set = [X_test, y_test]\n",
    "\n",
    "            model = deepcopy(self.model).fit(X_train, y_train, validation_set=validation_set)\n",
    "            model_list += [model]\n",
    "            y_pred = model.predict(X_test)\n",
    "            y_pred_processed = reduce(lambda acc, func: func(acc), output_transform_list, (X_full_test.copy(), y_pred))\n",
    "            \n",
    "            cv_results += [self._evaluation_metric(y_test, deepcopy(y_pred_processed))]\n",
    "\n",
    "            if oof_predictions is None:\n",
    "                oof_shape = (y.shape[0],) if len(y_pred.shape) == 1 else (y.shape[0], y_pred.shape[-1])\n",
    "                oof_predictions = np.zeros(oof_shape)\n",
    "            if metric_predictions is None:\n",
    "                y_hat_shape = (y.shape[0],) if len(y_pred_processed.shape) == 1 else (y.shape[0], y_pred_processed.shape[-1])\n",
    "                metric_predictions = np.zeros(y_hat_shape)\n",
    "            if test_data is not None:\n",
    "                test_preds = model.predict(test_data)\n",
    "                if test_predictions is None: \n",
    "                    test_predictions = test_preds/self._num_splits\n",
    "                else:\n",
    "                    test_predictions += test_preds/self._num_splits\n",
    "\n",
    "            oof_predictions[val_index] = y_pred\n",
    "            metric_predictions[val_index] = y_pred_processed\n",
    "\n",
    "            if self._verbose > 1:\n",
    "                print(f\"The CV results of the current fold is {cv_results[-1]}\")\n",
    "\n",
    "        oof_score = self._evaluation_metric(y, metric_predictions)\n",
    "        mean_cv_score = np.mean(cv_results)\n",
    "        score_tuple = (oof_score, mean_cv_score)\n",
    "\n",
    "        if self._verbose > 0:\n",
    "            print(\"#\"*100)\n",
    "            print(\"OOF prediction score : \", oof_score)\n",
    "            print(f\"Mean {self._num_splits}-cv results : {mean_cv_score} +- {np.std(cv_results)}\")\n",
    "            print(\"#\"*100)\n",
    "\n",
    "        return score_tuple, oof_predictions, model_list, test_predictions"
   ]
  },
  {
   "cell_type": "code",
   "execution_count": null,
   "id": "11be7277",
   "metadata": {},
   "outputs": [],
   "source": [
    "import warnings\n",
    "import numpy as np\n",
    "from enum import Enum\n",
    "from lifelines import CoxPHFitter, KaplanMeierFitter, NelsonAalenFitter\n",
    "import pandas as pd\n",
    "from scipy.stats import rankdata\n",
    "from sklearn.preprocessing import quantile_transform\n",
    "from abc import ABC, abstractmethod\n",
    "\n",
    "\n",
    "def transform_kaplan_meier(time, event):\n",
    "    kmf = KaplanMeierFitter()\n",
    "    kmf.fit(time, event)\n",
    "    y = kmf.survival_function_at_times(time).values\n",
    "    return y\n",
    "\n",
    "def transform_nelson_aalen(time, event):\n",
    "    naf = NelsonAalenFitter()\n",
    "    naf.fit(time, event)\n",
    "    y = naf.cumulative_hazard_at_times(time).values\n",
    "    return y\n",
    "\n",
    "def transform_partial_hazard(time, event):\n",
    "    data = pd.DataFrame({'efs_time': time, 'efs': event, 'time': time, 'event': event})\n",
    "    cph = CoxPHFitter()\n",
    "    with warnings.catch_warnings():\n",
    "        warnings.simplefilter(\"ignore\")\n",
    "        cph.fit(data, duration_col='time', event_col='event')\n",
    "    return cph.predict_partial_hazard(data)\n",
    "\n",
    "def transform_separate(time, event):\n",
    "    transformed = time.values.copy()\n",
    "    mx = transformed[event == 1].max()\n",
    "    mn = transformed[event == 0].min()\n",
    "    transformed[event == 0] = time[event == 0] + mx - mn\n",
    "    transformed = rankdata(transformed)\n",
    "    transformed[event == 0] += len(transformed) // 2\n",
    "    transformed = transformed / transformed.max()\n",
    "    return - transformed\n",
    "\n",
    "def transform_rank_log(time, event):\n",
    "    transformed = time.values.copy()\n",
    "    mx = transformed[event == 1].max()\n",
    "    mn = transformed[event == 0].min()\n",
    "    transformed[event == 0] = time[event == 0] + mx - mn\n",
    "    transformed = rankdata(transformed)\n",
    "    transformed[event == 0] += len(transformed) * 2\n",
    "    transformed = transformed / transformed.max()\n",
    "    transformed = np.log(transformed)\n",
    "    return - transformed\n",
    "\n",
    "def transform_quantile(time, event, separation=0.3):\n",
    "    transformed = np.full(len(time), np.nan)\n",
    "    transformed_dead = quantile_transform(- time[event == 1].values.reshape(-1, 1)).ravel()\n",
    "    transformed[event == 1] = transformed_dead\n",
    "    transformed[event == 0] = transformed_dead.min() - separation\n",
    "    return transformed\n",
    "\n",
    "def transform_cox(time : np.ndarray, event : np.ndarray):\n",
    "    return np.where(event.astype(bool), time, -time)\n",
    "\n",
    "\n",
    "class SupportedSurvivalTransformation(Enum):\n",
    "    QUANTILE = transform_quantile\n",
    "    KAPLANMEIER = transform_kaplan_meier\n",
    "    NELSONAALEN = transform_nelson_aalen\n",
    "    COX = transform_cox\n",
    "\n",
    "\n",
    "class IModelWrapper(ABC):\n",
    "\n",
    "    @abstractmethod\n",
    "    def fit(self):\n",
    "        pass\n",
    "\n",
    "    @abstractmethod\n",
    "    def predict(self):\n",
    "        pass\n",
    "    \n",
    "    def set_model(self, model):\n",
    "        self.model = model\n",
    "\n",
    "\n",
    "class SurvivalModelWrapper(IModelWrapper):\n",
    "\n",
    "    def __init__(self,\n",
    "                 transform_string : str,\n",
    "                 times_col : str = \"efs_time\",\n",
    "                 event_col : str = \"efs\",\n",
    "                 **transform_kwargs) -> None:\n",
    "        super().__init__()\n",
    "        self.transform = SupportedSurvivalTransformation[transform_string.upper()].value\n",
    "        self._times_col = times_col\n",
    "        self._event_col = event_col\n",
    "        self._transform_kwargs = transform_kwargs\n",
    "\n",
    "    def fit(self, X : pd.DataFrame, y : pd.DataFrame, *args, **kwargs):\n",
    "        y_trans = self.transform(y[self._times_col], \n",
    "                                 y[self._event_col], \n",
    "                                 **self._transform_kwargs)\n",
    "        self.model.fit(X, y_trans, *args, **kwargs)\n",
    "\n",
    "    def predict(self, X, *args, **kwargs):\n",
    "        y_pred = self.model.predict(X, *args, **kwargs)\n",
    "        return y_pred"
   ]
  },
  {
   "cell_type": "code",
   "execution_count": 6,
   "id": "f1b32745",
   "metadata": {
    "execution": {
     "iopub.execute_input": "2025-01-17T21:28:03.837301Z",
     "iopub.status.busy": "2025-01-17T21:28:03.836898Z",
     "iopub.status.idle": "2025-01-17T21:28:07.977014Z",
     "shell.execute_reply": "2025-01-17T21:28:07.975950Z"
    },
    "papermill": {
     "duration": 4.149341,
     "end_time": "2025-01-17T21:28:07.978772",
     "exception": false,
     "start_time": "2025-01-17T21:28:03.829431",
     "status": "completed"
    },
    "tags": []
   },
   "outputs": [],
   "source": [
    "import catboost as cat\n",
    "from typing import List\n",
    "import pandas as pd\n",
    "from sklearn.model_selection import train_test_split\n",
    "from catboost import CatBoostRegressor, Pool, train, CatBoostError\n",
    "\n",
    "\n",
    "class CatBoostModel():\n",
    "\n",
    "    def __init__(self,\n",
    "                 num_boost_round=100,\n",
    "                 early_stopping_rounds=20,\n",
    "                 random_state=129,\n",
    "                 verbose=False,\n",
    "                 **catboost_params) -> None:\n",
    "        super().__init__()\n",
    "        self._num_boost_round = num_boost_round\n",
    "        self._stopping_rounds = early_stopping_rounds\n",
    "        self._catboost_params = {\"random_seed\" : random_state,\n",
    "                                 \"verbose\" : verbose,\n",
    "                                 **catboost_params}\n",
    "        self._random_state = random_state\n",
    "\n",
    "    def fit(self, X, y, validation_set = None, val_size=0.05):\n",
    "        self.cat_col_names = [col_name for col_name in X.columns if X[col_name].dtype == 'category']\n",
    "\n",
    "        if validation_set is None:\n",
    "            X_train, X_valid, y_train, y_valid = train_test_split(X, \n",
    "                                                                  y, \n",
    "                                                                  test_size=val_size, \n",
    "                                                                  random_state=self._random_state)\n",
    "        else:\n",
    "            X_train, y_train = X, y\n",
    "            X_valid, y_valid = validation_set\n",
    "\n",
    "            \n",
    "        train_pool = Pool(data=X_train, label=y_train, cat_features=self.cat_col_names)\n",
    "        val_pool = Pool(data=X_valid, label=y_valid, cat_features=self.cat_col_names)\n",
    "        self.model = cat.train(\n",
    "                params=self._catboost_params,           \n",
    "                dtrain=train_pool,   \n",
    "                eval_set=val_pool,\n",
    "                num_boost_round=self._num_boost_round,   \n",
    "                early_stopping_rounds=self._stopping_rounds  \n",
    "                )\n",
    "        return self\n",
    "\n",
    "    def predict(self, X):\n",
    "        test_pool = Pool(data=X, cat_features=self.cat_col_names)\n",
    "        y_pred = self.model.predict(test_pool)\n",
    "        return y_pred\n",
    "        \n",
    "\n",
    "from typing import List\n",
    "import pandas as pd\n",
    "import lightgbm as lgb\n",
    "import sys\n",
    "from lightgbm import early_stopping, log_evaluation\n",
    "from sklearn.model_selection import train_test_split\n",
    "\n",
    "\n",
    "\n",
    "class LGBMModel():\n",
    "\n",
    "    def __init__(self,\n",
    "                 num_boost_round=100,\n",
    "                 early_stopping_rounds=20,\n",
    "                 random_state=129,\n",
    "                 verbose=-1,\n",
    "                 n_jobs=1,\n",
    "                 **lgb_param_grid,) -> None:\n",
    "        super().__init__()\n",
    "        self._num_boost_round = num_boost_round\n",
    "        self._lgb_param_grid = {\"verbose\" : verbose, \n",
    "                                \"early_stopping_rounds\" : early_stopping_rounds,\n",
    "                                \"random_state\" : random_state,\n",
    "                                \"n_jobs\" : n_jobs,\n",
    "                                **lgb_param_grid}\n",
    "        self._callbacks = [\n",
    "                            # log_evaluation(period=log_period), \n",
    "                            # early_stopping(stopping_rounds=stopping_rounds)\n",
    "                           ]\n",
    "        self._random_state = random_state\n",
    "        \n",
    "    def fit(self, X, y, validation_set = None, val_size=0.05):\n",
    "        if validation_set is None:\n",
    "            X_train, X_valid, y_train, y_valid = train_test_split(X, \n",
    "                                                                  y, \n",
    "                                                                  test_size=val_size, \n",
    "                                                                  random_state=self._random_state)\n",
    "        else:\n",
    "            X_train, y_train = X, y\n",
    "            X_valid, y_valid = validation_set\n",
    "\n",
    "        train_data = lgb.Dataset(X_train, label=y_train)\n",
    "        val_data = lgb.Dataset(X_valid, label=y_valid, reference=train_data)\n",
    "        self.model = lgb.train(self._lgb_param_grid,\n",
    "                                train_data,\n",
    "                                num_boost_round=self._num_boost_round,\n",
    "                                valid_sets=[train_data, val_data],\n",
    "                                valid_names=['train', 'valid'],\n",
    "                                callbacks=self._callbacks,\n",
    "                                )\n",
    "        return self\n",
    "\n",
    "    def predict(self, X):\n",
    "        y_pred = self.model.predict(X)\n",
    "        return y_pred\n",
    "\n",
    "    \n",
    "from typing import List\n",
    "import pandas as pd\n",
    "from sklearn.model_selection import train_test_split\n",
    "import xgboost as xgb\n",
    "\n",
    "\n",
    "class XGBoostModel():\n",
    "\n",
    "    def __init__(self,\n",
    "                 eval_verbosity=False,\n",
    "                 num_boost_round=100,\n",
    "                 early_stopping_rounds=20,\n",
    "                 random_state=129,\n",
    "                 verbosity=0,\n",
    "                 n_jobs=1,\n",
    "                 **xgb_param_grid) -> None:\n",
    "        super().__init__()\n",
    "        self._eval_verbosity = eval_verbosity\n",
    "        self._num_boost_round = num_boost_round\n",
    "        self._early_stopping_rounds = early_stopping_rounds\n",
    "        self._xgb_param_grid = {\"verbosity\" : verbosity,\n",
    "                                \"random_state\" : random_state,\n",
    "                                \"n_jobs\" : n_jobs,\n",
    "                                **xgb_param_grid}\n",
    "        self._random_state = random_state\n",
    "    \n",
    "    def fit(self, X, y, validation_set = None, val_size=0.05):\n",
    "        if validation_set is None:\n",
    "            X_train, X_valid, y_train, y_valid = train_test_split(X, \n",
    "                                                                  y, \n",
    "                                                                  test_size=val_size, \n",
    "                                                                  random_state=self._random_state)\n",
    "        else:\n",
    "            X_train, y_train = X, y\n",
    "            X_valid, y_valid = validation_set\n",
    "        train_data = xgb.DMatrix(X_train, label=y_train, enable_categorical=True)\n",
    "        valid_data = xgb.DMatrix(X_valid, label=y_valid, enable_categorical=True)\n",
    "        eval_data = [(train_data, 'train'), (valid_data, 'eval')]\n",
    "    \n",
    "        self.model = xgb.train(\n",
    "            self._xgb_param_grid, \n",
    "            train_data, \n",
    "            evals=eval_data,                       \n",
    "            early_stopping_rounds=self._early_stopping_rounds,   \n",
    "            num_boost_round=self._num_boost_round,        \n",
    "            verbose_eval=self._eval_verbosity                 \n",
    "        )\n",
    "        return self\n",
    "\n",
    "    def predict(self, X):\n",
    "        test_data = xgb.DMatrix(X, enable_categorical=True)\n",
    "        y_pred = self.model.predict(test_data)\n",
    "        return y_pred\n",
    "\n",
    "    \n",
    "\n",
    "from sklearn.preprocessing import MinMaxScaler, TargetEncoder\n",
    "from sklearn.ensemble import HistGradientBoostingClassifier, HistGradientBoostingRegressor\n",
    "\n",
    "    \n",
    "\n",
    "class HGBModel():\n",
    "\n",
    "    def __init__(self,\n",
    "                 smooth=\"auto\", \n",
    "                 target_type=\"continuous\",\n",
    "                 num_boost_round=100,\n",
    "                 early_stopping=True,\n",
    "                 validation_fraction=0.05,\n",
    "                 early_stopping_rounds=20,\n",
    "                 verbose=0,\n",
    "                 random_state=129,\n",
    "                 **hgb_params) -> None:\n",
    "        hgb_params = {\"max_iter\" : num_boost_round,\n",
    "                      \"early_stopping\" : early_stopping,\n",
    "                      \"validation_fraction\" : validation_fraction,\n",
    "                      \"n_iter_no_change\" : early_stopping_rounds,\n",
    "                      \"verbose\" : verbose,\n",
    "                      \"random_state\" : random_state,\n",
    "                      \"categorical_features\" : \"from_dtype\",\n",
    "                      **hgb_params}\n",
    "        \n",
    "        self._target_enc = TargetEncoder(target_type=target_type, \n",
    "                                         smooth=smooth, \n",
    "                                         random_state=random_state)\n",
    "        self._target_type = target_type\n",
    "        if target_type == \"continuous\":\n",
    "            self.model = HistGradientBoostingRegressor(**hgb_params)\n",
    "        else:\n",
    "            self.model = HistGradientBoostingClassifier(**hgb_params)\n",
    "\n",
    "    def fit(self, X, y, validation_set=None, **kwargs):\n",
    "        categorical_features = [col_name for col_name in X.columns if X[col_name].dtype == 'category']\n",
    "        target_enc_values = self._target_enc.fit_transform(X[categorical_features], y)\n",
    "        X = X.drop(columns=categorical_features)\n",
    "        X[categorical_features] = target_enc_values\n",
    "        self.model.fit(X, y)\n",
    "        return self\n",
    "\n",
    "    def predict(self, X):\n",
    "        categorical_features = [col_name for col_name in X.columns if X[col_name].dtype == 'category']\n",
    "        target_enc_values = self._target_enc.transform(X[categorical_features])\n",
    "        X = X.drop(columns=categorical_features)\n",
    "        X[categorical_features] = target_enc_values\n",
    "        if self._target_type == \"continuous\":\n",
    "            y_pred = self.model.predict(X)\n",
    "        else:\n",
    "            y_pred = self.model.predict_proba(X)\n",
    "        return y_pred\n",
    "\n",
    "\n",
    "\n",
    "from ydf import GradientBoostedTreesLearner, Task\n",
    "from typing import List, Union\n",
    "import pandas as pd\n",
    "import numpy as np\n",
    "from sklearn.model_selection import train_test_split\n",
    "\n",
    "\n",
    "class YDFGBoostModel():\n",
    "\n",
    "    target_col = \"target\"\n",
    "\n",
    "    def __init__(self,\n",
    "                 num_boost_round : int = 100,\n",
    "                 early_stopping_rounds : int = 20,\n",
    "                 task : str = \"REGRESSION\",\n",
    "                 categorical_algorithm : str = \"RANDOM\",\n",
    "                 loss : str = \"SQUARED_ERROR\",\n",
    "                 random_state : int = 42,\n",
    "                 verbose : bool = False,\n",
    "                 **model_kwargs\n",
    "                 ) -> None:\n",
    "        super().__init__()\n",
    "        self._random_state = random_state\n",
    "        self._verbose = verbose\n",
    "\n",
    "        task = Task.CLASSIFICATION if task.upper() == \"CLASSIFICATION\" else Task.REGRESSION\n",
    "        self.model = GradientBoostedTreesLearner(label = self.target_col,\n",
    "                                                 task = task,\n",
    "                                                 categorical_algorithm = categorical_algorithm,\n",
    "                                                 loss = loss,\n",
    "                                                 early_stopping_num_trees_look_ahead = early_stopping_rounds,\n",
    "                                                 num_trees = num_boost_round,\n",
    "                                                 **model_kwargs)\n",
    "\n",
    "    def _convert_back_to_dataset(self, X, y):\n",
    "        X[self.target_col] = y.values\n",
    "        return X\n",
    "    \n",
    "    def fit(self, X : pd.DataFrame, y : Union[pd.DataFrame, pd.Series, np.ndarray], \n",
    "            validation_set = None, val_size=0.05):\n",
    "        \n",
    "        if validation_set is None:\n",
    "            X_train, X_valid, y_train, y_valid = train_test_split(X, \n",
    "                                                                  y, \n",
    "                                                                  test_size=val_size, \n",
    "                                                                  random_state=self._random_state)\n",
    "        else:\n",
    "            X_train, y_train = X, y\n",
    "            X_valid, y_valid = validation_set\n",
    "        \n",
    "        train_df = self._convert_back_to_dataset(X_train, y_train)\n",
    "        valid_df = self._convert_back_to_dataset(X_valid, y_valid)\n",
    "\n",
    "        self.model = self.model.train(train_df, valid=valid_df, verbose=self._verbose)\n",
    "        return self\n",
    "\n",
    "    def predict(self, X):\n",
    "        y_pred = self.model.predict(X)\n",
    "        return y_pred"
   ]
  },
  {
   "cell_type": "code",
   "execution_count": 7,
   "id": "493f8484",
   "metadata": {
    "execution": {
     "iopub.execute_input": "2025-01-17T21:28:07.993171Z",
     "iopub.status.busy": "2025-01-17T21:28:07.992458Z",
     "iopub.status.idle": "2025-01-17T21:28:08.005472Z",
     "shell.execute_reply": "2025-01-17T21:28:08.004509Z"
    },
    "papermill": {
     "duration": 0.022155,
     "end_time": "2025-01-17T21:28:08.007353",
     "exception": false,
     "start_time": "2025-01-17T21:28:07.985198",
     "status": "completed"
    },
    "tags": []
   },
   "outputs": [],
   "source": [
    "from dataclasses import dataclass\n",
    "from typing import *\n",
    "import pandas as pd\n",
    "\n",
    "\n",
    "def func(x):\n",
    "    return x\n",
    "\n",
    "\n",
    "@dataclass\n",
    "class DataSciencePipelineSettings:\n",
    "    train_csv_path : str\n",
    "    test_csv_path : str\n",
    "    target_col_name : List[str]\n",
    "    original_csv_path : str = None\n",
    "    original_csv_processing : callable = func\n",
    "    sample_submission_path : str = None\n",
    "    training_col_names : List[str] = None\n",
    "    categorical_col_names : List[str] = None\n",
    "    training_data_percentage : float = 0.8\n",
    "    category_occurrence_threshold : int = 300\n",
    "    logged : bool = False\n",
    "\n",
    "    def __post_init__(self):\n",
    "        self.train_df, self.test_df = self._load_csv_paths()\n",
    "        self.training_col_names, self.categorical_col_names = self._get_column_info()\n",
    "        self.combined_df = self._combine_datasets()\n",
    "\n",
    "    def _load_csv_paths(self):\n",
    "        train_df = self._smart_drop_index(pd.read_csv(self.train_csv_path))\n",
    "        test_df = self._smart_drop_index(pd.read_csv(self.test_csv_path))\n",
    "        if self.original_csv_path is not None:\n",
    "            train_df = train_df.assign(source=0)\n",
    "            test_df = test_df.assign(source=0)\n",
    "            original_df = self._smart_drop_index(pd.read_csv(self.original_csv_path)).assign(source=1)\n",
    "            original_df = self.original_csv_processing(original_df)\n",
    "\n",
    "            pd.testing.assert_index_equal(train_df.columns.sort_values(), original_df.columns.sort_values(), check_exact=True)\n",
    "            pd.testing.assert_series_equal(train_df.dtypes.sort_index(), original_df.dtypes.sort_index(), check_exact=True)\n",
    "            train_df = pd.concat([train_df, original_df], axis=0).reset_index(drop=True)\n",
    "\n",
    "        return train_df, test_df\n",
    "    \n",
    "    def _get_column_info(self):\n",
    "        cat_col_names = [col_name for col_name in self.train_df.columns if self.train_df[col_name].dtype == 'object']\n",
    "        training_features = list(self.train_df.drop(columns=self.target_col_name).columns)\n",
    "        return training_features, cat_col_names\n",
    "    \n",
    "    def _combine_datasets(self):\n",
    "        combined_df = pd.concat([self.train_df, self.test_df], keys=['train', 'test'])\n",
    "        return combined_df\n",
    "    \n",
    "    def update(self):\n",
    "        self.train_df = self.combined_df.loc['train'].copy()\n",
    "        self.test_df = self.combined_df.loc['test'].copy()\n",
    "        return self.train_df, self.test_df        \n",
    "\n",
    "    @staticmethod\n",
    "    def _smart_drop_index(df):\n",
    "        try:\n",
    "            differences = df.iloc[:, 0].diff().dropna()\n",
    "            if differences.nunique() == 1:\n",
    "                df = df.drop(columns=df.columns[0])\n",
    "        except:\n",
    "            pass\n",
    "        return df"
   ]
  },
  {
   "cell_type": "code",
   "execution_count": 8,
   "id": "ad124728",
   "metadata": {
    "execution": {
     "iopub.execute_input": "2025-01-17T21:28:08.022031Z",
     "iopub.status.busy": "2025-01-17T21:28:08.021647Z",
     "iopub.status.idle": "2025-01-17T21:28:08.053030Z",
     "shell.execute_reply": "2025-01-17T21:28:08.052051Z"
    },
    "papermill": {
     "duration": 0.041159,
     "end_time": "2025-01-17T21:28:08.055010",
     "exception": false,
     "start_time": "2025-01-17T21:28:08.013851",
     "status": "completed"
    },
    "tags": []
   },
   "outputs": [],
   "source": [
    "class BaseLGBMParamGrid():\n",
    "    @staticmethod\n",
    "    def get(trial : optuna.Trial):\n",
    "        params = {\n",
    "            # \"boosting_type\" : \"gbdt\",\n",
    "            # \"early_stopping_rounds\" : trial.suggest_int(\"early_stopping_rounds\", 1, 200, log=True),\n",
    "            \"early_stopping_rounds\" : 20,\n",
    "            \"num_leaves\" : trial.suggest_int(\"num_leaves\", 2, 500),\n",
    "            \"max_depth\" : trial.suggest_int(\"max_depth\", 0, 50),\n",
    "            \"learning_rate\" : trial.suggest_float(\"learning_rate\", 1e-2, 1.0, log=True),\n",
    "            # \"num_boost_round\" : trial.suggest_int(\"num_boost_round\", 50, 3000),\n",
    "            \"num_boost_round\" : 10000,\n",
    "            \"subsample\" : trial.suggest_float(\"subsample\", 0.7, 1.0),\n",
    "            \"colsample_bytree\" : trial.suggest_float(\"colsample_bytree\", 0.7, 1.0),\n",
    "            \"reg_alpha\" : trial.suggest_float(\"reg_alpha\", 1e-6, 10, log=True),\n",
    "            \"reg_lambda\" : trial.suggest_float(\"reg_lambda\", 1e-6, 10, log=True),\n",
    "            \"min_data_in_leaf\" : trial.suggest_int(\"min_data_in_leaf\", 1, 100),\n",
    "            \"feature_fraction\" : trial.suggest_float(\"feature_fraction\", 0.5, 1.0),\n",
    "            # \"bagging_fraction\" : trial.suggest_float(\"bagging_fraction\", 0.5, 1.0),\n",
    "            # \"bagging_freq\" : trial.suggest_int(\"bagging_freq\", 1, 5),\n",
    "            \"max_bin\" : trial.suggest_int(\"max_bin\", 50, 5000, log=True),\n",
    "            # \"data_sample_strategy\" : \"bagging\",\n",
    "            'min_child_weight': trial.suggest_float('min_child_weight', 1e-4, 100, log=True),\n",
    "            # \"scale_pos_weight\" : trial.suggest_float(\"scale_pos_weight\", 1, 1000, log=True),\n",
    "            'cat_smooth': trial.suggest_float('cat_smooth', 1, 100, log=True),\n",
    "            'objective' : 'regression',\n",
    "            'metric' : 'rmse'}\n",
    "        return params\n",
    "\n",
    "\n",
    "class LGBMGBDTParamGrid(BaseLGBMParamGrid):\n",
    "    def get(self, trial : optuna.Trial):\n",
    "        base_params = super().get(trial)\n",
    "        params = {\n",
    "            \"boosting_type\" : \"gbdt\",\n",
    "            \"data_sample_strategy\" : \"bagging\"\n",
    "        }\n",
    "        params.update(base_params)\n",
    "        return params\n",
    "\n",
    "\n",
    "class LGBMGBDTGossParamGrid(BaseLGBMParamGrid):\n",
    "    def get(self, trial : optuna.Trial):\n",
    "        base_params = super().get(trial)\n",
    "        params = {\n",
    "            \"boosting_type\" : \"gbdt\",\n",
    "            \"data_sample_strategy\" : \"goss\"\n",
    "        }\n",
    "        params.update(base_params)\n",
    "        return params\n",
    "\n",
    "    \n",
    "class LGBMDARTParamGrid(BaseLGBMParamGrid):\n",
    "    def get(self, trial : optuna.Trial):\n",
    "        base_params = super().get(trial)\n",
    "        params = {\n",
    "            \"boosting_type\" : \"dart\",\n",
    "        }\n",
    "        params.update(base_params)\n",
    "        return params\n",
    "\n",
    "    \n",
    "class LGBMRFParamGrid(BaseLGBMParamGrid):\n",
    "    def get(self, trial : optuna.Trial):\n",
    "        base_params = super().get(trial)\n",
    "        params = {\n",
    "            \"boosting_type\" : \"rf\",\n",
    "            \"num_boost_round\" : 10000\n",
    "        }\n",
    "        params.update(base_params)\n",
    "        return params\n",
    "\n",
    "    \n",
    "\n",
    "class BaseXGBoostParamGrid():\n",
    "    @staticmethod\n",
    "    def get(trial : optuna.Trial):\n",
    "        params = {\n",
    "            # \"booster\": trial.suggest_categorical(\"booster\", [\"gbtree\", \"dart\"]),\n",
    "            \"max_bin\" : trial.suggest_int(\"max_bin\", 50, 5000, log=True),\n",
    "            # \"max_bin\" : 10000,\n",
    "            \"early_stopping_rounds\" : 20,\n",
    "            \"learning_rate\": trial.suggest_float(\"learning_rate\", 1e-1, 0.3, log=True),\n",
    "            \"max_depth\": trial.suggest_int(\"max_depth\", 3, 50),\n",
    "            # \"num_boost_round\" : trial.suggest_int(\"num_boost_round\", 50, 3000),\n",
    "            \"num_boost_round\" : 10000,\n",
    "            \"gamma\" : trial.suggest_float(\"gamma\", 0, 10),\n",
    "            \"min_child_weight\" : trial.suggest_float(\"min_child_weight\", 0.1, 100, log=True),\n",
    "            \"subsample\": trial.suggest_float(\"subsample\", 0.8, 1.0),\n",
    "            \"colsample_bytree\": trial.suggest_float(\"colsample_bytree\", 0.8, 1.0),\n",
    "            \"colsample_bylevel\": trial.suggest_float(\"colsample_bylevel\", 0.8, 1.0),\n",
    "            \"colsample_bynode\": trial.suggest_float(\"colsample_bynode\", 0.8, 1.0),\n",
    "            \"reg_alpha\": trial.suggest_float(\"reg_alpha\", 1e-6, 10.0, log=True),\n",
    "            \"reg_lambda\": trial.suggest_float(\"reg_lambda\", 1e-6, 10.0, log=True),\n",
    "            \"max_cat_threshold\" : trial.suggest_int(\"max_cat_threshold\", 1, 1000, log=True),\n",
    "            # \"scale_pos_weight\" : trial.suggest_float(\"scale_pos_weight\", 1, 1000, log=True),\n",
    "            \"sampling_method\" : \"uniform\",\n",
    "            # \"grow_policy\" : trial.suggest_categorical(\"grow_policy\", [\"lossguide\", \"depthwise\"]),\n",
    "            \"objective\": \"reg:squarederror\",\n",
    "            \"eval_metric\": \"rmse\",\n",
    "        }\n",
    "        return params\n",
    "\n",
    "class XGBoostGBTreeLossguide(BaseXGBoostParamGrid):\n",
    "    def get(self, trial : optuna.Trial):\n",
    "        base_params = super().get(trial)\n",
    "        params = {\n",
    "            \"booster\" : \"gbtree\",\n",
    "            \"grow_policy\" : \"lossguide\"\n",
    "        }\n",
    "        params.update(base_params)\n",
    "        return params\n",
    "\n",
    "class XGBoostGBTreeDepthwise(BaseXGBoostParamGrid):\n",
    "    def get(self, trial : optuna.Trial):\n",
    "        base_params = super().get(trial)\n",
    "        params = {\n",
    "            \"booster\" : \"gbtree\",\n",
    "            \"grow_policy\" : \"depthwise\"\n",
    "        }\n",
    "        params.update(base_params)\n",
    "        return params\n",
    "\n",
    "\n",
    "class XGBoostGBTreeLinear(BaseXGBoostParamGrid):\n",
    "    def get(self, trial : optuna.Trial):\n",
    "        base_params = super().get(trial)\n",
    "        params = {\n",
    "            \"booster\" : \"gblinear\",\n",
    "        }\n",
    "        params.update(base_params)\n",
    "        return params\n",
    "\n",
    "    \n",
    "\n",
    "class XGBoostDART(BaseXGBoostParamGrid):\n",
    "    def get(self, trial : optuna.Trial):\n",
    "        base_params = super().get(trial)\n",
    "        params = {\n",
    "            \"booster\" : \"dart\",\n",
    "        }\n",
    "        params.update(base_params)\n",
    "        return params\n",
    "\n",
    "    \n",
    "\n",
    "class BaseCatBoostParamGrid():\n",
    "    @staticmethod\n",
    "    def get(trial : optuna.Trial):\n",
    "        params = {\n",
    "            # \"booster\": trial.suggest_categorical(\"booster\", [\"gbtree\", \"dart\"]),\n",
    "            \"early_stopping_rounds\" : 20, #: trial.suggest_int(\"early_stopping_rounds\", 1, 200, log=True),\n",
    "            \"max_bin\" : trial.suggest_int(\"max_bin\", 2, 5000, log=True),\n",
    "            # \"max_bin\" : 5000,\n",
    "            \"learning_rate\": trial.suggest_float(\"learning_rate\", 0.1, 0.3, log=True),\n",
    "            \"depth\": trial.suggest_int(\"depth\", 3, 16),\n",
    "            \"num_boost_round\" : 10000,\n",
    "#             trial.suggest_int(\"num_boost_round\", 50, 5000, log=True),\n",
    "            \"bagging_temperature\" : trial.suggest_float(\"bagging_temperature\", 0.1, 100, log=True),\n",
    "            \"subsample\": trial.suggest_float(\"subsample\", 0.7, 1.0),\n",
    "            \"colsample_bylevel\" : trial.suggest_float(\"colsample_bylevel\", 0.7, 1.0),\n",
    "            \"min_data_in_leaf\" : trial.suggest_float(\"min_data_in_leaf\", 1, 1000, log=True),\n",
    "            \"l2_leaf_reg\": trial.suggest_float(\"l2_leaf_reg\", 1e-6, 10.0, log=True),\n",
    "#             \"grow_policy\" : trial.suggest_categorical(\"grow_policy\", [\"Lossguide\", \"Depthwise\", \"SymmetricTree\"]),\n",
    "            \"leaf_estimation_iterations\" : trial.suggest_int(\"leaf_estimation_iterations\", 1, 5),\n",
    "            # \"scale_pos_weight\" : trial.suggest_float(\"scale_pos_weight\", 1, 1000, log=True),\n",
    "            \"random_strength\" : trial.suggest_float(\"random_strength\", 0.1, 10),\n",
    "            \"leaf_estimation_method\" : trial.suggest_categorical(\"leaf_estimation_method\", [\"Newton\", \"Gradient\"]),\n",
    "            \"loss_function\" : \"Cox\",\n",
    "            'eval_metric': 'Cox',\n",
    "            # 'task_type' : \"CPU\",\n",
    "        }\n",
    "        return params\n",
    "\n",
    "class GPUCatBoostParamGrid():\n",
    "    @staticmethod\n",
    "    def get(trial : optuna.Trial):\n",
    "        params = {\n",
    "            \"early_stopping_rounds\" : 20, #: trial.suggest_int(\"early_stopping_rounds\", 1, 200, log=True),\n",
    "            \"max_bin\" : trial.suggest_int(\"max_bin\", 2, 5000, log=True),\n",
    "            \"learning_rate\": trial.suggest_float(\"learning_rate\", 1e-2, 0.3, log=True),\n",
    "            \"depth\": trial.suggest_int(\"depth\", 3, 16),\n",
    "            \"num_boost_round\" : 10000,\n",
    "            \"bagging_temperature\" : trial.suggest_float(\"bagging_temperature\", 0.1, 100, log=True),\n",
    "            # \"subsample\": trial.suggest_float(\"subsample\", 0.5, 1.0),\n",
    "            # \"colsample_bylevel\" : trial.suggest_float(\"colsample_bylevel\", 0.5, 1.0),\n",
    "            \"min_data_in_leaf\" : trial.suggest_float(\"min_data_in_leaf\", 1, 1000, log=True),\n",
    "            \"l2_leaf_reg\": trial.suggest_float(\"l2_leaf_reg\", 1e-6, 10.0, log=True),\n",
    "            \"leaf_estimation_iterations\" : trial.suggest_int(\"leaf_estimation_iterations\", 1, 5),\n",
    "            # \"scale_pos_weight\" : trial.suggest_float(\"scale_pos_weight\", 1, 1000, log=True),\n",
    "            # \"random_strength\" : trial.suggest_float(\"random_strength\", 0.1, 10),\n",
    "            \"leaf_estimation_method\" : trial.suggest_categorical(\"leaf_estimation_method\", [\"Newton\", \"Gradient\"]),\n",
    "            # 'loss_function' : \"Logloss\",\n",
    "            # 'eval_metric': 'AUC',\n",
    "            \"loss_function\" : \"RMSE\",\n",
    "            'eval_metric': 'RMSE',\n",
    "            'task_type' : \"GPU\",\n",
    "            'devices' : '0,1',\n",
    "            \"bootstrap_type\" : \"Bayesian\"\n",
    "        }\n",
    "        return params\n",
    "\n",
    "class CatBoostDepthWise(BaseCatBoostParamGrid):\n",
    "    def get(self, trial : optuna.Trial):\n",
    "        base_params = super().get(trial)\n",
    "        params = {\n",
    "            \"grow_policy\" : \"Depthwise\",\n",
    "        }\n",
    "        params.update(base_params)\n",
    "        return params\n",
    "\n",
    "    \n",
    "class CatBoostLossGuide(BaseCatBoostParamGrid):\n",
    "    def get(self, trial : optuna.Trial):\n",
    "        base_params = super().get(trial)\n",
    "        params = {\n",
    "            \"grow_policy\" : \"Lossguide\",\n",
    "        }\n",
    "        params.update(base_params)\n",
    "        return params\n",
    "\n",
    "    \n",
    "class CatBoostSymmetricTree(BaseCatBoostParamGrid):\n",
    "    def get(self, trial : optuna.Trial):\n",
    "        base_params = super().get(trial)\n",
    "        params = {\n",
    "            \"grow_policy\" : \"SymmetricTree\",\n",
    "        }\n",
    "        params.update(base_params)\n",
    "        return params\n",
    "\n",
    "\n",
    "class CatBoostRegion(BaseCatBoostParamGrid):\n",
    "    def get(self, trial : optuna.Trial):\n",
    "        base_params = super().get(trial)\n",
    "        params = {\n",
    "            \"grow_policy\" : \"Region\",\n",
    "            'task_type' : \"GPU\",\n",
    "        }\n",
    "        params.update(base_params)\n",
    "        return params\n",
    "\n",
    "    \n",
    "class HGBParamGrid():\n",
    "    @staticmethod\n",
    "    def get(trial : optuna.Trial):\n",
    "        params = {\n",
    "            \"max_bins\" : trial.suggest_int(\"max_bins\", 2, 255),\n",
    "            \"learning_rate\": trial.suggest_float(\"learning_rate\", 1e-2, 0.3, log=True),\n",
    "            \"max_depth\": trial.suggest_int(\"max_depth\", 3, 50),\n",
    "            \"max_leaf_nodes\" : trial.suggest_int(\"max_leaf_nodes\", 2, 400, log=True),\n",
    "            \"min_samples_leaf\" : trial.suggest_int(\"min_samples_leaf\", 2, 500),\n",
    "            # \"num_boost_round\" : trial.suggest_int(\"num_boost_round\", 50, 3000),\n",
    "            \"num_boost_round\" : 3000,\n",
    "            \"early_stopping_rounds\" : 20,\n",
    "            \"validation_fraction\" : trial.suggest_float(\"validation_fraction\", 0.05, 0.2),\n",
    "            # \"early_stopping_rounds\" : trial.suggest_int(\"early_stopping_rounds\", 1, 200, log=True),\n",
    "            \"l2_regularization\": trial.suggest_float(\"l2_regularization\", 1e-6, 10.0, log=True),\n",
    "            \"max_features\": trial.suggest_float(\"max_features\", 0.5, 1.0),\n",
    "            \"interaction_cst\" : trial.suggest_categorical(\"interaction_cst\", [\"pairwise\", \"no_interactions\"]),\n",
    "            \"tol\": trial.suggest_float(\"tol\", 1e-7, 1e-2, log=True), \n",
    "            \"smooth\" : trial.suggest_float(\"smooth\", 1e2, 1e4, log=True),           \n",
    "        }\n",
    "        return params\n",
    "\n",
    "\n",
    "class YDFParamGrid():\n",
    "    @staticmethod\n",
    "    def get(trial : optuna.Trial):\n",
    "        params = {\n",
    "            \"categorical_algorithm\" : trial.suggest_categorical(\"categorical_algorithm\", [\"CART\", \"RANDOM\"]),\n",
    "            \"categorical_set_split_min_item_frequency\" : trial.suggest_int(\"categorical_set_split_min_item_frequency\", 1, 200),\n",
    "            # \"goss_alpha\" : trial.suggest_float(\"goss_alpha\", 0, 1),\n",
    "            # \"goss_beta\" : trial.suggest_float(\"goss_beta\", 0, 1),\n",
    "            # \"honest\" : trial.suggest_categorical(\"honest\", [True, False]),\n",
    "            \"l1_regularization\" : trial.suggest_float(\"l1_regularization\", 1e-4, 1e2, log=True),\n",
    "            \"l2_categorical_regularization\" : trial.suggest_float(\"l2_categorical_regularization\", 1e-4, 1e2, log=True),\n",
    "            \"l2_regularization\" : trial.suggest_float(\"l2_regularization\", 1e-4, 1e2, log=True),\n",
    "            \"max_depth\" : trial.suggest_int(\"max_depth\", -1, 300),\n",
    "            \"max_num_nodes\" : trial.suggest_int(\"max_num_nodes\", -1, 200),\n",
    "            \"min_examples\" : trial.suggest_int(\"min_examples\", 1, 1e3, log=True),\n",
    "            \"num_boost_round\" : 3000,\n",
    "            \"task\" : \"REGRESSION\",\n",
    "            \"loss\" : \"SQUARED_ERROR\"\n",
    "        }\n",
    "        return params\n",
    "    \n",
    "\n",
    "class YDFLocalParamGrid(YDFParamGrid):\n",
    "    def get(self, trial : optuna.Trial):\n",
    "        base_params = super().get(trial)\n",
    "        params = {\n",
    "            \"growing_strategy\" : \"LOCAL\",\n",
    "        }\n",
    "        params.update(base_params)\n",
    "        return params\n",
    "    \n",
    "class YDFBestGlobalParamGrid(YDFParamGrid):\n",
    "    def get(self, trial : optuna.Trial):\n",
    "        base_params = super().get(trial)\n",
    "        params = {\n",
    "            \"growing_strategy\" : \"BEST_FIRST_GLOBAL\",\n",
    "            \"subsample\" : trial.suggest_float(\"subsample\", 0.5, 1),\n",
    "        }\n",
    "        params.update(base_params)\n",
    "        return params"
   ]
  },
  {
   "cell_type": "code",
   "execution_count": null,
   "id": "09708625",
   "metadata": {},
   "outputs": [],
   "source": [
    "def find_competition_info(dir_path : str = \"/kaggle/input/\"):\n",
    "    for root, dirs, files in os.walk(dir_path):\n",
    "        for file in files:\n",
    "            file_path = os.path.join(root, file)\n",
    "            if \"train.csv\" in file_path:\n",
    "                train_csv_path = file_path\n",
    "            elif \"test.csv\" in file_path:\n",
    "                test_csv_path = file_path\n",
    "            elif \"sample\" in file_path:\n",
    "                sample_sub_csv_path = file_path\n",
    "    target_col_name = pd.read_csv(train_csv_path).columns[-1]\n",
    "    return train_csv_path, test_csv_path, sample_sub_csv_path, target_col_name\n",
    "\n",
    "train_csv_path, test_csv_path, sample_sub_csv_path, target_col_name = find_competition_info()\n",
    "target_col_name = ['efs', 'efs_time']"
   ]
  },
  {
   "cell_type": "code",
   "execution_count": 9,
   "id": "82073b6f",
   "metadata": {
    "execution": {
     "iopub.execute_input": "2025-01-17T21:28:08.069821Z",
     "iopub.status.busy": "2025-01-17T21:28:08.069487Z",
     "iopub.status.idle": "2025-01-17T21:28:08.581382Z",
     "shell.execute_reply": "2025-01-17T21:28:08.580336Z"
    },
    "papermill": {
     "duration": 0.52176,
     "end_time": "2025-01-17T21:28:08.583264",
     "exception": false,
     "start_time": "2025-01-17T21:28:08.061504",
     "status": "completed"
    },
    "tags": []
   },
   "outputs": [
    {
     "name": "stdout",
     "output_type": "stream",
     "text": [
      "/kaggle/input/equity-post-HCT-survival-predictions/sample_submission.csv\n",
      "/kaggle/input/equity-post-HCT-survival-predictions/data_dictionary.csv\n",
      "/kaggle/input/equity-post-HCT-survival-predictions/train.csv\n",
      "/kaggle/input/equity-post-HCT-survival-predictions/test.csv\n"
     ]
    }
   ],
   "source": [
    "from copy import deepcopy\n",
    "from sklearn.preprocessing import OrdinalEncoder, StandardScaler, MinMaxScaler\n",
    "\n",
    "\n",
    "class FillNullValues():\n",
    "    @staticmethod\n",
    "    def transform(original_settings : DataSciencePipelineSettings, numeric_fill=-1, category_fill='missing'):\n",
    "        settings = deepcopy(original_settings)\n",
    "        for col_name in settings.training_col_names:\n",
    "            if pd.api.types.is_numeric_dtype(settings.combined_df[col_name]):\n",
    "                settings.combined_df[col_name] = settings.combined_df[col_name].fillna(numeric_fill)\n",
    "            else:\n",
    "                settings.combined_df[col_name] = settings.combined_df[col_name].fillna(category_fill)\n",
    "        return settings\n",
    "\n",
    "class ConvertAllToCategorical():\n",
    "    @staticmethod\n",
    "    def transform(original_settings : DataSciencePipelineSettings):\n",
    "        settings = deepcopy(original_settings)\n",
    "        cat_cols = settings.training_col_names\n",
    "        settings.combined_df[cat_cols] = settings.combined_df[cat_cols].astype(str).astype('category')\n",
    "        return settings\n",
    "\n",
    "class ConvertObjectToCategorical():\n",
    "    @staticmethod\n",
    "    def transform(original_settings : DataSciencePipelineSettings):\n",
    "        settings = deepcopy(original_settings)\n",
    "        cat_cols = settings.categorical_col_names\n",
    "        settings.combined_df[cat_cols] = settings.combined_df[cat_cols].astype('category')\n",
    "        return settings\n",
    "\n",
    "class ConvertObjectToStrCategorical():\n",
    "    @staticmethod\n",
    "    def transform(original_settings : DataSciencePipelineSettings):\n",
    "        settings = deepcopy(original_settings)\n",
    "        cat_cols = settings.categorical_col_names\n",
    "        settings.combined_df[cat_cols] = settings.combined_df[cat_cols].astype(str).astype('category')\n",
    "        return settings\n",
    "\n",
    "class LogTransformTarget():\n",
    "    @staticmethod\n",
    "    def transform(original_settings : DataSciencePipelineSettings):\n",
    "        settings = deepcopy(original_settings)\n",
    "        target = settings.target_col_name\n",
    "        settings.combined_df[target] = np.log1p(settings.combined_df[target])\n",
    "        return settings\n",
    "    \n",
    "class OrdinalEncode():\n",
    "    @staticmethod\n",
    "    def transform(original_settings : DataSciencePipelineSettings):\n",
    "        settings = deepcopy(original_settings)\n",
    "        train_df, test_df = settings.update()\n",
    "        ordinal_encoder = OrdinalEncoder(encoded_missing_value=-1, handle_unknown=\"use_encoded_value\", unknown_value=-1)\n",
    "        train_df[settings.categorical_col_names] = ordinal_encoder.fit_transform(train_df[settings.categorical_col_names])\n",
    "        test_df[settings.categorical_col_names] = ordinal_encoder.transform(test_df[settings.categorical_col_names])\n",
    "        settings.combined_df = pd.concat([train_df, test_df], keys=['train', 'test'])\n",
    "        settings.combined_df[settings.categorical_col_names] = settings.combined_df[settings.categorical_col_names].astype(int)\n",
    "        return settings"
   ]
  },
  {
   "cell_type": "code",
   "execution_count": 10,
   "id": "c7b1e32c",
   "metadata": {
    "execution": {
     "iopub.execute_input": "2025-01-17T21:28:08.598202Z",
     "iopub.status.busy": "2025-01-17T21:28:08.597804Z",
     "iopub.status.idle": "2025-01-17T21:28:09.597216Z",
     "shell.execute_reply": "2025-01-17T21:28:09.596082Z"
    },
    "papermill": {
     "duration": 1.009074,
     "end_time": "2025-01-17T21:28:09.599122",
     "exception": false,
     "start_time": "2025-01-17T21:28:08.590048",
     "status": "completed"
    },
    "tags": []
   },
   "outputs": [],
   "source": [
    "settings = DataSciencePipelineSettings(train_csv_path,\n",
    "                                       test_csv_path,\n",
    "                                       target_col_name,\n",
    "                                       )\n",
    "transforms = [\n",
    "             FillNullValues.transform,\n",
    "             OrdinalEncode.transform,\n",
    "             ConvertObjectToCategorical.transform\n",
    "             ]\n",
    "\n",
    "settings = reduce(lambda acc, func: func(acc), transforms, settings)\n",
    "settings.update()\n",
    "\n",
    "train, test_df = settings.update()\n",
    "test_df.drop(columns=[target_col_name], inplace=True)\n",
    "X, y = train.drop(columns=target_col_name), train[target_col_name]"
   ]
  },
  {
   "cell_type": "code",
   "execution_count": 11,
   "id": "27847d8b",
   "metadata": {
    "execution": {
     "iopub.execute_input": "2025-01-17T21:28:09.613862Z",
     "iopub.status.busy": "2025-01-17T21:28:09.613507Z",
     "iopub.status.idle": "2025-01-17T21:28:09.625664Z",
     "shell.execute_reply": "2025-01-17T21:28:09.624371Z"
    },
    "papermill": {
     "duration": 0.021723,
     "end_time": "2025-01-17T21:28:09.627408",
     "exception": false,
     "start_time": "2025-01-17T21:28:09.605685",
     "status": "completed"
    },
    "tags": []
   },
   "outputs": [],
   "source": [
    "def score(solution: pd.DataFrame, submission: pd.DataFrame, row_id_column_name: str) -> float:\n",
    "    \"\"\"\n",
    "    >>> import pandas as pd\n",
    "    >>> row_id_column_name = \"id\"\n",
    "    >>> y_pred = {'prediction': {0: 1.0, 1: 0.0, 2: 1.0}}\n",
    "    >>> y_pred = pd.DataFrame(y_pred)\n",
    "    >>> y_pred.insert(0, row_id_column_name, range(len(y_pred)))\n",
    "    >>> y_true = { 'efs': {0: 1.0, 1: 0.0, 2: 0.0}, 'efs_time': {0: 25.1234,1: 250.1234,2: 2500.1234}, 'race_group': {0: 'race_group_1', 1: 'race_group_1', 2: 'race_group_1'}}\n",
    "    >>> y_true = pd.DataFrame(y_true)\n",
    "    >>> y_true.insert(0, row_id_column_name, range(len(y_true)))\n",
    "    >>> score(y_true.copy(), y_pred.copy(), row_id_column_name)\n",
    "    0.75\n",
    "    \"\"\"\n",
    "    \n",
    "    del solution[row_id_column_name]\n",
    "    del submission[row_id_column_name]\n",
    "    \n",
    "    event_label = 'efs'\n",
    "    interval_label = 'efs_time'\n",
    "    prediction_label = 'prediction'\n",
    "    # Merging solution and submission dfs on ID\n",
    "    merged_df = pd.concat([solution, submission], axis=1)\n",
    "    merged_df.reset_index(inplace=True)\n",
    "    merged_df_race_dict = dict(merged_df.groupby(['race_group']).groups)\n",
    "    metric_list = []\n",
    "    for race in merged_df_race_dict.keys():\n",
    "        # Retrieving values from y_test based on index\n",
    "        indices = sorted(merged_df_race_dict[race])\n",
    "        merged_df_race = merged_df.iloc[indices]\n",
    "        # Calculate the concordance index\n",
    "        c_index_race = concordance_index(\n",
    "                        merged_df_race[interval_label],\n",
    "                        -merged_df_race[prediction_label],\n",
    "                        merged_df_race[event_label])\n",
    "        metric_list.append(c_index_race)\n",
    "    return float(np.mean(metric_list)-np.sqrt(np.var(metric_list)))\n",
    "\n",
    "\n",
    "def scci_score(train_csv_path : str, \n",
    "               y_pred : np.ndarray,\n",
    "               id_col_name : str = \"ID\",\n",
    "               survived_col_name : str = \"efs\",\n",
    "               survival_time_col_name : str = \"efs_time\",\n",
    "               stratify_col_name : str = \"race_group\"):\n",
    "\n",
    "    og_train = pd.read_csv(train_csv_path)\n",
    "    y_true = og_train[[id_col_name, survived_col_name, survival_time_col_name, stratify_col_name]].copy()\n",
    "    y_pred_df = og_train[[id_col_name]].copy()\n",
    "    y_pred_df[\"prediction\"] = y_pred\n",
    "    scci = score(y_true.copy(), y_pred_df.copy(), id_col_name)\n",
    "    return scci\n",
    "\n",
    "def scci_metric(y_test, y_pred, id_col_name : str = \"ID\",\n",
    "               survived_col_name : str = \"efs\",\n",
    "               survival_time_col_name : str = \"efs_time\",\n",
    "               stratify_col_name : str = \"race_group\"):\n",
    "    idcs = y_test.index\n",
    "    og_train = pd.read_csv(train_csv_path)\n",
    "    \n",
    "    y_true = og_train.loc[idcs, [id_col_name, survived_col_name, survival_time_col_name, stratify_col_name]].copy()\n",
    "    y_pred_df = og_train.loc[idcs, [id_col_name]].copy()\n",
    "    y_pred_df[\"prediction\"] = y_pred\n",
    "    scci = score(y_true.copy(), y_pred_df.copy(), id_col_name)\n",
    "    return scci"
   ]
  },
  {
   "cell_type": "code",
   "execution_count": 13,
   "id": "8434dbd5",
   "metadata": {
    "execution": {
     "iopub.execute_input": "2025-01-17T21:28:09.701669Z",
     "iopub.status.busy": "2025-01-17T21:28:09.701328Z",
     "iopub.status.idle": "2025-01-17T22:45:06.330795Z",
     "shell.execute_reply": "2025-01-17T22:45:06.329332Z"
    },
    "papermill": {
     "duration": 4616.704294,
     "end_time": "2025-01-17T22:45:06.397713",
     "exception": false,
     "start_time": "2025-01-17T21:28:09.693419",
     "status": "completed"
    },
    "tags": []
   },
   "outputs": [
    {
     "name": "stderr",
     "output_type": "stream",
     "text": [
      "[I 2025-01-17 21:28:11,041] A new study created in RDB with name: cat_dw\n",
      "[I 2025-01-17 21:28:17,320] Trial 0 finished with value: 0.6532164807325652 and parameters: {'max_bin': 279, 'learning_rate': 0.2841881747862225, 'max_depth': 38, 'gamma': 5.986584841970366, 'min_child_weight': 0.2938027938703535, 'subsample': 0.8311989040672406, 'colsample_bytree': 0.8116167224336399, 'colsample_bylevel': 0.9732352291549871, 'colsample_bynode': 0.9202230023486417, 'reg_alpha': 0.090470719575684, 'reg_lambda': 1.3934502251337597e-06, 'max_cat_threshold': 796}. Best is trial 0 with value: 0.6532164807325652.\n"
     ]
    },
    {
     "name": "stdout",
     "output_type": "stream",
     "text": [
      "####################################################################################################\n",
      "OOF prediction score :  0.6532164807325652\n",
      "Mean 5-cv results : 0.6521182469967106 +- 0.003978702796504763\n",
      "####################################################################################################\n"
     ]
    },
    {
     "name": "stderr",
     "output_type": "stream",
     "text": [
      "[I 2025-01-17 21:28:24,395] Trial 1 finished with value: 0.666171600233556 and parameters: {'max_bin': 2308, 'learning_rate': 0.1262732920146368, 'max_depth': 11, 'gamma': 1.8340450985343382, 'min_child_weight': 0.8179499475211672, 'subsample': 0.9049512863264476, 'colsample_bytree': 0.8863890037284232, 'colsample_bylevel': 0.8582458280396084, 'colsample_bynode': 0.9223705789444759, 'reg_alpha': 9.472334467618552e-06, 'reg_lambda': 0.00011092068418536184, 'max_cat_threshold': 8}. Best is trial 1 with value: 0.666171600233556.\n"
     ]
    },
    {
     "name": "stdout",
     "output_type": "stream",
     "text": [
      "####################################################################################################\n",
      "OOF prediction score :  0.666171600233556\n",
      "Mean 5-cv results : 0.6638469104620605 +- 0.0018957250073327009\n",
      "####################################################################################################\n"
     ]
    },
    {
     "name": "stderr",
     "output_type": "stream",
     "text": [
      "[I 2025-01-17 21:28:29,392] Trial 2 finished with value: 0.6554071416691671 and parameters: {'max_bin': 406, 'learning_rate': 0.23693222883062728, 'max_depth': 12, 'gamma': 5.142344384136116, 'min_child_weight': 5.9874749104613985, 'subsample': 0.8092900825439996, 'colsample_bytree': 0.9215089703802877, 'colsample_bylevel': 0.8341048247374584, 'colsample_bynode': 0.813010318597056, 'reg_alpha': 4.387314432435407, 'reg_lambda': 5.746775499181867, 'max_cat_threshold': 233}. Best is trial 1 with value: 0.666171600233556.\n"
     ]
    },
    {
     "name": "stdout",
     "output_type": "stream",
     "text": [
      "####################################################################################################\n",
      "OOF prediction score :  0.6554071416691671\n",
      "Mean 5-cv results : 0.654129228985676 +- 0.003853227646382677\n",
      "####################################################################################################\n"
     ]
    },
    {
     "name": "stderr",
     "output_type": "stream",
     "text": [
      "[I 2025-01-17 21:28:34,854] Trial 3 finished with value: 0.6594547506766983 and parameters: {'max_bin': 202, 'learning_rate': 0.11132723982452596, 'max_depth': 35, 'gamma': 4.4015249373960135, 'min_child_weight': 0.2323350351539011, 'subsample': 0.8990353820222541, 'colsample_bytree': 0.8068777042230437, 'colsample_bylevel': 0.9818640804157565, 'colsample_bynode': 0.8517559963200034, 'reg_alpha': 0.0434166180036174, 'reg_lambda': 0.0001520468869219893, 'max_cat_threshold': 26}. Best is trial 1 with value: 0.666171600233556.\n"
     ]
    },
    {
     "name": "stdout",
     "output_type": "stream",
     "text": [
      "####################################################################################################\n",
      "OOF prediction score :  0.6594547506766983\n",
      "Mean 5-cv results : 0.6579146991583124 +- 0.003578044041948644\n",
      "####################################################################################################\n"
     ]
    },
    {
     "name": "stderr",
     "output_type": "stream",
     "text": [
      "[I 2025-01-17 21:28:39,736] Trial 4 finished with value: 0.6531671196586958 and parameters: {'max_bin': 617, 'learning_rate': 0.12251746147057514, 'max_depth': 49, 'gamma': 7.7513282336111455, 'min_child_weight': 65.84106160121607, 'subsample': 0.9789654700855298, 'colsample_bytree': 0.919579995762217, 'colsample_bylevel': 0.9843748470046234, 'colsample_bynode': 0.8176985004103839, 'reg_alpha': 2.354398849850489e-05, 'reg_lambda': 2.0729604791291177e-06, 'max_cat_threshold': 6}. Best is trial 1 with value: 0.666171600233556.\n"
     ]
    },
    {
     "name": "stdout",
     "output_type": "stream",
     "text": [
      "####################################################################################################\n",
      "OOF prediction score :  0.6531671196586958\n",
      "Mean 5-cv results : 0.651527201637607 +- 0.004363143679903481\n",
      "####################################################################################################\n"
     ]
    },
    {
     "name": "stderr",
     "output_type": "stream",
     "text": [
      "[I 2025-01-17 21:28:45,824] Trial 5 finished with value: 0.6556741235843541 and parameters: {'max_bin': 298, 'learning_rate': 0.1347306454990837, 'max_depth': 42, 'gamma': 3.567533266935893, 'min_child_weight': 0.6963114377829286, 'subsample': 0.9085392166316497, 'colsample_bytree': 0.8281848449949526, 'colsample_bylevel': 0.960439396150808, 'colsample_bynode': 0.8149101287359543, 'reg_alpha': 8.094845352286146, 'reg_lambda': 0.2545150013091294, 'max_cat_threshold': 2}. Best is trial 1 with value: 0.666171600233556.\n"
     ]
    },
    {
     "name": "stdout",
     "output_type": "stream",
     "text": [
      "####################################################################################################\n",
      "OOF prediction score :  0.6556741235843541\n",
      "Mean 5-cv results : 0.6536748673393935 +- 0.005888122437674677\n",
      "####################################################################################################\n"
     ]
    },
    {
     "name": "stderr",
     "output_type": "stream",
     "text": [
      "[I 2025-01-17 21:28:51,133] Trial 6 finished with value: 0.6085852145911224 and parameters: {'max_bin': 51, 'learning_rate': 0.24494804632059974, 'max_depth': 36, 'gamma': 7.2900716804098735, 'min_child_weight': 20.59733535743719, 'subsample': 0.8148089303468181, 'colsample_bytree': 0.8716931457088546, 'colsample_bylevel': 0.823173811905026, 'colsample_bynode': 0.9726206851751187, 'reg_alpha': 0.02307208737809902, 'reg_lambda': 0.00020715058970816215, 'max_cat_threshold': 1}. Best is trial 1 with value: 0.666171600233556.\n"
     ]
    },
    {
     "name": "stdout",
     "output_type": "stream",
     "text": [
      "####################################################################################################\n",
      "OOF prediction score :  0.6085852145911224\n",
      "Mean 5-cv results : 0.6048748923780275 +- 0.00777479398019827\n",
      "####################################################################################################\n"
     ]
    },
    {
     "name": "stderr",
     "output_type": "stream",
     "text": [
      "[I 2025-01-17 21:28:55,850] Trial 7 finished with value: 0.6538515410053534 and parameters: {'max_bin': 208, 'learning_rate': 0.14293937361610276, 'max_depth': 38, 'gamma': 6.3755747135521315, 'min_child_weight': 45.88156549160973, 'subsample': 0.8944429850323898, 'colsample_bytree': 0.8239188491876603, 'colsample_bylevel': 0.942648957444599, 'colsample_bynode': 0.9521570097233795, 'reg_alpha': 0.008490639132761166, 'reg_lambda': 0.24932754437140162, 'max_cat_threshold': 21}. Best is trial 1 with value: 0.666171600233556.\n"
     ]
    },
    {
     "name": "stdout",
     "output_type": "stream",
     "text": [
      "####################################################################################################\n",
      "OOF prediction score :  0.6538515410053534\n",
      "Mean 5-cv results : 0.6525317665289072 +- 0.004232100748144515\n",
      "####################################################################################################\n"
     ]
    },
    {
     "name": "stderr",
     "output_type": "stream",
     "text": [
      "[I 2025-01-17 21:29:01,739] Trial 8 finished with value: 0.6674818590856696 and parameters: {'max_bin': 553, 'learning_rate': 0.15995171727575622, 'max_depth': 4, 'gamma': 1.0789142699330445, 'min_child_weight': 0.12424747083660197, 'subsample': 0.9272820822527561, 'colsample_bytree': 0.8628711962152653, 'colsample_bylevel': 0.9017141382329406, 'colsample_bynode': 0.9815132947852186, 'reg_alpha': 5.559626342779702e-05, 'reg_lambda': 0.0007458997494127213, 'max_cat_threshold': 156}. Best is trial 8 with value: 0.6674818590856696.\n"
     ]
    },
    {
     "name": "stdout",
     "output_type": "stream",
     "text": [
      "####################################################################################################\n",
      "OOF prediction score :  0.6674818590856696\n",
      "Mean 5-cv results : 0.6656523688157593 +- 0.004026815396470062\n",
      "####################################################################################################\n"
     ]
    },
    {
     "name": "stderr",
     "output_type": "stream",
     "text": [
      "[I 2025-01-17 21:29:08,214] Trial 9 finished with value: 0.6664526622037746 and parameters: {'max_bin': 142, 'learning_rate': 0.10882501887767908, 'max_depth': 16, 'gamma': 1.6122128725400442, 'min_child_weight': 61.53085601625307, 'subsample': 0.9616240759128833, 'colsample_bytree': 0.9266807513020847, 'colsample_bylevel': 0.9742921180375436, 'colsample_bynode': 0.960734415379823, 'reg_alpha': 2.0229745175429495e-05, 'reg_lambda': 1.7697543538533236, 'max_cat_threshold': 30}. Best is trial 8 with value: 0.6674818590856696.\n"
     ]
    },
    {
     "name": "stdout",
     "output_type": "stream",
     "text": [
      "####################################################################################################\n",
      "OOF prediction score :  0.6664526622037746\n",
      "Mean 5-cv results : 0.6645251296638259 +- 0.0028326536686692372\n",
      "####################################################################################################\n"
     ]
    },
    {
     "name": "stderr",
     "output_type": "stream",
     "text": [
      "[I 2025-01-17 21:29:15,014] Trial 10 finished with value: 0.6538514386949871 and parameters: {'max_bin': 2056, 'learning_rate': 0.267635799674208, 'max_depth': 18, 'gamma': 1.1005192452767676, 'min_child_weight': 0.4828424974818325, 'subsample': 0.8854215577252513, 'colsample_bytree': 0.9636029531844986, 'colsample_bylevel': 0.9721461166512687, 'colsample_bynode': 0.8013904261062382, 'reg_alpha': 0.0037603746651791235, 'reg_lambda': 0.0008353664363501653, 'max_cat_threshold': 3}. Best is trial 8 with value: 0.6674818590856696.\n"
     ]
    },
    {
     "name": "stdout",
     "output_type": "stream",
     "text": [
      "####################################################################################################\n",
      "OOF prediction score :  0.6538514386949871\n",
      "Mean 5-cv results : 0.6507090053106411 +- 0.005531164672284691\n",
      "####################################################################################################\n"
     ]
    },
    {
     "name": "stderr",
     "output_type": "stream",
     "text": [
      "[I 2025-01-17 21:29:22,228] Trial 11 finished with value: 0.662210045151123 and parameters: {'max_bin': 86, 'learning_rate': 0.14490500099192724, 'max_depth': 48, 'gamma': 3.2320293202075523, 'min_child_weight': 3.6005750292009013, 'subsample': 0.9406037917790355, 'colsample_bytree': 0.8727259204758588, 'colsample_bylevel': 0.9943564165441922, 'colsample_bynode': 0.9924894589884222, 'reg_alpha': 5.787300999798077e-05, 'reg_lambda': 0.003025098646267442, 'max_cat_threshold': 5}. Best is trial 8 with value: 0.6674818590856696.\n"
     ]
    },
    {
     "name": "stdout",
     "output_type": "stream",
     "text": [
      "####################################################################################################\n",
      "OOF prediction score :  0.662210045151123\n",
      "Mean 5-cv results : 0.66052684418409 +- 0.004843079147482206\n",
      "####################################################################################################\n"
     ]
    },
    {
     "name": "stderr",
     "output_type": "stream",
     "text": [
      "[I 2025-01-17 21:29:28,539] Trial 12 finished with value: 0.6557867364104819 and parameters: {'max_bin': 184, 'learning_rate': 0.10413567743706059, 'max_depth': 32, 'gamma': 5.026790232288615, 'min_child_weight': 0.1427040352146084, 'subsample': 0.8557292928473224, 'colsample_bytree': 0.9816531771933308, 'colsample_bylevel': 0.8479123781333945, 'colsample_bynode': 0.8289789744182446, 'reg_alpha': 0.0026678986172428104, 'reg_lambda': 7.935114152322793, 'max_cat_threshold': 3}. Best is trial 8 with value: 0.6674818590856696.\n"
     ]
    },
    {
     "name": "stdout",
     "output_type": "stream",
     "text": [
      "####################################################################################################\n",
      "OOF prediction score :  0.6557867364104819\n",
      "Mean 5-cv results : 0.6541866243976255 +- 0.004561083253701858\n",
      "####################################################################################################\n"
     ]
    },
    {
     "name": "stderr",
     "output_type": "stream",
     "text": [
      "[I 2025-01-17 21:29:33,179] Trial 13 finished with value: 0.6492694296172423 and parameters: {'max_bin': 1101, 'learning_rate': 0.23087925186997485, 'max_depth': 14, 'gamma': 7.282163486118596, 'min_child_weight': 1.2686721262104845, 'subsample': 0.9264611661187159, 'colsample_bytree': 0.9267059421521789, 'colsample_bylevel': 0.9071549368149517, 'colsample_bynode': 0.8180579540108817, 'reg_alpha': 0.703262514472823, 'reg_lambda': 0.00017597884168895963, 'max_cat_threshold': 2}. Best is trial 8 with value: 0.6674818590856696.\n"
     ]
    },
    {
     "name": "stdout",
     "output_type": "stream",
     "text": [
      "####################################################################################################\n",
      "OOF prediction score :  0.6492694296172423\n",
      "Mean 5-cv results : 0.6469239086389864 +- 0.004798513595359221\n",
      "####################################################################################################\n"
     ]
    },
    {
     "name": "stderr",
     "output_type": "stream",
     "text": [
      "[I 2025-01-17 21:29:39,601] Trial 14 finished with value: 0.5972259185616214 and parameters: {'max_bin': 60, 'learning_rate': 0.19139367541458724, 'max_depth': 35, 'gamma': 0.16587828927856152, 'min_child_weight': 3.437788661779579, 'subsample': 0.8452991550395876, 'colsample_bytree': 0.92903455808189, 'colsample_bylevel': 0.8348732858009983, 'colsample_bynode': 0.9381875476204932, 'reg_alpha': 0.000509503796102878, 'reg_lambda': 3.6066991804273933, 'max_cat_threshold': 1}. Best is trial 8 with value: 0.6674818590856696.\n"
     ]
    },
    {
     "name": "stdout",
     "output_type": "stream",
     "text": [
      "####################################################################################################\n",
      "OOF prediction score :  0.5972259185616214\n",
      "Mean 5-cv results : 0.5933949437467397 +- 0.0024312198761002875\n",
      "####################################################################################################\n"
     ]
    },
    {
     "name": "stderr",
     "output_type": "stream",
     "text": [
      "[I 2025-01-17 21:29:45,035] Trial 15 finished with value: 0.6522531424120732 and parameters: {'max_bin': 239, 'learning_rate': 0.11327671050033071, 'max_depth': 47, 'gamma': 8.77339353380981, 'min_child_weight': 0.5940525755701928, 'subsample': 0.9319968092068358, 'colsample_bytree': 0.9634444400402432, 'colsample_bylevel': 0.9110401623198925, 'colsample_bynode': 0.9059301156712013, 'reg_alpha': 4.931352371498771e-05, 'reg_lambda': 4.484555205828698e-06, 'max_cat_threshold': 458}. Best is trial 8 with value: 0.6674818590856696.\n"
     ]
    },
    {
     "name": "stdout",
     "output_type": "stream",
     "text": [
      "####################################################################################################\n",
      "OOF prediction score :  0.6522531424120732\n",
      "Mean 5-cv results : 0.6506834243302022 +- 0.004483879869901476\n",
      "####################################################################################################\n"
     ]
    },
    {
     "name": "stderr",
     "output_type": "stream",
     "text": [
      "[I 2025-01-17 21:29:51,935] Trial 16 finished with value: 0.6599731111161664 and parameters: {'max_bin': 3158, 'learning_rate': 0.20047774176077715, 'max_depth': 19, 'gamma': 3.492095746126609, 'min_child_weight': 15.061458746961156, 'subsample': 0.9794220519905155, 'colsample_bytree': 0.9774172848530235, 'colsample_bylevel': 0.9559751091715247, 'colsample_bynode': 0.9284063292308575, 'reg_alpha': 3.881322724279029e-06, 'reg_lambda': 1.3533215536719127e-05, 'max_cat_threshold': 463}. Best is trial 8 with value: 0.6674818590856696.\n"
     ]
    },
    {
     "name": "stdout",
     "output_type": "stream",
     "text": [
      "####################################################################################################\n",
      "OOF prediction score :  0.6599731111161664\n",
      "Mean 5-cv results : 0.6584647946450267 +- 0.004100055608479319\n",
      "####################################################################################################\n"
     ]
    },
    {
     "name": "stderr",
     "output_type": "stream",
     "text": [
      "[I 2025-01-17 21:29:57,594] Trial 17 finished with value: 0.6519343306178573 and parameters: {'max_bin': 813, 'learning_rate': 0.10101552116279423, 'max_depth': 7, 'gamma': 6.635017691080558, 'min_child_weight': 0.10355826161899183, 'subsample': 0.8321616102834998, 'colsample_bytree': 0.9097467578733173, 'colsample_bylevel': 0.9383790395385386, 'colsample_bynode': 0.9303922519005201, 'reg_alpha': 3.7143700276692116e-05, 'reg_lambda': 0.09666172683719303, 'max_cat_threshold': 3}. Best is trial 8 with value: 0.6674818590856696.\n"
     ]
    },
    {
     "name": "stdout",
     "output_type": "stream",
     "text": [
      "####################################################################################################\n",
      "OOF prediction score :  0.6519343306178573\n",
      "Mean 5-cv results : 0.6504540161722427 +- 0.005457870044698489\n",
      "####################################################################################################\n"
     ]
    },
    {
     "name": "stderr",
     "output_type": "stream",
     "text": [
      "[I 2025-01-17 21:30:02,188] Trial 18 finished with value: 0.6511627442459696 and parameters: {'max_bin': 222, 'learning_rate': 0.2270737414738163, 'max_depth': 34, 'gamma': 8.49223410494178, 'min_child_weight': 9.39374305615398, 'subsample': 0.9136617206670944, 'colsample_bytree': 0.8187349535656185, 'colsample_bylevel': 0.8735431606118867, 'colsample_bynode': 0.8530404735363452, 'reg_alpha': 5.104197889952109e-05, 'reg_lambda': 6.4725271863959755, 'max_cat_threshold': 10}. Best is trial 8 with value: 0.6674818590856696.\n"
     ]
    },
    {
     "name": "stdout",
     "output_type": "stream",
     "text": [
      "####################################################################################################\n",
      "OOF prediction score :  0.6511627442459696\n",
      "Mean 5-cv results : 0.6496385506087208 +- 0.004025420268764257\n",
      "####################################################################################################\n"
     ]
    },
    {
     "name": "stderr",
     "output_type": "stream",
     "text": [
      "[I 2025-01-17 21:30:07,394] Trial 19 finished with value: 0.6523964851019382 and parameters: {'max_bin': 3038, 'learning_rate': 0.2000458992287931, 'max_depth': 41, 'gamma': 5.026370931051921, 'min_child_weight': 5.379125214937586, 'subsample': 0.8985035387637728, 'colsample_bytree': 0.8390485975596089, 'colsample_bylevel': 0.944490423052301, 'colsample_bynode': 0.8561544724881712, 'reg_alpha': 1.4798297876059053e-06, 'reg_lambda': 0.03298420882528968, 'max_cat_threshold': 2}. Best is trial 8 with value: 0.6674818590856696.\n"
     ]
    },
    {
     "name": "stdout",
     "output_type": "stream",
     "text": [
      "####################################################################################################\n",
      "OOF prediction score :  0.6523964851019382\n",
      "Mean 5-cv results : 0.6503684758478279 +- 0.004461278939954683\n",
      "####################################################################################################\n"
     ]
    },
    {
     "name": "stderr",
     "output_type": "stream",
     "text": [
      "[I 2025-01-17 21:30:12,164] Trial 20 finished with value: 0.6588524024896929 and parameters: {'max_bin': 3799, 'learning_rate': 0.2851934845819374, 'max_depth': 46, 'gamma': 3.7015870025544437, 'min_child_weight': 0.11126788925493283, 'subsample': 0.9856637125175451, 'colsample_bytree': 0.8856368296634629, 'colsample_bylevel': 0.993330963808734, 'colsample_bynode': 0.9927239954178506, 'reg_alpha': 0.9355482446969189, 'reg_lambda': 0.00011511773723700745, 'max_cat_threshold': 9}. Best is trial 8 with value: 0.6674818590856696.\n"
     ]
    },
    {
     "name": "stdout",
     "output_type": "stream",
     "text": [
      "####################################################################################################\n",
      "OOF prediction score :  0.6588524024896929\n",
      "Mean 5-cv results : 0.657153272903924 +- 0.003108479400371519\n",
      "####################################################################################################\n"
     ]
    },
    {
     "name": "stderr",
     "output_type": "stream",
     "text": [
      "[I 2025-01-17 21:30:17,791] Trial 21 finished with value: 0.653685414278078 and parameters: {'max_bin': 2516, 'learning_rate': 0.14164792755180083, 'max_depth': 11, 'gamma': 5.568012624583502, 'min_child_weight': 64.3375209213068, 'subsample': 0.9392059593349946, 'colsample_bytree': 0.914012234017873, 'colsample_bylevel': 0.8194352987541538, 'colsample_bynode': 0.923001445339834, 'reg_alpha': 8.518771136349084, 'reg_lambda': 9.562866801584219e-06, 'max_cat_threshold': 26}. Best is trial 8 with value: 0.6674818590856696.\n"
     ]
    },
    {
     "name": "stdout",
     "output_type": "stream",
     "text": [
      "####################################################################################################\n",
      "OOF prediction score :  0.653685414278078\n",
      "Mean 5-cv results : 0.6525291607445565 +- 0.004066381481441546\n",
      "####################################################################################################\n"
     ]
    },
    {
     "name": "stderr",
     "output_type": "stream",
     "text": [
      "[I 2025-01-17 21:30:24,360] Trial 22 finished with value: 0.65260704766914 and parameters: {'max_bin': 2839, 'learning_rate': 0.22565057907269517, 'max_depth': 36, 'gamma': 7.024840839871093, 'min_child_weight': 1.198045890147098, 'subsample': 0.8587183688528988, 'colsample_bytree': 0.9618722310957027, 'colsample_bylevel': 0.9620226789358362, 'colsample_bynode': 0.9734144637160207, 'reg_alpha': 2.469925579613788, 'reg_lambda': 0.003796617034906459, 'max_cat_threshold': 23}. Best is trial 8 with value: 0.6674818590856696.\n"
     ]
    },
    {
     "name": "stdout",
     "output_type": "stream",
     "text": [
      "####################################################################################################\n",
      "OOF prediction score :  0.65260704766914\n",
      "Mean 5-cv results : 0.6511860630432246 +- 0.004066204328712599\n",
      "####################################################################################################\n"
     ]
    },
    {
     "name": "stderr",
     "output_type": "stream",
     "text": [
      "[I 2025-01-17 21:30:29,205] Trial 23 finished with value: 0.6522459342073172 and parameters: {'max_bin': 1971, 'learning_rate': 0.20422627034546176, 'max_depth': 36, 'gamma': 7.95792669436101, 'min_child_weight': 46.77524010176145, 'subsample': 0.8675990313703072, 'colsample_bytree': 0.8751165905279888, 'colsample_bylevel': 0.8187963879681739, 'colsample_bynode': 0.9156560281992349, 'reg_alpha': 1.7848261347190331e-06, 'reg_lambda': 0.0018162939106832312, 'max_cat_threshold': 31}. Best is trial 8 with value: 0.6674818590856696.\n"
     ]
    },
    {
     "name": "stdout",
     "output_type": "stream",
     "text": [
      "####################################################################################################\n",
      "OOF prediction score :  0.6522459342073172\n",
      "Mean 5-cv results : 0.6508274939085479 +- 0.004059820350694994\n",
      "####################################################################################################\n"
     ]
    },
    {
     "name": "stderr",
     "output_type": "stream",
     "text": [
      "[I 2025-01-17 21:30:34,199] Trial 24 finished with value: 0.6259781348043577 and parameters: {'max_bin': 186, 'learning_rate': 0.1913811265142112, 'max_depth': 4, 'gamma': 0.37348188749214417, 'min_child_weight': 29.363084977630116, 'subsample': 0.8720381282822526, 'colsample_bytree': 0.825412102530377, 'colsample_bylevel': 0.9044486520109609, 'colsample_bynode': 0.9539987106197222, 'reg_alpha': 3.2415087068598385e-05, 'reg_lambda': 0.022920987838744543, 'max_cat_threshold': 1}. Best is trial 8 with value: 0.6674818590856696.\n"
     ]
    },
    {
     "name": "stdout",
     "output_type": "stream",
     "text": [
      "####################################################################################################\n",
      "OOF prediction score :  0.6259781348043577\n",
      "Mean 5-cv results : 0.6221391252625177 +- 0.006086603408352873\n",
      "####################################################################################################\n"
     ]
    },
    {
     "name": "stderr",
     "output_type": "stream",
     "text": [
      "[I 2025-01-17 21:30:38,402] Trial 25 finished with value: 0.60900088975992 and parameters: {'max_bin': 63, 'learning_rate': 0.17927535390729465, 'max_depth': 28, 'gamma': 6.374299014982066, 'min_child_weight': 15.075579010793652, 'subsample': 0.995170415892507, 'colsample_bytree': 0.9032600696602391, 'colsample_bylevel': 0.8645912945882492, 'colsample_bynode': 0.9590372389537407, 'reg_alpha': 7.867300862374497e-05, 'reg_lambda': 0.0011824967204642758, 'max_cat_threshold': 1}. Best is trial 8 with value: 0.6674818590856696.\n"
     ]
    },
    {
     "name": "stdout",
     "output_type": "stream",
     "text": [
      "####################################################################################################\n",
      "OOF prediction score :  0.60900088975992\n",
      "Mean 5-cv results : 0.6061318275245254 +- 0.007496552737109335\n",
      "####################################################################################################\n"
     ]
    },
    {
     "name": "stderr",
     "output_type": "stream",
     "text": [
      "[I 2025-01-17 21:30:42,901] Trial 26 finished with value: 0.6517198017411132 and parameters: {'max_bin': 56, 'learning_rate': 0.28793868668617406, 'max_depth': 43, 'gamma': 6.95974206093698, 'min_child_weight': 1.6860049029950277, 'subsample': 0.8346588640141692, 'colsample_bytree': 0.8312874085342172, 'colsample_bylevel': 0.8500485796329191, 'colsample_bynode': 0.9098453329412242, 'reg_alpha': 0.10050124895976786, 'reg_lambda': 0.04181976971736258, 'max_cat_threshold': 4}. Best is trial 8 with value: 0.6674818590856696.\n"
     ]
    },
    {
     "name": "stdout",
     "output_type": "stream",
     "text": [
      "####################################################################################################\n",
      "OOF prediction score :  0.6517198017411132\n",
      "Mean 5-cv results : 0.6500467225911911 +- 0.005662035608355255\n",
      "####################################################################################################\n"
     ]
    },
    {
     "name": "stderr",
     "output_type": "stream",
     "text": [
      "[I 2025-01-17 21:30:47,635] Trial 27 finished with value: 0.6093662751972576 and parameters: {'max_bin': 4060, 'learning_rate': 0.2249397990082134, 'max_depth': 29, 'gamma': 6.117207462343522, 'min_child_weight': 1.8146805619521564, 'subsample': 0.8495461979002316, 'colsample_bytree': 0.8711945357302524, 'colsample_bylevel': 0.9515692220928739, 'colsample_bynode': 0.8028786977259512, 'reg_alpha': 6.493943167807165e-06, 'reg_lambda': 2.0990292675368907e-06, 'max_cat_threshold': 1}. Best is trial 8 with value: 0.6674818590856696.\n"
     ]
    },
    {
     "name": "stdout",
     "output_type": "stream",
     "text": [
      "####################################################################################################\n",
      "OOF prediction score :  0.6093662751972576\n",
      "Mean 5-cv results : 0.6061045889491019 +- 0.006258002860003243\n",
      "####################################################################################################\n"
     ]
    },
    {
     "name": "stderr",
     "output_type": "stream",
     "text": [
      "[I 2025-01-17 21:30:53,522] Trial 28 finished with value: 0.6181251835450815 and parameters: {'max_bin': 2566, 'learning_rate': 0.2166357468779576, 'max_depth': 25, 'gamma': 0.9783416065100148, 'min_child_weight': 2.9843353644467205, 'subsample': 0.8946943541561132, 'colsample_bytree': 0.8346403739820031, 'colsample_bylevel': 0.8867703298475946, 'colsample_bynode': 0.8797009468794748, 'reg_alpha': 0.02046212278503028, 'reg_lambda': 0.02790329920799664, 'max_cat_threshold': 1}. Best is trial 8 with value: 0.6674818590856696.\n"
     ]
    },
    {
     "name": "stdout",
     "output_type": "stream",
     "text": [
      "####################################################################################################\n",
      "OOF prediction score :  0.6181251835450815\n",
      "Mean 5-cv results : 0.6155000468133706 +- 0.006602198875059309\n",
      "####################################################################################################\n"
     ]
    },
    {
     "name": "stderr",
     "output_type": "stream",
     "text": [
      "[I 2025-01-17 21:30:58,562] Trial 29 finished with value: 0.6515353242272669 and parameters: {'max_bin': 279, 'learning_rate': 0.19888913926588472, 'max_depth': 27, 'gamma': 8.564898411883222, 'min_child_weight': 9.464134308150154, 'subsample': 0.832586885416286, 'colsample_bytree': 0.814113749480086, 'colsample_bylevel': 0.9284838556412631, 'colsample_bynode': 0.8053022621083245, 'reg_alpha': 0.012601698040282966, 'reg_lambda': 3.816029206481334, 'max_cat_threshold': 40}. Best is trial 8 with value: 0.6674818590856696.\n"
     ]
    },
    {
     "name": "stdout",
     "output_type": "stream",
     "text": [
      "####################################################################################################\n",
      "OOF prediction score :  0.6515353242272669\n",
      "Mean 5-cv results : 0.6501417233244053 +- 0.004063668225491054\n",
      "####################################################################################################\n"
     ]
    },
    {
     "name": "stderr",
     "output_type": "stream",
     "text": [
      "[I 2025-01-17 21:31:03,368] Trial 30 finished with value: 0.6095443815787306 and parameters: {'max_bin': 297, 'learning_rate': 0.20273394991711613, 'max_depth': 24, 'gamma': 5.45616789315935, 'min_child_weight': 66.74126383295356, 'subsample': 0.8772205275601549, 'colsample_bytree': 0.9922381127647828, 'colsample_bylevel': 0.9810701283912128, 'colsample_bynode': 0.8391582269578594, 'reg_alpha': 3.0586452280022548e-06, 'reg_lambda': 5.075116425823997e-06, 'max_cat_threshold': 1}. Best is trial 8 with value: 0.6674818590856696.\n"
     ]
    },
    {
     "name": "stdout",
     "output_type": "stream",
     "text": [
      "####################################################################################################\n",
      "OOF prediction score :  0.6095443815787306\n",
      "Mean 5-cv results : 0.606784078756825 +- 0.006330856129237327\n",
      "####################################################################################################\n"
     ]
    },
    {
     "name": "stderr",
     "output_type": "stream",
     "text": [
      "[I 2025-01-17 21:31:09,031] Trial 31 finished with value: 0.6608713095052208 and parameters: {'max_bin': 77, 'learning_rate': 0.21177614998144895, 'max_depth': 6, 'gamma': 3.189756302937613, 'min_child_weight': 34.24726804566915, 'subsample': 0.8046543871471652, 'colsample_bytree': 0.9628936965177872, 'colsample_bylevel': 0.8563709549546801, 'colsample_bynode': 0.8236329655243313, 'reg_alpha': 0.07536334347080965, 'reg_lambda': 0.025269690772951377, 'max_cat_threshold': 394}. Best is trial 8 with value: 0.6674818590856696.\n"
     ]
    },
    {
     "name": "stdout",
     "output_type": "stream",
     "text": [
      "####################################################################################################\n",
      "OOF prediction score :  0.6608713095052208\n",
      "Mean 5-cv results : 0.6597729575967256 +- 0.0030503827066842523\n",
      "####################################################################################################\n"
     ]
    },
    {
     "name": "stderr",
     "output_type": "stream",
     "text": [
      "[I 2025-01-17 21:31:14,078] Trial 32 finished with value: 0.6636093288237546 and parameters: {'max_bin': 1472, 'learning_rate': 0.2417451832967182, 'max_depth': 16, 'gamma': 1.7743954377972282, 'min_child_weight': 17.858470261618837, 'subsample': 0.9613669478534528, 'colsample_bytree': 0.9981010284001346, 'colsample_bylevel': 0.8825235353822853, 'colsample_bynode': 0.8744036171585566, 'reg_alpha': 0.27220163230221106, 'reg_lambda': 0.00024301035606487368, 'max_cat_threshold': 591}. Best is trial 8 with value: 0.6674818590856696.\n"
     ]
    },
    {
     "name": "stdout",
     "output_type": "stream",
     "text": [
      "####################################################################################################\n",
      "OOF prediction score :  0.6636093288237546\n",
      "Mean 5-cv results : 0.66160761975752 +- 0.0028439482188277396\n",
      "####################################################################################################\n"
     ]
    },
    {
     "name": "stderr",
     "output_type": "stream",
     "text": [
      "[I 2025-01-17 21:31:18,350] Trial 33 finished with value: 0.6077864637039592 and parameters: {'max_bin': 2601, 'learning_rate': 0.16020725107133513, 'max_depth': 39, 'gamma': 7.545428740846823, 'min_child_weight': 0.20387858300971337, 'subsample': 0.9805105813359134, 'colsample_bytree': 0.9010504744895714, 'colsample_bylevel': 0.9652914932215484, 'colsample_bynode': 0.8640099202061224, 'reg_alpha': 1.8563616995357044, 'reg_lambda': 0.0005301658517108408, 'max_cat_threshold': 1}. Best is trial 8 with value: 0.6674818590856696.\n"
     ]
    },
    {
     "name": "stdout",
     "output_type": "stream",
     "text": [
      "####################################################################################################\n",
      "OOF prediction score :  0.6077864637039592\n",
      "Mean 5-cv results : 0.6045117778089942 +- 0.007119298675090092\n",
      "####################################################################################################\n"
     ]
    },
    {
     "name": "stderr",
     "output_type": "stream",
     "text": [
      "[I 2025-01-17 21:31:23,703] Trial 34 finished with value: 0.6516099684488995 and parameters: {'max_bin': 3231, 'learning_rate': 0.11054899881880124, 'max_depth': 18, 'gamma': 9.50061967050805, 'min_child_weight': 71.09211599410474, 'subsample': 0.9146875776246572, 'colsample_bytree': 0.9263674424339599, 'colsample_bylevel': 0.889689104395664, 'colsample_bynode': 0.858642154339613, 'reg_alpha': 0.00019982591836562914, 'reg_lambda': 0.05100693088019009, 'max_cat_threshold': 152}. Best is trial 8 with value: 0.6674818590856696.\n"
     ]
    },
    {
     "name": "stdout",
     "output_type": "stream",
     "text": [
      "####################################################################################################\n",
      "OOF prediction score :  0.6516099684488995\n",
      "Mean 5-cv results : 0.6501469890150374 +- 0.004474305198773626\n",
      "####################################################################################################\n"
     ]
    },
    {
     "name": "stderr",
     "output_type": "stream",
     "text": [
      "[I 2025-01-17 21:31:30,351] Trial 35 finished with value: 0.6562174061439981 and parameters: {'max_bin': 1911, 'learning_rate': 0.23809133987111797, 'max_depth': 7, 'gamma': 4.944203047025814, 'min_child_weight': 0.14882513324386767, 'subsample': 0.9099057764647471, 'colsample_bytree': 0.8883061002746754, 'colsample_bylevel': 0.97754083655166, 'colsample_bynode': 0.8701830025104158, 'reg_alpha': 6.598863045453001e-06, 'reg_lambda': 1.002170868555473e-05, 'max_cat_threshold': 163}. Best is trial 8 with value: 0.6674818590856696.\n"
     ]
    },
    {
     "name": "stdout",
     "output_type": "stream",
     "text": [
      "####################################################################################################\n",
      "OOF prediction score :  0.6562174061439981\n",
      "Mean 5-cv results : 0.6548214603436006 +- 0.003929363716556926\n",
      "####################################################################################################\n"
     ]
    },
    {
     "name": "stderr",
     "output_type": "stream",
     "text": [
      "[I 2025-01-17 21:31:35,708] Trial 36 finished with value: 0.6527621786663405 and parameters: {'max_bin': 859, 'learning_rate': 0.11175006337857409, 'max_depth': 7, 'gamma': 7.009691314591199, 'min_child_weight': 0.16530615299177753, 'subsample': 0.9643720118580712, 'colsample_bytree': 0.9412484454312993, 'colsample_bylevel': 0.81626975612838, 'colsample_bynode': 0.8169675428170384, 'reg_alpha': 8.062635928582731, 'reg_lambda': 0.0004167691558232646, 'max_cat_threshold': 8}. Best is trial 8 with value: 0.6674818590856696.\n"
     ]
    },
    {
     "name": "stdout",
     "output_type": "stream",
     "text": [
      "####################################################################################################\n",
      "OOF prediction score :  0.6527621786663405\n",
      "Mean 5-cv results : 0.6515010674051022 +- 0.00498462645572135\n",
      "####################################################################################################\n"
     ]
    },
    {
     "name": "stderr",
     "output_type": "stream",
     "text": [
      "[I 2025-01-17 21:31:40,476] Trial 37 finished with value: 0.6517308550487814 and parameters: {'max_bin': 2108, 'learning_rate': 0.2831081877688719, 'max_depth': 50, 'gamma': 7.533781852589416, 'min_child_weight': 1.3451749046413182, 'subsample': 0.8167001433397338, 'colsample_bytree': 0.9554293831854874, 'colsample_bylevel': 0.911680849947161, 'colsample_bynode': 0.8848444018493953, 'reg_alpha': 2.2104499998822904, 'reg_lambda': 6.003193970188316e-06, 'max_cat_threshold': 21}. Best is trial 8 with value: 0.6674818590856696.\n"
     ]
    },
    {
     "name": "stdout",
     "output_type": "stream",
     "text": [
      "####################################################################################################\n",
      "OOF prediction score :  0.6517308550487814\n",
      "Mean 5-cv results : 0.6503430270527482 +- 0.0042187713087121605\n",
      "####################################################################################################\n"
     ]
    },
    {
     "name": "stderr",
     "output_type": "stream",
     "text": [
      "[I 2025-01-17 21:31:46,306] Trial 38 finished with value: 0.6677456992008325 and parameters: {'max_bin': 52, 'learning_rate': 0.16734315533095087, 'max_depth': 5, 'gamma': 1.1881791626807192, 'min_child_weight': 0.22520536912838, 'subsample': 0.9298420604232127, 'colsample_bytree': 0.9492089758530846, 'colsample_bylevel': 0.916673753019432, 'colsample_bynode': 0.9924345096949083, 'reg_alpha': 0.000420817756480771, 'reg_lambda': 9.999645499661633e-05, 'max_cat_threshold': 368}. Best is trial 38 with value: 0.6677456992008325.\n"
     ]
    },
    {
     "name": "stdout",
     "output_type": "stream",
     "text": [
      "####################################################################################################\n",
      "OOF prediction score :  0.6677456992008325\n",
      "Mean 5-cv results : 0.6653780887384555 +- 0.0033722058883366257\n",
      "####################################################################################################\n"
     ]
    },
    {
     "name": "stderr",
     "output_type": "stream",
     "text": [
      "[I 2025-01-17 21:31:50,721] Trial 39 finished with value: 0.651959033388591 and parameters: {'max_bin': 139, 'learning_rate': 0.28812035857088975, 'max_depth': 3, 'gamma': 9.69878826707639, 'min_child_weight': 0.13473478567267638, 'subsample': 0.9782286227396142, 'colsample_bytree': 0.90554022181726, 'colsample_bylevel': 0.99859295922386, 'colsample_bynode': 0.8147593129470798, 'reg_alpha': 0.007533208552845845, 'reg_lambda': 6.097021820806465, 'max_cat_threshold': 27}. Best is trial 38 with value: 0.6677456992008325.\n"
     ]
    },
    {
     "name": "stdout",
     "output_type": "stream",
     "text": [
      "####################################################################################################\n",
      "OOF prediction score :  0.651959033388591\n",
      "Mean 5-cv results : 0.6509023239776902 +- 0.003896943635914108\n",
      "####################################################################################################\n"
     ]
    },
    {
     "name": "stderr",
     "output_type": "stream",
     "text": [
      "[I 2025-01-17 21:31:55,583] Trial 40 finished with value: 0.6539095241451532 and parameters: {'max_bin': 904, 'learning_rate': 0.21476152909169327, 'max_depth': 24, 'gamma': 6.275580800840634, 'min_child_weight': 5.661648927748012, 'subsample': 0.9802316020981978, 'colsample_bytree': 0.8090892760682916, 'colsample_bylevel': 0.8561926379184461, 'colsample_bynode': 0.9900822968153118, 'reg_alpha': 1.7054794360526757, 'reg_lambda': 0.0015473810340829227, 'max_cat_threshold': 56}. Best is trial 38 with value: 0.6677456992008325.\n"
     ]
    },
    {
     "name": "stdout",
     "output_type": "stream",
     "text": [
      "####################################################################################################\n",
      "OOF prediction score :  0.6539095241451532\n",
      "Mean 5-cv results : 0.6524225138711239 +- 0.004547808373956184\n",
      "####################################################################################################\n"
     ]
    },
    {
     "name": "stderr",
     "output_type": "stream",
     "text": [
      "[I 2025-01-17 21:32:03,018] Trial 41 finished with value: 0.6613285632975401 and parameters: {'max_bin': 178, 'learning_rate': 0.12295794714937201, 'max_depth': 25, 'gamma': 3.533522280260528, 'min_child_weight': 5.635965624549064, 'subsample': 0.8155469273929971, 'colsample_bytree': 0.9948789615332333, 'colsample_bylevel': 0.9972421488959206, 'colsample_bynode': 0.939632342803949, 'reg_alpha': 0.0056581514044715476, 'reg_lambda': 0.00014678893312637914, 'max_cat_threshold': 243}. Best is trial 38 with value: 0.6677456992008325.\n"
     ]
    },
    {
     "name": "stdout",
     "output_type": "stream",
     "text": [
      "####################################################################################################\n",
      "OOF prediction score :  0.6613285632975401\n",
      "Mean 5-cv results : 0.659905320391186 +- 0.0035515511532416355\n",
      "####################################################################################################\n"
     ]
    },
    {
     "name": "stderr",
     "output_type": "stream",
     "text": [
      "[I 2025-01-17 21:32:07,524] Trial 42 finished with value: 0.6075111932495019 and parameters: {'max_bin': 1167, 'learning_rate': 0.11956057586000444, 'max_depth': 46, 'gamma': 8.22537242923169, 'min_child_weight': 70.6967973005033, 'subsample': 0.945143901677672, 'colsample_bytree': 0.922683039187158, 'colsample_bylevel': 0.8836486072581238, 'colsample_bynode': 0.9865456966708026, 'reg_alpha': 1.1546416693417716, 'reg_lambda': 2.0726725261289812e-06, 'max_cat_threshold': 1}. Best is trial 38 with value: 0.6677456992008325.\n"
     ]
    },
    {
     "name": "stdout",
     "output_type": "stream",
     "text": [
      "####################################################################################################\n",
      "OOF prediction score :  0.6075111932495019\n",
      "Mean 5-cv results : 0.6046450019953866 +- 0.007805328055555403\n",
      "####################################################################################################\n"
     ]
    },
    {
     "name": "stderr",
     "output_type": "stream",
     "text": [
      "[I 2025-01-17 21:32:12,958] Trial 43 finished with value: 0.6611931033437448 and parameters: {'max_bin': 281, 'learning_rate': 0.24363081734188097, 'max_depth': 50, 'gamma': 1.5041689110352818, 'min_child_weight': 6.058877139402057, 'subsample': 0.8761781713262043, 'colsample_bytree': 0.9939828795629206, 'colsample_bylevel': 0.9684237846271417, 'colsample_bynode': 0.9676657409422276, 'reg_alpha': 0.0019092030459276672, 'reg_lambda': 0.0008011918380327005, 'max_cat_threshold': 4}. Best is trial 38 with value: 0.6677456992008325.\n"
     ]
    },
    {
     "name": "stdout",
     "output_type": "stream",
     "text": [
      "####################################################################################################\n",
      "OOF prediction score :  0.6611931033437448\n",
      "Mean 5-cv results : 0.6584577092585201 +- 0.006961987792604686\n",
      "####################################################################################################\n"
     ]
    },
    {
     "name": "stderr",
     "output_type": "stream",
     "text": [
      "[I 2025-01-17 21:32:16,932] Trial 44 finished with value: 0.6068483055675427 and parameters: {'max_bin': 64, 'learning_rate': 0.2585695771093084, 'max_depth': 42, 'gamma': 9.997176732861305, 'min_child_weight': 97.70358765701472, 'subsample': 0.9110863411205256, 'colsample_bytree': 0.9537974830361021, 'colsample_bylevel': 0.9889531459764855, 'colsample_bynode': 0.9699294781354824, 'reg_alpha': 5.388113210815511e-05, 'reg_lambda': 0.0014249805847974582, 'max_cat_threshold': 1}. Best is trial 38 with value: 0.6677456992008325.\n"
     ]
    },
    {
     "name": "stdout",
     "output_type": "stream",
     "text": [
      "####################################################################################################\n",
      "OOF prediction score :  0.6068483055675427\n",
      "Mean 5-cv results : 0.6035465238034695 +- 0.007835106467138255\n",
      "####################################################################################################\n"
     ]
    },
    {
     "name": "stderr",
     "output_type": "stream",
     "text": [
      "[I 2025-01-17 21:32:22,126] Trial 45 finished with value: 0.6546608228140034 and parameters: {'max_bin': 4045, 'learning_rate': 0.19463404216068014, 'max_depth': 13, 'gamma': 6.7170068440585675, 'min_child_weight': 7.151295457181828, 'subsample': 0.8716325436065682, 'colsample_bytree': 0.8227115184399258, 'colsample_bylevel': 0.9343146391185599, 'colsample_bynode': 0.9040615401807587, 'reg_alpha': 0.25481720169780314, 'reg_lambda': 0.004376677111295391, 'max_cat_threshold': 325}. Best is trial 38 with value: 0.6677456992008325.\n"
     ]
    },
    {
     "name": "stdout",
     "output_type": "stream",
     "text": [
      "####################################################################################################\n",
      "OOF prediction score :  0.6546608228140034\n",
      "Mean 5-cv results : 0.6536222147669839 +- 0.0035630764305932695\n",
      "####################################################################################################\n"
     ]
    },
    {
     "name": "stderr",
     "output_type": "stream",
     "text": [
      "[I 2025-01-17 21:32:27,086] Trial 46 finished with value: 0.61200089326398 and parameters: {'max_bin': 632, 'learning_rate': 0.18519763176742873, 'max_depth': 45, 'gamma': 4.034828662123971, 'min_child_weight': 0.2523746242515087, 'subsample': 0.8057565352626679, 'colsample_bytree': 0.9510274511347239, 'colsample_bylevel': 0.924061910270693, 'colsample_bynode': 0.9408159536198447, 'reg_alpha': 3.0956305971190265e-05, 'reg_lambda': 9.00741824766842e-06, 'max_cat_threshold': 1}. Best is trial 38 with value: 0.6677456992008325.\n"
     ]
    },
    {
     "name": "stdout",
     "output_type": "stream",
     "text": [
      "####################################################################################################\n",
      "OOF prediction score :  0.61200089326398\n",
      "Mean 5-cv results : 0.609217342441142 +- 0.00665649007658596\n",
      "####################################################################################################\n"
     ]
    },
    {
     "name": "stderr",
     "output_type": "stream",
     "text": [
      "[I 2025-01-17 21:32:34,064] Trial 47 finished with value: 0.6586977738136549 and parameters: {'max_bin': 250, 'learning_rate': 0.19118872057512956, 'max_depth': 21, 'gamma': 4.374749220237291, 'min_child_weight': 51.57937596208981, 'subsample': 0.8696510934046601, 'colsample_bytree': 0.9027978978319622, 'colsample_bylevel': 0.9567306025482286, 'colsample_bynode': 0.8793085564642541, 'reg_alpha': 0.022625954091337976, 'reg_lambda': 1.0877922521984202, 'max_cat_threshold': 682}. Best is trial 38 with value: 0.6677456992008325.\n"
     ]
    },
    {
     "name": "stdout",
     "output_type": "stream",
     "text": [
      "####################################################################################################\n",
      "OOF prediction score :  0.6586977738136549\n",
      "Mean 5-cv results : 0.657218850925197 +- 0.004305168462051434\n",
      "####################################################################################################\n"
     ]
    },
    {
     "name": "stderr",
     "output_type": "stream",
     "text": [
      "[I 2025-01-17 21:32:38,302] Trial 48 finished with value: 0.6139108599659445 and parameters: {'max_bin': 98, 'learning_rate': 0.27675447395716923, 'max_depth': 26, 'gamma': 2.5824438829895833, 'min_child_weight': 2.384554587013989, 'subsample': 0.9960065150570954, 'colsample_bytree': 0.8985236187985739, 'colsample_bylevel': 0.8657503220575017, 'colsample_bynode': 0.9266801708633452, 'reg_alpha': 4.797548031523388e-05, 'reg_lambda': 3.3965913304169586e-06, 'max_cat_threshold': 1}. Best is trial 38 with value: 0.6677456992008325.\n"
     ]
    },
    {
     "name": "stdout",
     "output_type": "stream",
     "text": [
      "####################################################################################################\n",
      "OOF prediction score :  0.6139108599659445\n",
      "Mean 5-cv results : 0.6120289404025354 +- 0.006773192635711796\n",
      "####################################################################################################\n"
     ]
    },
    {
     "name": "stderr",
     "output_type": "stream",
     "text": [
      "[I 2025-01-17 21:32:43,012] Trial 49 finished with value: 0.6095309842055078 and parameters: {'max_bin': 89, 'learning_rate': 0.11816150224136009, 'max_depth': 9, 'gamma': 6.4087474480321465, 'min_child_weight': 0.3512693468524212, 'subsample': 0.8691334566647727, 'colsample_bytree': 0.9793576819812024, 'colsample_bylevel': 0.8947923280525745, 'colsample_bynode': 0.9335115477042054, 'reg_alpha': 1.6078261891576914e-05, 'reg_lambda': 2.2183145698932307e-05, 'max_cat_threshold': 1}. Best is trial 38 with value: 0.6677456992008325.\n"
     ]
    },
    {
     "name": "stdout",
     "output_type": "stream",
     "text": [
      "####################################################################################################\n",
      "OOF prediction score :  0.6095309842055078\n",
      "Mean 5-cv results : 0.6064763989526732 +- 0.007919583837865746\n",
      "####################################################################################################\n"
     ]
    },
    {
     "name": "stderr",
     "output_type": "stream",
     "text": [
      "[I 2025-01-17 21:32:48,397] Trial 50 finished with value: 0.665412334997261 and parameters: {'max_bin': 475, 'learning_rate': 0.1603077343912612, 'max_depth': 15, 'gamma': 2.1468335102212657, 'min_child_weight': 0.3860434745455005, 'subsample': 0.9580694267877075, 'colsample_bytree': 0.8510886917530398, 'colsample_bylevel': 0.8784905784205265, 'colsample_bynode': 0.9811622000784551, 'reg_alpha': 0.0008421996542505559, 'reg_lambda': 5.9552609627470536e-05, 'max_cat_threshold': 824}. Best is trial 38 with value: 0.6677456992008325.\n"
     ]
    },
    {
     "name": "stdout",
     "output_type": "stream",
     "text": [
      "####################################################################################################\n",
      "OOF prediction score :  0.665412334997261\n",
      "Mean 5-cv results : 0.6638516295635537 +- 0.002680913180201036\n",
      "####################################################################################################\n"
     ]
    },
    {
     "name": "stderr",
     "output_type": "stream",
     "text": [
      "[I 2025-01-17 21:32:53,976] Trial 51 finished with value: 0.6653207324482371 and parameters: {'max_bin': 400, 'learning_rate': 0.16343603212183744, 'max_depth': 15, 'gamma': 1.994202722333329, 'min_child_weight': 0.42302906317904165, 'subsample': 0.9568967107655333, 'colsample_bytree': 0.852247896143837, 'colsample_bylevel': 0.8774914903662058, 'colsample_bynode': 0.9818002590946958, 'reg_alpha': 0.0009758105725208473, 'reg_lambda': 4.1443782691587035e-05, 'max_cat_threshold': 782}. Best is trial 38 with value: 0.6677456992008325.\n"
     ]
    },
    {
     "name": "stdout",
     "output_type": "stream",
     "text": [
      "####################################################################################################\n",
      "OOF prediction score :  0.6653207324482371\n",
      "Mean 5-cv results : 0.6626631461612043 +- 0.0045430539562638554\n",
      "####################################################################################################\n"
     ]
    },
    {
     "name": "stderr",
     "output_type": "stream",
     "text": [
      "[I 2025-01-17 21:32:59,473] Trial 52 finished with value: 0.6635149141171826 and parameters: {'max_bin': 452, 'learning_rate': 0.16193963243110246, 'max_depth': 10, 'gamma': 2.3595366865214213, 'min_child_weight': 0.7813973765580745, 'subsample': 0.9520888197754221, 'colsample_bytree': 0.8458080073110316, 'colsample_bylevel': 0.8306004409813585, 'colsample_bynode': 0.9794792378985264, 'reg_alpha': 0.0013087492670141427, 'reg_lambda': 4.481020928483453e-05, 'max_cat_threshold': 989}. Best is trial 38 with value: 0.6677456992008325.\n"
     ]
    },
    {
     "name": "stdout",
     "output_type": "stream",
     "text": [
      "####################################################################################################\n",
      "OOF prediction score :  0.6635149141171826\n",
      "Mean 5-cv results : 0.6620854539261396 +- 0.0023221503328686465\n",
      "####################################################################################################\n"
     ]
    },
    {
     "name": "stderr",
     "output_type": "stream",
     "text": [
      "[I 2025-01-17 21:33:07,744] Trial 53 finished with value: 0.657037723219156 and parameters: {'max_bin': 401, 'learning_rate': 0.1555388650448481, 'max_depth': 15, 'gamma': 0.9455876060899001, 'min_child_weight': 0.36961675061452626, 'subsample': 0.9262783620665475, 'colsample_bytree': 0.8502543071935093, 'colsample_bylevel': 0.9171880579692087, 'colsample_bynode': 0.9808058227785555, 'reg_alpha': 0.0005289805728619423, 'reg_lambda': 7.13740477251771e-05, 'max_cat_threshold': 120}. Best is trial 38 with value: 0.6677456992008325.\n"
     ]
    },
    {
     "name": "stdout",
     "output_type": "stream",
     "text": [
      "####################################################################################################\n",
      "OOF prediction score :  0.657037723219156\n",
      "Mean 5-cv results : 0.6546215969617453 +- 0.006978722464825284\n",
      "####################################################################################################\n"
     ]
    },
    {
     "name": "stderr",
     "output_type": "stream",
     "text": [
      "[I 2025-01-17 21:33:13,270] Trial 54 finished with value: 0.664151391092409 and parameters: {'max_bin': 579, 'learning_rate': 0.16876419050412997, 'max_depth': 12, 'gamma': 2.2514606212546573, 'min_child_weight': 0.4756243937278134, 'subsample': 0.96411720985636, 'colsample_bytree': 0.8589186687995838, 'colsample_bylevel': 0.8041827132966808, 'colsample_bynode': 0.9989585404257594, 'reg_alpha': 0.000599622122099794, 'reg_lambda': 3.062975112773183e-05, 'max_cat_threshold': 16}. Best is trial 38 with value: 0.6677456992008325.\n"
     ]
    },
    {
     "name": "stdout",
     "output_type": "stream",
     "text": [
      "####################################################################################################\n",
      "OOF prediction score :  0.664151391092409\n",
      "Mean 5-cv results : 0.662215545435467 +- 0.0033939401383178695\n",
      "####################################################################################################\n"
     ]
    },
    {
     "name": "stderr",
     "output_type": "stream",
     "text": [
      "[I 2025-01-17 21:33:20,119] Trial 55 finished with value: 0.6689300212512784 and parameters: {'max_bin': 406, 'learning_rate': 0.13226673681812742, 'max_depth': 5, 'gamma': 0.4984773765902428, 'min_child_weight': 0.6568194636383852, 'subsample': 0.9211369331833984, 'colsample_bytree': 0.8634087646616674, 'colsample_bylevel': 0.8734280580655335, 'colsample_bynode': 0.9998856776887193, 'reg_alpha': 0.00014178067886214953, 'reg_lambda': 0.008658610312986257, 'max_cat_threshold': 82}. Best is trial 55 with value: 0.6689300212512784.\n"
     ]
    },
    {
     "name": "stdout",
     "output_type": "stream",
     "text": [
      "####################################################################################################\n",
      "OOF prediction score :  0.6689300212512784\n",
      "Mean 5-cv results : 0.6672246541898048 +- 0.0026251265855898537\n",
      "####################################################################################################\n"
     ]
    },
    {
     "name": "stderr",
     "output_type": "stream",
     "text": [
      "[I 2025-01-17 21:33:26,919] Trial 56 finished with value: 0.6706029959811153 and parameters: {'max_bin': 338, 'learning_rate': 0.13365757724383456, 'max_depth': 5, 'gamma': 0.48921158931926323, 'min_child_weight': 0.843638335132046, 'subsample': 0.9223191417830301, 'colsample_bytree': 0.8619993211910247, 'colsample_bylevel': 0.8969479978767723, 'colsample_bynode': 0.9621016444891128, 'reg_alpha': 0.00013292106904239377, 'reg_lambda': 0.5921416079179751, 'max_cat_threshold': 83}. Best is trial 56 with value: 0.6706029959811153.\n"
     ]
    },
    {
     "name": "stdout",
     "output_type": "stream",
     "text": [
      "####################################################################################################\n",
      "OOF prediction score :  0.6706029959811153\n",
      "Mean 5-cv results : 0.6678481225715286 +- 0.004484579663272105\n",
      "####################################################################################################\n"
     ]
    },
    {
     "name": "stderr",
     "output_type": "stream",
     "text": [
      "[I 2025-01-17 21:33:35,050] Trial 57 finished with value: 0.6705279130439499 and parameters: {'max_bin': 117, 'learning_rate': 0.13058763683708144, 'max_depth': 5, 'gamma': 0.5420386111855677, 'min_child_weight': 0.8635418735759955, 'subsample': 0.9222155850077945, 'colsample_bytree': 0.8639829488473322, 'colsample_bylevel': 0.8981125794506907, 'colsample_bynode': 0.9612214776486548, 'reg_alpha': 0.0001617720342821586, 'reg_lambda': 0.5969249738575941, 'max_cat_threshold': 70}. Best is trial 56 with value: 0.6706029959811153.\n"
     ]
    },
    {
     "name": "stdout",
     "output_type": "stream",
     "text": [
      "####################################################################################################\n",
      "OOF prediction score :  0.6705279130439499\n",
      "Mean 5-cv results : 0.6688029157586709 +- 0.0026283944353092626\n",
      "####################################################################################################\n"
     ]
    },
    {
     "name": "stderr",
     "output_type": "stream",
     "text": [
      "[I 2025-01-17 21:33:42,202] Trial 58 finished with value: 0.6694596503663888 and parameters: {'max_bin': 148, 'learning_rate': 0.1330574231570228, 'max_depth': 5, 'gamma': 0.0013189657901699903, 'min_child_weight': 0.5536539809875325, 'subsample': 0.920262105173594, 'colsample_bytree': 0.8608776695787365, 'colsample_bylevel': 0.8983653653155758, 'colsample_bynode': 0.9612397498161696, 'reg_alpha': 0.00017970132811903893, 'reg_lambda': 1.0259263507029057, 'max_cat_threshold': 71}. Best is trial 56 with value: 0.6706029959811153.\n"
     ]
    },
    {
     "name": "stdout",
     "output_type": "stream",
     "text": [
      "####################################################################################################\n",
      "OOF prediction score :  0.6694596503663888\n",
      "Mean 5-cv results : 0.6667850774536058 +- 0.004276249345206137\n",
      "####################################################################################################\n"
     ]
    },
    {
     "name": "stderr",
     "output_type": "stream",
     "text": [
      "[I 2025-01-17 21:33:48,916] Trial 59 finished with value: 0.6699960653404674 and parameters: {'max_bin': 118, 'learning_rate': 0.13147871716836323, 'max_depth': 5, 'gamma': 0.5303050725037529, 'min_child_weight': 0.6634960565577025, 'subsample': 0.9207986454415484, 'colsample_bytree': 0.8630858316087646, 'colsample_bylevel': 0.9017283888719143, 'colsample_bynode': 0.9505023827045722, 'reg_alpha': 0.00019399104813615052, 'reg_lambda': 0.6567673051945605, 'max_cat_threshold': 73}. Best is trial 56 with value: 0.6706029959811153.\n"
     ]
    },
    {
     "name": "stdout",
     "output_type": "stream",
     "text": [
      "####################################################################################################\n",
      "OOF prediction score :  0.6699960653404674\n",
      "Mean 5-cv results : 0.6677176882463135 +- 0.0036831060493405596\n",
      "####################################################################################################\n"
     ]
    },
    {
     "name": "stderr",
     "output_type": "stream",
     "text": [
      "[I 2025-01-17 21:33:56,361] Trial 60 finished with value: 0.6720737505616655 and parameters: {'max_bin': 121, 'learning_rate': 0.13274800730584266, 'max_depth': 5, 'gamma': 0.011119791031351165, 'min_child_weight': 0.9819579978377456, 'subsample': 0.9205574232057204, 'colsample_bytree': 0.8649579966171407, 'colsample_bylevel': 0.8975585686935206, 'colsample_bynode': 0.9475840235418233, 'reg_alpha': 0.00017788314638889928, 'reg_lambda': 0.47635490923185647, 'max_cat_threshold': 77}. Best is trial 60 with value: 0.6720737505616655.\n"
     ]
    },
    {
     "name": "stdout",
     "output_type": "stream",
     "text": [
      "####################################################################################################\n",
      "OOF prediction score :  0.6720737505616655\n",
      "Mean 5-cv results : 0.6697750125207941 +- 0.0036697395465360135\n",
      "####################################################################################################\n"
     ]
    },
    {
     "name": "stderr",
     "output_type": "stream",
     "text": [
      "[I 2025-01-17 21:34:03,314] Trial 61 finished with value: 0.6715877585619622 and parameters: {'max_bin': 127, 'learning_rate': 0.1313538841541502, 'max_depth': 5, 'gamma': 0.4500428010588235, 'min_child_weight': 0.97583234191921, 'subsample': 0.9208881924210208, 'colsample_bytree': 0.8787595281179258, 'colsample_bylevel': 0.8994598575797697, 'colsample_bynode': 0.9479702959042062, 'reg_alpha': 0.0001612511015522734, 'reg_lambda': 0.9579122426894263, 'max_cat_threshold': 79}. Best is trial 60 with value: 0.6720737505616655.\n"
     ]
    },
    {
     "name": "stdout",
     "output_type": "stream",
     "text": [
      "####################################################################################################\n",
      "OOF prediction score :  0.6715877585619622\n",
      "Mean 5-cv results : 0.669218944626494 +- 0.0013550681079427542\n",
      "####################################################################################################\n"
     ]
    },
    {
     "name": "stderr",
     "output_type": "stream",
     "text": [
      "[I 2025-01-17 21:34:11,539] Trial 62 finished with value: 0.6571437432134692 and parameters: {'max_bin': 120, 'learning_rate': 0.1317793569412261, 'max_depth': 9, 'gamma': 0.019469764479771445, 'min_child_weight': 0.9804163568723137, 'subsample': 0.9206603441178073, 'colsample_bytree': 0.8605959457365958, 'colsample_bylevel': 0.8971883306968798, 'colsample_bynode': 0.9467620665978671, 'reg_alpha': 0.00011535204896915195, 'reg_lambda': 0.3623880533130308, 'max_cat_threshold': 73}. Best is trial 60 with value: 0.6720737505616655.\n"
     ]
    },
    {
     "name": "stdout",
     "output_type": "stream",
     "text": [
      "####################################################################################################\n",
      "OOF prediction score :  0.6571437432134692\n",
      "Mean 5-cv results : 0.6546616086046275 +- 0.0038079053446754057\n",
      "####################################################################################################\n"
     ]
    },
    {
     "name": "stderr",
     "output_type": "stream",
     "text": [
      "[I 2025-01-17 21:34:19,077] Trial 63 finished with value: 0.6721310595054822 and parameters: {'max_bin': 150, 'learning_rate': 0.1325608061884236, 'max_depth': 4, 'gamma': 0.5161806911340969, 'min_child_weight': 0.621434646332744, 'subsample': 0.9015679664086792, 'colsample_bytree': 0.8774750372230502, 'colsample_bylevel': 0.8939425348870901, 'colsample_bynode': 0.9620979602847383, 'reg_alpha': 0.0002364524706084171, 'reg_lambda': 0.6959326807436637, 'max_cat_threshold': 91}. Best is trial 63 with value: 0.6721310595054822.\n"
     ]
    },
    {
     "name": "stdout",
     "output_type": "stream",
     "text": [
      "####################################################################################################\n",
      "OOF prediction score :  0.6721310595054822\n",
      "Mean 5-cv results : 0.670376859882081 +- 0.004592349047815196\n",
      "####################################################################################################\n"
     ]
    },
    {
     "name": "stderr",
     "output_type": "stream",
     "text": [
      "[I 2025-01-17 21:34:26,509] Trial 64 finished with value: 0.6711068645920627 and parameters: {'max_bin': 147, 'learning_rate': 0.13960414277831168, 'max_depth': 3, 'gamma': 0.5768939580777401, 'min_child_weight': 0.9868064398579794, 'subsample': 0.9368007756340346, 'colsample_bytree': 0.8817943021956647, 'colsample_bylevel': 0.901753566952334, 'colsample_bynode': 0.9616101695276875, 'reg_alpha': 0.0003005881692741701, 'reg_lambda': 0.7566049761044595, 'max_cat_threshold': 48}. Best is trial 63 with value: 0.6721310595054822.\n"
     ]
    },
    {
     "name": "stdout",
     "output_type": "stream",
     "text": [
      "####################################################################################################\n",
      "OOF prediction score :  0.6711068645920627\n",
      "Mean 5-cv results : 0.6689374997340443 +- 0.004285133349039789\n",
      "####################################################################################################\n"
     ]
    },
    {
     "name": "stderr",
     "output_type": "stream",
     "text": [
      "[I 2025-01-17 21:34:33,643] Trial 65 finished with value: 0.6706974514042718 and parameters: {'max_bin': 127, 'learning_rate': 0.1501923618769755, 'max_depth': 3, 'gamma': 0.5940143246356726, 'min_child_weight': 0.9880798914461626, 'subsample': 0.902703154669325, 'colsample_bytree': 0.8848325498062241, 'colsample_bylevel': 0.9038457804858988, 'colsample_bynode': 0.9481760988138834, 'reg_alpha': 0.00028468761963674675, 'reg_lambda': 0.44326452444990744, 'max_cat_threshold': 43}. Best is trial 63 with value: 0.6721310595054822.\n"
     ]
    },
    {
     "name": "stdout",
     "output_type": "stream",
     "text": [
      "####################################################################################################\n",
      "OOF prediction score :  0.6706974514042718\n",
      "Mean 5-cv results : 0.6690615533888591 +- 0.004085437095729148\n",
      "####################################################################################################\n"
     ]
    },
    {
     "name": "stderr",
     "output_type": "stream",
     "text": [
      "[I 2025-01-17 21:34:42,443] Trial 66 finished with value: 0.6704503628450733 and parameters: {'max_bin': 161, 'learning_rate': 0.15151570274690682, 'max_depth': 3, 'gamma': 0.6884070197202183, 'min_child_weight': 0.9736647832685753, 'subsample': 0.9031991758443829, 'colsample_bytree': 0.8865451820507961, 'colsample_bylevel': 0.8918425779099999, 'colsample_bynode': 0.9620803600936539, 'reg_alpha': 0.00030215442313649243, 'reg_lambda': 0.2281542833601147, 'max_cat_threshold': 45}. Best is trial 63 with value: 0.6721310595054822.\n"
     ]
    },
    {
     "name": "stdout",
     "output_type": "stream",
     "text": [
      "####################################################################################################\n",
      "OOF prediction score :  0.6704503628450733\n",
      "Mean 5-cv results : 0.6691299544767159 +- 0.004094399283566352\n",
      "####################################################################################################\n"
     ]
    },
    {
     "name": "stderr",
     "output_type": "stream",
     "text": [
      "[I 2025-01-17 21:34:48,818] Trial 67 finished with value: 0.6655000745189271 and parameters: {'max_bin': 109, 'learning_rate': 0.14019664544348728, 'max_depth': 8, 'gamma': 1.4619937744691056, 'min_child_weight': 1.7037414903591028, 'subsample': 0.8899411111447862, 'colsample_bytree': 0.8794279642124379, 'colsample_bylevel': 0.9083152672887667, 'colsample_bynode': 0.9462226047785205, 'reg_alpha': 9.609196314204391e-05, 'reg_lambda': 2.0686552539910705, 'max_cat_threshold': 106}. Best is trial 63 with value: 0.6721310595054822.\n"
     ]
    },
    {
     "name": "stdout",
     "output_type": "stream",
     "text": [
      "####################################################################################################\n",
      "OOF prediction score :  0.6655000745189271\n",
      "Mean 5-cv results : 0.6641743659654933 +- 0.0021302213252412843\n",
      "####################################################################################################\n"
     ]
    },
    {
     "name": "stderr",
     "output_type": "stream",
     "text": [
      "[I 2025-01-17 21:34:56,650] Trial 68 finished with value: 0.6703811729594271 and parameters: {'max_bin': 75, 'learning_rate': 0.14855727623251963, 'max_depth': 3, 'gamma': 0.7683806698845606, 'min_child_weight': 0.9641661634729232, 'subsample': 0.9366477440868819, 'colsample_bytree': 0.8915346515613269, 'colsample_bylevel': 0.9197399672600294, 'colsample_bynode': 0.9518318529198653, 'reg_alpha': 0.00029328380818662367, 'reg_lambda': 0.13006446722973214, 'max_cat_threshold': 40}. Best is trial 63 with value: 0.6721310595054822.\n"
     ]
    },
    {
     "name": "stdout",
     "output_type": "stream",
     "text": [
      "####################################################################################################\n",
      "OOF prediction score :  0.6703811729594271\n",
      "Mean 5-cv results : 0.6680344981308088 +- 0.0037711658001122975\n",
      "####################################################################################################\n"
     ]
    },
    {
     "name": "stderr",
     "output_type": "stream",
     "text": [
      "[I 2025-01-17 21:35:04,143] Trial 69 finished with value: 0.6531404371337819 and parameters: {'max_bin': 204, 'learning_rate': 0.13610117218291312, 'max_depth': 11, 'gamma': 0.32995646646826593, 'min_child_weight': 2.3688344405665283, 'subsample': 0.8988585096053043, 'colsample_bytree': 0.877418632602271, 'colsample_bylevel': 0.9052572497712366, 'colsample_bynode': 0.9660945815360303, 'reg_alpha': 1.638076649619212e-05, 'reg_lambda': 0.5077284588110743, 'max_cat_threshold': 55}. Best is trial 63 with value: 0.6721310595054822.\n"
     ]
    },
    {
     "name": "stdout",
     "output_type": "stream",
     "text": [
      "####################################################################################################\n",
      "OOF prediction score :  0.6531404371337819\n",
      "Mean 5-cv results : 0.6497620814698448 +- 0.003162924479828909\n",
      "####################################################################################################\n"
     ]
    },
    {
     "name": "stderr",
     "output_type": "stream",
     "text": [
      "[I 2025-01-17 21:35:11,449] Trial 70 finished with value: 0.6669576569948749 and parameters: {'max_bin': 129, 'learning_rate': 0.1271775854792376, 'max_depth': 8, 'gamma': 1.291118925810895, 'min_child_weight': 1.33476062265569, 'subsample': 0.9054277042610794, 'colsample_bytree': 0.86929493750951, 'colsample_bylevel': 0.912219631060802, 'colsample_bynode': 0.9183738191517921, 'reg_alpha': 0.002911366281132615, 'reg_lambda': 2.269719124784621, 'max_cat_threshold': 101}. Best is trial 63 with value: 0.6721310595054822.\n"
     ]
    },
    {
     "name": "stdout",
     "output_type": "stream",
     "text": [
      "####################################################################################################\n",
      "OOF prediction score :  0.6669576569948749\n",
      "Mean 5-cv results : 0.6650990825302342 +- 0.002577979356343848\n",
      "####################################################################################################\n"
     ]
    },
    {
     "name": "stderr",
     "output_type": "stream",
     "text": [
      "[I 2025-01-17 21:35:18,221] Trial 71 finished with value: 0.6702357865982586 and parameters: {'max_bin': 159, 'learning_rate': 0.14856819202801191, 'max_depth': 3, 'gamma': 0.7314734546013771, 'min_child_weight': 1.1370067014143157, 'subsample': 0.9029376049491021, 'colsample_bytree': 0.8941329101926809, 'colsample_bylevel': 0.8929141516941459, 'colsample_bynode': 0.957702500681819, 'reg_alpha': 0.00031377792169198733, 'reg_lambda': 0.18454953992926895, 'max_cat_threshold': 46}. Best is trial 63 with value: 0.6721310595054822.\n"
     ]
    },
    {
     "name": "stdout",
     "output_type": "stream",
     "text": [
      "####################################################################################################\n",
      "OOF prediction score :  0.6702357865982586\n",
      "Mean 5-cv results : 0.6688661858158488 +- 0.003678495796580685\n",
      "####################################################################################################\n"
     ]
    },
    {
     "name": "stderr",
     "output_type": "stream",
     "text": [
      "[I 2025-01-17 21:35:24,583] Trial 72 finished with value: 0.6674625439449007 and parameters: {'max_bin': 166, 'learning_rate': 0.12626300365493628, 'max_depth': 6, 'gamma': 0.7291693033407897, 'min_child_weight': 0.8910173582938542, 'subsample': 0.8841066112025336, 'colsample_bytree': 0.885755962988359, 'colsample_bylevel': 0.8881976229253928, 'colsample_bynode': 0.9738928358934924, 'reg_alpha': 0.0003255346262543287, 'reg_lambda': 0.2955026176697906, 'max_cat_threshold': 36}. Best is trial 63 with value: 0.6721310595054822.\n"
     ]
    },
    {
     "name": "stdout",
     "output_type": "stream",
     "text": [
      "####################################################################################################\n",
      "OOF prediction score :  0.6674625439449007\n",
      "Mean 5-cv results : 0.6659949824796361 +- 0.0039693092443909336\n",
      "####################################################################################################\n"
     ]
    },
    {
     "name": "stderr",
     "output_type": "stream",
     "text": [
      "[I 2025-01-17 21:35:32,839] Trial 73 finished with value: 0.6723485576039134 and parameters: {'max_bin': 104, 'learning_rate': 0.1387426243558467, 'max_depth': 3, 'gamma': 0.3375653427212316, 'min_child_weight': 2.085117244096573, 'subsample': 0.933893295260176, 'colsample_bytree': 0.8806602444584344, 'colsample_bylevel': 0.8930642589991618, 'colsample_bynode': 0.9628944007671678, 'reg_alpha': 7.85900171582658e-05, 'reg_lambda': 0.08016624054435965, 'max_cat_threshold': 14}. Best is trial 73 with value: 0.6723485576039134.\n"
     ]
    },
    {
     "name": "stdout",
     "output_type": "stream",
     "text": [
      "####################################################################################################\n",
      "OOF prediction score :  0.6723485576039134\n",
      "Mean 5-cv results : 0.6703961755719183 +- 0.0031050259392078295\n",
      "####################################################################################################\n"
     ]
    },
    {
     "name": "stderr",
     "output_type": "stream",
     "text": [
      "[I 2025-01-17 21:35:39,033] Trial 74 finished with value: 0.667128840936882 and parameters: {'max_bin': 100, 'learning_rate': 0.1434310300552456, 'max_depth': 6, 'gamma': 0.4053080093539023, 'min_child_weight': 2.0539382656912424, 'subsample': 0.9347805209545148, 'colsample_bytree': 0.8823626361088674, 'colsample_bylevel': 0.9004380670625002, 'colsample_bynode': 0.9358187810341986, 'reg_alpha': 0.00013163412083466044, 'reg_lambda': 0.08233783497900637, 'max_cat_threshold': 14}. Best is trial 73 with value: 0.6723485576039134.\n"
     ]
    },
    {
     "name": "stdout",
     "output_type": "stream",
     "text": [
      "####################################################################################################\n",
      "OOF prediction score :  0.667128840936882\n",
      "Mean 5-cv results : 0.6651436558373638 +- 0.005551113130865175\n",
      "####################################################################################################\n"
     ]
    },
    {
     "name": "stderr",
     "output_type": "stream",
     "text": [
      "[I 2025-01-17 21:35:46,782] Trial 75 finished with value: 0.6726011687630755 and parameters: {'max_bin': 339, 'learning_rate': 0.1270173883194312, 'max_depth': 4, 'gamma': 0.1786810701011103, 'min_child_weight': 0.7754092691090411, 'subsample': 0.9415141473328993, 'colsample_bytree': 0.8686904223116871, 'colsample_bylevel': 0.8692180570708453, 'colsample_bynode': 0.9450131994947653, 'reg_alpha': 8.042688281124746e-05, 'reg_lambda': 0.9431306475042283, 'max_cat_threshold': 191}. Best is trial 75 with value: 0.6726011687630755.\n"
     ]
    },
    {
     "name": "stdout",
     "output_type": "stream",
     "text": [
      "####################################################################################################\n",
      "OOF prediction score :  0.6726011687630755\n",
      "Mean 5-cv results : 0.6703824181502792 +- 0.004024553810262824\n",
      "####################################################################################################\n"
     ]
    },
    {
     "name": "stderr",
     "output_type": "stream",
     "text": [
      "[I 2025-01-17 21:35:54,247] Trial 76 finished with value: 0.6713454964855572 and parameters: {'max_bin': 327, 'learning_rate': 0.13567980036320587, 'max_depth': 4, 'gamma': 0.20420041477712053, 'min_child_weight': 4.108610836804462, 'subsample': 0.9440357850301931, 'colsample_bytree': 0.8720119704824058, 'colsample_bylevel': 0.9277721331191229, 'colsample_bynode': 0.9444166703567994, 'reg_alpha': 7.095324153373223e-05, 'reg_lambda': 1.114461457583243, 'max_cat_threshold': 194}. Best is trial 75 with value: 0.6726011687630755.\n"
     ]
    },
    {
     "name": "stdout",
     "output_type": "stream",
     "text": [
      "####################################################################################################\n",
      "OOF prediction score :  0.6713454964855572\n",
      "Mean 5-cv results : 0.6691867574065081 +- 0.003516020605189078\n",
      "####################################################################################################\n"
     ]
    },
    {
     "name": "stderr",
     "output_type": "stream",
     "text": [
      "[I 2025-01-17 21:35:59,593] Trial 77 finished with value: 0.666112790607604 and parameters: {'max_bin': 76, 'learning_rate': 0.13822019101648345, 'max_depth': 8, 'gamma': 1.0556530022503259, 'min_child_weight': 3.8949555770308075, 'subsample': 0.941583782600304, 'colsample_bytree': 0.869730804930477, 'colsample_bylevel': 0.9238172773021215, 'colsample_bynode': 0.9455139693324689, 'reg_alpha': 7.58658401878103e-05, 'reg_lambda': 1.0826305401419294, 'max_cat_threshold': 204}. Best is trial 75 with value: 0.6726011687630755.\n"
     ]
    },
    {
     "name": "stdout",
     "output_type": "stream",
     "text": [
      "####################################################################################################\n",
      "OOF prediction score :  0.666112790607604\n",
      "Mean 5-cv results : 0.6640383523762448 +- 0.002886321832166732\n",
      "####################################################################################################\n"
     ]
    },
    {
     "name": "stderr",
     "output_type": "stream",
     "text": [
      "[I 2025-01-17 21:36:08,399] Trial 78 finished with value: 0.6730280878458468 and parameters: {'max_bin': 238, 'learning_rate': 0.11638620701663412, 'max_depth': 4, 'gamma': 0.0457604332867564, 'min_child_weight': 1.561637748364371, 'subsample': 0.9477281060673922, 'colsample_bytree': 0.8962987857554373, 'colsample_bylevel': 0.8646242215409395, 'colsample_bynode': 0.9555932164709926, 'reg_alpha': 2.287476016314416e-05, 'reg_lambda': 3.8950377652087838, 'max_cat_threshold': 128}. Best is trial 78 with value: 0.6730280878458468.\n"
     ]
    },
    {
     "name": "stdout",
     "output_type": "stream",
     "text": [
      "####################################################################################################\n",
      "OOF prediction score :  0.6730280878458468\n",
      "Mean 5-cv results : 0.6707127145037252 +- 0.003904463231471469\n",
      "####################################################################################################\n"
     ]
    },
    {
     "name": "stderr",
     "output_type": "stream",
     "text": [
      "[I 2025-01-17 21:36:17,303] Trial 79 finished with value: 0.6688010798058807 and parameters: {'max_bin': 250, 'learning_rate': 0.11542013179840716, 'max_depth': 7, 'gamma': 0.13439999278995748, 'min_child_weight': 1.5063377373446203, 'subsample': 0.9718363380845194, 'colsample_bytree': 0.9123802795992362, 'colsample_bylevel': 0.8734872532996071, 'colsample_bynode': 0.955188657982641, 'reg_alpha': 2.691881578750552e-05, 'reg_lambda': 3.9645172764125505, 'max_cat_threshold': 135}. Best is trial 78 with value: 0.6730280878458468.\n"
     ]
    },
    {
     "name": "stdout",
     "output_type": "stream",
     "text": [
      "####################################################################################################\n",
      "OOF prediction score :  0.6688010798058807\n",
      "Mean 5-cv results : 0.666063939805954 +- 0.0039435856564962795\n",
      "####################################################################################################\n"
     ]
    },
    {
     "name": "stderr",
     "output_type": "stream",
     "text": [
      "[I 2025-01-17 21:36:25,844] Trial 80 finished with value: 0.6732792844233294 and parameters: {'max_bin': 349, 'learning_rate': 0.12360546133068447, 'max_depth': 4, 'gamma': 0.19924630360873416, 'min_child_weight': 4.268040284829088, 'subsample': 0.9473213506806017, 'colsample_bytree': 0.8956953717950616, 'colsample_bylevel': 0.8701266473641458, 'colsample_bynode': 0.9757181622416371, 'reg_alpha': 1.1565065833478816e-05, 'reg_lambda': 9.07655806501518, 'max_cat_threshold': 181}. Best is trial 80 with value: 0.6732792844233294.\n"
     ]
    },
    {
     "name": "stdout",
     "output_type": "stream",
     "text": [
      "####################################################################################################\n",
      "OOF prediction score :  0.6732792844233294\n",
      "Mean 5-cv results : 0.6708991381498806 +- 0.004425932254736219\n",
      "####################################################################################################\n"
     ]
    },
    {
     "name": "stderr",
     "output_type": "stream",
     "text": [
      "[I 2025-01-17 21:36:34,035] Trial 81 finished with value: 0.6725509185325635 and parameters: {'max_bin': 340, 'learning_rate': 0.12400068343263511, 'max_depth': 4, 'gamma': 0.07034084317226137, 'min_child_weight': 3.9479220091816676, 'subsample': 0.944455841013678, 'colsample_bytree': 0.8745917022188623, 'colsample_bylevel': 0.8644100539208632, 'colsample_bynode': 0.97529355604732, 'reg_alpha': 1.1281722318120815e-05, 'reg_lambda': 9.789965746370122, 'max_cat_threshold': 213}. Best is trial 80 with value: 0.6732792844233294.\n"
     ]
    },
    {
     "name": "stdout",
     "output_type": "stream",
     "text": [
      "####################################################################################################\n",
      "OOF prediction score :  0.6725509185325635\n",
      "Mean 5-cv results : 0.6706194934844719 +- 0.0035778994328375686\n",
      "####################################################################################################\n"
     ]
    },
    {
     "name": "stderr",
     "output_type": "stream",
     "text": [
      "[I 2025-01-17 21:36:44,106] Trial 82 finished with value: 0.6747498865642625 and parameters: {'max_bin': 338, 'learning_rate': 0.12434452700922877, 'max_depth': 4, 'gamma': 0.2478562117078144, 'min_child_weight': 4.205652169294751, 'subsample': 0.9492986491394714, 'colsample_bytree': 0.8008531297193673, 'colsample_bylevel': 0.8425326199657752, 'colsample_bynode': 0.9430103405810025, 'reg_alpha': 1.1097329196457951e-05, 'reg_lambda': 9.451369158784042, 'max_cat_threshold': 199}. Best is trial 82 with value: 0.6747498865642625.\n"
     ]
    },
    {
     "name": "stdout",
     "output_type": "stream",
     "text": [
      "####################################################################################################\n",
      "OOF prediction score :  0.6747498865642625\n",
      "Mean 5-cv results : 0.672237659905071 +- 0.004271271985225201\n",
      "####################################################################################################\n"
     ]
    },
    {
     "name": "stderr",
     "output_type": "stream",
     "text": [
      "[I 2025-01-17 21:36:50,909] Trial 83 finished with value: 0.665843826642961 and parameters: {'max_bin': 331, 'learning_rate': 0.12406282174082782, 'max_depth': 10, 'gamma': 0.9326086297586661, 'min_child_weight': 3.088426948816557, 'subsample': 0.9517242509390925, 'colsample_bytree': 0.8021311316821532, 'colsample_bylevel': 0.8674277955248388, 'colsample_bynode': 0.9749177066516024, 'reg_alpha': 1.0333217542236032e-05, 'reg_lambda': 9.97661839854783, 'max_cat_threshold': 268}. Best is trial 82 with value: 0.6747498865642625.\n"
     ]
    },
    {
     "name": "stdout",
     "output_type": "stream",
     "text": [
      "####################################################################################################\n",
      "OOF prediction score :  0.665843826642961\n",
      "Mean 5-cv results : 0.6640783570603991 +- 0.0034533267546988907\n",
      "####################################################################################################\n"
     ]
    },
    {
     "name": "stderr",
     "output_type": "stream",
     "text": [
      "[I 2025-01-17 21:36:58,299] Trial 84 finished with value: 0.669433355176817 and parameters: {'max_bin': 348, 'learning_rate': 0.11668175298330632, 'max_depth': 6, 'gamma': 0.26400864261674517, 'min_child_weight': 2.4847079791472475, 'subsample': 0.9486380702820654, 'colsample_bytree': 0.8981156674191995, 'colsample_bylevel': 0.8430478658031929, 'colsample_bynode': 0.9709084952054516, 'reg_alpha': 3.989943036137864e-06, 'reg_lambda': 3.2167440354511747, 'max_cat_threshold': 178}. Best is trial 82 with value: 0.6747498865642625.\n"
     ]
    },
    {
     "name": "stdout",
     "output_type": "stream",
     "text": [
      "####################################################################################################\n",
      "OOF prediction score :  0.669433355176817\n",
      "Mean 5-cv results : 0.6675999141499598 +- 0.0048987328310788475\n",
      "####################################################################################################\n"
     ]
    },
    {
     "name": "stderr",
     "output_type": "stream",
     "text": [
      "[I 2025-01-17 21:37:05,449] Trial 85 finished with value: 0.6682810522917533 and parameters: {'max_bin': 243, 'learning_rate': 0.1073022281787342, 'max_depth': 4, 'gamma': 1.3698005630541013, 'min_child_weight': 8.324587071081385, 'subsample': 0.9296480857109818, 'colsample_bytree': 0.8914058209451597, 'colsample_bylevel': 0.8602990695258508, 'colsample_bynode': 0.9296014833400751, 'reg_alpha': 8.258305893157568e-06, 'reg_lambda': 5.162041827769161, 'max_cat_threshold': 302}. Best is trial 82 with value: 0.6747498865642625.\n"
     ]
    },
    {
     "name": "stdout",
     "output_type": "stream",
     "text": [
      "####################################################################################################\n",
      "OOF prediction score :  0.6682810522917533\n",
      "Mean 5-cv results : 0.6668099891446786 +- 0.0037078528380086444\n",
      "####################################################################################################\n"
     ]
    },
    {
     "name": "stderr",
     "output_type": "stream",
     "text": [
      "[I 2025-01-17 21:37:11,536] Trial 86 finished with value: 0.6674466600102644 and parameters: {'max_bin': 226, 'learning_rate': 0.12074012315793639, 'max_depth': 7, 'gamma': 1.7422053686694345, 'min_child_weight': 4.405036401484718, 'subsample': 0.9149344403128653, 'colsample_bytree': 0.8761256373300809, 'colsample_bylevel': 0.8404279584131581, 'colsample_bynode': 0.9411875683665926, 'reg_alpha': 1.3247605555722293e-05, 'reg_lambda': 2.589136416662438, 'max_cat_threshold': 133}. Best is trial 82 with value: 0.6747498865642625.\n"
     ]
    },
    {
     "name": "stdout",
     "output_type": "stream",
     "text": [
      "####################################################################################################\n",
      "OOF prediction score :  0.6674466600102644\n",
      "Mean 5-cv results : 0.6655652821826639 +- 0.0029914133038637736\n",
      "####################################################################################################\n"
     ]
    },
    {
     "name": "stderr",
     "output_type": "stream",
     "text": [
      "[I 2025-01-17 21:37:21,234] Trial 87 finished with value: 0.6634887873353269 and parameters: {'max_bin': 528, 'learning_rate': 0.12778880975992468, 'max_depth': 9, 'gamma': 0.014921855094432113, 'min_child_weight': 4.696944449858303, 'subsample': 0.9477224847685024, 'colsample_bytree': 0.917736863657404, 'colsample_bylevel': 0.853882391521834, 'colsample_bynode': 0.96618170083144, 'reg_alpha': 2.7027125607294222e-06, 'reg_lambda': 1.5314954795794355, 'max_cat_threshold': 224}. Best is trial 82 with value: 0.6747498865642625.\n"
     ]
    },
    {
     "name": "stdout",
     "output_type": "stream",
     "text": [
      "####################################################################################################\n",
      "OOF prediction score :  0.6634887873353269\n",
      "Mean 5-cv results : 0.6619175495748113 +- 0.004971096401935778\n",
      "####################################################################################################\n"
     ]
    },
    {
     "name": "stderr",
     "output_type": "stream",
     "text": [
      "[I 2025-01-17 21:37:28,538] Trial 88 finished with value: 0.6683418991747564 and parameters: {'max_bin': 274, 'learning_rate': 0.11419324122307385, 'max_depth': 4, 'gamma': 1.1757549849777826, 'min_child_weight': 2.7253631358423682, 'subsample': 0.9325227257128846, 'colsample_bytree': 0.9076797113162952, 'colsample_bylevel': 0.8608376256768906, 'colsample_bynode': 0.8906584010711229, 'reg_alpha': 2.6153848024990218e-05, 'reg_lambda': 9.560625054873565, 'max_cat_threshold': 95}. Best is trial 82 with value: 0.6747498865642625.\n"
     ]
    },
    {
     "name": "stdout",
     "output_type": "stream",
     "text": [
      "####################################################################################################\n",
      "OOF prediction score :  0.6683418991747564\n",
      "Mean 5-cv results : 0.6667389679853972 +- 0.00445704592058664\n",
      "####################################################################################################\n"
     ]
    },
    {
     "name": "stderr",
     "output_type": "stream",
     "text": [
      "[I 2025-01-17 21:37:36,875] Trial 89 finished with value: 0.6710482421721002 and parameters: {'max_bin': 681, 'learning_rate': 0.10246351808249002, 'max_depth': 6, 'gamma': 0.25795829452168273, 'min_child_weight': 1.9525019458083852, 'subsample': 0.9695788286764517, 'colsample_bytree': 0.935848271391029, 'colsample_bylevel': 0.8702280165515613, 'colsample_bynode': 0.9545970323338164, 'reg_alpha': 3.768896782257669e-05, 'reg_lambda': 5.235327320006256, 'max_cat_threshold': 158}. Best is trial 82 with value: 0.6747498865642625.\n"
     ]
    },
    {
     "name": "stdout",
     "output_type": "stream",
     "text": [
      "####################################################################################################\n",
      "OOF prediction score :  0.6710482421721002\n",
      "Mean 5-cv results : 0.6687582450768392 +- 0.002570439763514456\n",
      "####################################################################################################\n"
     ]
    },
    {
     "name": "stderr",
     "output_type": "stream",
     "text": [
      "[I 2025-01-17 21:37:43,132] Trial 90 finished with value: 0.6679736514197467 and parameters: {'max_bin': 198, 'learning_rate': 0.10946453995632204, 'max_depth': 8, 'gamma': 1.002665899999024, 'min_child_weight': 3.517690743500472, 'subsample': 0.9545260054336125, 'colsample_bytree': 0.8428835449169948, 'colsample_bylevel': 0.8807391289715322, 'colsample_bynode': 0.9852974578097445, 'reg_alpha': 4.281393376170121e-06, 'reg_lambda': 6.262820393445634, 'max_cat_threshold': 456}. Best is trial 82 with value: 0.6747498865642625.\n"
     ]
    },
    {
     "name": "stdout",
     "output_type": "stream",
     "text": [
      "####################################################################################################\n",
      "OOF prediction score :  0.6679736514197467\n",
      "Mean 5-cv results : 0.665647714714657 +- 0.002912972817956052\n",
      "####################################################################################################\n"
     ]
    },
    {
     "name": "stderr",
     "output_type": "stream",
     "text": [
      "[I 2025-01-17 21:37:52,872] Trial 91 finished with value: 0.6727359217319171 and parameters: {'max_bin': 364, 'learning_rate': 0.1227382998993533, 'max_depth': 4, 'gamma': 0.2159416777263606, 'min_child_weight': 4.362294618973564, 'subsample': 0.9422078169501514, 'colsample_bytree': 0.8681602638393741, 'colsample_bylevel': 0.8502540344936801, 'colsample_bynode': 0.9238746653812916, 'reg_alpha': 7.461403742009555e-05, 'reg_lambda': 1.282471450329149, 'max_cat_threshold': 187}. Best is trial 82 with value: 0.6747498865642625.\n"
     ]
    },
    {
     "name": "stdout",
     "output_type": "stream",
     "text": [
      "####################################################################################################\n",
      "OOF prediction score :  0.6727359217319171\n",
      "Mean 5-cv results : 0.6707944020792924 +- 0.00403556335227987\n",
      "####################################################################################################\n"
     ]
    },
    {
     "name": "stderr",
     "output_type": "stream",
     "text": [
      "[I 2025-01-17 21:38:00,572] Trial 92 finished with value: 0.6728414480796463 and parameters: {'max_bin': 376, 'learning_rate': 0.1222130097803129, 'max_depth': 4, 'gamma': 0.25920959745822847, 'min_child_weight': 6.896316274103082, 'subsample': 0.9401243684613274, 'colsample_bytree': 0.8557877605646875, 'colsample_bylevel': 0.8501448283965152, 'colsample_bynode': 0.9233828363392683, 'reg_alpha': 1.93609846905404e-05, 'reg_lambda': 1.4467734568940465, 'max_cat_threshold': 269}. Best is trial 82 with value: 0.6747498865642625.\n"
     ]
    },
    {
     "name": "stdout",
     "output_type": "stream",
     "text": [
      "####################################################################################################\n",
      "OOF prediction score :  0.6728414480796463\n",
      "Mean 5-cv results : 0.6705505010804241 +- 0.003296269092484092\n",
      "####################################################################################################\n"
     ]
    },
    {
     "name": "stderr",
     "output_type": "stream",
     "text": [
      "[I 2025-01-17 21:38:08,066] Trial 93 finished with value: 0.6705342412579776 and parameters: {'max_bin': 367, 'learning_rate': 0.12346386565224303, 'max_depth': 4, 'gamma': 0.8770514112758665, 'min_child_weight': 12.214230478797754, 'subsample': 0.9412462247997088, 'colsample_bytree': 0.8676189056604621, 'colsample_bylevel': 0.8468050825431223, 'colsample_bynode': 0.9146873498673365, 'reg_alpha': 2.214469250406568e-05, 'reg_lambda': 1.803467999786288, 'max_cat_threshold': 259}. Best is trial 82 with value: 0.6747498865642625.\n"
     ]
    },
    {
     "name": "stdout",
     "output_type": "stream",
     "text": [
      "####################################################################################################\n",
      "OOF prediction score :  0.6705342412579776\n",
      "Mean 5-cv results : 0.668803227423747 +- 0.003142261179382009\n",
      "####################################################################################################\n"
     ]
    },
    {
     "name": "stderr",
     "output_type": "stream",
     "text": [
      "[I 2025-01-17 21:38:15,795] Trial 94 finished with value: 0.6704126542427641 and parameters: {'max_bin': 444, 'learning_rate': 0.1201694016268209, 'max_depth': 7, 'gamma': 0.22064101666424274, 'min_child_weight': 6.56004871290054, 'subsample': 0.9448773242111699, 'colsample_bytree': 0.8577131291625398, 'colsample_bylevel': 0.8519098377378587, 'colsample_bynode': 0.9251926834724119, 'reg_alpha': 1.1348107604176854e-05, 'reg_lambda': 3.46254965559368, 'max_cat_threshold': 354}. Best is trial 82 with value: 0.6747498865642625.\n"
     ]
    },
    {
     "name": "stdout",
     "output_type": "stream",
     "text": [
      "####################################################################################################\n",
      "OOF prediction score :  0.6704126542427641\n",
      "Mean 5-cv results : 0.6681678022001425 +- 0.0031305860954669485\n",
      "####################################################################################################\n"
     ]
    },
    {
     "name": "stderr",
     "output_type": "stream",
     "text": [
      "[I 2025-01-17 21:38:26,480] Trial 95 finished with value: 0.6739905593878711 and parameters: {'max_bin': 318, 'learning_rate': 0.10520236436218978, 'max_depth': 4, 'gamma': 0.0056572936531862125, 'min_child_weight': 5.044616600881957, 'subsample': 0.9501467258418762, 'colsample_bytree': 0.8555360433449677, 'colsample_bylevel': 0.8400783496644351, 'colsample_bynode': 0.9329895473636517, 'reg_alpha': 5.830839461188473e-06, 'reg_lambda': 1.5813613562373758, 'max_cat_threshold': 520}. Best is trial 82 with value: 0.6747498865642625.\n"
     ]
    },
    {
     "name": "stdout",
     "output_type": "stream",
     "text": [
      "####################################################################################################\n",
      "OOF prediction score :  0.6739905593878711\n",
      "Mean 5-cv results : 0.6714136363899745 +- 0.004564813917659777\n",
      "####################################################################################################\n"
     ]
    },
    {
     "name": "stderr",
     "output_type": "stream",
     "text": [
      "[I 2025-01-17 21:38:36,179] Trial 96 finished with value: 0.6731629376631835 and parameters: {'max_bin': 314, 'learning_rate': 0.11190026188433846, 'max_depth': 3, 'gamma': 0.3001678352176162, 'min_child_weight': 4.959156855332232, 'subsample': 0.9603271259821594, 'colsample_bytree': 0.8543783976652575, 'colsample_bylevel': 0.8356228539388226, 'colsample_bynode': 0.9360327779500528, 'reg_alpha': 5.134815900639059e-06, 'reg_lambda': 7.455654513865285, 'max_cat_threshold': 464}. Best is trial 82 with value: 0.6747498865642625.\n"
     ]
    },
    {
     "name": "stdout",
     "output_type": "stream",
     "text": [
      "####################################################################################################\n",
      "OOF prediction score :  0.6731629376631835\n",
      "Mean 5-cv results : 0.6714790960012997 +- 0.003660143408134919\n",
      "####################################################################################################\n"
     ]
    },
    {
     "name": "stderr",
     "output_type": "stream",
     "text": [
      "[I 2025-01-17 21:38:43,937] Trial 97 finished with value: 0.6702645877817272 and parameters: {'max_bin': 311, 'learning_rate': 0.10693574952966826, 'max_depth': 3, 'gamma': 0.8263990440850542, 'min_child_weight': 4.8573093930566555, 'subsample': 0.9605165172991201, 'colsample_bytree': 0.834017160720816, 'colsample_bylevel': 0.8297633353935853, 'colsample_bynode': 0.9226681389650814, 'reg_alpha': 1.4692030680613779e-06, 'reg_lambda': 7.449081698022526, 'max_cat_threshold': 532}. Best is trial 82 with value: 0.6747498865642625.\n"
     ]
    },
    {
     "name": "stdout",
     "output_type": "stream",
     "text": [
      "####################################################################################################\n",
      "OOF prediction score :  0.6702645877817272\n",
      "Mean 5-cv results : 0.6687831469834306 +- 0.003221733574542653\n",
      "####################################################################################################\n"
     ]
    },
    {
     "name": "stderr",
     "output_type": "stream",
     "text": [
      "[I 2025-01-17 21:38:53,049] Trial 98 finished with value: 0.6650618470330877 and parameters: {'max_bin': 367, 'learning_rate': 0.11703054506097842, 'max_depth': 10, 'gamma': 0.2991672983764514, 'min_child_weight': 8.428912564843573, 'subsample': 0.970015090652527, 'colsample_bytree': 0.8531090431833419, 'colsample_bylevel': 0.8379392456878227, 'colsample_bynode': 0.9329488071197954, 'reg_alpha': 5.767571525396334e-06, 'reg_lambda': 4.264311285301649, 'max_cat_threshold': 294}. Best is trial 82 with value: 0.6747498865642625.\n"
     ]
    },
    {
     "name": "stdout",
     "output_type": "stream",
     "text": [
      "####################################################################################################\n",
      "OOF prediction score :  0.6650618470330877\n",
      "Mean 5-cv results : 0.6630517809193954 +- 0.0032209578667514744\n",
      "####################################################################################################\n"
     ]
    },
    {
     "name": "stderr",
     "output_type": "stream",
     "text": [
      "[I 2025-01-17 21:38:59,001] Trial 99 finished with value: 0.6627385637396095 and parameters: {'max_bin': 509, 'learning_rate': 0.11257986699041732, 'max_depth': 6, 'gamma': 2.831012294323708, 'min_child_weight': 7.167263637435785, 'subsample': 0.950244074774973, 'colsample_bytree': 0.8394773909470906, 'colsample_bylevel': 0.824905812440147, 'colsample_bynode': 0.939444722907477, 'reg_alpha': 2.2586515900285895e-06, 'reg_lambda': 1.4857983299203912, 'max_cat_threshold': 405}. Best is trial 82 with value: 0.6747498865642625.\n"
     ]
    },
    {
     "name": "stdout",
     "output_type": "stream",
     "text": [
      "####################################################################################################\n",
      "OOF prediction score :  0.6627385637396095\n",
      "Mean 5-cv results : 0.6615352772654453 +- 0.0028931992316215856\n",
      "####################################################################################################\n"
     ]
    },
    {
     "name": "stderr",
     "output_type": "stream",
     "text": [
      "[I 2025-01-17 21:39:05,946] Trial 100 finished with value: 0.6674824768824338 and parameters: {'max_bin': 276, 'learning_rate': 0.10350978140220461, 'max_depth': 7, 'gamma': 1.1635668138236093, 'min_child_weight': 3.3468628678535786, 'subsample': 0.95462982570402, 'colsample_bytree': 0.8551822869542417, 'colsample_bylevel': 0.8456471046167027, 'colsample_bynode': 0.909568987165609, 'reg_alpha': 5.774795763032013e-06, 'reg_lambda': 2.9630839513005487, 'max_cat_threshold': 221}. Best is trial 82 with value: 0.6747498865642625.\n"
     ]
    },
    {
     "name": "stdout",
     "output_type": "stream",
     "text": [
      "####################################################################################################\n",
      "OOF prediction score :  0.6674824768824338\n",
      "Mean 5-cv results : 0.6649848618834311 +- 0.003286881771941218\n",
      "####################################################################################################\n"
     ]
    },
    {
     "name": "stderr",
     "output_type": "stream",
     "text": [
      "[I 2025-01-17 21:39:14,116] Trial 101 finished with value: 0.6737267066692962 and parameters: {'max_bin': 437, 'learning_rate': 0.1255372620529792, 'max_depth': 4, 'gamma': 0.35163497217861667, 'min_child_weight': 5.100436849441296, 'subsample': 0.9392888819068443, 'colsample_bytree': 0.8473028544219681, 'colsample_bylevel': 0.8355738577636768, 'colsample_bynode': 0.9351811715090647, 'reg_alpha': 1.653932499509286e-05, 'reg_lambda': 6.8997717435390316, 'max_cat_threshold': 569}. Best is trial 82 with value: 0.6747498865642625.\n"
     ]
    },
    {
     "name": "stdout",
     "output_type": "stream",
     "text": [
      "####################################################################################################\n",
      "OOF prediction score :  0.6737267066692962\n",
      "Mean 5-cv results : 0.6710751526791076 +- 0.004700190215113901\n",
      "####################################################################################################\n"
     ]
    },
    {
     "name": "stderr",
     "output_type": "stream",
     "text": [
      "[I 2025-01-17 21:39:23,756] Trial 102 finished with value: 0.6730837061176067 and parameters: {'max_bin': 442, 'learning_rate': 0.12497151105033193, 'max_depth': 4, 'gamma': 0.18538735849475996, 'min_child_weight': 5.392213148244095, 'subsample': 0.9387178170745626, 'colsample_bytree': 0.8481048185854844, 'colsample_bylevel': 0.8345174602306829, 'colsample_bynode': 0.9352356290992341, 'reg_alpha': 1.81048586225405e-05, 'reg_lambda': 6.786096010854717, 'max_cat_threshold': 633}. Best is trial 82 with value: 0.6747498865642625.\n"
     ]
    },
    {
     "name": "stdout",
     "output_type": "stream",
     "text": [
      "####################################################################################################\n",
      "OOF prediction score :  0.6730837061176067\n",
      "Mean 5-cv results : 0.6710748034942424 +- 0.003261960164081888\n",
      "####################################################################################################\n"
     ]
    },
    {
     "name": "stderr",
     "output_type": "stream",
     "text": [
      "[I 2025-01-17 21:39:32,935] Trial 103 finished with value: 0.6749448912627601 and parameters: {'max_bin': 437, 'learning_rate': 0.10620257269138432, 'max_depth': 4, 'gamma': 0.07865263179758557, 'min_child_weight': 11.546784832781052, 'subsample': 0.9400806118004621, 'colsample_bytree': 0.8464065093960434, 'colsample_bylevel': 0.8377399573999179, 'colsample_bynode': 0.9350043113961337, 'reg_alpha': 1.7662027998673968e-05, 'reg_lambda': 7.19195164951516, 'max_cat_threshold': 540}. Best is trial 103 with value: 0.6749448912627601.\n"
     ]
    },
    {
     "name": "stdout",
     "output_type": "stream",
     "text": [
      "####################################################################################################\n",
      "OOF prediction score :  0.6749448912627601\n",
      "Mean 5-cv results : 0.6722599703167541 +- 0.0038196224452372034\n",
      "####################################################################################################\n"
     ]
    },
    {
     "name": "stderr",
     "output_type": "stream",
     "text": [
      "[I 2025-01-17 21:39:39,874] Trial 104 finished with value: 0.670688614125215 and parameters: {'max_bin': 419, 'learning_rate': 0.10663252733648236, 'max_depth': 6, 'gamma': 0.7673347298720703, 'min_child_weight': 10.842271408982793, 'subsample': 0.939546650267852, 'colsample_bytree': 0.8474723405232605, 'colsample_bylevel': 0.8320991601048469, 'colsample_bynode': 0.9359915352857641, 'reg_alpha': 1.7894726361235514e-05, 'reg_lambda': 5.032623859220089, 'max_cat_threshold': 684}. Best is trial 103 with value: 0.6749448912627601.\n"
     ]
    },
    {
     "name": "stdout",
     "output_type": "stream",
     "text": [
      "####################################################################################################\n",
      "OOF prediction score :  0.670688614125215\n",
      "Mean 5-cv results : 0.6682749239844711 +- 0.004030831671101783\n",
      "####################################################################################################\n"
     ]
    },
    {
     "name": "stderr",
     "output_type": "stream",
     "text": [
      "[I 2025-01-17 21:39:52,498] Trial 105 finished with value: 0.6628941040036331 and parameters: {'max_bin': 682, 'learning_rate': 0.1001906631302526, 'max_depth': 30, 'gamma': 0.2125454858715673, 'min_child_weight': 12.595368768325448, 'subsample': 0.9590196181096842, 'colsample_bytree': 0.8301241192571538, 'colsample_bylevel': 0.8361979781032995, 'colsample_bynode': 0.9190933842261716, 'reg_alpha': 7.544685423038928e-06, 'reg_lambda': 7.3797477980164885, 'max_cat_threshold': 578}. Best is trial 103 with value: 0.6749448912627601.\n"
     ]
    },
    {
     "name": "stdout",
     "output_type": "stream",
     "text": [
      "####################################################################################################\n",
      "OOF prediction score :  0.6628941040036331\n",
      "Mean 5-cv results : 0.659471972868429 +- 0.003365488831455112\n",
      "####################################################################################################\n"
     ]
    },
    {
     "name": "stderr",
     "output_type": "stream",
     "text": [
      "[I 2025-01-17 21:40:00,790] Trial 106 finished with value: 0.6716327841657016 and parameters: {'max_bin': 372, 'learning_rate': 0.11019236483122902, 'max_depth': 5, 'gamma': 0.40383895815673365, 'min_child_weight': 5.177461482325444, 'subsample': 0.9657491772864962, 'colsample_bytree': 0.8396639836293505, 'colsample_bylevel': 0.8124117591225503, 'colsample_bynode': 0.9288606954305051, 'reg_alpha': 4.863728558141029e-06, 'reg_lambda': 2.826364054451844, 'max_cat_threshold': 502}. Best is trial 103 with value: 0.6749448912627601.\n"
     ]
    },
    {
     "name": "stdout",
     "output_type": "stream",
     "text": [
      "####################################################################################################\n",
      "OOF prediction score :  0.6716327841657016\n",
      "Mean 5-cv results : 0.6694412185040571 +- 0.0038033412104304326\n",
      "####################################################################################################\n"
     ]
    },
    {
     "name": "stderr",
     "output_type": "stream",
     "text": [
      "[I 2025-01-17 21:40:08,573] Trial 107 finished with value: 0.6710821465841037 and parameters: {'max_bin': 483, 'learning_rate': 0.1136796245915466, 'max_depth': 4, 'gamma': 0.6621756706864884, 'min_child_weight': 7.284300740669244, 'subsample': 0.927433968704989, 'colsample_bytree': 0.8140397839232265, 'colsample_bylevel': 0.8256957684025027, 'colsample_bynode': 0.932447597482188, 'reg_alpha': 3.361956451469418e-05, 'reg_lambda': 1.6469514342584552, 'max_cat_threshold': 943}. Best is trial 103 with value: 0.6749448912627601.\n"
     ]
    },
    {
     "name": "stdout",
     "output_type": "stream",
     "text": [
      "####################################################################################################\n",
      "OOF prediction score :  0.6710821465841037\n",
      "Mean 5-cv results : 0.6692095624514484 +- 0.00436339737478269\n",
      "####################################################################################################\n"
     ]
    },
    {
     "name": "stderr",
     "output_type": "stream",
     "text": [
      "[I 2025-01-17 21:40:14,946] Trial 108 finished with value: 0.6675067597951203 and parameters: {'max_bin': 556, 'learning_rate': 0.11888019815409627, 'max_depth': 8, 'gamma': 1.6704379676398244, 'min_child_weight': 22.722686477325002, 'subsample': 0.9549823469534239, 'colsample_bytree': 0.8247297170488119, 'colsample_bylevel': 0.8498933677364859, 'colsample_bynode': 0.9142785660506672, 'reg_alpha': 8.778334637858193e-06, 'reg_lambda': 6.673621292066759, 'max_cat_threshold': 688}. Best is trial 103 with value: 0.6749448912627601.\n"
     ]
    },
    {
     "name": "stdout",
     "output_type": "stream",
     "text": [
      "####################################################################################################\n",
      "OOF prediction score :  0.6675067597951203\n",
      "Mean 5-cv results : 0.6656127398458592 +- 0.0024280223556828397\n",
      "####################################################################################################\n"
     ]
    },
    {
     "name": "stderr",
     "output_type": "stream",
     "text": [
      "[I 2025-01-17 21:40:23,581] Trial 109 finished with value: 0.6733679066502051 and parameters: {'max_bin': 301, 'learning_rate': 0.12214906569421627, 'max_depth': 4, 'gamma': 0.12276581394045054, 'min_child_weight': 5.878421832405068, 'subsample': 0.9481366350030452, 'colsample_bytree': 0.8550214754382263, 'colsample_bylevel': 0.8412282502967522, 'colsample_bynode': 0.9256500718228613, 'reg_alpha': 2.014231666301223e-05, 'reg_lambda': 4.398004314119673, 'max_cat_threshold': 391}. Best is trial 103 with value: 0.6749448912627601.\n"
     ]
    },
    {
     "name": "stdout",
     "output_type": "stream",
     "text": [
      "####################################################################################################\n",
      "OOF prediction score :  0.6733679066502051\n",
      "Mean 5-cv results : 0.6712010494749672 +- 0.0040313126737083205\n",
      "####################################################################################################\n"
     ]
    },
    {
     "name": "stderr",
     "output_type": "stream",
     "text": [
      "[I 2025-01-17 21:40:33,557] Trial 110 finished with value: 0.6653191614307169 and parameters: {'max_bin': 292, 'learning_rate': 0.11112023542246782, 'max_depth': 9, 'gamma': 0.0074704969451664105, 'min_child_weight': 5.666309453985825, 'subsample': 0.9471512934396479, 'colsample_bytree': 0.8439121344286434, 'colsample_bylevel': 0.841983805428274, 'colsample_bynode': 0.9245829179422919, 'reg_alpha': 1.8931656633867067e-05, 'reg_lambda': 4.05449896196659, 'max_cat_threshold': 426}. Best is trial 103 with value: 0.6749448912627601.\n"
     ]
    },
    {
     "name": "stdout",
     "output_type": "stream",
     "text": [
      "####################################################################################################\n",
      "OOF prediction score :  0.6653191614307169\n",
      "Mean 5-cv results : 0.6621777480966878 +- 0.0043943170392324975\n",
      "####################################################################################################\n"
     ]
    },
    {
     "name": "stderr",
     "output_type": "stream",
     "text": [
      "[I 2025-01-17 21:40:41,225] Trial 111 finished with value: 0.6720850860098535 and parameters: {'max_bin': 432, 'learning_rate': 0.12163519029236364, 'max_depth': 4, 'gamma': 0.40867819235069874, 'min_child_weight': 6.166332667378878, 'subsample': 0.9375527595396163, 'colsample_bytree': 0.8482468826568563, 'colsample_bylevel': 0.8558019913680303, 'colsample_bynode': 0.898504025305343, 'reg_alpha': 4.425914658392073e-05, 'reg_lambda': 2.1891377795192613, 'max_cat_threshold': 318}. Best is trial 103 with value: 0.6749448912627601.\n"
     ]
    },
    {
     "name": "stdout",
     "output_type": "stream",
     "text": [
      "####################################################################################################\n",
      "OOF prediction score :  0.6720850860098535\n",
      "Mean 5-cv results : 0.6703839900236839 +- 0.0036613939290629062\n",
      "####################################################################################################\n"
     ]
    },
    {
     "name": "stderr",
     "output_type": "stream",
     "text": [
      "[I 2025-01-17 21:40:49,567] Trial 112 finished with value: 0.6711887936970747 and parameters: {'max_bin': 302, 'learning_rate': 0.12870240659120663, 'max_depth': 3, 'gamma': 0.6119812281075574, 'min_child_weight': 9.521991840481212, 'subsample': 0.9499601359621405, 'colsample_bytree': 0.8571843171227944, 'colsample_bylevel': 0.8349840502791163, 'colsample_bynode': 0.9428121566403567, 'reg_alpha': 1.3191191363343038e-05, 'reg_lambda': 6.000908105266602, 'max_cat_threshold': 609}. Best is trial 103 with value: 0.6749448912627601.\n"
     ]
    },
    {
     "name": "stdout",
     "output_type": "stream",
     "text": [
      "####################################################################################################\n",
      "OOF prediction score :  0.6711887936970747\n",
      "Mean 5-cv results : 0.6691660514804765 +- 0.004273296265303313\n",
      "####################################################################################################\n"
     ]
    },
    {
     "name": "stderr",
     "output_type": "stream",
     "text": [
      "[I 2025-01-17 21:40:59,151] Trial 113 finished with value: 0.6712369869662993 and parameters: {'max_bin': 258, 'learning_rate': 0.11614856471332828, 'max_depth': 6, 'gamma': 0.20225738051623016, 'min_child_weight': 8.121261127583686, 'subsample': 0.941073806263149, 'colsample_bytree': 0.8348205227890882, 'colsample_bylevel': 0.8291506257230917, 'colsample_bynode': 0.934817031798872, 'reg_alpha': 2.1826033506957738e-06, 'reg_lambda': 4.41452726123235, 'max_cat_threshold': 348}. Best is trial 103 with value: 0.6749448912627601.\n"
     ]
    },
    {
     "name": "stdout",
     "output_type": "stream",
     "text": [
      "####################################################################################################\n",
      "OOF prediction score :  0.6712369869662993\n",
      "Mean 5-cv results : 0.6694157318491123 +- 0.004557412369240166\n",
      "####################################################################################################\n"
     ]
    },
    {
     "name": "stderr",
     "output_type": "stream",
     "text": [
      "[I 2025-01-17 21:41:06,474] Trial 114 finished with value: 0.6695872158435907 and parameters: {'max_bin': 379, 'learning_rate': 0.1055918791751755, 'max_depth': 5, 'gamma': 0.897399525367312, 'min_child_weight': 4.575788371256926, 'subsample': 0.9529429573845313, 'colsample_bytree': 0.8545630313281396, 'colsample_bylevel': 0.8195922361518144, 'colsample_bynode': 0.9378992477053695, 'reg_alpha': 1.141387160405882e-06, 'reg_lambda': 2.6081233760688822, 'max_cat_threshold': 484}. Best is trial 103 with value: 0.6749448912627601.\n"
     ]
    },
    {
     "name": "stdout",
     "output_type": "stream",
     "text": [
      "####################################################################################################\n",
      "OOF prediction score :  0.6695872158435907\n",
      "Mean 5-cv results : 0.6674853761906583 +- 0.0045231221250914295\n",
      "####################################################################################################\n"
     ]
    },
    {
     "name": "stderr",
     "output_type": "stream",
     "text": [
      "[I 2025-01-17 21:41:13,095] Trial 115 finished with value: 0.6701354663374163 and parameters: {'max_bin': 468, 'learning_rate': 0.1257756810994799, 'max_depth': 7, 'gamma': 0.44016394148526666, 'min_child_weight': 5.288109697007392, 'subsample': 0.9886711507871052, 'colsample_bytree': 0.8193712503394573, 'colsample_bylevel': 0.8385768585842617, 'colsample_bynode': 0.9290525469384262, 'reg_alpha': 2.3157805544016164e-05, 'reg_lambda': 8.408665542868677, 'max_cat_threshold': 387}. Best is trial 103 with value: 0.6749448912627601.\n"
     ]
    },
    {
     "name": "stdout",
     "output_type": "stream",
     "text": [
      "####################################################################################################\n",
      "OOF prediction score :  0.6701354663374163\n",
      "Mean 5-cv results : 0.6680411616388108 +- 0.005897894405795934\n",
      "####################################################################################################\n"
     ]
    },
    {
     "name": "stderr",
     "output_type": "stream",
     "text": [
      "[I 2025-01-17 21:41:23,199] Trial 116 finished with value: 0.6748137847865722 and parameters: {'max_bin': 316, 'learning_rate': 0.11841358188926651, 'max_depth': 3, 'gamma': 0.17924779861935225, 'min_child_weight': 6.757708235834023, 'subsample': 0.963242466683176, 'colsample_bytree': 0.8670318098497531, 'colsample_bylevel': 0.8445619049475611, 'colsample_bynode': 0.9208217937436008, 'reg_alpha': 3.3546742153180672e-06, 'reg_lambda': 1.5076265353022413, 'max_cat_threshold': 271}. Best is trial 103 with value: 0.6749448912627601.\n"
     ]
    },
    {
     "name": "stdout",
     "output_type": "stream",
     "text": [
      "####################################################################################################\n",
      "OOF prediction score :  0.6748137847865722\n",
      "Mean 5-cv results : 0.6721968587804908 +- 0.003877793643758105\n",
      "####################################################################################################\n"
     ]
    },
    {
     "name": "stderr",
     "output_type": "stream",
     "text": [
      "[I 2025-01-17 21:41:32,710] Trial 117 finished with value: 0.6705526176654336 and parameters: {'max_bin': 225, 'learning_rate': 0.11802488163235307, 'max_depth': 3, 'gamma': 0.6436982020097655, 'min_child_weight': 6.587289632780713, 'subsample': 0.9652033532540487, 'colsample_bytree': 0.842068911157179, 'colsample_bylevel': 0.8436968109453208, 'colsample_bynode': 0.9216236875447144, 'reg_alpha': 3.2358029560002026e-06, 'reg_lambda': 1.3318910078281192, 'max_cat_threshold': 265}. Best is trial 103 with value: 0.6749448912627601.\n"
     ]
    },
    {
     "name": "stdout",
     "output_type": "stream",
     "text": [
      "####################################################################################################\n",
      "OOF prediction score :  0.6705526176654336\n",
      "Mean 5-cv results : 0.6691636065633619 +- 0.003844898624112927\n",
      "####################################################################################################\n"
     ]
    },
    {
     "name": "stderr",
     "output_type": "stream",
     "text": [
      "[I 2025-01-17 21:41:39,054] Trial 118 finished with value: 0.6668013625168808 and parameters: {'max_bin': 303, 'learning_rate': 0.12187007825159286, 'max_depth': 5, 'gamma': 1.107685930985136, 'min_child_weight': 2.877751312965583, 'subsample': 0.95791495168064, 'colsample_bytree': 0.8519054700296977, 'colsample_bylevel': 0.8495285011337061, 'colsample_bynode': 0.9105769803485991, 'reg_alpha': 6.7442895732814285e-06, 'reg_lambda': 2.0081443827576018, 'max_cat_threshold': 867}. Best is trial 103 with value: 0.6749448912627601.\n"
     ]
    },
    {
     "name": "stdout",
     "output_type": "stream",
     "text": [
      "####################################################################################################\n",
      "OOF prediction score :  0.6668013625168808\n",
      "Mean 5-cv results : 0.6654640246529335 +- 0.003800327080438501\n",
      "####################################################################################################\n"
     ]
    },
    {
     "name": "stderr",
     "output_type": "stream",
     "text": [
      "[I 2025-01-17 21:41:53,692] Trial 119 finished with value: 0.6540719869607161 and parameters: {'max_bin': 405, 'learning_rate': 0.11327746350439252, 'max_depth': 22, 'gamma': 0.033582879066438524, 'min_child_weight': 11.074797176773314, 'subsample': 0.9628939969718733, 'colsample_bytree': 0.8365623233157043, 'colsample_bylevel': 0.8467273044857825, 'colsample_bynode': 0.9172104190021836, 'reg_alpha': 8.985323693768974e-06, 'reg_lambda': 3.3269871812065976, 'max_cat_threshold': 750}. Best is trial 103 with value: 0.6749448912627601.\n"
     ]
    },
    {
     "name": "stdout",
     "output_type": "stream",
     "text": [
      "####################################################################################################\n",
      "OOF prediction score :  0.6540719869607161\n",
      "Mean 5-cv results : 0.6512841880888789 +- 0.004417292003345264\n",
      "####################################################################################################\n"
     ]
    },
    {
     "name": "stderr",
     "output_type": "stream",
     "text": [
      "[I 2025-01-17 21:42:03,066] Trial 120 finished with value: 0.6674504939723932 and parameters: {'max_bin': 4893, 'learning_rate': 0.11517110255982425, 'max_depth': 6, 'gamma': 1.2843800834406358, 'min_child_weight': 3.7137420354834196, 'subsample': 0.9314662842627075, 'colsample_bytree': 0.8467004394206472, 'colsample_bylevel': 0.8339305113266671, 'colsample_bynode': 0.9013946242803006, 'reg_alpha': 1.3462056367725899e-05, 'reg_lambda': 6.655891172461931, 'max_cat_threshold': 627}. Best is trial 103 with value: 0.6749448912627601.\n"
     ]
    },
    {
     "name": "stdout",
     "output_type": "stream",
     "text": [
      "####################################################################################################\n",
      "OOF prediction score :  0.6674504939723932\n",
      "Mean 5-cv results : 0.6656398893145425 +- 0.003436253765242431\n",
      "####################################################################################################\n"
     ]
    },
    {
     "name": "stderr",
     "output_type": "stream",
     "text": [
      "[I 2025-01-17 21:42:11,856] Trial 121 finished with value: 0.6735997312492076 and parameters: {'max_bin': 321, 'learning_rate': 0.10821270561486043, 'max_depth': 4, 'gamma': 0.270379920909209, 'min_child_weight': 4.29537396732478, 'subsample': 0.9439743560100331, 'colsample_bytree': 0.8663580231348385, 'colsample_bylevel': 0.8591605242419414, 'colsample_bynode': 0.9256509189435097, 'reg_alpha': 5.3591278163070434e-05, 'reg_lambda': 4.955337529344039, 'max_cat_threshold': 174}. Best is trial 103 with value: 0.6749448912627601.\n"
     ]
    },
    {
     "name": "stdout",
     "output_type": "stream",
     "text": [
      "####################################################################################################\n",
      "OOF prediction score :  0.6735997312492076\n",
      "Mean 5-cv results : 0.6712038765208763 +- 0.0036684529106199987\n",
      "####################################################################################################\n"
     ]
    },
    {
     "name": "stderr",
     "output_type": "stream",
     "text": [
      "[I 2025-01-17 21:42:21,067] Trial 122 finished with value: 0.672429281616547 and parameters: {'max_bin': 270, 'learning_rate': 0.10437515727957054, 'max_depth': 3, 'gamma': 0.41641253847818405, 'min_child_weight': 4.5805131169282065, 'subsample': 0.9757586422555056, 'colsample_bytree': 0.8658373649144893, 'colsample_bylevel': 0.8602709455379883, 'colsample_bynode': 0.9266256219056332, 'reg_alpha': 1.770609762239952e-05, 'reg_lambda': 5.131470253563053, 'max_cat_threshold': 169}. Best is trial 103 with value: 0.6749448912627601.\n"
     ]
    },
    {
     "name": "stdout",
     "output_type": "stream",
     "text": [
      "####################################################################################################\n",
      "OOF prediction score :  0.672429281616547\n",
      "Mean 5-cv results : 0.670663064095053 +- 0.0038477230616598503\n",
      "####################################################################################################\n"
     ]
    },
    {
     "name": "stderr",
     "output_type": "stream",
     "text": [
      "[I 2025-01-17 21:42:30,627] Trial 123 finished with value: 0.6748201804378192 and parameters: {'max_bin': 615, 'learning_rate': 0.11066513314429034, 'max_depth': 4, 'gamma': 0.24530372175794232, 'min_child_weight': 5.680487581317767, 'subsample': 0.9453936489252562, 'colsample_bytree': 0.8596789343773579, 'colsample_bylevel': 0.8400889146629028, 'colsample_bynode': 0.9314395540610284, 'reg_alpha': 5.2029654749976234e-05, 'reg_lambda': 9.514454860347014, 'max_cat_threshold': 534}. Best is trial 103 with value: 0.6749448912627601.\n"
     ]
    },
    {
     "name": "stdout",
     "output_type": "stream",
     "text": [
      "####################################################################################################\n",
      "OOF prediction score :  0.6748201804378192\n",
      "Mean 5-cv results : 0.6722224648973532 +- 0.004497479896035392\n",
      "####################################################################################################\n"
     ]
    },
    {
     "name": "stderr",
     "output_type": "stream",
     "text": [
      "[I 2025-01-17 21:42:38,369] Trial 124 finished with value: 0.6717391840761344 and parameters: {'max_bin': 629, 'learning_rate': 0.10838366804772176, 'max_depth': 5, 'gamma': 0.6088118773413492, 'min_child_weight': 5.889830338745371, 'subsample': 0.9474737731761025, 'colsample_bytree': 0.8620705789399741, 'colsample_bylevel': 0.8268159790024123, 'colsample_bynode': 0.9315918428994139, 'reg_alpha': 3.246239274917891e-05, 'reg_lambda': 9.57005423642115, 'max_cat_threshold': 486}. Best is trial 103 with value: 0.6749448912627601.\n"
     ]
    },
    {
     "name": "stdout",
     "output_type": "stream",
     "text": [
      "####################################################################################################\n",
      "OOF prediction score :  0.6717391840761344\n",
      "Mean 5-cv results : 0.6700724702960809 +- 0.0033497060126206272\n",
      "####################################################################################################\n"
     ]
    },
    {
     "name": "stderr",
     "output_type": "stream",
     "text": [
      "[I 2025-01-17 21:42:49,098] Trial 125 finished with value: 0.6749760027835249 and parameters: {'max_bin': 500, 'learning_rate': 0.10273082985446168, 'max_depth': 3, 'gamma': 0.007578486202531237, 'min_child_weight': 15.686421748715297, 'subsample': 0.935275972839097, 'colsample_bytree': 0.8574882137882434, 'colsample_bylevel': 0.8540161079101706, 'colsample_bynode': 0.9377280456261027, 'reg_alpha': 3.659813621200192e-06, 'reg_lambda': 4.306548294210277, 'max_cat_threshold': 404}. Best is trial 125 with value: 0.6749760027835249.\n"
     ]
    },
    {
     "name": "stdout",
     "output_type": "stream",
     "text": [
      "####################################################################################################\n",
      "OOF prediction score :  0.6749760027835249\n",
      "Mean 5-cv results : 0.6726194701855333 +- 0.00462258302710923\n",
      "####################################################################################################\n"
     ]
    },
    {
     "name": "stderr",
     "output_type": "stream",
     "text": [
      "[I 2025-01-17 21:42:57,804] Trial 126 finished with value: 0.6708195327811584 and parameters: {'max_bin': 718, 'learning_rate': 0.10091885235227369, 'max_depth': 3, 'gamma': 0.8510501460194944, 'min_child_weight': 16.941535388890717, 'subsample': 0.9355282388035036, 'colsample_bytree': 0.848640868967024, 'colsample_bylevel': 0.8397113763911735, 'colsample_bynode': 0.9375412754785417, 'reg_alpha': 3.0336627779869313e-06, 'reg_lambda': 3.8067281968173328, 'max_cat_threshold': 544}. Best is trial 125 with value: 0.6749760027835249.\n"
     ]
    },
    {
     "name": "stdout",
     "output_type": "stream",
     "text": [
      "####################################################################################################\n",
      "OOF prediction score :  0.6708195327811584\n",
      "Mean 5-cv results : 0.668885252869236 +- 0.003559402646233811\n",
      "####################################################################################################\n"
     ]
    },
    {
     "name": "stderr",
     "output_type": "stream",
     "text": [
      "[I 2025-01-17 21:43:08,412] Trial 127 finished with value: 0.6735982704410262 and parameters: {'max_bin': 516, 'learning_rate': 0.10456300016168055, 'max_depth': 5, 'gamma': 0.024580693535111442, 'min_child_weight': 25.847448728980556, 'subsample': 0.9511049675235641, 'colsample_bytree': 0.8601996779304619, 'colsample_bylevel': 0.8435034876327339, 'colsample_bynode': 0.9511462071956116, 'reg_alpha': 6.252927942020347e-06, 'reg_lambda': 7.389277265017429, 'max_cat_threshold': 404}. Best is trial 125 with value: 0.6749760027835249.\n"
     ]
    },
    {
     "name": "stdout",
     "output_type": "stream",
     "text": [
      "####################################################################################################\n",
      "OOF prediction score :  0.6735982704410262\n",
      "Mean 5-cv results : 0.6706732075280144 +- 0.0064333170485495915\n",
      "####################################################################################################\n"
     ]
    },
    {
     "name": "stderr",
     "output_type": "stream",
     "text": [
      "[I 2025-01-17 21:43:16,151] Trial 128 finished with value: 0.6724838263722125 and parameters: {'max_bin': 500, 'learning_rate': 0.10279690015032603, 'max_depth': 5, 'gamma': 0.4695557086280645, 'min_child_weight': 32.12498535663189, 'subsample': 0.9573035326956512, 'colsample_bytree': 0.8590885629998983, 'colsample_bylevel': 0.8209888473466069, 'colsample_bynode': 0.9417775432893354, 'reg_alpha': 5.083561220357e-06, 'reg_lambda': 7.305622539679675, 'max_cat_threshold': 418}. Best is trial 125 with value: 0.6749760027835249.\n"
     ]
    },
    {
     "name": "stdout",
     "output_type": "stream",
     "text": [
      "####################################################################################################\n",
      "OOF prediction score :  0.6724838263722125\n",
      "Mean 5-cv results : 0.6705408433217861 +- 0.0035676893822187135\n",
      "####################################################################################################\n"
     ]
    },
    {
     "name": "stderr",
     "output_type": "stream",
     "text": [
      "[I 2025-01-17 21:43:23,220] Trial 129 finished with value: 0.668823099274507 and parameters: {'max_bin': 521, 'learning_rate': 0.10540074503712815, 'max_depth': 7, 'gamma': 0.7386763656993622, 'min_child_weight': 25.19179633043427, 'subsample': 0.9533864381823959, 'colsample_bytree': 0.8722580210341024, 'colsample_bylevel': 0.8158272862880369, 'colsample_bynode': 0.9515784774118082, 'reg_alpha': 4.0857169414529255e-06, 'reg_lambda': 5.807115802713868, 'max_cat_threshold': 352}. Best is trial 125 with value: 0.6749760027835249.\n"
     ]
    },
    {
     "name": "stdout",
     "output_type": "stream",
     "text": [
      "####################################################################################################\n",
      "OOF prediction score :  0.668823099274507\n",
      "Mean 5-cv results : 0.666146654742755 +- 0.004163275097797527\n",
      "####################################################################################################\n"
     ]
    },
    {
     "name": "stderr",
     "output_type": "stream",
     "text": [
      "[I 2025-01-17 21:43:34,183] Trial 130 finished with value: 0.6747327103996487 and parameters: {'max_bin': 589, 'learning_rate': 0.10842839660920664, 'max_depth': 3, 'gamma': 0.019122865106778117, 'min_child_weight': 9.919823166732618, 'subsample': 0.9610199064478843, 'colsample_bytree': 0.8510589903791657, 'colsample_bylevel': 0.8442741473084354, 'colsample_bynode': 0.9318810080109392, 'reg_alpha': 1.7271057467781269e-06, 'reg_lambda': 2.5672796449498545, 'max_cat_threshold': 746}. Best is trial 125 with value: 0.6749760027835249.\n"
     ]
    },
    {
     "name": "stdout",
     "output_type": "stream",
     "text": [
      "####################################################################################################\n",
      "OOF prediction score :  0.6747327103996487\n",
      "Mean 5-cv results : 0.672183047613331 +- 0.0040913703943182295\n",
      "####################################################################################################\n"
     ]
    },
    {
     "name": "stderr",
     "output_type": "stream",
     "text": [
      "[I 2025-01-17 21:43:44,047] Trial 131 finished with value: 0.6727636550182797 and parameters: {'max_bin': 781, 'learning_rate': 0.1080144655227797, 'max_depth': 3, 'gamma': 0.3563867225612801, 'min_child_weight': 14.062010805314165, 'subsample': 0.9674915342336116, 'colsample_bytree': 0.8531057634917112, 'colsample_bylevel': 0.841707469517553, 'colsample_bynode': 0.9319196198728729, 'reg_alpha': 1.8326734741065694e-06, 'reg_lambda': 2.7229764191485613, 'max_cat_threshold': 747}. Best is trial 125 with value: 0.6749760027835249.\n"
     ]
    },
    {
     "name": "stdout",
     "output_type": "stream",
     "text": [
      "####################################################################################################\n",
      "OOF prediction score :  0.6727636550182797\n",
      "Mean 5-cv results : 0.6703289305700972 +- 0.0036413193435447734\n",
      "####################################################################################################\n"
     ]
    },
    {
     "name": "stderr",
     "output_type": "stream",
     "text": [
      "[I 2025-01-17 21:43:52,617] Trial 132 finished with value: 0.6697689569959081 and parameters: {'max_bin': 586, 'learning_rate': 0.1106995470808875, 'max_depth': 6, 'gamma': 0.023550157713890962, 'min_child_weight': 9.814136613314423, 'subsample': 0.9616162335276374, 'colsample_bytree': 0.844506737222542, 'colsample_bylevel': 0.8334888619637095, 'colsample_bynode': 0.9360038707627544, 'reg_alpha': 1.5073618897540862e-06, 'reg_lambda': 8.197331990676817, 'max_cat_threshold': 577}. Best is trial 125 with value: 0.6749760027835249.\n"
     ]
    },
    {
     "name": "stdout",
     "output_type": "stream",
     "text": [
      "####################################################################################################\n",
      "OOF prediction score :  0.6697689569959081\n",
      "Mean 5-cv results : 0.6678711853884993 +- 0.004381748897907487\n",
      "####################################################################################################\n"
     ]
    },
    {
     "name": "stderr",
     "output_type": "stream",
     "text": [
      "[I 2025-01-17 21:43:58,945] Trial 133 finished with value: 0.6730029942092223 and parameters: {'max_bin': 611, 'learning_rate': 0.2994082166408908, 'max_depth': 3, 'gamma': 0.2350193393261284, 'min_child_weight': 8.10218388725976, 'subsample': 0.9510847121350507, 'colsample_bytree': 0.8575690115189862, 'colsample_bylevel': 0.8556639274024291, 'colsample_bynode': 0.9278679437994731, 'reg_alpha': 7.283825568507642e-06, 'reg_lambda': 6.5456987950515115, 'max_cat_threshold': 856}. Best is trial 125 with value: 0.6749760027835249.\n"
     ]
    },
    {
     "name": "stdout",
     "output_type": "stream",
     "text": [
      "####################################################################################################\n",
      "OOF prediction score :  0.6730029942092223\n",
      "Mean 5-cv results : 0.6702824316323649 +- 0.0033081809762372364\n",
      "####################################################################################################\n"
     ]
    },
    {
     "name": "stderr",
     "output_type": "stream",
     "text": [
      "[I 2025-01-17 21:44:10,583] Trial 134 finished with value: 0.6739346330590786 and parameters: {'max_bin': 480, 'learning_rate': 0.10240757627799398, 'max_depth': 5, 'gamma': 0.006297576945529293, 'min_child_weight': 17.767182406102382, 'subsample': 0.9746742254182932, 'colsample_bytree': 0.8484267114471438, 'colsample_bylevel': 0.8451785348229164, 'colsample_bynode': 0.9387683855307258, 'reg_alpha': 3.508625327621129e-06, 'reg_lambda': 9.658972150537394, 'max_cat_threshold': 447}. Best is trial 125 with value: 0.6749760027835249.\n"
     ]
    },
    {
     "name": "stdout",
     "output_type": "stream",
     "text": [
      "####################################################################################################\n",
      "OOF prediction score :  0.6739346330590786\n",
      "Mean 5-cv results : 0.6715913784204259 +- 0.003741658115212064\n",
      "####################################################################################################\n"
     ]
    },
    {
     "name": "stderr",
     "output_type": "stream",
     "text": [
      "[I 2025-01-17 21:44:20,642] Trial 135 finished with value: 0.673972459976364 and parameters: {'max_bin': 554, 'learning_rate': 0.1031439852931083, 'max_depth': 5, 'gamma': 0.0006938767698998136, 'min_child_weight': 17.635666903868433, 'subsample': 0.9900057844256276, 'colsample_bytree': 0.864661373340303, 'colsample_bylevel': 0.8449372634654712, 'colsample_bynode': 0.9400879706821809, 'reg_alpha': 1.171382347389778e-06, 'reg_lambda': 9.62649123318793, 'max_cat_threshold': 448}. Best is trial 125 with value: 0.6749760027835249.\n"
     ]
    },
    {
     "name": "stdout",
     "output_type": "stream",
     "text": [
      "####################################################################################################\n",
      "OOF prediction score :  0.673972459976364\n",
      "Mean 5-cv results : 0.6715470090922271 +- 0.005264361595077918\n",
      "####################################################################################################\n"
     ]
    },
    {
     "name": "stderr",
     "output_type": "stream",
     "text": [
      "[I 2025-01-17 21:44:27,566] Trial 136 finished with value: 0.668740979762807 and parameters: {'max_bin': 565, 'learning_rate': 0.1031745243142914, 'max_depth': 8, 'gamma': 0.5608730062590509, 'min_child_weight': 26.146893135609915, 'subsample': 0.9987645068241398, 'colsample_bytree': 0.8648134920179439, 'colsample_bylevel': 0.8452765699576681, 'colsample_bynode': 0.9404706402642363, 'reg_alpha': 2.671704256748856e-06, 'reg_lambda': 4.814231470303106, 'max_cat_threshold': 309}. Best is trial 125 with value: 0.6749760027835249.\n"
     ]
    },
    {
     "name": "stdout",
     "output_type": "stream",
     "text": [
      "####################################################################################################\n",
      "OOF prediction score :  0.668740979762807\n",
      "Mean 5-cv results : 0.6670125821474217 +- 0.004637535864864687\n",
      "####################################################################################################\n"
     ]
    },
    {
     "name": "stderr",
     "output_type": "stream",
     "text": [
      "[I 2025-01-17 21:44:32,911] Trial 137 finished with value: 0.6557218761018262 and parameters: {'max_bin': 985, 'learning_rate': 0.10001798638480126, 'max_depth': 6, 'gamma': 5.696233601855832, 'min_child_weight': 20.828910437311006, 'subsample': 0.9806494652446736, 'colsample_bytree': 0.8602878422518025, 'colsample_bylevel': 0.8586071900266828, 'colsample_bynode': 0.9433515046237972, 'reg_alpha': 1.0109553008612798e-06, 'reg_lambda': 9.827943734085707, 'max_cat_threshold': 376}. Best is trial 125 with value: 0.6749760027835249.\n"
     ]
    },
    {
     "name": "stdout",
     "output_type": "stream",
     "text": [
      "####################################################################################################\n",
      "OOF prediction score :  0.6557218761018262\n",
      "Mean 5-cv results : 0.6543448652275243 +- 0.0034561825888677435\n",
      "####################################################################################################\n"
     ]
    },
    {
     "name": "stderr",
     "output_type": "stream",
     "text": [
      "[I 2025-01-17 21:44:43,346] Trial 138 finished with value: 0.6727735019782106 and parameters: {'max_bin': 795, 'learning_rate': 0.10457127481050987, 'max_depth': 5, 'gamma': 0.013652619158973311, 'min_child_weight': 17.413509976552973, 'subsample': 0.987797334501606, 'colsample_bytree': 0.863709043800998, 'colsample_bylevel': 0.8536714977615594, 'colsample_bynode': 0.9201058462926343, 'reg_alpha': 1.376194347220106e-06, 'reg_lambda': 2.2169523712878725, 'max_cat_threshold': 433}. Best is trial 125 with value: 0.6749760027835249.\n"
     ]
    },
    {
     "name": "stdout",
     "output_type": "stream",
     "text": [
      "####################################################################################################\n",
      "OOF prediction score :  0.6727735019782106\n",
      "Mean 5-cv results : 0.6701194267786228 +- 0.005024416377449572\n",
      "####################################################################################################\n"
     ]
    },
    {
     "name": "stderr",
     "output_type": "stream",
     "text": [
      "[I 2025-01-17 21:44:51,999] Trial 139 finished with value: 0.6732212236917097 and parameters: {'max_bin': 467, 'learning_rate': 0.10675804172307754, 'max_depth': 7, 'gamma': 0.0077944807512882915, 'min_child_weight': 37.874780264213335, 'subsample': 0.9718386476318011, 'colsample_bytree': 0.8514780789639481, 'colsample_bylevel': 0.8396776513315437, 'colsample_bynode': 0.9505595154120222, 'reg_alpha': 3.2553326713555637e-06, 'reg_lambda': 3.6646936860846213, 'max_cat_threshold': 503}. Best is trial 125 with value: 0.6749760027835249.\n"
     ]
    },
    {
     "name": "stdout",
     "output_type": "stream",
     "text": [
      "####################################################################################################\n",
      "OOF prediction score :  0.6732212236917097\n",
      "Mean 5-cv results : 0.6707119805402592 +- 0.0038798155850516963\n",
      "####################################################################################################\n"
     ]
    },
    {
     "name": "stderr",
     "output_type": "stream",
     "text": [
      "[I 2025-01-17 21:44:59,786] Trial 140 finished with value: 0.6710899699595505 and parameters: {'max_bin': 687, 'learning_rate': 0.10186458537519191, 'max_depth': 5, 'gamma': 0.4860343708186478, 'min_child_weight': 16.04090347242783, 'subsample': 0.9849766441425475, 'colsample_bytree': 0.839939736044632, 'colsample_bylevel': 0.8452905525326538, 'colsample_bynode': 0.9304515454319024, 'reg_alpha': 4.004125703396402e-06, 'reg_lambda': 9.7804133858135, 'max_cat_threshold': 724}. Best is trial 125 with value: 0.6749760027835249.\n"
     ]
    },
    {
     "name": "stdout",
     "output_type": "stream",
     "text": [
      "####################################################################################################\n",
      "OOF prediction score :  0.6710899699595505\n",
      "Mean 5-cv results : 0.6693166028279459 +- 0.0028763944755331367\n",
      "####################################################################################################\n"
     ]
    },
    {
     "name": "stderr",
     "output_type": "stream",
     "text": [
      "[I 2025-01-17 21:45:08,226] Trial 141 finished with value: 0.6724673074571416 and parameters: {'max_bin': 531, 'learning_rate': 0.1088281062705216, 'max_depth': 6, 'gamma': 0.14100894352073484, 'min_child_weight': 19.574697574151855, 'subsample': 0.9766107012243324, 'colsample_bytree': 0.8587473098546115, 'colsample_bylevel': 0.8396973876637752, 'colsample_bynode': 0.9506523098971116, 'reg_alpha': 1.8843315577725452e-06, 'reg_lambda': 3.222592265971286, 'max_cat_threshold': 508}. Best is trial 125 with value: 0.6749760027835249.\n"
     ]
    },
    {
     "name": "stdout",
     "output_type": "stream",
     "text": [
      "####################################################################################################\n",
      "OOF prediction score :  0.6724673074571416\n",
      "Mean 5-cv results : 0.669457370016247 +- 0.003213662336492651\n",
      "####################################################################################################\n"
     ]
    },
    {
     "name": "stderr",
     "output_type": "stream",
     "text": [
      "[I 2025-01-17 21:45:17,993] Trial 142 finished with value: 0.6731538821389245 and parameters: {'max_bin': 470, 'learning_rate': 0.10465286943356619, 'max_depth': 4, 'gamma': 0.3864670570653894, 'min_child_weight': 39.089076746226276, 'subsample': 0.9932111189900162, 'colsample_bytree': 0.8500592486797, 'colsample_bylevel': 0.8423106152148363, 'colsample_bynode': 0.9479719653506318, 'reg_alpha': 3.3733419129055396e-06, 'reg_lambda': 4.532671565370624, 'max_cat_threshold': 303}. Best is trial 125 with value: 0.6749760027835249.\n"
     ]
    },
    {
     "name": "stdout",
     "output_type": "stream",
     "text": [
      "####################################################################################################\n",
      "OOF prediction score :  0.6731538821389245\n",
      "Mean 5-cv results : 0.6710807054671071 +- 0.0034741660640674053\n",
      "####################################################################################################\n"
     ]
    },
    {
     "name": "stderr",
     "output_type": "stream",
     "text": [
      "[I 2025-01-17 21:45:26,937] Trial 143 finished with value: 0.6709305469039624 and parameters: {'max_bin': 412, 'learning_rate': 0.10706275299401682, 'max_depth': 7, 'gamma': 0.16474371079760627, 'min_child_weight': 13.239746906266541, 'subsample': 0.9715170110757251, 'colsample_bytree': 0.8273841184438578, 'colsample_bylevel': 0.8305834270355456, 'colsample_bynode': 0.9397999601416388, 'reg_alpha': 2.2414864518818525e-06, 'reg_lambda': 5.192115040819153, 'max_cat_threshold': 536}. Best is trial 125 with value: 0.6749760027835249.\n"
     ]
    },
    {
     "name": "stdout",
     "output_type": "stream",
     "text": [
      "####################################################################################################\n",
      "OOF prediction score :  0.6709305469039624\n",
      "Mean 5-cv results : 0.6686646509014122 +- 0.004260950542029412\n",
      "####################################################################################################\n"
     ]
    },
    {
     "name": "stderr",
     "output_type": "stream",
     "text": [
      "[I 2025-01-17 21:45:35,639] Trial 144 finished with value: 0.6738203456355231 and parameters: {'max_bin': 634, 'learning_rate': 0.10959387904642258, 'max_depth': 5, 'gamma': 0.018567531338179222, 'min_child_weight': 28.303780048454886, 'subsample': 0.9748215356576847, 'colsample_bytree': 0.8511327316327235, 'colsample_bylevel': 0.8476388066618674, 'colsample_bynode': 0.9436350866038482, 'reg_alpha': 1.1207906195881827e-05, 'reg_lambda': 3.4017900166551405, 'max_cat_threshold': 391}. Best is trial 125 with value: 0.6749760027835249.\n"
     ]
    },
    {
     "name": "stdout",
     "output_type": "stream",
     "text": [
      "####################################################################################################\n",
      "OOF prediction score :  0.6738203456355231\n",
      "Mean 5-cv results : 0.6713053194479863 +- 0.0048871434880473795\n",
      "####################################################################################################\n"
     ]
    },
    {
     "name": "stderr",
     "output_type": "stream",
     "text": [
      "[I 2025-01-17 21:45:41,263] Trial 145 finished with value: 0.6566950386712531 and parameters: {'max_bin': 605, 'learning_rate': 0.1106237903788045, 'max_depth': 5, 'gamma': 4.771495691695693, 'min_child_weight': 27.8175493320609, 'subsample': 0.9833137481980598, 'colsample_bytree': 0.8730661214892079, 'colsample_bylevel': 0.8519929688126731, 'colsample_bynode': 0.9280105787526494, 'reg_alpha': 9.376496030489034e-06, 'reg_lambda': 2.448269926144769, 'max_cat_threshold': 232}. Best is trial 125 with value: 0.6749760027835249.\n"
     ]
    },
    {
     "name": "stdout",
     "output_type": "stream",
     "text": [
      "####################################################################################################\n",
      "OOF prediction score :  0.6566950386712531\n",
      "Mean 5-cv results : 0.6556110151185577 +- 0.0029390403416222747\n",
      "####################################################################################################\n"
     ]
    },
    {
     "name": "stderr",
     "output_type": "stream",
     "text": [
      "[I 2025-01-17 21:45:50,648] Trial 146 finished with value: 0.6712988099492467 and parameters: {'max_bin': 553, 'learning_rate': 0.10915314489953888, 'max_depth': 3, 'gamma': 0.6622522921715754, 'min_child_weight': 21.99942121786445, 'subsample': 0.9738471343421915, 'colsample_bytree': 0.8003520232942344, 'colsample_bylevel': 0.8485029602920754, 'colsample_bynode': 0.9432434115814159, 'reg_alpha': 1.208356132255669e-05, 'reg_lambda': 5.3305923860761775, 'max_cat_threshold': 380}. Best is trial 125 with value: 0.6749760027835249.\n"
     ]
    },
    {
     "name": "stdout",
     "output_type": "stream",
     "text": [
      "####################################################################################################\n",
      "OOF prediction score :  0.6712988099492467\n",
      "Mean 5-cv results : 0.6695555235219611 +- 0.0038683219283508945\n",
      "####################################################################################################\n"
     ]
    },
    {
     "name": "stderr",
     "output_type": "stream",
     "text": [
      "[I 2025-01-17 21:46:00,315] Trial 147 finished with value: 0.6733153156610913 and parameters: {'max_bin': 717, 'learning_rate': 0.10323739571622347, 'max_depth': 4, 'gamma': 0.3388661278944366, 'min_child_weight': 15.560571421152252, 'subsample': 0.944962819359539, 'colsample_bytree': 0.8445493153286052, 'colsample_bylevel': 0.862502675299634, 'colsample_bynode': 0.9325679611132409, 'reg_alpha': 6.029627114847314e-06, 'reg_lambda': 3.083161814706207, 'max_cat_threshold': 426}. Best is trial 125 with value: 0.6749760027835249.\n"
     ]
    },
    {
     "name": "stdout",
     "output_type": "stream",
     "text": [
      "####################################################################################################\n",
      "OOF prediction score :  0.6733153156610913\n",
      "Mean 5-cv results : 0.6717557844578486 +- 0.0038735081889989405\n",
      "####################################################################################################\n"
     ]
    },
    {
     "name": "stderr",
     "output_type": "stream",
     "text": [
      "[I 2025-01-17 21:46:07,633] Trial 148 finished with value: 0.6686771756035009 and parameters: {'max_bin': 903, 'learning_rate': 0.10242009339349767, 'max_depth': 6, 'gamma': 0.9154994968784899, 'min_child_weight': 14.964128551969393, 'subsample': 0.990899834604538, 'colsample_bytree': 0.8431698770512366, 'colsample_bylevel': 0.8632189514345583, 'colsample_bynode': 0.9394954551878183, 'reg_alpha': 6.522526285004124e-06, 'reg_lambda': 1.854145959060013, 'max_cat_threshold': 439}. Best is trial 125 with value: 0.6749760027835249.\n"
     ]
    },
    {
     "name": "stdout",
     "output_type": "stream",
     "text": [
      "####################################################################################################\n",
      "OOF prediction score :  0.6686771756035009\n",
      "Mean 5-cv results : 0.6661457843490128 +- 0.00274117734495518\n",
      "####################################################################################################\n"
     ]
    },
    {
     "name": "stderr",
     "output_type": "stream",
     "text": [
      "[I 2025-01-17 21:46:16,856] Trial 149 finished with value: 0.6670360512706007 and parameters: {'max_bin': 761, 'learning_rate': 0.1049556024506189, 'max_depth': 9, 'gamma': 0.44761008768047944, 'min_child_weight': 11.234564793899915, 'subsample': 0.9664841329396967, 'colsample_bytree': 0.8322497054826968, 'colsample_bylevel': 0.8562562679645617, 'colsample_bynode': 0.9327942260245183, 'reg_alpha': 2.4535628115475572e-06, 'reg_lambda': 3.1120710437602046, 'max_cat_threshold': 345}. Best is trial 125 with value: 0.6749760027835249.\n"
     ]
    },
    {
     "name": "stdout",
     "output_type": "stream",
     "text": [
      "####################################################################################################\n",
      "OOF prediction score :  0.6670360512706007\n",
      "Mean 5-cv results : 0.6652713596789008 +- 0.0022750603126922716\n",
      "####################################################################################################\n"
     ]
    },
    {
     "name": "stderr",
     "output_type": "stream",
     "text": [
      "[I 2025-01-17 21:46:22,104] Trial 150 finished with value: 0.6511095119202147 and parameters: {'max_bin': 652, 'learning_rate': 0.10220265374808313, 'max_depth': 4, 'gamma': 9.038531431016008, 'min_child_weight': 19.94665545695532, 'subsample': 0.9443573575345258, 'colsample_bytree': 0.8377659886489747, 'colsample_bylevel': 0.84700005765599, 'colsample_bynode': 0.9451845714239959, 'reg_alpha': 5.200288381176884e-06, 'reg_lambda': 0.017903215415640442, 'max_cat_threshold': 276}. Best is trial 125 with value: 0.6749760027835249.\n"
     ]
    },
    {
     "name": "stdout",
     "output_type": "stream",
     "text": [
      "####################################################################################################\n",
      "OOF prediction score :  0.6511095119202147\n",
      "Mean 5-cv results : 0.649838801555781 +- 0.004495798261692176\n",
      "####################################################################################################\n"
     ]
    },
    {
     "name": "stderr",
     "output_type": "stream",
     "text": [
      "[I 2025-01-17 21:46:32,205] Trial 151 finished with value: 0.6742239423390182 and parameters: {'max_bin': 508, 'learning_rate': 0.1001899270202233, 'max_depth': 4, 'gamma': 0.288609894605353, 'min_child_weight': 24.177244812327633, 'subsample': 0.9455082185384445, 'colsample_bytree': 0.8556355894189134, 'colsample_bylevel': 0.8439435884993373, 'colsample_bynode': 0.925604735590407, 'reg_alpha': 9.615518440802238e-06, 'reg_lambda': 9.812627748522349, 'max_cat_threshold': 596}. Best is trial 125 with value: 0.6749760027835249.\n"
     ]
    },
    {
     "name": "stdout",
     "output_type": "stream",
     "text": [
      "####################################################################################################\n",
      "OOF prediction score :  0.6742239423390182\n",
      "Mean 5-cv results : 0.6716628708575447 +- 0.0037083561387955028\n",
      "####################################################################################################\n"
     ]
    },
    {
     "name": "stderr",
     "output_type": "stream",
     "text": [
      "[I 2025-01-17 21:46:40,927] Trial 152 finished with value: 0.6729543316789954 and parameters: {'max_bin': 729, 'learning_rate': 0.10552964559320449, 'max_depth': 5, 'gamma': 0.29254783595745637, 'min_child_weight': 31.44070178827485, 'subsample': 0.9502975430158587, 'colsample_bytree': 0.8558596361106671, 'colsample_bylevel': 0.8370027456940464, 'colsample_bynode': 0.9245070672063025, 'reg_alpha': 7.332645861436077e-06, 'reg_lambda': 4.32774704840963, 'max_cat_threshold': 584}. Best is trial 125 with value: 0.6749760027835249.\n"
     ]
    },
    {
     "name": "stdout",
     "output_type": "stream",
     "text": [
      "####################################################################################################\n",
      "OOF prediction score :  0.6729543316789954\n",
      "Mean 5-cv results : 0.6703992377306902 +- 0.005325943137107418\n",
      "####################################################################################################\n"
     ]
    },
    {
     "name": "stderr",
     "output_type": "stream",
     "text": [
      "[I 2025-01-17 21:46:53,132] Trial 153 finished with value: 0.674047574195536 and parameters: {'max_bin': 503, 'learning_rate': 0.1011105713613311, 'max_depth': 4, 'gamma': 0.007914016895107007, 'min_child_weight': 18.95121035398447, 'subsample': 0.9540229136212295, 'colsample_bytree': 0.8462089075978533, 'colsample_bylevel': 0.8436314971060479, 'colsample_bynode': 0.932692801672679, 'reg_alpha': 9.926169042326314e-06, 'reg_lambda': 6.545745526188965, 'max_cat_threshold': 956}. Best is trial 125 with value: 0.6749760027835249.\n"
     ]
    },
    {
     "name": "stdout",
     "output_type": "stream",
     "text": [
      "####################################################################################################\n",
      "OOF prediction score :  0.674047574195536\n",
      "Mean 5-cv results : 0.6719531081068825 +- 0.004142807738943949\n",
      "####################################################################################################\n"
     ]
    },
    {
     "name": "stderr",
     "output_type": "stream",
     "text": [
      "[I 2025-01-17 21:47:04,661] Trial 154 finished with value: 0.6743759365675432 and parameters: {'max_bin': 504, 'learning_rate': 0.1013456199853295, 'max_depth': 3, 'gamma': 0.03377375556629231, 'min_child_weight': 24.632869454243586, 'subsample': 0.9615455977436175, 'colsample_bytree': 0.866987572440454, 'colsample_bylevel': 0.843227052159541, 'colsample_bynode': 0.9144763062302301, 'reg_alpha': 1.357061443035459e-05, 'reg_lambda': 6.605364884212008, 'max_cat_threshold': 857}. Best is trial 125 with value: 0.6749760027835249.\n"
     ]
    },
    {
     "name": "stdout",
     "output_type": "stream",
     "text": [
      "####################################################################################################\n",
      "OOF prediction score :  0.6743759365675432\n",
      "Mean 5-cv results : 0.6723684958614414 +- 0.00467551936281883\n",
      "####################################################################################################\n"
     ]
    },
    {
     "name": "stderr",
     "output_type": "stream",
     "text": [
      "[I 2025-01-17 21:47:16,253] Trial 155 finished with value: 0.6748260700406753 and parameters: {'max_bin': 498, 'learning_rate': 0.10081378657034926, 'max_depth': 3, 'gamma': 0.0020973869228624246, 'min_child_weight': 23.64335727211618, 'subsample': 0.9551632774060711, 'colsample_bytree': 0.8694011696645012, 'colsample_bylevel': 0.8444846916811762, 'colsample_bynode': 0.9119322317480922, 'reg_alpha': 1.1239364799131756e-05, 'reg_lambda': 6.801194514403963, 'max_cat_threshold': 863}. Best is trial 125 with value: 0.6749760027835249.\n"
     ]
    },
    {
     "name": "stdout",
     "output_type": "stream",
     "text": [
      "####################################################################################################\n",
      "OOF prediction score :  0.6748260700406753\n",
      "Mean 5-cv results : 0.6728186065759802 +- 0.004400325550065586\n",
      "####################################################################################################\n"
     ]
    },
    {
     "name": "stderr",
     "output_type": "stream",
     "text": [
      "[I 2025-01-17 21:47:26,817] Trial 156 finished with value: 0.6717189278069676 and parameters: {'max_bin': 428, 'learning_rate': 0.1001542097469128, 'max_depth': 3, 'gamma': 0.5715399423069821, 'min_child_weight': 18.39105865314328, 'subsample': 0.9565226940505757, 'colsample_bytree': 0.8688280919818305, 'colsample_bylevel': 0.8480186747832896, 'colsample_bynode': 0.9040160231732365, 'reg_alpha': 1.4317025215468541e-05, 'reg_lambda': 6.107447271944646, 'max_cat_threshold': 973}. Best is trial 125 with value: 0.6749760027835249.\n"
     ]
    },
    {
     "name": "stdout",
     "output_type": "stream",
     "text": [
      "####################################################################################################\n",
      "OOF prediction score :  0.6717189278069676\n",
      "Mean 5-cv results : 0.6697503763955288 +- 0.0037675087479472295\n",
      "####################################################################################################\n"
     ]
    },
    {
     "name": "stderr",
     "output_type": "stream",
     "text": [
      "[I 2025-01-17 21:47:37,678] Trial 157 finished with value: 0.673327006246177 and parameters: {'max_bin': 581, 'learning_rate': 0.10025023984034756, 'max_depth': 3, 'gamma': 0.3071723092745593, 'min_child_weight': 23.34122678090598, 'subsample': 0.9616163117825254, 'colsample_bytree': 0.8653216144503846, 'colsample_bylevel': 0.83721458293215, 'colsample_bynode': 0.9111249792042557, 'reg_alpha': 9.693807252455298e-06, 'reg_lambda': 7.666466278968501, 'max_cat_threshold': 790}. Best is trial 125 with value: 0.6749760027835249.\n"
     ]
    },
    {
     "name": "stdout",
     "output_type": "stream",
     "text": [
      "####################################################################################################\n",
      "OOF prediction score :  0.673327006246177\n",
      "Mean 5-cv results : 0.671336796974377 +- 0.0037114944037943405\n",
      "####################################################################################################\n"
     ]
    },
    {
     "name": "stderr",
     "output_type": "stream",
     "text": [
      "[I 2025-01-17 21:47:50,690] Trial 158 finished with value: 0.6747704167523864 and parameters: {'max_bin': 492, 'learning_rate': 0.10796979561498991, 'max_depth': 3, 'gamma': 0.0026359006467398527, 'min_child_weight': 36.50943880249829, 'subsample': 0.9662844199650005, 'colsample_bytree': 0.8489621602402945, 'colsample_bylevel': 0.8521424716788878, 'colsample_bynode': 0.9071490821736948, 'reg_alpha': 1.28938234662697e-06, 'reg_lambda': 5.556383644236063, 'max_cat_threshold': 980}. Best is trial 125 with value: 0.6749760027835249.\n"
     ]
    },
    {
     "name": "stdout",
     "output_type": "stream",
     "text": [
      "####################################################################################################\n",
      "OOF prediction score :  0.6747704167523864\n",
      "Mean 5-cv results : 0.672685624489128 +- 0.004065487716036286\n",
      "####################################################################################################\n"
     ]
    },
    {
     "name": "stderr",
     "output_type": "stream",
     "text": [
      "[I 2025-01-17 21:48:01,733] Trial 159 finished with value: 0.6741009050504988 and parameters: {'max_bin': 479, 'learning_rate': 0.11248448975818068, 'max_depth': 3, 'gamma': 0.02543554431330204, 'min_child_weight': 53.335321150245505, 'subsample': 0.9676337444701968, 'colsample_bytree': 0.8497853039128328, 'colsample_bylevel': 0.8511605509298203, 'colsample_bynode': 0.9141073336534081, 'reg_alpha': 1.0040209257012736e-06, 'reg_lambda': 9.339736031508911, 'max_cat_threshold': 878}. Best is trial 125 with value: 0.6749760027835249.\n"
     ]
    },
    {
     "name": "stdout",
     "output_type": "stream",
     "text": [
      "####################################################################################################\n",
      "OOF prediction score :  0.6741009050504988\n",
      "Mean 5-cv results : 0.672207967622805 +- 0.003759348191848883\n",
      "####################################################################################################\n"
     ]
    },
    {
     "name": "stderr",
     "output_type": "stream",
     "text": [
      "[I 2025-01-17 21:48:12,400] Trial 160 finished with value: 0.6741173777031582 and parameters: {'max_bin': 488, 'learning_rate': 0.11351747191327359, 'max_depth': 3, 'gamma': 0.02884702223407937, 'min_child_weight': 53.15270118756834, 'subsample': 0.9692510033288699, 'colsample_bytree': 0.8519591347774572, 'colsample_bylevel': 0.8528893364769906, 'colsample_bynode': 0.9156202775775689, 'reg_alpha': 1.0793492463363698e-06, 'reg_lambda': 9.91030433221568, 'max_cat_threshold': 968}. Best is trial 125 with value: 0.6749760027835249.\n"
     ]
    },
    {
     "name": "stdout",
     "output_type": "stream",
     "text": [
      "####################################################################################################\n",
      "OOF prediction score :  0.6741173777031582\n",
      "Mean 5-cv results : 0.6715511649368197 +- 0.003780235923802817\n",
      "####################################################################################################\n"
     ]
    },
    {
     "name": "stderr",
     "output_type": "stream",
     "text": [
      "[I 2025-01-17 21:48:24,921] Trial 161 finished with value: 0.6750295532351162 and parameters: {'max_bin': 490, 'learning_rate': 0.11223069193972894, 'max_depth': 3, 'gamma': 0.019699437182827715, 'min_child_weight': 43.449970093398896, 'subsample': 0.9756667769122566, 'colsample_bytree': 0.8506752422082434, 'colsample_bylevel': 0.8536284825404062, 'colsample_bynode': 0.8960239922443487, 'reg_alpha': 1.1145129318271403e-06, 'reg_lambda': 9.036144614333589, 'max_cat_threshold': 977}. Best is trial 161 with value: 0.6750295532351162.\n"
     ]
    },
    {
     "name": "stdout",
     "output_type": "stream",
     "text": [
      "####################################################################################################\n",
      "OOF prediction score :  0.6750295532351162\n",
      "Mean 5-cv results : 0.6728154025386327 +- 0.004560652365744567\n",
      "####################################################################################################\n"
     ]
    },
    {
     "name": "stderr",
     "output_type": "stream",
     "text": [
      "[I 2025-01-17 21:48:35,761] Trial 162 finished with value: 0.6752398279874267 and parameters: {'max_bin': 499, 'learning_rate': 0.11326862380018819, 'max_depth': 3, 'gamma': 0.002439715952790772, 'min_child_weight': 54.25642718973529, 'subsample': 0.9671183453035862, 'colsample_bytree': 0.8503983407770378, 'colsample_bylevel': 0.852912146438756, 'colsample_bynode': 0.8992361695930168, 'reg_alpha': 1.0632348506006531e-06, 'reg_lambda': 7.695921926683228, 'max_cat_threshold': 928}. Best is trial 162 with value: 0.6752398279874267.\n"
     ]
    },
    {
     "name": "stdout",
     "output_type": "stream",
     "text": [
      "####################################################################################################\n",
      "OOF prediction score :  0.6752398279874267\n",
      "Mean 5-cv results : 0.6729806391156586 +- 0.0033973074227502007\n",
      "####################################################################################################\n"
     ]
    },
    {
     "name": "stderr",
     "output_type": "stream",
     "text": [
      "[I 2025-01-17 21:48:45,012] Trial 163 finished with value: 0.6720908477790684 and parameters: {'max_bin': 508, 'learning_rate': 0.11244729368015362, 'max_depth': 3, 'gamma': 0.5482598401418137, 'min_child_weight': 52.274547849407035, 'subsample': 0.9664445058887835, 'colsample_bytree': 0.8534586603477334, 'colsample_bylevel': 0.8527510208209754, 'colsample_bynode': 0.8876744634165081, 'reg_alpha': 1.3636383455432423e-06, 'reg_lambda': 6.034865224357773, 'max_cat_threshold': 942}. Best is trial 162 with value: 0.6752398279874267.\n"
     ]
    },
    {
     "name": "stdout",
     "output_type": "stream",
     "text": [
      "####################################################################################################\n",
      "OOF prediction score :  0.6720908477790684\n",
      "Mean 5-cv results : 0.6704018892392496 +- 0.0038825025412390387\n",
      "####################################################################################################\n"
     ]
    },
    {
     "name": "stderr",
     "output_type": "stream",
     "text": [
      "[I 2025-01-17 21:48:56,874] Trial 164 finished with value: 0.6743715936554063 and parameters: {'max_bin': 569, 'learning_rate': 0.10678818691581592, 'max_depth': 3, 'gamma': 0.22644606061942243, 'min_child_weight': 56.55443677496105, 'subsample': 0.9632617524545724, 'colsample_bytree': 0.8614100618887441, 'colsample_bylevel': 0.8537647906430298, 'colsample_bynode': 0.8916829955137152, 'reg_alpha': 1.1341823354977882e-06, 'reg_lambda': 9.032061075520266, 'max_cat_threshold': 833}. Best is trial 162 with value: 0.6752398279874267.\n"
     ]
    },
    {
     "name": "stdout",
     "output_type": "stream",
     "text": [
      "####################################################################################################\n",
      "OOF prediction score :  0.6743715936554063\n",
      "Mean 5-cv results : 0.6724351179700185 +- 0.003119569053939083\n",
      "####################################################################################################\n"
     ]
    },
    {
     "name": "stderr",
     "output_type": "stream",
     "text": [
      "[I 2025-01-17 21:49:07,541] Trial 165 finished with value: 0.6745385031093737 and parameters: {'max_bin': 396, 'learning_rate': 0.11358637749180082, 'max_depth': 3, 'gamma': 0.20464371376803975, 'min_child_weight': 78.39398205079684, 'subsample': 0.9616743437828776, 'colsample_bytree': 0.8584081712156111, 'colsample_bylevel': 0.8530285946326573, 'colsample_bynode': 0.8950926099945903, 'reg_alpha': 1.0512841297055968e-06, 'reg_lambda': 5.772120201292709, 'max_cat_threshold': 835}. Best is trial 162 with value: 0.6752398279874267.\n"
     ]
    },
    {
     "name": "stdout",
     "output_type": "stream",
     "text": [
      "####################################################################################################\n",
      "OOF prediction score :  0.6745385031093737\n",
      "Mean 5-cv results : 0.6724896748430489 +- 0.004679575897407784\n",
      "####################################################################################################\n"
     ]
    },
    {
     "name": "stderr",
     "output_type": "stream",
     "text": [
      "[I 2025-01-17 21:49:15,749] Trial 166 finished with value: 0.6701937499768142 and parameters: {'max_bin': 397, 'learning_rate': 0.11401789219424541, 'max_depth': 3, 'gamma': 0.7719305597043993, 'min_child_weight': 93.36182134671573, 'subsample': 0.9690082641136573, 'colsample_bytree': 0.8592338409818966, 'colsample_bylevel': 0.8529875896168075, 'colsample_bynode': 0.8986489118791052, 'reg_alpha': 1.5435061674795074e-06, 'reg_lambda': 6.03870374830491, 'max_cat_threshold': 858}. Best is trial 162 with value: 0.6752398279874267.\n"
     ]
    },
    {
     "name": "stdout",
     "output_type": "stream",
     "text": [
      "####################################################################################################\n",
      "OOF prediction score :  0.6701937499768142\n",
      "Mean 5-cv results : 0.6686641977030643 +- 0.003807396055496368\n",
      "####################################################################################################\n"
     ]
    },
    {
     "name": "stderr",
     "output_type": "stream",
     "text": [
      "[I 2025-01-17 21:49:27,748] Trial 167 finished with value: 0.6739444306441185 and parameters: {'max_bin': 443, 'learning_rate': 0.11236501485841062, 'max_depth': 3, 'gamma': 0.2121872319892975, 'min_child_weight': 57.06376548470712, 'subsample': 0.9631264874933078, 'colsample_bytree': 0.8431131851417414, 'colsample_bylevel': 0.8567887084171414, 'colsample_bynode': 0.8926613214044553, 'reg_alpha': 1.0443948128036282e-06, 'reg_lambda': 9.51400819486487, 'max_cat_threshold': 970}. Best is trial 162 with value: 0.6752398279874267.\n"
     ]
    },
    {
     "name": "stdout",
     "output_type": "stream",
     "text": [
      "####################################################################################################\n",
      "OOF prediction score :  0.6739444306441185\n",
      "Mean 5-cv results : 0.6720434872878126 +- 0.004435149465061429\n",
      "####################################################################################################\n"
     ]
    },
    {
     "name": "stderr",
     "output_type": "stream",
     "text": [
      "[I 2025-01-17 21:49:37,113] Trial 168 finished with value: 0.6738659142881145 and parameters: {'max_bin': 485, 'learning_rate': 0.11536348636273047, 'max_depth': 3, 'gamma': 0.3991559491341688, 'min_child_weight': 77.28203516788652, 'subsample': 0.9591063184151072, 'colsample_bytree': 0.8514548660768103, 'colsample_bylevel': 0.8507000198367805, 'colsample_bynode': 0.9059360382776587, 'reg_alpha': 1.8341850180496971e-06, 'reg_lambda': 5.322315802551182, 'max_cat_threshold': 774}. Best is trial 162 with value: 0.6752398279874267.\n"
     ]
    },
    {
     "name": "stdout",
     "output_type": "stream",
     "text": [
      "####################################################################################################\n",
      "OOF prediction score :  0.6738659142881145\n",
      "Mean 5-cv results : 0.671913982724929 +- 0.0039629728226631186\n",
      "####################################################################################################\n"
     ]
    },
    {
     "name": "stderr",
     "output_type": "stream",
     "text": [
      "[I 2025-01-17 21:49:45,027] Trial 169 finished with value: 0.6709828219835889 and parameters: {'max_bin': 536, 'learning_rate': 0.11847286301616476, 'max_depth': 3, 'gamma': 0.614580643989308, 'min_child_weight': 44.01892384343195, 'subsample': 0.9674953038043914, 'colsample_bytree': 0.8458357448198623, 'colsample_bylevel': 0.8549604832449348, 'colsample_bynode': 0.8932198847349623, 'reg_alpha': 1.0092098533597273e-06, 'reg_lambda': 9.95565900696938, 'max_cat_threshold': 832}. Best is trial 162 with value: 0.6752398279874267.\n"
     ]
    },
    {
     "name": "stdout",
     "output_type": "stream",
     "text": [
      "####################################################################################################\n",
      "OOF prediction score :  0.6709828219835889\n",
      "Mean 5-cv results : 0.6692792708370601 +- 0.003325521461786097\n",
      "####################################################################################################\n"
     ]
    },
    {
     "name": "stderr",
     "output_type": "stream",
     "text": [
      "[I 2025-01-17 21:49:54,034] Trial 170 finished with value: 0.6734916041417407 and parameters: {'max_bin': 607, 'learning_rate': 0.11076326092532031, 'max_depth': 4, 'gamma': 0.2074045613498294, 'min_child_weight': 45.249013365050864, 'subsample': 0.9798542522051028, 'colsample_bytree': 0.861526216374959, 'colsample_bylevel': 0.8502462822797541, 'colsample_bynode': 0.8817391823708918, 'reg_alpha': 1.7057196138847498e-06, 'reg_lambda': 3.7891486139602115, 'max_cat_threshold': 668}. Best is trial 162 with value: 0.6752398279874267.\n"
     ]
    },
    {
     "name": "stdout",
     "output_type": "stream",
     "text": [
      "####################################################################################################\n",
      "OOF prediction score :  0.6734916041417407\n",
      "Mean 5-cv results : 0.6714169436640739 +- 0.003345047234715846\n",
      "####################################################################################################\n"
     ]
    },
    {
     "name": "stderr",
     "output_type": "stream",
     "text": [
      "[I 2025-01-17 21:50:05,407] Trial 171 finished with value: 0.6747494066507014 and parameters: {'max_bin': 402, 'learning_rate': 0.1082260908608567, 'max_depth': 4, 'gamma': 0.18852343139022065, 'min_child_weight': 60.19317397827448, 'subsample': 0.9567781636897155, 'colsample_bytree': 0.8563676208081821, 'colsample_bylevel': 0.8421953025033876, 'colsample_bynode': 0.8978604972538996, 'reg_alpha': 2.177020456105473e-06, 'reg_lambda': 7.270817988674394, 'max_cat_threshold': 712}. Best is trial 162 with value: 0.6752398279874267.\n"
     ]
    },
    {
     "name": "stdout",
     "output_type": "stream",
     "text": [
      "####################################################################################################\n",
      "OOF prediction score :  0.6747494066507014\n",
      "Mean 5-cv results : 0.6726628236639179 +- 0.004066061003604299\n",
      "####################################################################################################\n"
     ]
    },
    {
     "name": "stderr",
     "output_type": "stream",
     "text": [
      "[I 2025-01-17 21:50:15,997] Trial 172 finished with value: 0.6751451227042399 and parameters: {'max_bin': 386, 'learning_rate': 0.1087950762115571, 'max_depth': 3, 'gamma': 0.2110195591882298, 'min_child_weight': 61.67991590151257, 'subsample': 0.9634871472367178, 'colsample_bytree': 0.856888925265593, 'colsample_bylevel': 0.8589579013127807, 'colsample_bynode': 0.8980576043674473, 'reg_alpha': 1.0016699658321534e-06, 'reg_lambda': 6.874515108785484, 'max_cat_threshold': 969}. Best is trial 162 with value: 0.6752398279874267.\n"
     ]
    },
    {
     "name": "stdout",
     "output_type": "stream",
     "text": [
      "####################################################################################################\n",
      "OOF prediction score :  0.6751451227042399\n",
      "Mean 5-cv results : 0.6732555355535556 +- 0.003985367728901826\n",
      "####################################################################################################\n"
     ]
    },
    {
     "name": "stderr",
     "output_type": "stream",
     "text": [
      "[I 2025-01-17 21:50:23,615] Trial 173 finished with value: 0.6702050957923801 and parameters: {'max_bin': 392, 'learning_rate': 0.10788851777859366, 'max_depth': 38, 'gamma': 0.48134740220988514, 'min_child_weight': 74.77658283995636, 'subsample': 0.9633590879783579, 'colsample_bytree': 0.8574544192862548, 'colsample_bylevel': 0.8595296504545822, 'colsample_bynode': 0.8955551582303227, 'reg_alpha': 1.4520660968809472e-06, 'reg_lambda': 7.59071174786216, 'max_cat_threshold': 701}. Best is trial 162 with value: 0.6752398279874267.\n"
     ]
    },
    {
     "name": "stdout",
     "output_type": "stream",
     "text": [
      "####################################################################################################\n",
      "OOF prediction score :  0.6702050957923801\n",
      "Mean 5-cv results : 0.6683456311987929 +- 0.003885439973586885\n",
      "####################################################################################################\n"
     ]
    },
    {
     "name": "stderr",
     "output_type": "stream",
     "text": [
      "[I 2025-01-17 21:50:34,742] Trial 174 finished with value: 0.674692395822844 and parameters: {'max_bin': 432, 'learning_rate': 0.11363665346006475, 'max_depth': 3, 'gamma': 0.2334993941810329, 'min_child_weight': 55.82784663604218, 'subsample': 0.9703748830379694, 'colsample_bytree': 0.8611707614816136, 'colsample_bylevel': 0.853329421291216, 'colsample_bynode': 0.9053564752870608, 'reg_alpha': 2.1553564275200466e-06, 'reg_lambda': 4.828486508984622, 'max_cat_threshold': 821}. Best is trial 162 with value: 0.6752398279874267.\n"
     ]
    },
    {
     "name": "stdout",
     "output_type": "stream",
     "text": [
      "####################################################################################################\n",
      "OOF prediction score :  0.674692395822844\n",
      "Mean 5-cv results : 0.6726557229990574 +- 0.0034178895212827196\n",
      "####################################################################################################\n"
     ]
    },
    {
     "name": "stderr",
     "output_type": "stream",
     "text": [
      "[I 2025-01-17 21:50:44,336] Trial 175 finished with value: 0.6750325385410675 and parameters: {'max_bin': 446, 'learning_rate': 0.11492906004411656, 'max_depth': 3, 'gamma': 0.261582290188253, 'min_child_weight': 60.7812293537352, 'subsample': 0.9574571103927335, 'colsample_bytree': 0.869808606799338, 'colsample_bylevel': 0.8564595076128994, 'colsample_bynode': 0.9051325135891671, 'reg_alpha': 2.413707329219038e-06, 'reg_lambda': 4.555462188799825, 'max_cat_threshold': 773}. Best is trial 162 with value: 0.6752398279874267.\n"
     ]
    },
    {
     "name": "stdout",
     "output_type": "stream",
     "text": [
      "####################################################################################################\n",
      "OOF prediction score :  0.6750325385410675\n",
      "Mean 5-cv results : 0.6729756376768496 +- 0.0038503587572725944\n",
      "####################################################################################################\n"
     ]
    },
    {
     "name": "stderr",
     "output_type": "stream",
     "text": [
      "[I 2025-01-17 21:50:51,280] Trial 176 finished with value: 0.6709584119014846 and parameters: {'max_bin': 427, 'learning_rate': 0.10739487327079361, 'max_depth': 6, 'gamma': 0.6764570369516564, 'min_child_weight': 90.38232774277571, 'subsample': 0.9579698290179267, 'colsample_bytree': 0.8722602102517872, 'colsample_bylevel': 0.8659844630284795, 'colsample_bynode': 0.9021480634031849, 'reg_alpha': 2.4232023638071044e-06, 'reg_lambda': 3.9398174558187815, 'max_cat_threshold': 681}. Best is trial 162 with value: 0.6752398279874267.\n"
     ]
    },
    {
     "name": "stdout",
     "output_type": "stream",
     "text": [
      "####################################################################################################\n",
      "OOF prediction score :  0.6709584119014846\n",
      "Mean 5-cv results : 0.6690400694650653 +- 0.0028354745124766624\n",
      "####################################################################################################\n"
     ]
    },
    {
     "name": "stderr",
     "output_type": "stream",
     "text": [
      "[I 2025-01-17 21:51:02,530] Trial 177 finished with value: 0.6742140936902867 and parameters: {'max_bin': 374, 'learning_rate': 0.11553026527219674, 'max_depth': 3, 'gamma': 0.29004220214702503, 'min_child_weight': 66.66728029262788, 'subsample': 0.9603802461720913, 'colsample_bytree': 0.8671116292863719, 'colsample_bylevel': 0.8596387257089327, 'colsample_bynode': 0.9074071375097584, 'reg_alpha': 2.0267689392046346e-06, 'reg_lambda': 2.6639934071385842, 'max_cat_threshold': 801}. Best is trial 162 with value: 0.6752398279874267.\n"
     ]
    },
    {
     "name": "stdout",
     "output_type": "stream",
     "text": [
      "####################################################################################################\n",
      "OOF prediction score :  0.6742140936902867\n",
      "Mean 5-cv results : 0.6721779594496236 +- 0.004930229678225279\n",
      "####################################################################################################\n"
     ]
    },
    {
     "name": "stderr",
     "output_type": "stream",
     "text": [
      "[I 2025-01-17 21:51:09,612] Trial 178 finished with value: 0.6694766481766753 and parameters: {'max_bin': 348, 'learning_rate': 0.11005561837708273, 'max_depth': 4, 'gamma': 0.9809675784541134, 'min_child_weight': 61.36274221288619, 'subsample': 0.9552855518785051, 'colsample_bytree': 0.8759814785598531, 'colsample_bylevel': 0.856385655178301, 'colsample_bynode': 0.8967685529288866, 'reg_alpha': 1.7492386871656809e-06, 'reg_lambda': 1.0205247784099585e-06, 'max_cat_threshold': 649}. Best is trial 162 with value: 0.6752398279874267.\n"
     ]
    },
    {
     "name": "stdout",
     "output_type": "stream",
     "text": [
      "####################################################################################################\n",
      "OOF prediction score :  0.6694766481766753\n",
      "Mean 5-cv results : 0.667839563561685 +- 0.003760546388602232\n",
      "####################################################################################################\n"
     ]
    },
    {
     "name": "stderr",
     "output_type": "stream",
     "text": [
      "[I 2025-01-17 21:51:17,366] Trial 179 finished with value: 0.6724458585326979 and parameters: {'max_bin': 438, 'learning_rate': 0.11851959180686565, 'max_depth': 5, 'gamma': 0.45931189421638097, 'min_child_weight': 38.86726164256752, 'subsample': 0.9623521189182173, 'colsample_bytree': 0.8619298214415951, 'colsample_bylevel': 0.8475404499227894, 'colsample_bynode': 0.8893655386943964, 'reg_alpha': 2.707994818860322e-06, 'reg_lambda': 4.894724221976379, 'max_cat_threshold': 781}. Best is trial 162 with value: 0.6752398279874267.\n"
     ]
    },
    {
     "name": "stdout",
     "output_type": "stream",
     "text": [
      "####################################################################################################\n",
      "OOF prediction score :  0.6724458585326979\n",
      "Mean 5-cv results : 0.6701965664830756 +- 0.0042384954741667745\n",
      "####################################################################################################\n"
     ]
    },
    {
     "name": "stderr",
     "output_type": "stream",
     "text": [
      "[I 2025-01-17 21:51:26,653] Trial 180 finished with value: 0.6741999723657573 and parameters: {'max_bin': 391, 'learning_rate': 0.10612700415648547, 'max_depth': 4, 'gamma': 0.24016778537377667, 'min_child_weight': 79.8849461337601, 'subsample': 0.964529986037168, 'colsample_bytree': 0.8714344763440787, 'colsample_bylevel': 0.841724148874795, 'colsample_bynode': 0.8837734684386926, 'reg_alpha': 1.9822534939282497e-06, 'reg_lambda': 4.751636175058283, 'max_cat_threshold': 641}. Best is trial 162 with value: 0.6752398279874267.\n"
     ]
    },
    {
     "name": "stdout",
     "output_type": "stream",
     "text": [
      "####################################################################################################\n",
      "OOF prediction score :  0.6741999723657573\n",
      "Mean 5-cv results : 0.6719022520725297 +- 0.003826441607779774\n",
      "####################################################################################################\n"
     ]
    },
    {
     "name": "stderr",
     "output_type": "stream",
     "text": [
      "[I 2025-01-17 21:51:37,792] Trial 181 finished with value: 0.674232510464913 and parameters: {'max_bin': 367, 'learning_rate': 0.1159766061699261, 'max_depth': 3, 'gamma': 0.34666439962676265, 'min_child_weight': 63.00946059505393, 'subsample': 0.9595851783055529, 'colsample_bytree': 0.8653964121059285, 'colsample_bylevel': 0.8612764893750412, 'colsample_bynode': 0.9067463016027277, 'reg_alpha': 1.4830093870221689e-06, 'reg_lambda': 2.5499124015366657, 'max_cat_threshold': 776}. Best is trial 162 with value: 0.6752398279874267.\n"
     ]
    },
    {
     "name": "stdout",
     "output_type": "stream",
     "text": [
      "####################################################################################################\n",
      "OOF prediction score :  0.674232510464913\n",
      "Mean 5-cv results : 0.6724623215004757 +- 0.0032315629122961526\n",
      "####################################################################################################\n"
     ]
    },
    {
     "name": "stderr",
     "output_type": "stream",
     "text": [
      "[I 2025-01-17 21:51:48,370] Trial 182 finished with value: 0.6748147528557034 and parameters: {'max_bin': 447, 'learning_rate': 0.11651705831793933, 'max_depth': 3, 'gamma': 0.2410543150067283, 'min_child_weight': 46.62138798466557, 'subsample': 0.9570619953927199, 'colsample_bytree': 0.8064268904521628, 'colsample_bylevel': 0.8631762957584992, 'colsample_bynode': 0.9012655773568509, 'reg_alpha': 1.4392605740991387e-06, 'reg_lambda': 2.500868209482031, 'max_cat_threshold': 781}. Best is trial 162 with value: 0.6752398279874267.\n"
     ]
    },
    {
     "name": "stdout",
     "output_type": "stream",
     "text": [
      "####################################################################################################\n",
      "OOF prediction score :  0.6748147528557034\n",
      "Mean 5-cv results : 0.6725237803877157 +- 0.004276640095070408\n",
      "####################################################################################################\n"
     ]
    },
    {
     "name": "stderr",
     "output_type": "stream",
     "text": [
      "[I 2025-01-17 21:51:57,065] Trial 183 finished with value: 0.6725400821055643 and parameters: {'max_bin': 416, 'learning_rate': 0.1164100921752648, 'max_depth': 3, 'gamma': 0.47706004679304026, 'min_child_weight': 46.15091819790609, 'subsample': 0.9577562518374392, 'colsample_bytree': 0.8679959842689637, 'colsample_bylevel': 0.8635049793974537, 'colsample_bynode': 0.9025585882438807, 'reg_alpha': 1.4100751397414221e-06, 'reg_lambda': 2.3543941732078664, 'max_cat_threshold': 991}. Best is trial 162 with value: 0.6752398279874267.\n"
     ]
    },
    {
     "name": "stdout",
     "output_type": "stream",
     "text": [
      "####################################################################################################\n",
      "OOF prediction score :  0.6725400821055643\n",
      "Mean 5-cv results : 0.671101723369947 +- 0.003952626461447711\n",
      "####################################################################################################\n"
     ]
    },
    {
     "name": "stderr",
     "output_type": "stream",
     "text": [
      "[I 2025-01-17 21:52:08,729] Trial 184 finished with value: 0.6740405190491897 and parameters: {'max_bin': 442, 'learning_rate': 0.11963306167362994, 'max_depth': 3, 'gamma': 0.21882474650416867, 'min_child_weight': 57.64136768185784, 'subsample': 0.9702994805495937, 'colsample_bytree': 0.8068345040874965, 'colsample_bylevel': 0.869443385015351, 'colsample_bynode': 0.9058582454554404, 'reg_alpha': 2.451011497500645e-06, 'reg_lambda': 3.3415555009805944, 'max_cat_threshold': 792}. Best is trial 162 with value: 0.6752398279874267.\n"
     ]
    },
    {
     "name": "stdout",
     "output_type": "stream",
     "text": [
      "####################################################################################################\n",
      "OOF prediction score :  0.6740405190491897\n",
      "Mean 5-cv results : 0.6719365876081665 +- 0.003921357041591897\n",
      "####################################################################################################\n"
     ]
    },
    {
     "name": "stderr",
     "output_type": "stream",
     "text": [
      "[I 2025-01-17 21:52:15,916] Trial 185 finished with value: 0.6700879800340458 and parameters: {'max_bin': 364, 'learning_rate': 0.11450814146757983, 'max_depth': 4, 'gamma': 0.7689231420363983, 'min_child_weight': 65.04416097131947, 'subsample': 0.9605154926305193, 'colsample_bytree': 0.862115525059882, 'colsample_bylevel': 0.8569574107476778, 'colsample_bynode': 0.8990764308081712, 'reg_alpha': 1.2849100427489912e-06, 'reg_lambda': 2.145745840556193, 'max_cat_threshold': 714}. Best is trial 162 with value: 0.6752398279874267.\n"
     ]
    },
    {
     "name": "stdout",
     "output_type": "stream",
     "text": [
      "####################################################################################################\n",
      "OOF prediction score :  0.6700879800340458\n",
      "Mean 5-cv results : 0.6685745992939289 +- 0.0039033530185743842\n",
      "####################################################################################################\n"
     ]
    },
    {
     "name": "stderr",
     "output_type": "stream",
     "text": [
      "[I 2025-01-17 21:52:24,339] Trial 186 finished with value: 0.673536955002642 and parameters: {'max_bin': 563, 'learning_rate': 0.11137389721286779, 'max_depth': 5, 'gamma': 0.18771541124353136, 'min_child_weight': 43.01617985494411, 'subsample': 0.9549297063061363, 'colsample_bytree': 0.857801377524038, 'colsample_bylevel': 0.8619002499641153, 'colsample_bynode': 0.9100152460026852, 'reg_alpha': 1.726840105681375e-06, 'reg_lambda': 6.163416807337327, 'max_cat_threshold': 833}. Best is trial 162 with value: 0.6752398279874267.\n"
     ]
    },
    {
     "name": "stdout",
     "output_type": "stream",
     "text": [
      "####################################################################################################\n",
      "OOF prediction score :  0.673536955002642\n",
      "Mean 5-cv results : 0.6706379873078763 +- 0.003886766567927254\n",
      "####################################################################################################\n"
     ]
    },
    {
     "name": "stderr",
     "output_type": "stream",
     "text": [
      "[I 2025-01-17 21:52:33,108] Trial 187 finished with value: 0.6716034997637916 and parameters: {'max_bin': 342, 'learning_rate': 0.10863616233718536, 'max_depth': 3, 'gamma': 0.5255292713417485, 'min_child_weight': 37.23534996619846, 'subsample': 0.9651962710352614, 'colsample_bytree': 0.8631499361936177, 'colsample_bylevel': 0.8545011149120931, 'colsample_bynode': 0.8953807036570183, 'reg_alpha': 3.1784552042988657e-06, 'reg_lambda': 4.1461321947490255, 'max_cat_threshold': 724}. Best is trial 162 with value: 0.6752398279874267.\n"
     ]
    },
    {
     "name": "stdout",
     "output_type": "stream",
     "text": [
      "####################################################################################################\n",
      "OOF prediction score :  0.6716034997637916\n",
      "Mean 5-cv results : 0.6698089769112929 +- 0.0034057747398659336\n",
      "####################################################################################################\n"
     ]
    },
    {
     "name": "stderr",
     "output_type": "stream",
     "text": [
      "[I 2025-01-17 21:52:43,528] Trial 188 finished with value: 0.6732748888285889 and parameters: {'max_bin': 395, 'learning_rate': 0.11686820154786241, 'max_depth': 3, 'gamma': 0.3387308089331814, 'min_child_weight': 62.034900199991306, 'subsample': 0.9779240019225961, 'colsample_bytree': 0.8089471858060858, 'colsample_bylevel': 0.8673368213287053, 'colsample_bynode': 0.8879345540993666, 'reg_alpha': 1.3743270051101127e-06, 'reg_lambda': 2.6783916579661566, 'max_cat_threshold': 996}. Best is trial 162 with value: 0.6752398279874267.\n"
     ]
    },
    {
     "name": "stdout",
     "output_type": "stream",
     "text": [
      "####################################################################################################\n",
      "OOF prediction score :  0.6732748888285889\n",
      "Mean 5-cv results : 0.6716496886000678 +- 0.00355790807112604\n",
      "####################################################################################################\n"
     ]
    },
    {
     "name": "stderr",
     "output_type": "stream",
     "text": [
      "[I 2025-01-17 21:52:50,003] Trial 189 finished with value: 0.6688892956441285 and parameters: {'max_bin': 455, 'learning_rate': 0.11237460318652472, 'max_depth': 5, 'gamma': 0.7779817833306308, 'min_child_weight': 53.10302538541102, 'subsample': 0.973634588662212, 'colsample_bytree': 0.8697823194842516, 'colsample_bylevel': 0.8506457575746388, 'colsample_bynode': 0.9010255927700404, 'reg_alpha': 1.0121746027011171e-06, 'reg_lambda': 6.481516525834546, 'max_cat_threshold': 821}. Best is trial 162 with value: 0.6752398279874267.\n"
     ]
    },
    {
     "name": "stdout",
     "output_type": "stream",
     "text": [
      "####################################################################################################\n",
      "OOF prediction score :  0.6688892956441285\n",
      "Mean 5-cv results : 0.6670542854798053 +- 0.0033251877615777833\n",
      "####################################################################################################\n"
     ]
    },
    {
     "name": "stderr",
     "output_type": "stream",
     "text": [
      "[I 2025-01-17 21:52:59,023] Trial 190 finished with value: 0.6684221572231908 and parameters: {'max_bin': 562, 'learning_rate': 0.1100003532717574, 'max_depth': 32, 'gamma': 0.1737809660646807, 'min_child_weight': 82.560299771348, 'subsample': 0.957319794671291, 'colsample_bytree': 0.8144342252953864, 'colsample_bylevel': 0.859812862951354, 'colsample_bynode': 0.9065016008407514, 'reg_alpha': 3.908162440717865e-06, 'reg_lambda': 1.8154944316834916, 'max_cat_threshold': 650}. Best is trial 162 with value: 0.6752398279874267.\n"
     ]
    },
    {
     "name": "stdout",
     "output_type": "stream",
     "text": [
      "####################################################################################################\n",
      "OOF prediction score :  0.6684221572231908\n",
      "Mean 5-cv results : 0.6657345925127163 +- 0.0038462854739258457\n",
      "####################################################################################################\n"
     ]
    },
    {
     "name": "stderr",
     "output_type": "stream",
     "text": [
      "[I 2025-01-17 21:53:09,775] Trial 191 finished with value: 0.6726833211636054 and parameters: {'max_bin': 485, 'learning_rate': 0.1067024936224938, 'max_depth': 4, 'gamma': 0.37266344237338356, 'min_child_weight': 33.61601073091346, 'subsample': 0.9616848140971602, 'colsample_bytree': 0.8064381166140566, 'colsample_bylevel': 0.8457850022170957, 'colsample_bynode': 0.9123826274346908, 'reg_alpha': 2.186226796091418e-06, 'reg_lambda': 6.768730791690165, 'max_cat_threshold': 863}. Best is trial 162 with value: 0.6752398279874267.\n"
     ]
    },
    {
     "name": "stdout",
     "output_type": "stream",
     "text": [
      "####################################################################################################\n",
      "OOF prediction score :  0.6726833211636054\n",
      "Mean 5-cv results : 0.6712989472637927 +- 0.0033794156660921356\n",
      "####################################################################################################\n"
     ]
    },
    {
     "name": "stderr",
     "output_type": "stream",
     "text": [
      "[I 2025-01-17 21:53:18,736] Trial 192 finished with value: 0.67384876024984 and parameters: {'max_bin': 526, 'learning_rate': 0.11483858678088556, 'max_depth': 4, 'gamma': 0.19937557906695083, 'min_child_weight': 69.91152358768562, 'subsample': 0.9537756385928846, 'colsample_bytree': 0.9720030852803434, 'colsample_bylevel': 0.848591656775035, 'colsample_bynode': 0.8929131268343947, 'reg_alpha': 2.6196943863770316e-06, 'reg_lambda': 4.473909893674794, 'max_cat_threshold': 590}. Best is trial 162 with value: 0.6752398279874267.\n"
     ]
    },
    {
     "name": "stdout",
     "output_type": "stream",
     "text": [
      "####################################################################################################\n",
      "OOF prediction score :  0.67384876024984\n",
      "Mean 5-cv results : 0.6722645143969916 +- 0.005558536491837758\n",
      "####################################################################################################\n"
     ]
    },
    {
     "name": "stderr",
     "output_type": "stream",
     "text": [
      "[I 2025-01-17 21:53:27,952] Trial 193 finished with value: 0.6717002804722638 and parameters: {'max_bin': 412, 'learning_rate': 0.10459084806788908, 'max_depth': 3, 'gamma': 0.5360621062514435, 'min_child_weight': 47.040474866993016, 'subsample': 0.971025133821626, 'colsample_bytree': 0.8035292384285897, 'colsample_bylevel': 0.8750261081572702, 'colsample_bynode': 0.8994126081791505, 'reg_alpha': 1.5502537576364661e-06, 'reg_lambda': 7.361681041676175, 'max_cat_threshold': 730}. Best is trial 162 with value: 0.6752398279874267.\n"
     ]
    },
    {
     "name": "stdout",
     "output_type": "stream",
     "text": [
      "####################################################################################################\n",
      "OOF prediction score :  0.6717002804722638\n",
      "Mean 5-cv results : 0.6699851303579083 +- 0.003702919082572846\n",
      "####################################################################################################\n"
     ]
    },
    {
     "name": "stderr",
     "output_type": "stream",
     "text": [
      "[I 2025-01-17 21:53:35,796] Trial 194 finished with value: 0.6722547013002308 and parameters: {'max_bin': 645, 'learning_rate': 0.10876868042334004, 'max_depth': 6, 'gamma': 0.32868105961187444, 'min_child_weight': 49.95145214598014, 'subsample': 0.9650887868677436, 'colsample_bytree': 0.85580676330793, 'colsample_bylevel': 0.8391020449282125, 'colsample_bynode': 0.9074831997485946, 'reg_alpha': 1.9588930872732e-06, 'reg_lambda': 5.031253262572266, 'max_cat_threshold': 596}. Best is trial 162 with value: 0.6752398279874267.\n"
     ]
    },
    {
     "name": "stdout",
     "output_type": "stream",
     "text": [
      "####################################################################################################\n",
      "OOF prediction score :  0.6722547013002308\n",
      "Mean 5-cv results : 0.6699340100628411 +- 0.0036422796984147297\n",
      "####################################################################################################\n"
     ]
    },
    {
     "name": "stderr",
     "output_type": "stream",
     "text": [
      "[I 2025-01-17 21:53:46,793] Trial 195 finished with value: 0.6748273896155281 and parameters: {'max_bin': 460, 'learning_rate': 0.1125949070491837, 'max_depth': 4, 'gamma': 0.1615809985527504, 'min_child_weight': 60.55398025039157, 'subsample': 0.9527807916686375, 'colsample_bytree': 0.858043304195183, 'colsample_bylevel': 0.8539475176920212, 'colsample_bynode': 0.9182315903217223, 'reg_alpha': 1.3488367213852168e-06, 'reg_lambda': 3.3755534761358708, 'max_cat_threshold': 996}. Best is trial 162 with value: 0.6752398279874267.\n"
     ]
    },
    {
     "name": "stdout",
     "output_type": "stream",
     "text": [
      "####################################################################################################\n",
      "OOF prediction score :  0.6748273896155281\n",
      "Mean 5-cv results : 0.6729649109201457 +- 0.0027753923718922707\n",
      "####################################################################################################\n"
     ]
    },
    {
     "name": "stderr",
     "output_type": "stream",
     "text": [
      "[I 2025-01-17 21:53:53,593] Trial 196 finished with value: 0.6723086538757086 and parameters: {'max_bin': 457, 'learning_rate': 0.17490560600697103, 'max_depth': 5, 'gamma': 0.15268844179488417, 'min_child_weight': 58.48492953971976, 'subsample': 0.9578224928902265, 'colsample_bytree': 0.8606045732312276, 'colsample_bylevel': 0.8543617933237848, 'colsample_bynode': 0.917066218582196, 'reg_alpha': 1.376042057449225e-06, 'reg_lambda': 3.6691033019525805, 'max_cat_threshold': 873}. Best is trial 162 with value: 0.6752398279874267.\n"
     ]
    },
    {
     "name": "stdout",
     "output_type": "stream",
     "text": [
      "####################################################################################################\n",
      "OOF prediction score :  0.6723086538757086\n",
      "Mean 5-cv results : 0.6692940597870407 +- 0.003942661676664189\n",
      "####################################################################################################\n"
     ]
    },
    {
     "name": "stderr",
     "output_type": "stream",
     "text": [
      "[I 2025-01-17 21:54:01,918] Trial 197 finished with value: 0.6709509650238319 and parameters: {'max_bin': 338, 'learning_rate': 0.11311076902344264, 'max_depth': 3, 'gamma': 0.6387481491945128, 'min_child_weight': 39.138494006580366, 'subsample': 0.9517022095811435, 'colsample_bytree': 0.8653797085026004, 'colsample_bylevel': 0.8576959853975269, 'colsample_bynode': 0.9033878561982915, 'reg_alpha': 3.3242780071071044e-06, 'reg_lambda': 3.133848451993895, 'max_cat_threshold': 968}. Best is trial 162 with value: 0.6752398279874267.\n"
     ]
    },
    {
     "name": "stdout",
     "output_type": "stream",
     "text": [
      "####################################################################################################\n",
      "OOF prediction score :  0.6709509650238319\n",
      "Mean 5-cv results : 0.669356186851525 +- 0.003643078196261872\n",
      "####################################################################################################\n"
     ]
    },
    {
     "name": "stderr",
     "output_type": "stream",
     "text": [
      "[I 2025-01-17 21:54:13,076] Trial 198 finished with value: 0.6747075351676507 and parameters: {'max_bin': 390, 'learning_rate': 0.11868852695141448, 'max_depth': 4, 'gamma': 0.011578337223898338, 'min_child_weight': 69.49175087545952, 'subsample': 0.9606353650743172, 'colsample_bytree': 0.8745925173800223, 'colsample_bylevel': 0.851687711707941, 'colsample_bynode': 0.8959680448573311, 'reg_alpha': 1.0185134954721726e-06, 'reg_lambda': 2.0639916684495945, 'max_cat_threshold': 738}. Best is trial 162 with value: 0.6752398279874267.\n"
     ]
    },
    {
     "name": "stdout",
     "output_type": "stream",
     "text": [
      "####################################################################################################\n",
      "OOF prediction score :  0.6747075351676507\n",
      "Mean 5-cv results : 0.6726810434599036 +- 0.004607728581843712\n",
      "####################################################################################################\n"
     ]
    },
    {
     "name": "stderr",
     "output_type": "stream",
     "text": [
      "[I 2025-01-17 21:54:21,490] Trial 199 finished with value: 0.6739362126053974 and parameters: {'max_bin': 598, 'learning_rate': 0.11897037891236242, 'max_depth': 5, 'gamma': 0.0032612301591841697, 'min_child_weight': 69.33849055339186, 'subsample': 0.9654371216382418, 'colsample_bytree': 0.875125612836749, 'colsample_bylevel': 0.8517382022716599, 'colsample_bynode': 0.8772573418560237, 'reg_alpha': 1.0897357683156636e-06, 'reg_lambda': 1.7454906276105817, 'max_cat_threshold': 989}. Best is trial 162 with value: 0.6752398279874267.\n"
     ]
    },
    {
     "name": "stdout",
     "output_type": "stream",
     "text": [
      "####################################################################################################\n",
      "OOF prediction score :  0.6739362126053974\n",
      "Mean 5-cv results : 0.6716797307844594 +- 0.005540235598837538\n",
      "####################################################################################################\n"
     ]
    },
    {
     "name": "stderr",
     "output_type": "stream",
     "text": [
      "[I 2025-01-17 21:54:29,538] Trial 200 finished with value: 0.6733612019380791 and parameters: {'max_bin': 409, 'learning_rate': 0.1106166699779934, 'max_depth': 6, 'gamma': 0.0055746189086476544, 'min_child_weight': 86.47375741728911, 'subsample': 0.9541074761684609, 'colsample_bytree': 0.8588238076941328, 'colsample_bylevel': 0.8486996452856608, 'colsample_bynode': 0.8925565499270727, 'reg_alpha': 2.117208991925951e-06, 'reg_lambda': 5.65427357978822, 'max_cat_threshold': 686}. Best is trial 162 with value: 0.6752398279874267.\n"
     ]
    },
    {
     "name": "stdout",
     "output_type": "stream",
     "text": [
      "####################################################################################################\n",
      "OOF prediction score :  0.6733612019380791\n",
      "Mean 5-cv results : 0.6708138778696571 +- 0.0041175035394281755\n",
      "####################################################################################################\n"
     ]
    },
    {
     "name": "stderr",
     "output_type": "stream",
     "text": [
      "[I 2025-01-17 21:54:37,759] Trial 201 finished with value: 0.673328773420907 and parameters: {'max_bin': 377, 'learning_rate': 0.11710479922853609, 'max_depth': 4, 'gamma': 0.38909730734341696, 'min_child_weight': 61.26643642368558, 'subsample': 0.9583581861769407, 'colsample_bytree': 0.8795262235520981, 'colsample_bylevel': 0.8626548755083623, 'colsample_bynode': 0.8967032840996991, 'reg_alpha': 1.4238503597050423e-06, 'reg_lambda': 3.003452137790097, 'max_cat_threshold': 773}. Best is trial 162 with value: 0.6752398279874267.\n"
     ]
    },
    {
     "name": "stdout",
     "output_type": "stream",
     "text": [
      "####################################################################################################\n",
      "OOF prediction score :  0.673328773420907\n",
      "Mean 5-cv results : 0.6716397116960116 +- 0.0036077692498130104\n",
      "####################################################################################################\n"
     ]
    },
    {
     "name": "stderr",
     "output_type": "stream",
     "text": [
      "[I 2025-01-17 21:54:49,414] Trial 202 finished with value: 0.6746124406284307 and parameters: {'max_bin': 457, 'learning_rate': 0.1143307150671028, 'max_depth': 3, 'gamma': 0.17433461521080085, 'min_child_weight': 49.19504534984104, 'subsample': 0.9609975124579552, 'colsample_bytree': 0.8693060007380505, 'colsample_bylevel': 0.8544144184555136, 'colsample_bynode': 0.8859411736593333, 'reg_alpha': 1.0314269094279933e-06, 'reg_lambda': 0.970220026650345, 'max_cat_threshold': 824}. Best is trial 162 with value: 0.6752398279874267.\n"
     ]
    },
    {
     "name": "stdout",
     "output_type": "stream",
     "text": [
      "####################################################################################################\n",
      "OOF prediction score :  0.6746124406284307\n",
      "Mean 5-cv results : 0.672146713924507 +- 0.004507317950379292\n",
      "####################################################################################################\n"
     ]
    },
    {
     "name": "stderr",
     "output_type": "stream",
     "text": [
      "[I 2025-01-17 21:54:58,349] Trial 203 finished with value: 0.6743988542331438 and parameters: {'max_bin': 453, 'learning_rate': 0.12039838369648623, 'max_depth': 4, 'gamma': 0.15556659398393022, 'min_child_weight': 42.82572819324231, 'subsample': 0.9633304547312901, 'colsample_bytree': 0.8695137314122116, 'colsample_bylevel': 0.8539886384520475, 'colsample_bynode': 0.8892083474553862, 'reg_alpha': 1.0956123381360687e-06, 'reg_lambda': 1.3107953983546214, 'max_cat_threshold': 888}. Best is trial 162 with value: 0.6752398279874267.\n"
     ]
    },
    {
     "name": "stdout",
     "output_type": "stream",
     "text": [
      "####################################################################################################\n",
      "OOF prediction score :  0.6743988542331438\n",
      "Mean 5-cv results : 0.672444375429475 +- 0.003998942094717343\n",
      "####################################################################################################\n"
     ]
    },
    {
     "name": "stderr",
     "output_type": "stream",
     "text": [
      "[I 2025-01-17 21:55:07,744] Trial 204 finished with value: 0.6748822463688734 and parameters: {'max_bin': 447, 'learning_rate': 0.11867990938877224, 'max_depth': 4, 'gamma': 0.1645635727596453, 'min_child_weight': 48.540799008101246, 'subsample': 0.9689228122213794, 'colsample_bytree': 0.8721557884024391, 'colsample_bylevel': 0.8423316364787513, 'colsample_bynode': 0.8847502646310307, 'reg_alpha': 1.77112682397771e-06, 'reg_lambda': 1.2497139372524746, 'max_cat_threshold': 692}. Best is trial 162 with value: 0.6752398279874267.\n"
     ]
    },
    {
     "name": "stdout",
     "output_type": "stream",
     "text": [
      "####################################################################################################\n",
      "OOF prediction score :  0.6748822463688734\n",
      "Mean 5-cv results : 0.6733882731837502 +- 0.00415068309375321\n",
      "####################################################################################################\n"
     ]
    },
    {
     "name": "stderr",
     "output_type": "stream",
     "text": [
      "[I 2025-01-17 21:55:16,884] Trial 205 finished with value: 0.6721599573961599 and parameters: {'max_bin': 447, 'learning_rate': 0.11818931267695472, 'max_depth': 5, 'gamma': 0.1808810472145713, 'min_child_weight': 44.38945653343712, 'subsample': 0.9690320387896535, 'colsample_bytree': 0.8815834788801118, 'colsample_bylevel': 0.846893367803229, 'colsample_bynode': 0.8862093960634205, 'reg_alpha': 2.6687545179843017e-06, 'reg_lambda': 0.9104405498759652, 'max_cat_threshold': 656}. Best is trial 162 with value: 0.6752398279874267.\n"
     ]
    },
    {
     "name": "stdout",
     "output_type": "stream",
     "text": [
      "####################################################################################################\n",
      "OOF prediction score :  0.6721599573961599\n",
      "Mean 5-cv results : 0.6701281241385513 +- 0.003910508976263376\n",
      "####################################################################################################\n"
     ]
    },
    {
     "name": "stderr",
     "output_type": "stream",
     "text": [
      "[I 2025-01-17 21:55:24,257] Trial 206 finished with value: 0.6670126855723473 and parameters: {'max_bin': 470, 'learning_rate': 0.11405552468867146, 'max_depth': 17, 'gamma': 0.5019787477153561, 'min_child_weight': 49.25017415225903, 'subsample': 0.9731946778916953, 'colsample_bytree': 0.8719678036841314, 'colsample_bylevel': 0.8579131367310135, 'colsample_bynode': 0.8763209860852933, 'reg_alpha': 1.8375550689255665e-06, 'reg_lambda': 0.78473273625565, 'max_cat_threshold': 547}. Best is trial 162 with value: 0.6752398279874267.\n"
     ]
    },
    {
     "name": "stdout",
     "output_type": "stream",
     "text": [
      "####################################################################################################\n",
      "OOF prediction score :  0.6670126855723473\n",
      "Mean 5-cv results : 0.6645042135900348 +- 0.003007180662449814\n",
      "####################################################################################################\n"
     ]
    },
    {
     "name": "stderr",
     "output_type": "stream",
     "text": [
      "[I 2025-01-17 21:55:29,689] Trial 207 finished with value: 0.6595164812604493 and parameters: {'max_bin': 410, 'learning_rate': 0.12224752996867629, 'max_depth': 4, 'gamma': 4.012534145252806, 'min_child_weight': 75.29958974011966, 'subsample': 0.9672033286637005, 'colsample_bytree': 0.8772430497613708, 'colsample_bylevel': 0.8322988989632912, 'colsample_bynode': 0.8828742611948899, 'reg_alpha': 1.3359816424313123e-06, 'reg_lambda': 1.174815849970413, 'max_cat_threshold': 726}. Best is trial 162 with value: 0.6752398279874267.\n"
     ]
    },
    {
     "name": "stdout",
     "output_type": "stream",
     "text": [
      "####################################################################################################\n",
      "OOF prediction score :  0.6595164812604493\n",
      "Mean 5-cv results : 0.6582064858676274 +- 0.0034031457626482577\n",
      "####################################################################################################\n"
     ]
    },
    {
     "name": "stderr",
     "output_type": "stream",
     "text": [
      "[I 2025-01-17 21:55:38,156] Trial 208 finished with value: 0.6739605233122032 and parameters: {'max_bin': 444, 'learning_rate': 0.12076450986945998, 'max_depth': 5, 'gamma': 0.18638849603334226, 'min_child_weight': 99.96279682573197, 'subsample': 0.9503504263145336, 'colsample_bytree': 0.8713179669068458, 'colsample_bylevel': 0.8523247179590474, 'colsample_bynode': 0.8903953402806248, 'reg_alpha': 1.0504367740921622e-06, 'reg_lambda': 1.7524678415900181, 'max_cat_threshold': 989}. Best is trial 162 with value: 0.6752398279874267.\n"
     ]
    },
    {
     "name": "stdout",
     "output_type": "stream",
     "text": [
      "####################################################################################################\n",
      "OOF prediction score :  0.6739605233122032\n",
      "Mean 5-cv results : 0.6712722942885743 +- 0.004641557622784819\n",
      "####################################################################################################\n"
     ]
    },
    {
     "name": "stderr",
     "output_type": "stream",
     "text": [
      "[I 2025-01-17 21:55:47,419] Trial 209 finished with value: 0.6724194911322068 and parameters: {'max_bin': 379, 'learning_rate': 0.1124372654121376, 'max_depth': 4, 'gamma': 0.4457527364783409, 'min_child_weight': 33.61053556839391, 'subsample': 0.9713405070042146, 'colsample_bytree': 0.8747771047773285, 'colsample_bylevel': 0.838537468722534, 'colsample_bynode': 0.896557209473458, 'reg_alpha': 4.166722306126007e-06, 'reg_lambda': 1.3620688695779726, 'max_cat_threshold': 637}. Best is trial 162 with value: 0.6752398279874267.\n"
     ]
    },
    {
     "name": "stdout",
     "output_type": "stream",
     "text": [
      "####################################################################################################\n",
      "OOF prediction score :  0.6724194911322068\n",
      "Mean 5-cv results : 0.67057265951445 +- 0.004114009185442508\n",
      "####################################################################################################\n"
     ]
    },
    {
     "name": "stderr",
     "output_type": "stream",
     "text": [
      "[I 2025-01-17 21:55:54,770] Trial 210 finished with value: 0.6717080450683158 and parameters: {'max_bin': 327, 'learning_rate': 0.11947500502931513, 'max_depth': 6, 'gamma': 0.0005814422733725344, 'min_child_weight': 39.9008626790053, 'subsample': 0.8250338246061198, 'colsample_bytree': 0.8525283189191264, 'colsample_bylevel': 0.8439282603471681, 'colsample_bynode': 0.8442594831963004, 'reg_alpha': 1.8911728522165306e-06, 'reg_lambda': 1.1698612783837934, 'max_cat_threshold': 848}. Best is trial 162 with value: 0.6752398279874267.\n"
     ]
    },
    {
     "name": "stdout",
     "output_type": "stream",
     "text": [
      "####################################################################################################\n",
      "OOF prediction score :  0.6717080450683158\n",
      "Mean 5-cv results : 0.6688568739746548 +- 0.0052260597955428685\n",
      "####################################################################################################\n"
     ]
    },
    {
     "name": "stderr",
     "output_type": "stream",
     "text": [
      "[I 2025-01-17 21:56:04,969] Trial 211 finished with value: 0.6749382451002829 and parameters: {'max_bin': 516, 'learning_rate': 0.11470686633935781, 'max_depth': 3, 'gamma': 0.16429944009060635, 'min_child_weight': 49.02278035501121, 'subsample': 0.9635334556603091, 'colsample_bytree': 0.8681456606509044, 'colsample_bylevel': 0.8424558136704778, 'colsample_bynode': 0.9003093074607906, 'reg_alpha': 1.0421083873349604e-06, 'reg_lambda': 2.34068395883865, 'max_cat_threshold': 1000}. Best is trial 162 with value: 0.6752398279874267.\n"
     ]
    },
    {
     "name": "stdout",
     "output_type": "stream",
     "text": [
      "####################################################################################################\n",
      "OOF prediction score :  0.6749382451002829\n",
      "Mean 5-cv results : 0.6727004526029197 +- 0.0030773231765217775\n",
      "####################################################################################################\n"
     ]
    },
    {
     "name": "stderr",
     "output_type": "stream",
     "text": [
      "[I 2025-01-17 21:56:13,893] Trial 212 finished with value: 0.6745840549615714 and parameters: {'max_bin': 515, 'learning_rate': 0.1147871160490682, 'max_depth': 4, 'gamma': 0.20939693218859895, 'min_child_weight': 55.767745000310676, 'subsample': 0.9629478914140628, 'colsample_bytree': 0.8686823369885438, 'colsample_bylevel': 0.8483893355164541, 'colsample_bynode': 0.8999195584389195, 'reg_alpha': 1.0030985530742532e-06, 'reg_lambda': 0.8024839193445813, 'max_cat_threshold': 860}. Best is trial 162 with value: 0.6752398279874267.\n"
     ]
    },
    {
     "name": "stdout",
     "output_type": "stream",
     "text": [
      "####################################################################################################\n",
      "OOF prediction score :  0.6745840549615714\n",
      "Mean 5-cv results : 0.6725245862274924 +- 0.003880458951816081\n",
      "####################################################################################################\n"
     ]
    },
    {
     "name": "stderr",
     "output_type": "stream",
     "text": [
      "[I 2025-01-17 21:56:25,457] Trial 213 finished with value: 0.6745726435348428 and parameters: {'max_bin': 548, 'learning_rate': 0.11456329038511362, 'max_depth': 3, 'gamma': 0.34947415552135835, 'min_child_weight': 71.04804611521996, 'subsample': 0.9563582805678809, 'colsample_bytree': 0.8638445781208126, 'colsample_bylevel': 0.8475880570962386, 'colsample_bynode': 0.8728341865895949, 'reg_alpha': 1.6514532378867237e-06, 'reg_lambda': 1.6979865441795634, 'max_cat_threshold': 741}. Best is trial 162 with value: 0.6752398279874267.\n"
     ]
    },
    {
     "name": "stdout",
     "output_type": "stream",
     "text": [
      "####################################################################################################\n",
      "OOF prediction score :  0.6745726435348428\n",
      "Mean 5-cv results : 0.6725419686323058 +- 0.004474546693666264\n",
      "####################################################################################################\n"
     ]
    },
    {
     "name": "stderr",
     "output_type": "stream",
     "text": [
      "[I 2025-01-17 21:56:33,627] Trial 214 finished with value: 0.6729813304793557 and parameters: {'max_bin': 534, 'learning_rate': 0.1113717084622934, 'max_depth': 4, 'gamma': 0.39362198074228916, 'min_child_weight': 51.3806491913745, 'subsample': 0.9543751634002468, 'colsample_bytree': 0.8662256190572827, 'colsample_bylevel': 0.8414759289749075, 'colsample_bynode': 0.8680760574803795, 'reg_alpha': 2.488339737102161e-06, 'reg_lambda': 2.0123866215225443, 'max_cat_threshold': 745}. Best is trial 162 with value: 0.6752398279874267.\n"
     ]
    },
    {
     "name": "stdout",
     "output_type": "stream",
     "text": [
      "####################################################################################################\n",
      "OOF prediction score :  0.6729813304793557\n",
      "Mean 5-cv results : 0.6710364273632866 +- 0.002486922487529626\n",
      "####################################################################################################\n"
     ]
    },
    {
     "name": "stderr",
     "output_type": "stream",
     "text": [
      "[I 2025-01-17 21:56:41,938] Trial 215 finished with value: 0.6714470668623521 and parameters: {'max_bin': 534, 'learning_rate': 0.11593336842211796, 'max_depth': 3, 'gamma': 0.6009271727985646, 'min_child_weight': 69.82732963489067, 'subsample': 0.9568071819938273, 'colsample_bytree': 0.8687651625147188, 'colsample_bylevel': 0.8471910014472855, 'colsample_bynode': 0.90169657045768, 'reg_alpha': 1.6392937471344328e-06, 'reg_lambda': 0.684998482809364, 'max_cat_threshold': 546}. Best is trial 162 with value: 0.6752398279874267.\n"
     ]
    },
    {
     "name": "stdout",
     "output_type": "stream",
     "text": [
      "####################################################################################################\n",
      "OOF prediction score :  0.6714470668623521\n",
      "Mean 5-cv results : 0.6699976613617207 +- 0.004385567887620966\n",
      "####################################################################################################\n"
     ]
    },
    {
     "name": "stderr",
     "output_type": "stream",
     "text": [
      "[I 2025-01-17 21:56:52,586] Trial 216 finished with value: 0.6639865385914844 and parameters: {'max_bin': 489, 'learning_rate': 0.11689646315142738, 'max_depth': 20, 'gamma': 0.007316461204652775, 'min_child_weight': 49.84819795396904, 'subsample': 0.9768116914410231, 'colsample_bytree': 0.8635455913452225, 'colsample_bylevel': 0.8364907942117601, 'colsample_bynode': 0.8725384952803694, 'reg_alpha': 1.9750006162499758e-06, 'reg_lambda': 0.9319623560369212, 'max_cat_threshold': 690}. Best is trial 162 with value: 0.6752398279874267.\n"
     ]
    },
    {
     "name": "stdout",
     "output_type": "stream",
     "text": [
      "####################################################################################################\n",
      "OOF prediction score :  0.6639865385914844\n",
      "Mean 5-cv results : 0.6610960762010948 +- 0.0032226539473536775\n",
      "####################################################################################################\n"
     ]
    },
    {
     "name": "stderr",
     "output_type": "stream",
     "text": [
      "[I 2025-01-17 21:57:01,103] Trial 217 finished with value: 0.6751601779727817 and parameters: {'max_bin': 523, 'learning_rate': 0.11447305811114947, 'max_depth': 5, 'gamma': 0.3324072904798804, 'min_child_weight': 57.82613357428762, 'subsample': 0.9473586815217807, 'colsample_bytree': 0.8745900000295653, 'colsample_bylevel': 0.8416261615839506, 'colsample_bynode': 0.8647232189230534, 'reg_alpha': 2.768794632130479e-06, 'reg_lambda': 1.651119106226211, 'max_cat_threshold': 975}. Best is trial 162 with value: 0.6752398279874267.\n"
     ]
    },
    {
     "name": "stdout",
     "output_type": "stream",
     "text": [
      "####################################################################################################\n",
      "OOF prediction score :  0.6751601779727817\n",
      "Mean 5-cv results : 0.673134402853093 +- 0.0038927997120717125\n",
      "####################################################################################################\n"
     ]
    },
    {
     "name": "stderr",
     "output_type": "stream",
     "text": [
      "[I 2025-01-17 21:57:10,246] Trial 218 finished with value: 0.674037727842026 and parameters: {'max_bin': 606, 'learning_rate': 0.10962505459614841, 'max_depth': 5, 'gamma': 0.19537757598362837, 'min_child_weight': 58.25698109476552, 'subsample': 0.9485847136106398, 'colsample_bytree': 0.8797800558536893, 'colsample_bylevel': 0.8392605208723822, 'colsample_bynode': 0.855100594472799, 'reg_alpha': 2.9830489979987974e-06, 'reg_lambda': 0.5201089749193875, 'max_cat_threshold': 6}. Best is trial 162 with value: 0.6752398279874267.\n"
     ]
    },
    {
     "name": "stdout",
     "output_type": "stream",
     "text": [
      "####################################################################################################\n",
      "OOF prediction score :  0.674037727842026\n",
      "Mean 5-cv results : 0.6721969085356034 +- 0.0034066566458235185\n",
      "####################################################################################################\n"
     ]
    },
    {
     "name": "stderr",
     "output_type": "stream",
     "text": [
      "[I 2025-01-17 21:57:18,602] Trial 219 finished with value: 0.6721967641700264 and parameters: {'max_bin': 490, 'learning_rate': 0.1118154806523006, 'max_depth': 4, 'gamma': 0.6145979095746028, 'min_child_weight': 47.34657718067823, 'subsample': 0.9666796940135394, 'colsample_bytree': 0.884370914197125, 'colsample_bylevel': 0.8284880850999969, 'colsample_bynode': 0.9002836302524131, 'reg_alpha': 3.0829435512444116e-06, 'reg_lambda': 1.9708755670676839, 'max_cat_threshold': 982}. Best is trial 162 with value: 0.6752398279874267.\n"
     ]
    },
    {
     "name": "stdout",
     "output_type": "stream",
     "text": [
      "####################################################################################################\n",
      "OOF prediction score :  0.6721967641700264\n",
      "Mean 5-cv results : 0.670368681428678 +- 0.0034331050053891905\n",
      "####################################################################################################\n"
     ]
    },
    {
     "name": "stderr",
     "output_type": "stream",
     "text": [
      "[I 2025-01-17 21:57:27,878] Trial 220 finished with value: 0.6722155638593365 and parameters: {'max_bin': 431, 'learning_rate': 0.1141475839126921, 'max_depth': 6, 'gamma': 0.34922871871682837, 'min_child_weight': 58.96127181899805, 'subsample': 0.9520041065491696, 'colsample_bytree': 0.8725563745392778, 'colsample_bylevel': 0.84328214915286, 'colsample_bynode': 0.9098630999258337, 'reg_alpha': 1.00916804811797e-06, 'reg_lambda': 2.498000969622006, 'max_cat_threshold': 842}. Best is trial 162 with value: 0.6752398279874267.\n"
     ]
    },
    {
     "name": "stdout",
     "output_type": "stream",
     "text": [
      "####################################################################################################\n",
      "OOF prediction score :  0.6722155638593365\n",
      "Mean 5-cv results : 0.6704509773602898 +- 0.002572588695743982\n",
      "####################################################################################################\n"
     ]
    },
    {
     "name": "stderr",
     "output_type": "stream",
     "text": [
      "[I 2025-01-17 21:57:37,982] Trial 221 finished with value: 0.6745743278133569 and parameters: {'max_bin': 538, 'learning_rate': 0.11493002987406209, 'max_depth': 3, 'gamma': 0.3173404013754802, 'min_child_weight': 66.33327374871617, 'subsample': 0.9587677550304142, 'colsample_bytree': 0.8002120790438099, 'colsample_bylevel': 0.8489227611239487, 'colsample_bynode': 0.8709650353915587, 'reg_alpha': 1.5374359705915027e-06, 'reg_lambda': 1.433771027544078, 'max_cat_threshold': 739}. Best is trial 162 with value: 0.6752398279874267.\n"
     ]
    },
    {
     "name": "stdout",
     "output_type": "stream",
     "text": [
      "####################################################################################################\n",
      "OOF prediction score :  0.6745743278133569\n",
      "Mean 5-cv results : 0.6725191667900996 +- 0.004494743179745941\n",
      "####################################################################################################\n"
     ]
    },
    {
     "name": "stderr",
     "output_type": "stream",
     "text": [
      "[I 2025-01-17 21:57:46,805] Trial 222 finished with value: 0.6731891981841457 and parameters: {'max_bin': 525, 'learning_rate': 0.11724752832482753, 'max_depth': 4, 'gamma': 0.15499227371893518, 'min_child_weight': 54.39674334352692, 'subsample': 0.9600234419996079, 'colsample_bytree': 0.8025664568012513, 'colsample_bylevel': 0.8499760074834344, 'colsample_bynode': 0.8633163567294093, 'reg_alpha': 1.4217197330954365e-06, 'reg_lambda': 0.0025567914558272866, 'max_cat_threshold': 869}. Best is trial 162 with value: 0.6752398279874267.\n"
     ]
    },
    {
     "name": "stdout",
     "output_type": "stream",
     "text": [
      "####################################################################################################\n",
      "OOF prediction score :  0.6731891981841457\n",
      "Mean 5-cv results : 0.6713885650741181 +- 0.003680272953171872\n",
      "####################################################################################################\n"
     ]
    },
    {
     "name": "stderr",
     "output_type": "stream",
     "text": [
      "[I 2025-01-17 21:57:57,822] Trial 223 finished with value: 0.6756413210747139 and parameters: {'max_bin': 666, 'learning_rate': 0.11151852363717284, 'max_depth': 4, 'gamma': 0.0015085655236768691, 'min_child_weight': 65.13046925552405, 'subsample': 0.9467659604653232, 'colsample_bytree': 0.8109189758031236, 'colsample_bylevel': 0.8341271897766047, 'colsample_bynode': 0.862130803527077, 'reg_alpha': 2.2934460898008804e-06, 'reg_lambda': 1.0302745032556195, 'max_cat_threshold': 612}. Best is trial 223 with value: 0.6756413210747139.\n"
     ]
    },
    {
     "name": "stdout",
     "output_type": "stream",
     "text": [
      "####################################################################################################\n",
      "OOF prediction score :  0.6756413210747139\n",
      "Mean 5-cv results : 0.6732058221135144 +- 0.0032947863071607123\n",
      "####################################################################################################\n"
     ]
    },
    {
     "name": "stderr",
     "output_type": "stream",
     "text": [
      "[I 2025-01-17 21:58:06,612] Trial 224 finished with value: 0.6722670446144354 and parameters: {'max_bin': 635, 'learning_rate': 0.10891376331182338, 'max_depth': 5, 'gamma': 0.14316469375850452, 'min_child_weight': 46.20558720516689, 'subsample': 0.9476601155529008, 'colsample_bytree': 0.8077669306855321, 'colsample_bylevel': 0.833206596688291, 'colsample_bynode': 0.9049094458500732, 'reg_alpha': 4.2953653293456355e-06, 'reg_lambda': 0.36622669369904676, 'max_cat_threshold': 517}. Best is trial 223 with value: 0.6756413210747139.\n"
     ]
    },
    {
     "name": "stdout",
     "output_type": "stream",
     "text": [
      "####################################################################################################\n",
      "OOF prediction score :  0.6722670446144354\n",
      "Mean 5-cv results : 0.6702819260853342 +- 0.0034327150358144467\n",
      "####################################################################################################\n"
     ]
    },
    {
     "name": "stderr",
     "output_type": "stream",
     "text": [
      "[I 2025-01-17 21:58:16,092] Trial 225 finished with value: 0.6756582607992351 and parameters: {'max_bin': 665, 'learning_rate': 0.11147872133539843, 'max_depth': 4, 'gamma': 0.011484659756922921, 'min_child_weight': 53.29265393375408, 'subsample': 0.8619866705384635, 'colsample_bytree': 0.8753865968065659, 'colsample_bylevel': 0.8407681236737343, 'colsample_bynode': 0.8995031301892135, 'reg_alpha': 2.565012867878364e-06, 'reg_lambda': 1.0093820483959106, 'max_cat_threshold': 973}. Best is trial 225 with value: 0.6756582607992351.\n"
     ]
    },
    {
     "name": "stdout",
     "output_type": "stream",
     "text": [
      "####################################################################################################\n",
      "OOF prediction score :  0.6756582607992351\n",
      "Mean 5-cv results : 0.6730508987658508 +- 0.0026324286030644573\n",
      "####################################################################################################\n"
     ]
    },
    {
     "name": "stderr",
     "output_type": "stream",
     "text": [
      "[I 2025-01-17 21:58:21,682] Trial 226 finished with value: 0.6681734962574133 and parameters: {'max_bin': 646, 'learning_rate': 0.25808031970281964, 'max_depth': 5, 'gamma': 0.017312527511938097, 'min_child_weight': 37.61514924157545, 'subsample': 0.8470202879028531, 'colsample_bytree': 0.811967582464438, 'colsample_bylevel': 0.8370607813169763, 'colsample_bynode': 0.9199664052325232, 'reg_alpha': 2.3776089470274124e-06, 'reg_lambda': 1.012204259130008, 'max_cat_threshold': 993}. Best is trial 225 with value: 0.6756582607992351.\n"
     ]
    },
    {
     "name": "stdout",
     "output_type": "stream",
     "text": [
      "####################################################################################################\n",
      "OOF prediction score :  0.6681734962574133\n",
      "Mean 5-cv results : 0.6656702832563199 +- 0.005448661684459027\n",
      "####################################################################################################\n"
     ]
    },
    {
     "name": "stderr",
     "output_type": "stream",
     "text": [
      "[I 2025-01-17 21:58:32,106] Trial 227 finished with value: 0.6730909088790638 and parameters: {'max_bin': 685, 'learning_rate': 0.11020362383484057, 'max_depth': 3, 'gamma': 0.4922619282379625, 'min_child_weight': 9.133787267166387, 'subsample': 0.8788636793677983, 'colsample_bytree': 0.8196614155968012, 'colsample_bylevel': 0.841992654250373, 'colsample_bynode': 0.8503228049650241, 'reg_alpha': 3.6729285169296078e-06, 'reg_lambda': 3.4687023275826427, 'max_cat_threshold': 633}. Best is trial 225 with value: 0.6756582607992351.\n"
     ]
    },
    {
     "name": "stdout",
     "output_type": "stream",
     "text": [
      "####################################################################################################\n",
      "OOF prediction score :  0.6730909088790638\n",
      "Mean 5-cv results : 0.6712612428473063 +- 0.0030562206097722866\n",
      "####################################################################################################\n"
     ]
    },
    {
     "name": "stderr",
     "output_type": "stream",
     "text": [
      "[I 2025-01-17 21:58:41,485] Trial 228 finished with value: 0.6748650606992813 and parameters: {'max_bin': 467, 'learning_rate': 0.10741167297381668, 'max_depth': 4, 'gamma': 0.0032710808381176872, 'min_child_weight': 42.682838055359774, 'subsample': 0.8607022881766221, 'colsample_bytree': 0.8754104395833161, 'colsample_bylevel': 0.8328702533730438, 'colsample_bynode': 0.9043122909852823, 'reg_alpha': 2.2952629536236924e-06, 'reg_lambda': 2.3672324998812164, 'max_cat_threshold': 603}. Best is trial 225 with value: 0.6756582607992351.\n"
     ]
    },
    {
     "name": "stdout",
     "output_type": "stream",
     "text": [
      "####################################################################################################\n",
      "OOF prediction score :  0.6748650606992813\n",
      "Mean 5-cv results : 0.6729124797821505 +- 0.0038175181630885993\n",
      "####################################################################################################\n"
     ]
    },
    {
     "name": "stderr",
     "output_type": "stream",
     "text": [
      "[I 2025-01-17 21:58:51,044] Trial 229 finished with value: 0.6752777603767676 and parameters: {'max_bin': 820, 'learning_rate': 0.10597678707543093, 'max_depth': 4, 'gamma': 0.002341421742438213, 'min_child_weight': 42.28514628937002, 'subsample': 0.8597874943023596, 'colsample_bytree': 0.8738191090577613, 'colsample_bylevel': 0.825229794184712, 'colsample_bynode': 0.863325658997687, 'reg_alpha': 2.9418141306468513e-06, 'reg_lambda': 2.579777494031574, 'max_cat_threshold': 582}. Best is trial 225 with value: 0.6756582607992351.\n"
     ]
    },
    {
     "name": "stdout",
     "output_type": "stream",
     "text": [
      "####################################################################################################\n",
      "OOF prediction score :  0.6752777603767676\n",
      "Mean 5-cv results : 0.6732131766792383 +- 0.0038608948905228496\n",
      "####################################################################################################\n"
     ]
    },
    {
     "name": "stderr",
     "output_type": "stream",
     "text": [
      "[I 2025-01-17 21:59:00,812] Trial 230 finished with value: 0.6709698164639303 and parameters: {'max_bin': 660, 'learning_rate': 0.10741792419140375, 'max_depth': 6, 'gamma': 0.010348524929173843, 'min_child_weight': 35.419697625352065, 'subsample': 0.8622621246118035, 'colsample_bytree': 0.8752163821392133, 'colsample_bylevel': 0.8222690675782781, 'colsample_bynode': 0.8299311254230898, 'reg_alpha': 4.6043304654700186e-06, 'reg_lambda': 2.543878276650789, 'max_cat_threshold': 578}. Best is trial 225 with value: 0.6756582607992351.\n"
     ]
    },
    {
     "name": "stdout",
     "output_type": "stream",
     "text": [
      "####################################################################################################\n",
      "OOF prediction score :  0.6709698164639303\n",
      "Mean 5-cv results : 0.6689507172635214 +- 0.004465461453830982\n",
      "####################################################################################################\n"
     ]
    },
    {
     "name": "stderr",
     "output_type": "stream",
     "text": [
      "[I 2025-01-17 21:59:07,613] Trial 231 finished with value: 0.6610664875651334 and parameters: {'max_bin': 735, 'learning_rate': 0.10595155796200685, 'max_depth': 4, 'gamma': 3.2429976647228616, 'min_child_weight': 44.47081254600431, 'subsample': 0.8553749663199607, 'colsample_bytree': 0.8773328962620329, 'colsample_bylevel': 0.8295307100010149, 'colsample_bynode': 0.8628321315893855, 'reg_alpha': 2.6021183686312786e-06, 'reg_lambda': 3.7655380500713864, 'max_cat_threshold': 622}. Best is trial 225 with value: 0.6756582607992351.\n"
     ]
    },
    {
     "name": "stdout",
     "output_type": "stream",
     "text": [
      "####################################################################################################\n",
      "OOF prediction score :  0.6610664875651334\n",
      "Mean 5-cv results : 0.6599873281459601 +- 0.004068698409985535\n",
      "####################################################################################################\n"
     ]
    },
    {
     "name": "stderr",
     "output_type": "stream",
     "text": [
      "[I 2025-01-17 21:59:18,259] Trial 232 finished with value: 0.6760956424171277 and parameters: {'max_bin': 1156, 'learning_rate': 0.109267083160979, 'max_depth': 4, 'gamma': 0.3172601687494151, 'min_child_weight': 41.10166850505099, 'subsample': 0.8633089958026252, 'colsample_bytree': 0.8899490126651283, 'colsample_bylevel': 0.8256254488085187, 'colsample_bynode': 0.9041484304490324, 'reg_alpha': 2.436721565670965e-06, 'reg_lambda': 2.115726692182684, 'max_cat_threshold': 998}. Best is trial 232 with value: 0.6760956424171277.\n"
     ]
    },
    {
     "name": "stdout",
     "output_type": "stream",
     "text": [
      "####################################################################################################\n",
      "OOF prediction score :  0.6760956424171277\n",
      "Mean 5-cv results : 0.6734847931810306 +- 0.00403405450835566\n",
      "####################################################################################################\n"
     ]
    },
    {
     "name": "stderr",
     "output_type": "stream",
     "text": [
      "[I 2025-01-17 21:59:26,668] Trial 233 finished with value: 0.6722469841485494 and parameters: {'max_bin': 1244, 'learning_rate': 0.10807452502177754, 'max_depth': 5, 'gamma': 0.3810184545424484, 'min_child_weight': 35.59607577462406, 'subsample': 0.8583150152641473, 'colsample_bytree': 0.8838115422238504, 'colsample_bylevel': 0.82462574709207, 'colsample_bynode': 0.8666645454119051, 'reg_alpha': 3.207309838610598e-06, 'reg_lambda': 1.4841719529849131, 'max_cat_threshold': 519}. Best is trial 232 with value: 0.6760956424171277.\n"
     ]
    },
    {
     "name": "stdout",
     "output_type": "stream",
     "text": [
      "####################################################################################################\n",
      "OOF prediction score :  0.6722469841485494\n",
      "Mean 5-cv results : 0.6699810003656045 +- 0.0037770934207131852\n",
      "####################################################################################################\n"
     ]
    },
    {
     "name": "stderr",
     "output_type": "stream",
     "text": [
      "[I 2025-01-17 21:59:37,641] Trial 234 finished with value: 0.6744210182714487 and parameters: {'max_bin': 1440, 'learning_rate': 0.10461128210900447, 'max_depth': 4, 'gamma': 0.016806863009751222, 'min_child_weight': 40.44836289219995, 'subsample': 0.8639610495570048, 'colsample_bytree': 0.892761528829513, 'colsample_bylevel': 0.8320447131735557, 'colsample_bynode': 0.8614565629709483, 'reg_alpha': 2.0467835911977842e-06, 'reg_lambda': 2.2451740112957745, 'max_cat_threshold': 991}. Best is trial 232 with value: 0.6760956424171277.\n"
     ]
    },
    {
     "name": "stdout",
     "output_type": "stream",
     "text": [
      "####################################################################################################\n",
      "OOF prediction score :  0.6744210182714487\n",
      "Mean 5-cv results : 0.6723138358949734 +- 0.004170822458290206\n",
      "####################################################################################################\n"
     ]
    },
    {
     "name": "stderr",
     "output_type": "stream",
     "text": [
      "[I 2025-01-17 21:59:46,914] Trial 235 finished with value: 0.6733854427033208 and parameters: {'max_bin': 859, 'learning_rate': 0.11015592183724598, 'max_depth': 5, 'gamma': 0.19944303861397172, 'min_child_weight': 29.42072209719301, 'subsample': 0.8509160332623882, 'colsample_bytree': 0.8781377527646259, 'colsample_bylevel': 0.8374033909996691, 'colsample_bynode': 0.9112062087581081, 'reg_alpha': 0.015128696137906404, 'reg_lambda': 1.979173497694838, 'max_cat_threshold': 699}. Best is trial 232 with value: 0.6760956424171277.\n"
     ]
    },
    {
     "name": "stdout",
     "output_type": "stream",
     "text": [
      "####################################################################################################\n",
      "OOF prediction score :  0.6733854427033208\n",
      "Mean 5-cv results : 0.6711532985960674 +- 0.003154999195828442\n",
      "####################################################################################################\n"
     ]
    },
    {
     "name": "stderr",
     "output_type": "stream",
     "text": [
      "[I 2025-01-17 21:59:57,201] Trial 236 finished with value: 0.6744762207087398 and parameters: {'max_bin': 954, 'learning_rate': 0.10669763712188576, 'max_depth': 4, 'gamma': 0.0051840481256324455, 'min_child_weight': 61.89831929995286, 'subsample': 0.8644746340768744, 'colsample_bytree': 0.8858020129922097, 'colsample_bylevel': 0.8078022120160487, 'colsample_bynode': 0.857097039306557, 'reg_alpha': 2.8154991326500192e-06, 'reg_lambda': 2.983414289099553, 'max_cat_threshold': 997}. Best is trial 232 with value: 0.6760956424171277.\n"
     ]
    },
    {
     "name": "stdout",
     "output_type": "stream",
     "text": [
      "####################################################################################################\n",
      "OOF prediction score :  0.6744762207087398\n",
      "Mean 5-cv results : 0.6727275544619657 +- 0.0040805184727114125\n",
      "####################################################################################################\n"
     ]
    },
    {
     "name": "stderr",
     "output_type": "stream",
     "text": [
      "[I 2025-01-17 22:00:07,618] Trial 237 finished with value: 0.6738223811250547 and parameters: {'max_bin': 1165, 'learning_rate': 0.11163005066920959, 'max_depth': 5, 'gamma': 0.39626148778109327, 'min_child_weight': 41.171401427932494, 'subsample': 0.8542279641344225, 'colsample_bytree': 0.872260844579265, 'colsample_bylevel': 0.8236842141332236, 'colsample_bynode': 0.851567654617165, 'reg_alpha': 4.501368505627157e-06, 'reg_lambda': 0.007808581957834319, 'max_cat_threshold': 739}. Best is trial 232 with value: 0.6760956424171277.\n"
     ]
    },
    {
     "name": "stdout",
     "output_type": "stream",
     "text": [
      "####################################################################################################\n",
      "OOF prediction score :  0.6738223811250547\n",
      "Mean 5-cv results : 0.6717989133087301 +- 0.0039441738807160995\n",
      "####################################################################################################\n"
     ]
    },
    {
     "name": "stderr",
     "output_type": "stream",
     "text": [
      "[I 2025-01-17 22:00:18,164] Trial 238 finished with value: 0.6763129944323751 and parameters: {'max_bin': 1304, 'learning_rate': 0.10876431086453932, 'max_depth': 4, 'gamma': 0.2210535090191661, 'min_child_weight': 48.93679898456782, 'subsample': 0.8612784468185274, 'colsample_bytree': 0.8055167576822946, 'colsample_bylevel': 0.8277083899069563, 'colsample_bynode': 0.9038014334814598, 'reg_alpha': 1.8324229427627466e-06, 'reg_lambda': 4.168544581154799, 'max_cat_threshold': 613}. Best is trial 238 with value: 0.6763129944323751.\n"
     ]
    },
    {
     "name": "stdout",
     "output_type": "stream",
     "text": [
      "####################################################################################################\n",
      "OOF prediction score :  0.6763129944323751\n",
      "Mean 5-cv results : 0.6741460901740701 +- 0.00510173572971517\n",
      "####################################################################################################\n"
     ]
    },
    {
     "name": "stderr",
     "output_type": "stream",
     "text": [
      "[I 2025-01-17 22:00:28,400] Trial 239 finished with value: 0.6736939094583837 and parameters: {'max_bin': 1236, 'learning_rate': 0.10799315991163583, 'max_depth': 3, 'gamma': 0.5240022005942028, 'min_child_weight': 32.159798926511066, 'subsample': 0.8395410618189947, 'colsample_bytree': 0.8037859275396024, 'colsample_bylevel': 0.8187348954250955, 'colsample_bynode': 0.902836536978657, 'reg_alpha': 1.979839749390553e-06, 'reg_lambda': 3.910998991914996, 'max_cat_threshold': 470}. Best is trial 238 with value: 0.6763129944323751.\n"
     ]
    },
    {
     "name": "stdout",
     "output_type": "stream",
     "text": [
      "####################################################################################################\n",
      "OOF prediction score :  0.6736939094583837\n",
      "Mean 5-cv results : 0.6718444657507828 +- 0.003191141964965217\n",
      "####################################################################################################\n"
     ]
    },
    {
     "name": "stderr",
     "output_type": "stream",
     "text": [
      "[I 2025-01-17 22:00:37,814] Trial 240 finished with value: 0.6704103426371002 and parameters: {'max_bin': 585, 'learning_rate': 0.10428262793842327, 'max_depth': 7, 'gamma': 0.33652369360193746, 'min_child_weight': 49.53819797375138, 'subsample': 0.8585440320050425, 'colsample_bytree': 0.8534782679167896, 'colsample_bylevel': 0.8322874159338423, 'colsample_bynode': 0.9065199939495682, 'reg_alpha': 3.5089359351324137e-06, 'reg_lambda': 4.559343869101637, 'max_cat_threshold': 608}. Best is trial 238 with value: 0.6763129944323751.\n"
     ]
    },
    {
     "name": "stdout",
     "output_type": "stream",
     "text": [
      "####################################################################################################\n",
      "OOF prediction score :  0.6704103426371002\n",
      "Mean 5-cv results : 0.6688668645367535 +- 0.003910992933930081\n",
      "####################################################################################################\n"
     ]
    },
    {
     "name": "stderr",
     "output_type": "stream",
     "text": [
      "[I 2025-01-17 22:00:48,422] Trial 241 finished with value: 0.6630469946541235 and parameters: {'max_bin': 787, 'learning_rate': 0.11098818342875828, 'max_depth': 40, 'gamma': 0.180980236275526, 'min_child_weight': 43.23827084100064, 'subsample': 0.8677483191999618, 'colsample_bytree': 0.8117381975639374, 'colsample_bylevel': 0.827358978421223, 'colsample_bynode': 0.8983282141325728, 'reg_alpha': 1.5649201869877452e-06, 'reg_lambda': 2.4457260562644527, 'max_cat_threshold': 669}. Best is trial 238 with value: 0.6763129944323751.\n"
     ]
    },
    {
     "name": "stdout",
     "output_type": "stream",
     "text": [
      "####################################################################################################\n",
      "OOF prediction score :  0.6630469946541235\n",
      "Mean 5-cv results : 0.6603225597006898 +- 0.0038931687783983833\n",
      "####################################################################################################\n"
     ]
    },
    {
     "name": "stderr",
     "output_type": "stream",
     "text": [
      "[I 2025-01-17 22:00:57,818] Trial 242 finished with value: 0.6735276986263758 and parameters: {'max_bin': 1560, 'learning_rate': 0.10854708662762672, 'max_depth': 4, 'gamma': 0.17658636978660344, 'min_child_weight': 10.804233890778145, 'subsample': 0.8610603625615774, 'colsample_bytree': 0.8059079523055911, 'colsample_bylevel': 0.8346686410272381, 'colsample_bynode': 0.9030248443215416, 'reg_alpha': 1.9735445201548287e-06, 'reg_lambda': 1.6474346346829416, 'max_cat_threshold': 876}. Best is trial 238 with value: 0.6763129944323751.\n"
     ]
    },
    {
     "name": "stdout",
     "output_type": "stream",
     "text": [
      "####################################################################################################\n",
      "OOF prediction score :  0.6735276986263758\n",
      "Mean 5-cv results : 0.6713084767898424 +- 0.0029935838066465982\n",
      "####################################################################################################\n"
     ]
    },
    {
     "name": "stderr",
     "output_type": "stream",
     "text": [
      "[I 2025-01-17 22:01:08,818] Trial 243 finished with value: 0.6743897492371826 and parameters: {'max_bin': 487, 'learning_rate': 0.11146951366066876, 'max_depth': 4, 'gamma': 0.003437456687536331, 'min_child_weight': 52.77106454628225, 'subsample': 0.8545094139462854, 'colsample_bytree': 0.8772853055371471, 'colsample_bylevel': 0.8285755560291089, 'colsample_bynode': 0.9134967583107505, 'reg_alpha': 2.653316856068465e-06, 'reg_lambda': 2.933201113024586, 'max_cat_threshold': 550}. Best is trial 238 with value: 0.6763129944323751.\n"
     ]
    },
    {
     "name": "stdout",
     "output_type": "stream",
     "text": [
      "####################################################################################################\n",
      "OOF prediction score :  0.6743897492371826\n",
      "Mean 5-cv results : 0.6723150752786505 +- 0.004255893656761801\n",
      "####################################################################################################\n"
     ]
    },
    {
     "name": "stderr",
     "output_type": "stream",
     "text": [
      "[I 2025-01-17 22:01:20,672] Trial 244 finished with value: 0.6746766256897603 and parameters: {'max_bin': 1305, 'learning_rate': 0.10609583692612146, 'max_depth': 3, 'gamma': 0.31762536518081463, 'min_child_weight': 65.00023483518754, 'subsample': 0.8672478832259294, 'colsample_bytree': 0.8878000093324135, 'colsample_bylevel': 0.8402670881697507, 'colsample_bynode': 0.8955902883721601, 'reg_alpha': 1.4712179550791548e-06, 'reg_lambda': 1.2267395137503283, 'max_cat_threshold': 791}. Best is trial 238 with value: 0.6763129944323751.\n"
     ]
    },
    {
     "name": "stdout",
     "output_type": "stream",
     "text": [
      "####################################################################################################\n",
      "OOF prediction score :  0.6746766256897603\n",
      "Mean 5-cv results : 0.672785229718271 +- 0.003945224911201226\n",
      "####################################################################################################\n"
     ]
    },
    {
     "name": "stderr",
     "output_type": "stream",
     "text": [
      "[I 2025-01-17 22:01:30,141] Trial 245 finished with value: 0.6738192308543306 and parameters: {'max_bin': 1414, 'learning_rate': 0.10896489591338324, 'max_depth': 4, 'gamma': 0.013252354028028424, 'min_child_weight': 48.359713876609064, 'subsample': 0.8594016484348289, 'colsample_bytree': 0.8744506556005346, 'colsample_bylevel': 0.8354994943481753, 'colsample_bynode': 0.9093379872644479, 'reg_alpha': 2.307022432187163e-06, 'reg_lambda': 7.509613787461124, 'max_cat_threshold': 708}. Best is trial 238 with value: 0.6763129944323751.\n"
     ]
    },
    {
     "name": "stdout",
     "output_type": "stream",
     "text": [
      "####################################################################################################\n",
      "OOF prediction score :  0.6738192308543306\n",
      "Mean 5-cv results : 0.6719590897641069 +- 0.00397541684308594\n",
      "####################################################################################################\n"
     ]
    },
    {
     "name": "stderr",
     "output_type": "stream",
     "text": [
      "[I 2025-01-17 22:01:39,705] Trial 246 finished with value: 0.6721074632771036 and parameters: {'max_bin': 574, 'learning_rate': 0.11223537476302133, 'max_depth': 5, 'gamma': 0.21948360382628743, 'min_child_weight': 7.5191813478478196, 'subsample': 0.9437068196817933, 'colsample_bytree': 0.8108927641598594, 'colsample_bylevel': 0.8262029817549522, 'colsample_bynode': 0.9007082916733506, 'reg_alpha': 1.5288648207113213e-06, 'reg_lambda': 4.34242263424944, 'max_cat_threshold': 986}. Best is trial 238 with value: 0.6763129944323751.\n"
     ]
    },
    {
     "name": "stdout",
     "output_type": "stream",
     "text": [
      "####################################################################################################\n",
      "OOF prediction score :  0.6721074632771036\n",
      "Mean 5-cv results : 0.6695349643226179 +- 0.0046334452420509825\n",
      "####################################################################################################\n"
     ]
    },
    {
     "name": "stderr",
     "output_type": "stream",
     "text": [
      "[I 2025-01-17 22:01:49,929] Trial 247 finished with value: 0.6732445639056502 and parameters: {'max_bin': 1083, 'learning_rate': 0.10653725789983008, 'max_depth': 3, 'gamma': 0.4364684237126358, 'min_child_weight': 13.245782700478298, 'subsample': 0.8757161344309128, 'colsample_bytree': 0.8819256165869628, 'colsample_bylevel': 0.8426741172274754, 'colsample_bynode': 0.8981643137193521, 'reg_alpha': 3.5077865578139944e-06, 'reg_lambda': 2.238209691566597, 'max_cat_threshold': 601}. Best is trial 238 with value: 0.6763129944323751.\n"
     ]
    },
    {
     "name": "stdout",
     "output_type": "stream",
     "text": [
      "####################################################################################################\n",
      "OOF prediction score :  0.6732445639056502\n",
      "Mean 5-cv results : 0.6713463261288188 +- 0.0044654695415610604\n",
      "####################################################################################################\n"
     ]
    },
    {
     "name": "stderr",
     "output_type": "stream",
     "text": [
      "[I 2025-01-17 22:01:59,012] Trial 248 finished with value: 0.6747694324403628 and parameters: {'max_bin': 487, 'learning_rate': 0.10943484351335937, 'max_depth': 5, 'gamma': 0.008337437361425767, 'min_child_weight': 57.14292381116448, 'subsample': 0.8637462914686512, 'colsample_bytree': 0.800133784818043, 'colsample_bylevel': 0.831828435817562, 'colsample_bynode': 0.8600565429797372, 'reg_alpha': 5.163486465516312e-06, 'reg_lambda': 5.550535011047529, 'max_cat_threshold': 1000}. Best is trial 238 with value: 0.6763129944323751.\n"
     ]
    },
    {
     "name": "stdout",
     "output_type": "stream",
     "text": [
      "####################################################################################################\n",
      "OOF prediction score :  0.6747694324403628\n",
      "Mean 5-cv results : 0.6724950971040367 +- 0.004473745399745198\n",
      "####################################################################################################\n"
     ]
    },
    {
     "name": "stderr",
     "output_type": "stream",
     "text": [
      "[I 2025-01-17 22:02:09,351] Trial 249 finished with value: 0.6713498937396454 and parameters: {'max_bin': 999, 'learning_rate': 0.10419030197356412, 'max_depth': 5, 'gamma': 0.6716005373474561, 'min_child_weight': 41.855209782834, 'subsample': 0.8659937278210293, 'colsample_bytree': 0.805298340941616, 'colsample_bylevel': 0.8325043503767876, 'colsample_bynode': 0.8589890973220312, 'reg_alpha': 3.679737712931944e-06, 'reg_lambda': 6.983836149276614, 'max_cat_threshold': 885}. Best is trial 238 with value: 0.6763129944323751.\n"
     ]
    },
    {
     "name": "stdout",
     "output_type": "stream",
     "text": [
      "####################################################################################################\n",
      "OOF prediction score :  0.6713498937396454\n",
      "Mean 5-cv results : 0.6695058420908365 +- 0.004172845625959957\n",
      "####################################################################################################\n"
     ]
    },
    {
     "name": "stderr",
     "output_type": "stream",
     "text": [
      "[I 2025-01-17 22:02:17,929] Trial 250 finished with value: 0.67400455956899 and parameters: {'max_bin': 494, 'learning_rate': 0.10957354018253564, 'max_depth': 6, 'gamma': 0.2280322795724165, 'min_child_weight': 57.22266039389549, 'subsample': 0.8512501119885955, 'colsample_bytree': 0.8001989895117718, 'colsample_bylevel': 0.8222082973558178, 'colsample_bynode': 0.8654644221289035, 'reg_alpha': 5.73558348309951e-06, 'reg_lambda': 4.995733108461225, 'max_cat_threshold': 862}. Best is trial 238 with value: 0.6763129944323751.\n"
     ]
    },
    {
     "name": "stdout",
     "output_type": "stream",
     "text": [
      "####################################################################################################\n",
      "OOF prediction score :  0.67400455956899\n",
      "Mean 5-cv results : 0.670952031938435 +- 0.0035842259090821003\n",
      "####################################################################################################\n"
     ]
    },
    {
     "name": "stderr",
     "output_type": "stream",
     "text": [
      "[I 2025-01-17 22:02:28,466] Trial 251 finished with value: 0.6740721519056612 and parameters: {'max_bin': 1782, 'learning_rate': 0.10727456779373833, 'max_depth': 3, 'gamma': 0.3666250478691752, 'min_child_weight': 51.780651751840296, 'subsample': 0.9409220486452743, 'colsample_bytree': 0.8040437778367513, 'colsample_bylevel': 0.829435648951648, 'colsample_bynode': 0.9077174053692768, 'reg_alpha': 4.867669143051475e-06, 'reg_lambda': 5.880659740539352, 'max_cat_threshold': 980}. Best is trial 238 with value: 0.6763129944323751.\n"
     ]
    },
    {
     "name": "stdout",
     "output_type": "stream",
     "text": [
      "####################################################################################################\n",
      "OOF prediction score :  0.6740721519056612\n",
      "Mean 5-cv results : 0.6722378177636739 +- 0.003176539661076336\n",
      "####################################################################################################\n"
     ]
    },
    {
     "name": "stderr",
     "output_type": "stream",
     "text": [
      "[I 2025-01-17 22:02:36,858] Trial 252 finished with value: 0.6725268579761693 and parameters: {'max_bin': 594, 'learning_rate': 0.10302823077020803, 'max_depth': 6, 'gamma': 0.00019838044119760423, 'min_child_weight': 36.187207785636794, 'subsample': 0.8652857285991382, 'colsample_bytree': 0.8497181811668935, 'colsample_bylevel': 0.8363071867303388, 'colsample_bynode': 0.8587557417781376, 'reg_alpha': 2.632563608746765e-06, 'reg_lambda': 3.5070302013504326, 'max_cat_threshold': 488}. Best is trial 238 with value: 0.6763129944323751.\n"
     ]
    },
    {
     "name": "stdout",
     "output_type": "stream",
     "text": [
      "####################################################################################################\n",
      "OOF prediction score :  0.6725268579761693\n",
      "Mean 5-cv results : 0.6698051993874575 +- 0.0032849855741426447\n",
      "####################################################################################################\n"
     ]
    },
    {
     "name": "stderr",
     "output_type": "stream",
     "text": [
      "[I 2025-01-17 22:02:47,971] Trial 253 finished with value: 0.6661794698988043 and parameters: {'max_bin': 1624, 'learning_rate': 0.11203787970823524, 'max_depth': 13, 'gamma': 0.21326734570345351, 'min_child_weight': 44.811260901400686, 'subsample': 0.8707460488995307, 'colsample_bytree': 0.815873315831544, 'colsample_bylevel': 0.8391557982329609, 'colsample_bynode': 0.9033569290042228, 'reg_alpha': 2.0047645351176567e-06, 'reg_lambda': 6.243636537165785, 'max_cat_threshold': 998}. Best is trial 238 with value: 0.6763129944323751.\n"
     ]
    },
    {
     "name": "stdout",
     "output_type": "stream",
     "text": [
      "####################################################################################################\n",
      "OOF prediction score :  0.6661794698988043\n",
      "Mean 5-cv results : 0.6632284259451191 +- 0.0036776467512951473\n",
      "####################################################################################################\n"
     ]
    },
    {
     "name": "stderr",
     "output_type": "stream",
     "text": [
      "[I 2025-01-17 22:02:56,586] Trial 254 finished with value: 0.6738697825207297 and parameters: {'max_bin': 1088, 'learning_rate': 0.10982873770737125, 'max_depth': 4, 'gamma': 0.3929063280466851, 'min_child_weight': 58.81953319553245, 'subsample': 0.9472648531769621, 'colsample_bytree': 0.9014703715833438, 'colsample_bylevel': 0.8339212998117018, 'colsample_bynode': 0.9180485341459169, 'reg_alpha': 4.954968806400385e-06, 'reg_lambda': 0.00023664650804330995, 'max_cat_threshold': 795}. Best is trial 238 with value: 0.6763129944323751.\n"
     ]
    },
    {
     "name": "stdout",
     "output_type": "stream",
     "text": [
      "####################################################################################################\n",
      "OOF prediction score :  0.6738697825207297\n",
      "Mean 5-cv results : 0.6716276975338207 +- 0.002592699841418978\n",
      "####################################################################################################\n"
     ]
    },
    {
     "name": "stderr",
     "output_type": "stream",
     "text": [
      "[I 2025-01-17 22:03:06,111] Trial 255 finished with value: 0.6730061693655948 and parameters: {'max_bin': 469, 'learning_rate': 0.11270754192193137, 'max_depth': 3, 'gamma': 0.6014539705732248, 'min_child_weight': 49.764853341810564, 'subsample': 0.8613019265109509, 'colsample_bytree': 0.8093240688005531, 'colsample_bylevel': 0.8182852305070079, 'colsample_bynode': 0.9112331901417621, 'reg_alpha': 2.8496464769367547e-06, 'reg_lambda': 7.451657545683105, 'max_cat_threshold': 632}. Best is trial 238 with value: 0.6763129944323751.\n"
     ]
    },
    {
     "name": "stdout",
     "output_type": "stream",
     "text": [
      "####################################################################################################\n",
      "OOF prediction score :  0.6730061693655948\n",
      "Mean 5-cv results : 0.6713107790323296 +- 0.004111074321041812\n",
      "####################################################################################################\n"
     ]
    },
    {
     "name": "stderr",
     "output_type": "stream",
     "text": [
      "[I 2025-01-17 22:03:16,265] Trial 256 finished with value: 0.6732347586927762 and parameters: {'max_bin': 521, 'learning_rate': 0.10437149440237622, 'max_depth': 5, 'gamma': 0.1708734746859494, 'min_child_weight': 65.1027961378365, 'subsample': 0.8576202106150942, 'colsample_bytree': 0.8551076961702331, 'colsample_bylevel': 0.8142253199962698, 'colsample_bynode': 0.9054294575446744, 'reg_alpha': 0.3071148642047341, 'reg_lambda': 4.011258516316734, 'max_cat_threshold': 775}. Best is trial 238 with value: 0.6763129944323751.\n"
     ]
    },
    {
     "name": "stdout",
     "output_type": "stream",
     "text": [
      "####################################################################################################\n",
      "OOF prediction score :  0.6732347586927762\n",
      "Mean 5-cv results : 0.6709396657819922 +- 0.0046861270805726276\n",
      "####################################################################################################\n"
     ]
    },
    {
     "name": "stderr",
     "output_type": "stream",
     "text": [
      "[I 2025-01-17 22:03:26,504] Trial 257 finished with value: 0.6734356300085285 and parameters: {'max_bin': 416, 'learning_rate': 0.10834068560871761, 'max_depth': 4, 'gamma': 0.48857636726622433, 'min_child_weight': 78.65587696471134, 'subsample': 0.8725765526296577, 'colsample_bytree': 0.8015491511469252, 'colsample_bylevel': 0.8440361943924846, 'colsample_bynode': 0.9005155271026103, 'reg_alpha': 1.495446708095009e-06, 'reg_lambda': 3.0972665803709925, 'max_cat_threshold': 2}. Best is trial 238 with value: 0.6763129944323751.\n"
     ]
    },
    {
     "name": "stdout",
     "output_type": "stream",
     "text": [
      "####################################################################################################\n",
      "OOF prediction score :  0.6734356300085285\n",
      "Mean 5-cv results : 0.6715706106852505 +- 0.004390686525850484\n",
      "####################################################################################################\n"
     ]
    },
    {
     "name": "stderr",
     "output_type": "stream",
     "text": [
      "[I 2025-01-17 22:03:37,887] Trial 258 finished with value: 0.6752736985665309 and parameters: {'max_bin': 563, 'learning_rate': 0.10608858757694335, 'max_depth': 3, 'gamma': 0.0013562122883722383, 'min_child_weight': 41.43518463174624, 'subsample': 0.9358366642753411, 'colsample_bytree': 0.8000456717317639, 'colsample_bylevel': 0.8269999970878654, 'colsample_bynode': 0.8614507079365546, 'reg_alpha': 2.072314936426301e-06, 'reg_lambda': 5.045593958049828, 'max_cat_threshold': 836}. Best is trial 238 with value: 0.6763129944323751.\n"
     ]
    },
    {
     "name": "stdout",
     "output_type": "stream",
     "text": [
      "####################################################################################################\n",
      "OOF prediction score :  0.6752736985665309\n",
      "Mean 5-cv results : 0.6737538751315754 +- 0.003951181027236076\n",
      "####################################################################################################\n"
     ]
    },
    {
     "name": "stderr",
     "output_type": "stream",
     "text": [
      "[I 2025-01-17 22:03:48,130] Trial 259 finished with value: 0.6738826645796119 and parameters: {'max_bin': 449, 'learning_rate': 0.10688501311655135, 'max_depth': 5, 'gamma': 0.2041636218787208, 'min_child_weight': 32.460201896869435, 'subsample': 0.9352384412636012, 'colsample_bytree': 0.8002576243740531, 'colsample_bylevel': 0.8264948892221113, 'colsample_bynode': 0.8611327090935681, 'reg_alpha': 0.004196292698990656, 'reg_lambda': 5.048624806938399, 'max_cat_threshold': 850}. Best is trial 238 with value: 0.6763129944323751.\n"
     ]
    },
    {
     "name": "stdout",
     "output_type": "stream",
     "text": [
      "####################################################################################################\n",
      "OOF prediction score :  0.6738826645796119\n",
      "Mean 5-cv results : 0.6713968215439121 +- 0.0032771481784846152\n",
      "####################################################################################################\n"
     ]
    },
    {
     "name": "stderr",
     "output_type": "stream",
     "text": [
      "[I 2025-01-17 22:03:55,809] Trial 260 finished with value: 0.6709746443632291 and parameters: {'max_bin': 490, 'learning_rate': 0.10268880134093662, 'max_depth': 4, 'gamma': 0.7696358875655398, 'min_child_weight': 39.86354191264423, 'subsample': 0.9398615067949281, 'colsample_bytree': 0.8050377901067449, 'colsample_bylevel': 0.8218661318932916, 'colsample_bynode': 0.8545408497252472, 'reg_alpha': 3.664853419159153e-06, 'reg_lambda': 7.9512807916133985, 'max_cat_threshold': 870}. Best is trial 238 with value: 0.6763129944323751.\n"
     ]
    },
    {
     "name": "stdout",
     "output_type": "stream",
     "text": [
      "####################################################################################################\n",
      "OOF prediction score :  0.6709746443632291\n",
      "Mean 5-cv results : 0.6690693701609833 +- 0.0035410739289660105\n",
      "####################################################################################################\n"
     ]
    },
    {
     "name": "stderr",
     "output_type": "stream",
     "text": [
      "[I 2025-01-17 22:04:04,734] Trial 261 finished with value: 0.6733078053342842 and parameters: {'max_bin': 858, 'learning_rate': 0.10569427013384307, 'max_depth': 7, 'gamma': 0.004821968530599064, 'min_child_weight': 44.97726942173784, 'subsample': 0.9345021277767754, 'colsample_bytree': 0.8079404856376655, 'colsample_bylevel': 0.8312294277984287, 'colsample_bynode': 0.8491554645133069, 'reg_alpha': 7.058346871383674e-06, 'reg_lambda': 5.6135782202518145, 'max_cat_threshold': 677}. Best is trial 238 with value: 0.6763129944323751.\n"
     ]
    },
    {
     "name": "stdout",
     "output_type": "stream",
     "text": [
      "####################################################################################################\n",
      "OOF prediction score :  0.6733078053342842\n",
      "Mean 5-cv results : 0.6708381391236837 +- 0.003632907949951835\n",
      "####################################################################################################\n"
     ]
    },
    {
     "name": "stderr",
     "output_type": "stream",
     "text": [
      "[I 2025-01-17 22:04:15,692] Trial 262 finished with value: 0.6735559147642258 and parameters: {'max_bin': 553, 'learning_rate': 0.11588414092175475, 'max_depth': 3, 'gamma': 0.38016568237092413, 'min_child_weight': 29.60240051907037, 'subsample': 0.86253603496781, 'colsample_bytree': 0.8058866868545398, 'colsample_bylevel': 0.8260586765068322, 'colsample_bynode': 0.8691463844187912, 'reg_alpha': 2.27455259010858e-06, 'reg_lambda': 7.820870317348616, 'max_cat_threshold': 1000}. Best is trial 238 with value: 0.6763129944323751.\n"
     ]
    },
    {
     "name": "stdout",
     "output_type": "stream",
     "text": [
      "####################################################################################################\n",
      "OOF prediction score :  0.6735559147642258\n",
      "Mean 5-cv results : 0.6715195676354295 +- 0.0037654683100724526\n",
      "####################################################################################################\n"
     ]
    },
    {
     "name": "stderr",
     "output_type": "stream",
     "text": [
      "[I 2025-01-17 22:04:24,252] Trial 263 finished with value: 0.6735061941827833 and parameters: {'max_bin': 460, 'learning_rate': 0.11049495142567536, 'max_depth': 5, 'gamma': 0.21627943120504256, 'min_child_weight': 55.307998062386964, 'subsample': 0.9440014620562752, 'colsample_bytree': 0.8167440170945245, 'colsample_bylevel': 0.8368347753367441, 'colsample_bynode': 0.8664682392163578, 'reg_alpha': 1.408354337562325e-06, 'reg_lambda': 4.210864297492073, 'max_cat_threshold': 546}. Best is trial 238 with value: 0.6763129944323751.\n"
     ]
    },
    {
     "name": "stdout",
     "output_type": "stream",
     "text": [
      "####################################################################################################\n",
      "OOF prediction score :  0.6735061941827833\n",
      "Mean 5-cv results : 0.6712608208686899 +- 0.0038982188066434545\n",
      "####################################################################################################\n"
     ]
    },
    {
     "name": "stderr",
     "output_type": "stream",
     "text": [
      "[I 2025-01-17 22:04:33,774] Trial 264 finished with value: 0.6736041396725206 and parameters: {'max_bin': 356, 'learning_rate': 0.11283406383951583, 'max_depth': 3, 'gamma': 0.5078332894259847, 'min_child_weight': 37.7948684866952, 'subsample': 0.892995489204214, 'colsample_bytree': 0.8103033496975975, 'colsample_bylevel': 0.8401009875600319, 'colsample_bynode': 0.9078845141239837, 'reg_alpha': 0.06967827016621957, 'reg_lambda': 9.725135109445466, 'max_cat_threshold': 768}. Best is trial 238 with value: 0.6763129944323751.\n"
     ]
    },
    {
     "name": "stdout",
     "output_type": "stream",
     "text": [
      "####################################################################################################\n",
      "OOF prediction score :  0.6736041396725206\n",
      "Mean 5-cv results : 0.6717172394736111 +- 0.003464609855286439\n",
      "####################################################################################################\n"
     ]
    },
    {
     "name": "stderr",
     "output_type": "stream",
     "text": [
      "[I 2025-01-17 22:04:38,664] Trial 265 finished with value: 0.6523093616554476 and parameters: {'max_bin': 697, 'learning_rate': 0.10987016878290509, 'max_depth': 6, 'gamma': 7.992777237537917, 'min_child_weight': 48.70592977225702, 'subsample': 0.9504759824581532, 'colsample_bytree': 0.8010625409048884, 'colsample_bylevel': 0.830204324603987, 'colsample_bynode': 0.8624035167358158, 'reg_alpha': 2.9160842144234017e-06, 'reg_lambda': 5.720632914840738, 'max_cat_threshold': 625}. Best is trial 238 with value: 0.6763129944323751.\n"
     ]
    },
    {
     "name": "stdout",
     "output_type": "stream",
     "text": [
      "####################################################################################################\n",
      "OOF prediction score :  0.6523093616554476\n",
      "Mean 5-cv results : 0.6509169847433458 +- 0.003952612099220574\n",
      "####################################################################################################\n"
     ]
    },
    {
     "name": "stderr",
     "output_type": "stream",
     "text": [
      "[I 2025-01-17 22:04:48,071] Trial 266 finished with value: 0.6746275543855901 and parameters: {'max_bin': 425, 'learning_rate': 0.15533535405228305, 'max_depth': 4, 'gamma': 0.1889938075117925, 'min_child_weight': 61.781858267307385, 'subsample': 0.9466289324872236, 'colsample_bytree': 0.8673305333864748, 'colsample_bylevel': 0.8354100444389654, 'colsample_bynode': 0.8940294219457445, 'reg_alpha': 1.984741800114408e-06, 'reg_lambda': 3.2875371165321274, 'max_cat_threshold': 998}. Best is trial 238 with value: 0.6763129944323751.\n"
     ]
    },
    {
     "name": "stdout",
     "output_type": "stream",
     "text": [
      "####################################################################################################\n",
      "OOF prediction score :  0.6746275543855901\n",
      "Mean 5-cv results : 0.6725245728924678 +- 0.005752130387372619\n",
      "####################################################################################################\n"
     ]
    },
    {
     "name": "stderr",
     "output_type": "stream",
     "text": [
      "[I 2025-01-17 22:04:58,353] Trial 267 finished with value: 0.6635186523882789 and parameters: {'max_bin': 527, 'learning_rate': 0.10382908036033281, 'max_depth': 48, 'gamma': 0.0032787342822544587, 'min_child_weight': 44.707505718324796, 'subsample': 0.8595662688281378, 'colsample_bytree': 0.8000067613023696, 'colsample_bylevel': 0.8411450429310109, 'colsample_bynode': 0.8583043077200402, 'reg_alpha': 4.514950328341114e-06, 'reg_lambda': 1.4977057147491841, 'max_cat_threshold': 854}. Best is trial 238 with value: 0.6763129944323751.\n"
     ]
    },
    {
     "name": "stdout",
     "output_type": "stream",
     "text": [
      "####################################################################################################\n",
      "OOF prediction score :  0.6635186523882789\n",
      "Mean 5-cv results : 0.6607827968379736 +- 0.004491309947025879\n",
      "####################################################################################################\n"
     ]
    },
    {
     "name": "stderr",
     "output_type": "stream",
     "text": [
      "[I 2025-01-17 22:05:08,909] Trial 268 finished with value: 0.6735927117072232 and parameters: {'max_bin': 621, 'learning_rate': 0.10616112463034491, 'max_depth': 3, 'gamma': 0.3359397065857289, 'min_child_weight': 54.36027444212967, 'subsample': 0.9250596207924249, 'colsample_bytree': 0.8584871370774277, 'colsample_bylevel': 0.8317721972359396, 'colsample_bynode': 0.9158277894958392, 'reg_alpha': 1.3835615928363783e-06, 'reg_lambda': 4.357785141984585, 'max_cat_threshold': 477}. Best is trial 238 with value: 0.6763129944323751.\n"
     ]
    },
    {
     "name": "stdout",
     "output_type": "stream",
     "text": [
      "####################################################################################################\n",
      "OOF prediction score :  0.6735927117072232\n",
      "Mean 5-cv results : 0.6714176213702482 +- 0.00379533863806444\n",
      "####################################################################################################\n"
     ]
    },
    {
     "name": "stderr",
     "output_type": "stream",
     "text": [
      "[I 2025-01-17 22:05:18,645] Trial 269 finished with value: 0.6718330073326312 and parameters: {'max_bin': 483, 'learning_rate': 0.11584289801175618, 'max_depth': 4, 'gamma': 0.6085111659930471, 'min_child_weight': 34.72706223115313, 'subsample': 0.9385511247134769, 'colsample_bytree': 0.821982751292207, 'colsample_bylevel': 0.8453406349567183, 'colsample_bynode': 0.9029121217621184, 'reg_alpha': 2.273364546584312e-06, 'reg_lambda': 7.129206818606848, 'max_cat_threshold': 711}. Best is trial 238 with value: 0.6763129944323751.\n"
     ]
    },
    {
     "name": "stdout",
     "output_type": "stream",
     "text": [
      "####################################################################################################\n",
      "OOF prediction score :  0.6718330073326312\n",
      "Mean 5-cv results : 0.6699948371319594 +- 0.0031616924827960755\n",
      "####################################################################################################\n"
     ]
    },
    {
     "name": "stderr",
     "output_type": "stream",
     "text": [
      "[I 2025-01-17 22:05:26,905] Trial 270 finished with value: 0.6742380262053235 and parameters: {'max_bin': 402, 'learning_rate': 0.11160011783642235, 'max_depth': 5, 'gamma': 0.2870121235595843, 'min_child_weight': 70.93648120910692, 'subsample': 0.931984389948388, 'colsample_bytree': 0.8642111884773642, 'colsample_bylevel': 0.8248000716637082, 'colsample_bynode': 0.9093580189605166, 'reg_alpha': 2.9225651153407812e-06, 'reg_lambda': 2.8810580676756654, 'max_cat_threshold': 555}. Best is trial 238 with value: 0.6763129944323751.\n"
     ]
    },
    {
     "name": "stdout",
     "output_type": "stream",
     "text": [
      "####################################################################################################\n",
      "OOF prediction score :  0.6742380262053235\n",
      "Mean 5-cv results : 0.6724237461074467 +- 0.0045704797247643385\n",
      "####################################################################################################\n"
     ]
    },
    {
     "name": "stderr",
     "output_type": "stream",
     "text": [
      "[I 2025-01-17 22:05:34,956] Trial 271 finished with value: 0.6728140681253515 and parameters: {'max_bin': 589, 'learning_rate': 0.11788492665633098, 'max_depth': 6, 'gamma': 0.1832940754271138, 'min_child_weight': 41.635588656737106, 'subsample': 0.8428227566887578, 'colsample_bytree': 0.890743216453345, 'colsample_bylevel': 0.8399518908730772, 'colsample_bynode': 0.8975284874515101, 'reg_alpha': 1.7994463469092188e-06, 'reg_lambda': 5.233678112184623, 'max_cat_threshold': 804}. Best is trial 238 with value: 0.6763129944323751.\n"
     ]
    },
    {
     "name": "stdout",
     "output_type": "stream",
     "text": [
      "####################################################################################################\n",
      "OOF prediction score :  0.6728140681253515\n",
      "Mean 5-cv results : 0.6702436499704969 +- 0.0034525157393675053\n",
      "####################################################################################################\n"
     ]
    },
    {
     "name": "stderr",
     "output_type": "stream",
     "text": [
      "[I 2025-01-17 22:05:45,891] Trial 272 finished with value: 0.6743590683719356 and parameters: {'max_bin': 1343, 'learning_rate': 0.10241748374407601, 'max_depth': 3, 'gamma': 0.47947269478326837, 'min_child_weight': 60.326463022492526, 'subsample': 0.8549336730948633, 'colsample_bytree': 0.871852320439948, 'colsample_bylevel': 0.8280844460491033, 'colsample_bynode': 0.9039492593785333, 'reg_alpha': 4.128656431176626e-06, 'reg_lambda': 0.0004841254959398441, 'max_cat_threshold': 868}. Best is trial 238 with value: 0.6763129944323751.\n"
     ]
    },
    {
     "name": "stdout",
     "output_type": "stream",
     "text": [
      "####################################################################################################\n",
      "OOF prediction score :  0.6743590683719356\n",
      "Mean 5-cv results : 0.6720676626262121 +- 0.004596349771763938\n",
      "####################################################################################################\n"
     ]
    },
    {
     "name": "stderr",
     "output_type": "stream",
     "text": [
      "[I 2025-01-17 22:05:56,637] Trial 273 finished with value: 0.6747305006001219 and parameters: {'max_bin': 528, 'learning_rate': 0.1132524439220029, 'max_depth': 4, 'gamma': 0.17040007884482125, 'min_child_weight': 48.18005143157788, 'subsample': 0.9532517836542566, 'colsample_bytree': 0.8800592826116808, 'colsample_bylevel': 0.84611429286432, 'colsample_bynode': 0.8458208955367083, 'reg_alpha': 5.7532151395718025e-06, 'reg_lambda': 9.728084839769846, 'max_cat_threshold': 654}. Best is trial 238 with value: 0.6763129944323751.\n"
     ]
    },
    {
     "name": "stdout",
     "output_type": "stream",
     "text": [
      "####################################################################################################\n",
      "OOF prediction score :  0.6747305006001219\n",
      "Mean 5-cv results : 0.6725485372017437 +- 0.004567512421276548\n",
      "####################################################################################################\n"
     ]
    },
    {
     "name": "stderr",
     "output_type": "stream",
     "text": [
      "[I 2025-01-17 22:06:04,349] Trial 274 finished with value: 0.6702299178756884 and parameters: {'max_bin': 452, 'learning_rate': 0.10844654681384347, 'max_depth': 23, 'gamma': 0.8085929181129309, 'min_child_weight': 84.50879365165176, 'subsample': 0.8702503054552618, 'colsample_bytree': 0.8045463036028776, 'colsample_bylevel': 0.8361386323930621, 'colsample_bynode': 0.9116306421826891, 'reg_alpha': 1.3095129130986133e-06, 'reg_lambda': 1.8301493049642052, 'max_cat_threshold': 997}. Best is trial 238 with value: 0.6763129944323751.\n"
     ]
    },
    {
     "name": "stdout",
     "output_type": "stream",
     "text": [
      "####################################################################################################\n",
      "OOF prediction score :  0.6702299178756884\n",
      "Mean 5-cv results : 0.6677607794699691 +- 0.0038912160455208985\n",
      "####################################################################################################\n"
     ]
    },
    {
     "name": "stderr",
     "output_type": "stream",
     "text": [
      "[I 2025-01-17 22:06:15,539] Trial 275 finished with value: 0.6754048257307191 and parameters: {'max_bin': 419, 'learning_rate': 0.106222882062691, 'max_depth': 3, 'gamma': 0.019187101741547058, 'min_child_weight': 39.79447921040229, 'subsample': 0.9436452698306763, 'colsample_bytree': 0.856954224587993, 'colsample_bylevel': 0.8216340620508639, 'colsample_bynode': 0.8915530395013851, 'reg_alpha': 4.924957923756021, 'reg_lambda': 0.0500825610307224, 'max_cat_threshold': 731}. Best is trial 238 with value: 0.6763129944323751.\n"
     ]
    },
    {
     "name": "stdout",
     "output_type": "stream",
     "text": [
      "####################################################################################################\n",
      "OOF prediction score :  0.6754048257307191\n",
      "Mean 5-cv results : 0.6733408141430178 +- 0.003758452075813206\n",
      "####################################################################################################\n"
     ]
    },
    {
     "name": "stderr",
     "output_type": "stream",
     "text": [
      "[I 2025-01-17 22:06:28,296] Trial 276 finished with value: 0.6749998901446344 and parameters: {'max_bin': 660, 'learning_rate': 0.10550820170300841, 'max_depth': 3, 'gamma': 0.029119009743876406, 'min_child_weight': 36.994842959513946, 'subsample': 0.9427862422908821, 'colsample_bytree': 0.8709652902052348, 'colsample_bylevel': 0.8240833196051478, 'colsample_bynode': 0.8931208797049018, 'reg_alpha': 1.3553768296147995e-06, 'reg_lambda': 1.250096168285723, 'max_cat_threshold': 878}. Best is trial 238 with value: 0.6763129944323751.\n"
     ]
    },
    {
     "name": "stdout",
     "output_type": "stream",
     "text": [
      "####################################################################################################\n",
      "OOF prediction score :  0.6749998901446344\n",
      "Mean 5-cv results : 0.6729934928306658 +- 0.00438511647486791\n",
      "####################################################################################################\n"
     ]
    },
    {
     "name": "stderr",
     "output_type": "stream",
     "text": [
      "[I 2025-01-17 22:06:40,312] Trial 277 finished with value: 0.6753026733174545 and parameters: {'max_bin': 688, 'learning_rate': 0.10523771039637027, 'max_depth': 3, 'gamma': 0.0013520469825425772, 'min_child_weight': 29.685784144295347, 'subsample': 0.9423175566583378, 'colsample_bytree': 0.8705769575689067, 'colsample_bylevel': 0.8233799737029908, 'colsample_bynode': 0.8923804666037092, 'reg_alpha': 3.6061088881765446, 'reg_lambda': 0.04440695397653085, 'max_cat_threshold': 859}. Best is trial 238 with value: 0.6763129944323751.\n"
     ]
    },
    {
     "name": "stdout",
     "output_type": "stream",
     "text": [
      "####################################################################################################\n",
      "OOF prediction score :  0.6753026733174545\n",
      "Mean 5-cv results : 0.6731916281890505 +- 0.004049758066287682\n",
      "####################################################################################################\n"
     ]
    },
    {
     "name": "stderr",
     "output_type": "stream",
     "text": [
      "[I 2025-01-17 22:06:50,052] Trial 278 finished with value: 0.6731987515216423 and parameters: {'max_bin': 729, 'learning_rate': 0.10263778370319587, 'max_depth': 3, 'gamma': 0.35930195495933936, 'min_child_weight': 29.897808664539358, 'subsample': 0.9375551756478694, 'colsample_bytree': 0.8690123107440698, 'colsample_bylevel': 0.8187198718641095, 'colsample_bynode': 0.8911803667044671, 'reg_alpha': 1.3481578184361383e-06, 'reg_lambda': 0.10692935215992391, 'max_cat_threshold': 749}. Best is trial 238 with value: 0.6763129944323751.\n"
     ]
    },
    {
     "name": "stdout",
     "output_type": "stream",
     "text": [
      "####################################################################################################\n",
      "OOF prediction score :  0.6731987515216423\n",
      "Mean 5-cv results : 0.6709082362096757 +- 0.0037636964525919517\n",
      "####################################################################################################\n"
     ]
    },
    {
     "name": "stderr",
     "output_type": "stream",
     "text": [
      "[I 2025-01-17 22:07:04,695] Trial 279 finished with value: 0.6752359307935317 and parameters: {'max_bin': 782, 'learning_rate': 0.10629754439908301, 'max_depth': 3, 'gamma': 0.02581253937381034, 'min_child_weight': 27.850463914490398, 'subsample': 0.9440021021069553, 'colsample_bytree': 0.872820334079647, 'colsample_bylevel': 0.8131326100200289, 'colsample_bynode': 0.880087220400813, 'reg_alpha': 9.698624278796572, 'reg_lambda': 0.8474035673238418, 'max_cat_threshold': 620}. Best is trial 238 with value: 0.6763129944323751.\n"
     ]
    },
    {
     "name": "stdout",
     "output_type": "stream",
     "text": [
      "####################################################################################################\n",
      "OOF prediction score :  0.6752359307935317\n",
      "Mean 5-cv results : 0.6736190470117938 +- 0.0044642032125519595\n",
      "####################################################################################################\n"
     ]
    },
    {
     "name": "stderr",
     "output_type": "stream",
     "text": [
      "[I 2025-01-17 22:07:11,086] Trial 280 finished with value: 0.6602599494356954 and parameters: {'max_bin': 822, 'learning_rate': 0.10444816012601182, 'max_depth': 3, 'gamma': 2.785620431818166, 'min_child_weight': 29.490092895972673, 'subsample': 0.942378884068714, 'colsample_bytree': 0.8752303331409473, 'colsample_bylevel': 0.8067605700838585, 'colsample_bynode': 0.8792240511709865, 'reg_alpha': 5.256835981297508, 'reg_lambda': 0.059583094633654195, 'max_cat_threshold': 551}. Best is trial 238 with value: 0.6763129944323751.\n"
     ]
    },
    {
     "name": "stdout",
     "output_type": "stream",
     "text": [
      "####################################################################################################\n",
      "OOF prediction score :  0.6602599494356954\n",
      "Mean 5-cv results : 0.6593077156047962 +- 0.0033249783399746163\n",
      "####################################################################################################\n"
     ]
    },
    {
     "name": "stderr",
     "output_type": "stream",
     "text": [
      "[I 2025-01-17 22:07:22,458] Trial 281 finished with value: 0.6743063588952172 and parameters: {'max_bin': 680, 'learning_rate': 0.1053234848163944, 'max_depth': 3, 'gamma': 0.16737217433139823, 'min_child_weight': 26.657559415136674, 'subsample': 0.9426402375019536, 'colsample_bytree': 0.870054533094422, 'colsample_bylevel': 0.8122620125866595, 'colsample_bynode': 0.8867296120933579, 'reg_alpha': 6.165951013074528, 'reg_lambda': 0.013802632456582498, 'max_cat_threshold': 615}. Best is trial 238 with value: 0.6763129944323751.\n"
     ]
    },
    {
     "name": "stdout",
     "output_type": "stream",
     "text": [
      "####################################################################################################\n",
      "OOF prediction score :  0.6743063588952172\n",
      "Mean 5-cv results : 0.6725845326200772 +- 0.004262762956269085\n",
      "####################################################################################################\n"
     ]
    },
    {
     "name": "stderr",
     "output_type": "stream",
     "text": [
      "[I 2025-01-17 22:07:32,581] Trial 282 finished with value: 0.6703265485632902 and parameters: {'max_bin': 754, 'learning_rate': 0.10276251303496095, 'max_depth': 43, 'gamma': 0.38423094044646006, 'min_child_weight': 34.3758178918623, 'subsample': 0.9392135015809555, 'colsample_bytree': 0.8733967599586624, 'colsample_bylevel': 0.8146982598923432, 'colsample_bynode': 0.8904670134114133, 'reg_alpha': 3.1170431885031817, 'reg_lambda': 0.6142611416736401, 'max_cat_threshold': 494}. Best is trial 238 with value: 0.6763129944323751.\n"
     ]
    },
    {
     "name": "stdout",
     "output_type": "stream",
     "text": [
      "####################################################################################################\n",
      "OOF prediction score :  0.6703265485632902\n",
      "Mean 5-cv results : 0.6686044840770111 +- 0.0035769140732263985\n",
      "####################################################################################################\n"
     ]
    },
    {
     "name": "stderr",
     "output_type": "stream",
     "text": [
      "[I 2025-01-17 22:07:44,133] Trial 283 finished with value: 0.6756784737585311 and parameters: {'max_bin': 666, 'learning_rate': 0.10109905043033685, 'max_depth': 4, 'gamma': 0.016339996543996815, 'min_child_weight': 23.192891996344656, 'subsample': 0.9284348657578061, 'colsample_bytree': 0.8663447013354676, 'colsample_bylevel': 0.8190467129396405, 'colsample_bynode': 0.8824054000791376, 'reg_alpha': 5.956887517366824, 'reg_lambda': 0.22392491825082927, 'max_cat_threshold': 667}. Best is trial 238 with value: 0.6763129944323751.\n"
     ]
    },
    {
     "name": "stdout",
     "output_type": "stream",
     "text": [
      "####################################################################################################\n",
      "OOF prediction score :  0.6756784737585311\n",
      "Mean 5-cv results : 0.6734611656429804 +- 0.003893865642664113\n",
      "####################################################################################################\n"
     ]
    },
    {
     "name": "stderr",
     "output_type": "stream",
     "text": [
      "[I 2025-01-17 22:07:58,310] Trial 284 finished with value: 0.6751774173134604 and parameters: {'max_bin': 774, 'learning_rate': 0.1003498196851624, 'max_depth': 4, 'gamma': 0.005088939078666678, 'min_child_weight': 20.449172678564228, 'subsample': 0.9289707696209354, 'colsample_bytree': 0.8786008550749381, 'colsample_bylevel': 0.8108631280977312, 'colsample_bynode': 0.879553855012675, 'reg_alpha': 9.478962175809977, 'reg_lambda': 0.960072098452745, 'max_cat_threshold': 675}. Best is trial 238 with value: 0.6763129944323751.\n"
     ]
    },
    {
     "name": "stdout",
     "output_type": "stream",
     "text": [
      "####################################################################################################\n",
      "OOF prediction score :  0.6751774173134604\n",
      "Mean 5-cv results : 0.6733856922095178 +- 0.003972418904692859\n",
      "####################################################################################################\n"
     ]
    },
    {
     "name": "stderr",
     "output_type": "stream",
     "text": [
      "[I 2025-01-17 22:08:10,290] Trial 285 finished with value: 0.6750987963686783 and parameters: {'max_bin': 797, 'learning_rate': 0.10348119847542213, 'max_depth': 5, 'gamma': 0.05419119053080926, 'min_child_weight': 28.376024798919296, 'subsample': 0.9293864625000885, 'colsample_bytree': 0.8813176300144392, 'colsample_bylevel': 0.8165518859963393, 'colsample_bynode': 0.8793692581017823, 'reg_alpha': 8.969472470643547, 'reg_lambda': 0.3578986470128165, 'max_cat_threshold': 646}. Best is trial 238 with value: 0.6763129944323751.\n"
     ]
    },
    {
     "name": "stdout",
     "output_type": "stream",
     "text": [
      "####################################################################################################\n",
      "OOF prediction score :  0.6750987963686783\n",
      "Mean 5-cv results : 0.6727635792334196 +- 0.005467350332698836\n",
      "####################################################################################################\n"
     ]
    },
    {
     "name": "stderr",
     "output_type": "stream",
     "text": [
      "[I 2025-01-17 22:08:21,513] Trial 286 finished with value: 0.6757875328475398 and parameters: {'max_bin': 909, 'learning_rate': 0.10051045959379151, 'max_depth': 5, 'gamma': 0.08652171813693506, 'min_child_weight': 22.23429938053129, 'subsample': 0.9333478011306272, 'colsample_bytree': 0.8803698760623929, 'colsample_bylevel': 0.8101301877007856, 'colsample_bynode': 0.8814830071267008, 'reg_alpha': 8.273541944349665, 'reg_lambda': 0.2658957487529358, 'max_cat_threshold': 669}. Best is trial 238 with value: 0.6763129944323751.\n"
     ]
    },
    {
     "name": "stdout",
     "output_type": "stream",
     "text": [
      "####################################################################################################\n",
      "OOF prediction score :  0.6757875328475398\n",
      "Mean 5-cv results : 0.6735604910338386 +- 0.004157815335207429\n",
      "####################################################################################################\n"
     ]
    },
    {
     "name": "stderr",
     "output_type": "stream",
     "text": [
      "[I 2025-01-17 22:08:35,340] Trial 287 finished with value: 0.6749779312260833 and parameters: {'max_bin': 887, 'learning_rate': 0.10012472129147033, 'max_depth': 6, 'gamma': 0.022908851916364437, 'min_child_weight': 22.065675977826142, 'subsample': 0.928043884416029, 'colsample_bytree': 0.883528433975136, 'colsample_bylevel': 0.8090531361347473, 'colsample_bynode': 0.8805754827246743, 'reg_alpha': 9.663624796862864, 'reg_lambda': 0.31670857180336176, 'max_cat_threshold': 643}. Best is trial 238 with value: 0.6763129944323751.\n"
     ]
    },
    {
     "name": "stdout",
     "output_type": "stream",
     "text": [
      "####################################################################################################\n",
      "OOF prediction score :  0.6749779312260833\n",
      "Mean 5-cv results : 0.673012726495974 +- 0.003963565269577553\n",
      "####################################################################################################\n"
     ]
    },
    {
     "name": "stderr",
     "output_type": "stream",
     "text": [
      "[I 2025-01-17 22:08:41,055] Trial 288 finished with value: 0.6543018229917799 and parameters: {'max_bin': 898, 'learning_rate': 0.10009455355715166, 'max_depth': 7, 'gamma': 5.298945441957247, 'min_child_weight': 20.31724186525414, 'subsample': 0.9263735124024582, 'colsample_bytree': 0.8886027955670162, 'colsample_bylevel': 0.8104061374300159, 'colsample_bynode': 0.8813512456376691, 'reg_alpha': 9.947783826119005, 'reg_lambda': 0.32487399820490914, 'max_cat_threshold': 642}. Best is trial 238 with value: 0.6763129944323751.\n"
     ]
    },
    {
     "name": "stdout",
     "output_type": "stream",
     "text": [
      "####################################################################################################\n",
      "OOF prediction score :  0.6543018229917799\n",
      "Mean 5-cv results : 0.6531095468912922 +- 0.003535516893823264\n",
      "####################################################################################################\n"
     ]
    },
    {
     "name": "stderr",
     "output_type": "stream",
     "text": [
      "[I 2025-01-17 22:08:51,876] Trial 289 finished with value: 0.6745678716271386 and parameters: {'max_bin': 936, 'learning_rate': 0.10192863101099077, 'max_depth': 6, 'gamma': 0.02595842854722367, 'min_child_weight': 22.37264799759188, 'subsample': 0.929472016973965, 'colsample_bytree': 0.879797406423524, 'colsample_bylevel': 0.8054203745391616, 'colsample_bynode': 0.8749033793721426, 'reg_alpha': 6.68372764942142, 'reg_lambda': 0.43122543626844767, 'max_cat_threshold': 624}. Best is trial 238 with value: 0.6763129944323751.\n"
     ]
    },
    {
     "name": "stdout",
     "output_type": "stream",
     "text": [
      "####################################################################################################\n",
      "OOF prediction score :  0.6745678716271386\n",
      "Mean 5-cv results : 0.6722853113965105 +- 0.0037034769676684343\n",
      "####################################################################################################\n"
     ]
    },
    {
     "name": "stderr",
     "output_type": "stream",
     "text": [
      "[I 2025-01-17 22:09:03,800] Trial 290 finished with value: 0.6749990874952296 and parameters: {'max_bin': 808, 'learning_rate': 0.10095286554476361, 'max_depth': 5, 'gamma': 0.15269616694090749, 'min_child_weight': 24.642361852154533, 'subsample': 0.9153587923612141, 'colsample_bytree': 0.8778731581159724, 'colsample_bylevel': 0.8108310218357879, 'colsample_bynode': 0.8815975865400313, 'reg_alpha': 3.9208099364540074, 'reg_lambda': 0.16964304388666607, 'max_cat_threshold': 573}. Best is trial 238 with value: 0.6763129944323751.\n"
     ]
    },
    {
     "name": "stdout",
     "output_type": "stream",
     "text": [
      "####################################################################################################\n",
      "OOF prediction score :  0.6749990874952296\n",
      "Mean 5-cv results : 0.6728975813398819 +- 0.004166413210812338\n",
      "####################################################################################################\n"
     ]
    },
    {
     "name": "stderr",
     "output_type": "stream",
     "text": [
      "[I 2025-01-17 22:09:12,415] Trial 291 finished with value: 0.6720505245041873 and parameters: {'max_bin': 800, 'learning_rate': 0.10040820601007851, 'max_depth': 7, 'gamma': 0.3635920483903489, 'min_child_weight': 26.561314045097145, 'subsample': 0.9307493253058179, 'colsample_bytree': 0.8833954210924013, 'colsample_bylevel': 0.8105174271554936, 'colsample_bynode': 0.8785993989779931, 'reg_alpha': 3.4666290412333294, 'reg_lambda': 0.22128740875743036, 'max_cat_threshold': 471}. Best is trial 238 with value: 0.6763129944323751.\n"
     ]
    },
    {
     "name": "stdout",
     "output_type": "stream",
     "text": [
      "####################################################################################################\n",
      "OOF prediction score :  0.6720505245041873\n",
      "Mean 5-cv results : 0.6705319811095738 +- 0.0029510336660817996\n",
      "####################################################################################################\n"
     ]
    },
    {
     "name": "stderr",
     "output_type": "stream",
     "text": [
      "[I 2025-01-17 22:09:18,182] Trial 292 finished with value: 0.6524007268697238 and parameters: {'max_bin': 887, 'learning_rate': 0.10173337824138551, 'max_depth': 6, 'gamma': 7.28778536822589, 'min_child_weight': 21.8172845066191, 'subsample': 0.9272349104741476, 'colsample_bytree': 0.8829368933309892, 'colsample_bylevel': 0.8170696656927763, 'colsample_bynode': 0.8833273660011096, 'reg_alpha': 8.102265961753035, 'reg_lambda': 0.213602887483225, 'max_cat_threshold': 713}. Best is trial 238 with value: 0.6763129944323751.\n"
     ]
    },
    {
     "name": "stdout",
     "output_type": "stream",
     "text": [
      "####################################################################################################\n",
      "OOF prediction score :  0.6524007268697238\n",
      "Mean 5-cv results : 0.6511004188924904 +- 0.003855962148736721\n",
      "####################################################################################################\n"
     ]
    },
    {
     "name": "stderr",
     "output_type": "stream",
     "text": [
      "[I 2025-01-17 22:09:28,518] Trial 293 finished with value: 0.6741087907083737 and parameters: {'max_bin': 814, 'learning_rate': 0.10042849286612619, 'max_depth': 5, 'gamma': 0.01054233928860421, 'min_child_weight': 21.900135232228397, 'subsample': 0.9222625563328056, 'colsample_bytree': 0.8800444606057044, 'colsample_bylevel': 0.8036350272752799, 'colsample_bynode': 0.8807426770127588, 'reg_alpha': 3.707909460612199, 'reg_lambda': 0.1813921642768824, 'max_cat_threshold': 550}. Best is trial 238 with value: 0.6763129944323751.\n"
     ]
    },
    {
     "name": "stdout",
     "output_type": "stream",
     "text": [
      "####################################################################################################\n",
      "OOF prediction score :  0.6741087907083737\n",
      "Mean 5-cv results : 0.6719294480503569 +- 0.005125647178523762\n",
      "####################################################################################################\n"
     ]
    },
    {
     "name": "stderr",
     "output_type": "stream",
     "text": [
      "[I 2025-01-17 22:09:38,573] Trial 294 finished with value: 0.6713917359295307 and parameters: {'max_bin': 762, 'learning_rate': 0.10324672257859992, 'max_depth': 8, 'gamma': 0.5414753850297297, 'min_child_weight': 24.217211097008153, 'subsample': 0.9162000486673616, 'colsample_bytree': 0.8851184077836216, 'colsample_bylevel': 0.8114249572284431, 'colsample_bynode': 0.8845989998634249, 'reg_alpha': 4.859842583861391, 'reg_lambda': 0.13834763101135175, 'max_cat_threshold': 717}. Best is trial 238 with value: 0.6763129944323751.\n"
     ]
    },
    {
     "name": "stdout",
     "output_type": "stream",
     "text": [
      "####################################################################################################\n",
      "OOF prediction score :  0.6713917359295307\n",
      "Mean 5-cv results : 0.6693357304114522 +- 0.0036657889773272943\n",
      "####################################################################################################\n"
     ]
    },
    {
     "name": "stderr",
     "output_type": "stream",
     "text": [
      "[I 2025-01-17 22:09:48,986] Trial 295 finished with value: 0.6745937052771162 and parameters: {'max_bin': 820, 'learning_rate': 0.10231304494882718, 'max_depth': 5, 'gamma': 0.18021084531897935, 'min_child_weight': 18.064476768749177, 'subsample': 0.9339135312904391, 'colsample_bytree': 0.8791190106655589, 'colsample_bylevel': 0.8149496278456128, 'colsample_bynode': 0.8751852356150881, 'reg_alpha': 9.950192072373715, 'reg_lambda': 0.0367338685883627, 'max_cat_threshold': 570}. Best is trial 238 with value: 0.6763129944323751.\n"
     ]
    },
    {
     "name": "stdout",
     "output_type": "stream",
     "text": [
      "####################################################################################################\n",
      "OOF prediction score :  0.6745937052771162\n",
      "Mean 5-cv results : 0.6726134626306494 +- 0.004472327775933546\n",
      "####################################################################################################\n"
     ]
    },
    {
     "name": "stderr",
     "output_type": "stream",
     "text": [
      "[I 2025-01-17 22:09:57,918] Trial 296 finished with value: 0.6726739679765191 and parameters: {'max_bin': 999, 'learning_rate': 0.10017021724845113, 'max_depth': 5, 'gamma': 0.35395955004087176, 'min_child_weight': 25.624340380393893, 'subsample': 0.9163094337553417, 'colsample_bytree': 0.8769089547677866, 'colsample_bylevel': 0.8084163889085992, 'colsample_bynode': 0.8793796154442017, 'reg_alpha': 7.0922761539055035, 'reg_lambda': 0.26772847179122133, 'max_cat_threshold': 671}. Best is trial 238 with value: 0.6763129944323751.\n"
     ]
    },
    {
     "name": "stdout",
     "output_type": "stream",
     "text": [
      "####################################################################################################\n",
      "OOF prediction score :  0.6726739679765191\n",
      "Mean 5-cv results : 0.6713177247889088 +- 0.0037622868907900508\n",
      "####################################################################################################\n"
     ]
    },
    {
     "name": "stderr",
     "output_type": "stream",
     "text": [
      "[I 2025-01-17 22:10:12,404] Trial 297 finished with value: 0.662782115329852 and parameters: {'max_bin': 740, 'learning_rate': 0.10440416404999654, 'max_depth': 34, 'gamma': 0.018582332083562844, 'min_child_weight': 28.353779660525003, 'subsample': 0.90703393009638, 'colsample_bytree': 0.8862006263626842, 'colsample_bylevel': 0.821149581313683, 'colsample_bynode': 0.885491633390919, 'reg_alpha': 1.845414850273785, 'reg_lambda': 0.4563237838752095, 'max_cat_threshold': 759}. Best is trial 238 with value: 0.6763129944323751.\n"
     ]
    },
    {
     "name": "stdout",
     "output_type": "stream",
     "text": [
      "####################################################################################################\n",
      "OOF prediction score :  0.662782115329852\n",
      "Mean 5-cv results : 0.6609867973261403 +- 0.004547314993249076\n",
      "####################################################################################################\n"
     ]
    },
    {
     "name": "stderr",
     "output_type": "stream",
     "text": [
      "[I 2025-01-17 22:10:23,887] Trial 298 finished with value: 0.6704184670439433 and parameters: {'max_bin': 1064, 'learning_rate': 0.10385766099347955, 'max_depth': 27, 'gamma': 0.19648225160456878, 'min_child_weight': 19.74575515544366, 'subsample': 0.9311239240952466, 'colsample_bytree': 0.8815770211456812, 'colsample_bylevel': 0.8149275543712851, 'colsample_bynode': 0.8727870355241781, 'reg_alpha': 4.947169443941053, 'reg_lambda': 0.15703792067689798, 'max_cat_threshold': 503}. Best is trial 238 with value: 0.6763129944323751.\n"
     ]
    },
    {
     "name": "stdout",
     "output_type": "stream",
     "text": [
      "####################################################################################################\n",
      "OOF prediction score :  0.6704184670439433\n",
      "Mean 5-cv results : 0.668583319528834 +- 0.0050821024296212975\n",
      "####################################################################################################\n"
     ]
    },
    {
     "name": "stderr",
     "output_type": "stream",
     "text": [
      "[I 2025-01-17 22:10:32,392] Trial 299 finished with value: 0.6705328501942429 and parameters: {'max_bin': 888, 'learning_rate': 0.1024305186774976, 'max_depth': 6, 'gamma': 0.5761954459510547, 'min_child_weight': 31.410137563538843, 'subsample': 0.9254276566536449, 'colsample_bytree': 0.8962522239198785, 'colsample_bylevel': 0.8022199048065178, 'colsample_bynode': 0.8879987392891268, 'reg_alpha': 5.584788542265334, 'reg_lambda': 0.3345350743504601, 'max_cat_threshold': 653}. Best is trial 238 with value: 0.6763129944323751.\n"
     ]
    },
    {
     "name": "stdout",
     "output_type": "stream",
     "text": [
      "####################################################################################################\n",
      "OOF prediction score :  0.6705328501942429\n",
      "Mean 5-cv results : 0.6689474694466202 +- 0.003076778341857023\n",
      "####################################################################################################\n"
     ]
    },
    {
     "name": "stderr",
     "output_type": "stream",
     "text": [
      "[I 2025-01-17 22:10:44,864] Trial 300 finished with value: 0.67525081861642 and parameters: {'max_bin': 721, 'learning_rate': 0.10516119798136282, 'max_depth': 5, 'gamma': 0.010034748360947206, 'min_child_weight': 25.483313018085088, 'subsample': 0.9347995489622923, 'colsample_bytree': 0.8758968259032162, 'colsample_bylevel': 0.8160652303115965, 'colsample_bynode': 0.8829287955059686, 'reg_alpha': 7.748948125434907, 'reg_lambda': 0.6405630588424744, 'max_cat_threshold': 788}. Best is trial 238 with value: 0.6763129944323751.\n"
     ]
    },
    {
     "name": "stdout",
     "output_type": "stream",
     "text": [
      "####################################################################################################\n",
      "OOF prediction score :  0.67525081861642\n",
      "Mean 5-cv results : 0.6731136696465422 +- 0.0037232016563983968\n",
      "####################################################################################################\n"
     ]
    },
    {
     "name": "stderr",
     "output_type": "stream",
     "text": [
      "[I 2025-01-17 22:10:53,143] Trial 301 finished with value: 0.6728602392955186 and parameters: {'max_bin': 683, 'learning_rate': 0.10501762449505456, 'max_depth': 6, 'gamma': 0.3370465069707487, 'min_child_weight': 24.770182007443356, 'subsample': 0.9351250135158382, 'colsample_bytree': 0.890371751040421, 'colsample_bylevel': 0.8199810866176152, 'colsample_bynode': 0.8770377242801923, 'reg_alpha': 7.872693647323188, 'reg_lambda': 0.6869914880752255, 'max_cat_threshold': 3}. Best is trial 238 with value: 0.6763129944323751.\n"
     ]
    },
    {
     "name": "stdout",
     "output_type": "stream",
     "text": [
      "####################################################################################################\n",
      "OOF prediction score :  0.6728602392955186\n",
      "Mean 5-cv results : 0.6711757209447559 +- 0.0036136821635200777\n",
      "####################################################################################################\n"
     ]
    },
    {
     "name": "stderr",
     "output_type": "stream",
     "text": [
      "[I 2025-01-17 22:10:58,982] Trial 302 finished with value: 0.6538948078514828 and parameters: {'max_bin': 729, 'learning_rate': 0.1000983133626281, 'max_depth': 7, 'gamma': 6.805309390192406, 'min_child_weight': 15.671813244104722, 'subsample': 0.9296558300182144, 'colsample_bytree': 0.8782227025390913, 'colsample_bylevel': 0.8169173545906044, 'colsample_bynode': 0.8817251237175827, 'reg_alpha': 2.8124519224127096, 'reg_lambda': 0.4920372854012634, 'max_cat_threshold': 809}. Best is trial 238 with value: 0.6763129944323751.\n"
     ]
    },
    {
     "name": "stdout",
     "output_type": "stream",
     "text": [
      "####################################################################################################\n",
      "OOF prediction score :  0.6538948078514828\n",
      "Mean 5-cv results : 0.6527237421294692 +- 0.00418008818083881\n",
      "####################################################################################################\n"
     ]
    },
    {
     "name": "stderr",
     "output_type": "stream",
     "text": [
      "[I 2025-01-17 22:11:11,769] Trial 303 finished with value: 0.6761240690695274 and parameters: {'max_bin': 811, 'learning_rate': 0.10476759531059168, 'max_depth': 5, 'gamma': 0.026656595374780524, 'min_child_weight': 27.356821634463962, 'subsample': 0.9350970373510127, 'colsample_bytree': 0.8754190000120268, 'colsample_bylevel': 0.8087125117381002, 'colsample_bynode': 0.8888680258285985, 'reg_alpha': 7.834299919068215, 'reg_lambda': 0.27834030728732034, 'max_cat_threshold': 853}. Best is trial 238 with value: 0.6763129944323751.\n"
     ]
    },
    {
     "name": "stdout",
     "output_type": "stream",
     "text": [
      "####################################################################################################\n",
      "OOF prediction score :  0.6761240690695274\n",
      "Mean 5-cv results : 0.674161462586939 +- 0.004512398897667968\n",
      "####################################################################################################\n"
     ]
    },
    {
     "name": "stderr",
     "output_type": "stream",
     "text": [
      "[I 2025-01-17 22:11:22,353] Trial 304 finished with value: 0.6740299719331511 and parameters: {'max_bin': 825, 'learning_rate': 0.10517787703513946, 'max_depth': 5, 'gamma': 0.136678787026353, 'min_child_weight': 23.012137161063006, 'subsample': 0.934889617340053, 'colsample_bytree': 0.8872550138973025, 'colsample_bylevel': 0.8091088830057598, 'colsample_bynode': 0.8903547937612002, 'reg_alpha': 9.742611478178627, 'reg_lambda': 0.2654287835390823, 'max_cat_threshold': 439}. Best is trial 238 with value: 0.6763129944323751.\n"
     ]
    },
    {
     "name": "stdout",
     "output_type": "stream",
     "text": [
      "####################################################################################################\n",
      "OOF prediction score :  0.6740299719331511\n",
      "Mean 5-cv results : 0.6719800519155023 +- 0.004019062734624826\n",
      "####################################################################################################\n"
     ]
    },
    {
     "name": "stderr",
     "output_type": "stream",
     "text": [
      "[I 2025-01-17 22:11:31,226] Trial 305 finished with value: 0.6724479113554056 and parameters: {'max_bin': 967, 'learning_rate': 0.1022194091058644, 'max_depth': 6, 'gamma': 0.3592701504048643, 'min_child_weight': 20.185814796581294, 'subsample': 0.9315275876241773, 'colsample_bytree': 0.8821959178346983, 'colsample_bylevel': 0.8021167634136036, 'colsample_bynode': 0.870474668531879, 'reg_alpha': 4.132291297487874, 'reg_lambda': 0.06201441084649564, 'max_cat_threshold': 581}. Best is trial 238 with value: 0.6763129944323751.\n"
     ]
    },
    {
     "name": "stdout",
     "output_type": "stream",
     "text": [
      "####################################################################################################\n",
      "OOF prediction score :  0.6724479113554056\n",
      "Mean 5-cv results : 0.6703345107814753 +- 0.004110125867511261\n",
      "####################################################################################################\n"
     ]
    },
    {
     "name": "stderr",
     "output_type": "stream",
     "text": [
      "[I 2025-01-17 22:11:42,764] Trial 306 finished with value: 0.6750156606760491 and parameters: {'max_bin': 791, 'learning_rate': 0.10539048777819114, 'max_depth': 5, 'gamma': 0.03139922583227271, 'min_child_weight': 27.577383187194, 'subsample': 0.9374113962366217, 'colsample_bytree': 0.8777964214707019, 'colsample_bylevel': 0.8157831719419898, 'colsample_bynode': 0.8865900462786108, 'reg_alpha': 6.313704897038796, 'reg_lambda': 0.10150409378647107, 'max_cat_threshold': 22}. Best is trial 238 with value: 0.6763129944323751.\n"
     ]
    },
    {
     "name": "stdout",
     "output_type": "stream",
     "text": [
      "####################################################################################################\n",
      "OOF prediction score :  0.6750156606760491\n",
      "Mean 5-cv results : 0.6725538646329976 +- 0.0028970542598220927\n",
      "####################################################################################################\n"
     ]
    },
    {
     "name": "stderr",
     "output_type": "stream",
     "text": [
      "[I 2025-01-17 22:11:53,433] Trial 307 finished with value: 0.6717851256129102 and parameters: {'max_bin': 806, 'learning_rate': 0.10372781259193703, 'max_depth': 8, 'gamma': 0.004074779202180547, 'min_child_weight': 27.361596890014265, 'subsample': 0.9368876338956672, 'colsample_bytree': 0.8759926531432631, 'colsample_bylevel': 0.8138571023547968, 'colsample_bynode': 0.8872717002196047, 'reg_alpha': 6.614501317170989, 'reg_lambda': 0.141934665625771, 'max_cat_threshold': 822}. Best is trial 238 with value: 0.6763129944323751.\n"
     ]
    },
    {
     "name": "stdout",
     "output_type": "stream",
     "text": [
      "####################################################################################################\n",
      "OOF prediction score :  0.6717851256129102\n",
      "Mean 5-cv results : 0.6695710655697669 +- 0.004277619629797741\n",
      "####################################################################################################\n"
     ]
    },
    {
     "name": "stderr",
     "output_type": "stream",
     "text": [
      "[I 2025-01-17 22:12:00,454] Trial 308 finished with value: 0.6721160112964114 and parameters: {'max_bin': 688, 'learning_rate': 0.18507722843098096, 'max_depth': 5, 'gamma': 0.1905581093856553, 'min_child_weight': 28.592153605535675, 'subsample': 0.9248624763157172, 'colsample_bytree': 0.8780645610323514, 'colsample_bylevel': 0.8067016730222842, 'colsample_bynode': 0.8821597463257861, 'reg_alpha': 4.2895408734287335, 'reg_lambda': 0.07809205646496667, 'max_cat_threshold': 26}. Best is trial 238 with value: 0.6763129944323751.\n"
     ]
    },
    {
     "name": "stdout",
     "output_type": "stream",
     "text": [
      "####################################################################################################\n",
      "OOF prediction score :  0.6721160112964114\n",
      "Mean 5-cv results : 0.6700958748456396 +- 0.003705141398352921\n",
      "####################################################################################################\n"
     ]
    },
    {
     "name": "stderr",
     "output_type": "stream",
     "text": [
      "[I 2025-01-17 22:12:12,633] Trial 309 finished with value: 0.6736839192613573 and parameters: {'max_bin': 859, 'learning_rate': 0.10568530077902642, 'max_depth': 7, 'gamma': 0.016257897335950466, 'min_child_weight': 32.229650222456314, 'subsample': 0.9368019177327377, 'colsample_bytree': 0.8741295741918172, 'colsample_bylevel': 0.8183369692413472, 'colsample_bynode': 0.876619546995617, 'reg_alpha': 7.722718549735885, 'reg_lambda': 0.10630666898167518, 'max_cat_threshold': 19}. Best is trial 238 with value: 0.6763129944323751.\n"
     ]
    },
    {
     "name": "stdout",
     "output_type": "stream",
     "text": [
      "####################################################################################################\n",
      "OOF prediction score :  0.6736839192613573\n",
      "Mean 5-cv results : 0.672099405545177 +- 0.004083211342007297\n",
      "####################################################################################################\n"
     ]
    },
    {
     "name": "stderr",
     "output_type": "stream",
     "text": [
      "[I 2025-01-17 22:12:22,516] Trial 310 finished with value: 0.6735983362751542 and parameters: {'max_bin': 761, 'learning_rate': 0.10201513723276925, 'max_depth': 6, 'gamma': 0.0041120347557405, 'min_child_weight': 24.015926037493124, 'subsample': 0.9282107254548073, 'colsample_bytree': 0.8825149258810315, 'colsample_bylevel': 0.8115323068198887, 'colsample_bynode': 0.8922826909101917, 'reg_alpha': 5.998888837839949, 'reg_lambda': 0.34880418657493933, 'max_cat_threshold': 28}. Best is trial 238 with value: 0.6763129944323751.\n"
     ]
    },
    {
     "name": "stdout",
     "output_type": "stream",
     "text": [
      "####################################################################################################\n",
      "OOF prediction score :  0.6735983362751542\n",
      "Mean 5-cv results : 0.6717159216518335 +- 0.004051338646004299\n",
      "####################################################################################################\n"
     ]
    },
    {
     "name": "stderr",
     "output_type": "stream",
     "text": [
      "[I 2025-01-17 22:12:30,991] Trial 311 finished with value: 0.6723969354014291 and parameters: {'max_bin': 946, 'learning_rate': 0.10526939565764835, 'max_depth': 5, 'gamma': 0.49806024000265, 'min_child_weight': 27.88776444157203, 'subsample': 0.9323502438069946, 'colsample_bytree': 0.8749024126158287, 'colsample_bylevel': 0.8227591403887345, 'colsample_bynode': 0.8845886948361501, 'reg_alpha': 2.3903673072960783, 'reg_lambda': 0.16964715116386975, 'max_cat_threshold': 754}. Best is trial 238 with value: 0.6763129944323751.\n"
     ]
    },
    {
     "name": "stdout",
     "output_type": "stream",
     "text": [
      "####################################################################################################\n",
      "OOF prediction score :  0.6723969354014291\n",
      "Mean 5-cv results : 0.6705751684403854 +- 0.003433960559429753\n",
      "####################################################################################################\n"
     ]
    },
    {
     "name": "stderr",
     "output_type": "stream",
     "text": [
      "[I 2025-01-17 22:12:39,799] Trial 312 finished with value: 0.6728931959943216 and parameters: {'max_bin': 660, 'learning_rate': 0.10014780324632926, 'max_depth': 5, 'gamma': 0.31746791911296623, 'min_child_weight': 32.50724185539679, 'subsample': 0.9117522561442419, 'colsample_bytree': 0.8857471010630272, 'colsample_bylevel': 0.8149142704440407, 'colsample_bynode': 0.8876256691765766, 'reg_alpha': 1.1258359139324858, 'reg_lambda': 0.2351790481330863, 'max_cat_threshold': 17}. Best is trial 238 with value: 0.6763129944323751.\n"
     ]
    },
    {
     "name": "stdout",
     "output_type": "stream",
     "text": [
      "####################################################################################################\n",
      "OOF prediction score :  0.6728931959943216\n",
      "Mean 5-cv results : 0.6709250067583236 +- 0.0026017165646375073\n",
      "####################################################################################################\n"
     ]
    },
    {
     "name": "stderr",
     "output_type": "stream",
     "text": [
      "[I 2025-01-17 22:12:53,725] Trial 313 finished with value: 0.6758415872897553 and parameters: {'max_bin': 737, 'learning_rate': 0.1041631990943905, 'max_depth': 4, 'gamma': 0.01604366818946594, 'min_child_weight': 25.424427690933875, 'subsample': 0.9182782128869142, 'colsample_bytree': 0.8795625737200654, 'colsample_bylevel': 0.8117800929719524, 'colsample_bynode': 0.8793047446651104, 'reg_alpha': 9.88365186495135, 'reg_lambda': 0.5340649427046579, 'max_cat_threshold': 12}. Best is trial 238 with value: 0.6763129944323751.\n"
     ]
    },
    {
     "name": "stdout",
     "output_type": "stream",
     "text": [
      "####################################################################################################\n",
      "OOF prediction score :  0.6758415872897553\n",
      "Mean 5-cv results : 0.6737019191550606 +- 0.003940185768816422\n",
      "####################################################################################################\n"
     ]
    },
    {
     "name": "stderr",
     "output_type": "stream",
     "text": [
      "[I 2025-01-17 22:13:02,287] Trial 314 finished with value: 0.6688202169376839 and parameters: {'max_bin': 764, 'learning_rate': 0.10542480872136113, 'max_depth': 4, 'gamma': 0.6785667453799691, 'min_child_weight': 24.346094863957223, 'subsample': 0.9199450486357302, 'colsample_bytree': 0.8794630931788333, 'colsample_bylevel': 0.8088285975776326, 'colsample_bynode': 0.8807416000995408, 'reg_alpha': 9.931701062591356, 'reg_lambda': 0.5412357076325081, 'max_cat_threshold': 4}. Best is trial 238 with value: 0.6763129944323751.\n"
     ]
    },
    {
     "name": "stdout",
     "output_type": "stream",
     "text": [
      "####################################################################################################\n",
      "OOF prediction score :  0.6688202169376839\n",
      "Mean 5-cv results : 0.6670960732963008 +- 0.004224403271070831\n",
      "####################################################################################################\n"
     ]
    },
    {
     "name": "stderr",
     "output_type": "stream",
     "text": [
      "[I 2025-01-17 22:13:13,044] Trial 315 finished with value: 0.6739091608966269 and parameters: {'max_bin': 894, 'learning_rate': 0.10336568416174434, 'max_depth': 6, 'gamma': 0.007848322871624333, 'min_child_weight': 28.164350884644143, 'subsample': 0.9279330180448011, 'colsample_bytree': 0.8825292171034999, 'colsample_bylevel': 0.8122903386739889, 'colsample_bynode': 0.8749369076504748, 'reg_alpha': 7.282879000556035, 'reg_lambda': 0.7630310893612435, 'max_cat_threshold': 7}. Best is trial 238 with value: 0.6763129944323751.\n"
     ]
    },
    {
     "name": "stdout",
     "output_type": "stream",
     "text": [
      "####################################################################################################\n",
      "OOF prediction score :  0.6739091608966269\n",
      "Mean 5-cv results : 0.6719294079119951 +- 0.00413772929204877\n",
      "####################################################################################################\n"
     ]
    },
    {
     "name": "stderr",
     "output_type": "stream",
     "text": [
      "[I 2025-01-17 22:13:19,705] Trial 316 finished with value: 0.6707218761607794 and parameters: {'max_bin': 687, 'learning_rate': 0.2057570920701176, 'max_depth': 5, 'gamma': 0.3273672729322616, 'min_child_weight': 31.86987855710123, 'subsample': 0.9403210241958684, 'colsample_bytree': 0.8729566471850143, 'colsample_bylevel': 0.8006749108992309, 'colsample_bynode': 0.8790022705635594, 'reg_alpha': 4.118731282233211, 'reg_lambda': 0.04651402311670576, 'max_cat_threshold': 10}. Best is trial 238 with value: 0.6763129944323751.\n"
     ]
    },
    {
     "name": "stdout",
     "output_type": "stream",
     "text": [
      "####################################################################################################\n",
      "OOF prediction score :  0.6707218761607794\n",
      "Mean 5-cv results : 0.668816737895364 +- 0.0034252292433352956\n",
      "####################################################################################################\n"
     ]
    },
    {
     "name": "stderr",
     "output_type": "stream",
     "text": [
      "[I 2025-01-17 22:13:29,149] Trial 317 finished with value: 0.67312025355649 and parameters: {'max_bin': 1011, 'learning_rate': 0.10637522631155918, 'max_depth': 7, 'gamma': 0.21439451422365743, 'min_child_weight': 35.48786029981124, 'subsample': 0.9181575244020491, 'colsample_bytree': 0.8897416535411572, 'colsample_bylevel': 0.8184835108000592, 'colsample_bynode': 0.8919602377084099, 'reg_alpha': 5.342375671004913, 'reg_lambda': 0.3548195148810475, 'max_cat_threshold': 15}. Best is trial 238 with value: 0.6763129944323751.\n"
     ]
    },
    {
     "name": "stdout",
     "output_type": "stream",
     "text": [
      "####################################################################################################\n",
      "OOF prediction score :  0.67312025355649\n",
      "Mean 5-cv results : 0.6707523035636367 +- 0.003954473614504938\n",
      "####################################################################################################\n"
     ]
    },
    {
     "name": "stderr",
     "output_type": "stream",
     "text": [
      "[I 2025-01-17 22:13:37,548] Trial 318 finished with value: 0.6710724194519817 and parameters: {'max_bin': 732, 'learning_rate': 0.1065552299329008, 'max_depth': 4, 'gamma': 0.4965479194663014, 'min_child_weight': 21.19389488299825, 'subsample': 0.9237031407691302, 'colsample_bytree': 0.8789659597017807, 'colsample_bylevel': 0.8215146486067848, 'colsample_bynode': 0.8834129894159962, 'reg_alpha': 6.791112963022542, 'reg_lambda': 0.595067430458681, 'max_cat_threshold': 13}. Best is trial 238 with value: 0.6763129944323751.\n"
     ]
    },
    {
     "name": "stdout",
     "output_type": "stream",
     "text": [
      "####################################################################################################\n",
      "OOF prediction score :  0.6710724194519817\n",
      "Mean 5-cv results : 0.6697422878388241 +- 0.003847383604896448\n",
      "####################################################################################################\n"
     ]
    },
    {
     "name": "stderr",
     "output_type": "stream",
     "text": [
      "[I 2025-01-17 22:13:51,618] Trial 319 finished with value: 0.6759034215395957 and parameters: {'max_bin': 1182, 'learning_rate': 0.10251017599885014, 'max_depth': 4, 'gamma': 0.006975955379286912, 'min_child_weight': 25.32501410318686, 'subsample': 0.9331659969013889, 'colsample_bytree': 0.8765612519155378, 'colsample_bylevel': 0.8075989394154715, 'colsample_bynode': 0.870963535199873, 'reg_alpha': 8.226556218275164, 'reg_lambda': 0.2511458146880993, 'max_cat_threshold': 23}. Best is trial 238 with value: 0.6763129944323751.\n"
     ]
    },
    {
     "name": "stdout",
     "output_type": "stream",
     "text": [
      "####################################################################################################\n",
      "OOF prediction score :  0.6759034215395957\n",
      "Mean 5-cv results : 0.6738348945534265 +- 0.0034594625769164113\n",
      "####################################################################################################\n"
     ]
    },
    {
     "name": "stderr",
     "output_type": "stream",
     "text": [
      "[I 2025-01-17 22:14:02,167] Trial 320 finished with value: 0.6744019618263709 and parameters: {'max_bin': 1126, 'learning_rate': 0.10401598652386305, 'max_depth': 4, 'gamma': 0.2355772313566372, 'min_child_weight': 26.038560687505058, 'subsample': 0.9361929316736852, 'colsample_bytree': 0.8724909377417389, 'colsample_bylevel': 0.8058926081192355, 'colsample_bynode': 0.8675570095808693, 'reg_alpha': 5.028096525701257, 'reg_lambda': 0.10987705839976025, 'max_cat_threshold': 9}. Best is trial 238 with value: 0.6763129944323751.\n"
     ]
    },
    {
     "name": "stdout",
     "output_type": "stream",
     "text": [
      "####################################################################################################\n",
      "OOF prediction score :  0.6744019618263709\n",
      "Mean 5-cv results : 0.6722816209017906 +- 0.0036487363508127383\n",
      "####################################################################################################\n"
     ]
    },
    {
     "name": "stderr",
     "output_type": "stream",
     "text": [
      "[I 2025-01-17 22:14:08,160] Trial 321 finished with value: 0.6560602124001744 and parameters: {'max_bin': 801, 'learning_rate': 0.10750042548291004, 'max_depth': 4, 'gamma': 4.37804622567101, 'min_child_weight': 30.036118070967312, 'subsample': 0.9335961152505564, 'colsample_bytree': 0.876151542452722, 'colsample_bylevel': 0.8149887376977194, 'colsample_bynode': 0.8709804080302317, 'reg_alpha': 7.865299103681068, 'reg_lambda': 0.8088692078824571, 'max_cat_threshold': 852}. Best is trial 238 with value: 0.6763129944323751.\n"
     ]
    },
    {
     "name": "stdout",
     "output_type": "stream",
     "text": [
      "####################################################################################################\n",
      "OOF prediction score :  0.6560602124001744\n",
      "Mean 5-cv results : 0.6548027676575936 +- 0.004428658283903102\n",
      "####################################################################################################\n"
     ]
    },
    {
     "name": "stderr",
     "output_type": "stream",
     "text": [
      "[I 2025-01-17 22:14:19,039] Trial 322 finished with value: 0.6731340001731811 and parameters: {'max_bin': 667, 'learning_rate': 0.1027507751861505, 'max_depth': 4, 'gamma': 0.45411541052439264, 'min_child_weight': 34.9551395637034, 'subsample': 0.941856506778067, 'colsample_bytree': 0.8718054745567474, 'colsample_bylevel': 0.823594407454715, 'colsample_bynode': 0.8649718640052562, 'reg_alpha': 3.2265422376601265, 'reg_lambda': 0.20486446697303068, 'max_cat_threshold': 19}. Best is trial 238 with value: 0.6763129944323751.\n"
     ]
    },
    {
     "name": "stdout",
     "output_type": "stream",
     "text": [
      "####################################################################################################\n",
      "OOF prediction score :  0.6731340001731811\n",
      "Mean 5-cv results : 0.6714074529431031 +- 0.00358049481518394\n",
      "####################################################################################################\n"
     ]
    },
    {
     "name": "stderr",
     "output_type": "stream",
     "text": [
      "[I 2025-01-17 22:14:29,434] Trial 323 finished with value: 0.6757246346610905 and parameters: {'max_bin': 1178, 'learning_rate': 0.10632424990987818, 'max_depth': 5, 'gamma': 0.18211120734684227, 'min_child_weight': 26.40876752670959, 'subsample': 0.8109596202679019, 'colsample_bytree': 0.8766783053167986, 'colsample_bylevel': 0.8175272618790089, 'colsample_bynode': 0.8748012624856402, 'reg_alpha': 6.346226651389386, 'reg_lambda': 0.02748639396375491, 'max_cat_threshold': 13}. Best is trial 238 with value: 0.6763129944323751.\n"
     ]
    },
    {
     "name": "stdout",
     "output_type": "stream",
     "text": [
      "####################################################################################################\n",
      "OOF prediction score :  0.6757246346610905\n",
      "Mean 5-cv results : 0.6739932781847134 +- 0.004509431077606167\n",
      "####################################################################################################\n"
     ]
    },
    {
     "name": "stderr",
     "output_type": "stream",
     "text": [
      "[I 2025-01-17 22:14:35,280] Trial 324 finished with value: 0.6550849638829696 and parameters: {'max_bin': 1268, 'learning_rate': 0.10760667452953787, 'max_depth': 3, 'gamma': 4.799007736299867, 'min_child_weight': 37.45871798858965, 'subsample': 0.937103588237564, 'colsample_bytree': 0.8753358947035963, 'colsample_bylevel': 0.8199011110240679, 'colsample_bynode': 0.8696185639129508, 'reg_alpha': 6.0265968177819165, 'reg_lambda': 0.02138455719843408, 'max_cat_threshold': 14}. Best is trial 238 with value: 0.6763129944323751.\n"
     ]
    },
    {
     "name": "stdout",
     "output_type": "stream",
     "text": [
      "####################################################################################################\n",
      "OOF prediction score :  0.6550849638829696\n",
      "Mean 5-cv results : 0.6539321109849705 +- 0.00346143127495604\n",
      "####################################################################################################\n"
     ]
    },
    {
     "name": "stderr",
     "output_type": "stream",
     "text": [
      "[I 2025-01-17 22:14:47,430] Trial 325 finished with value: 0.6752162164904176 and parameters: {'max_bin': 1194, 'learning_rate': 0.10637048731246902, 'max_depth': 5, 'gamma': 0.0005070381296213393, 'min_child_weight': 31.76502097733353, 'subsample': 0.9397562396308028, 'colsample_bytree': 0.8708673224957325, 'colsample_bylevel': 0.8234934679729333, 'colsample_bynode': 0.8755699770634746, 'reg_alpha': 9.550177276970928, 'reg_lambda': 0.06358678973132, 'max_cat_threshold': 11}. Best is trial 238 with value: 0.6763129944323751.\n"
     ]
    },
    {
     "name": "stdout",
     "output_type": "stream",
     "text": [
      "####################################################################################################\n",
      "OOF prediction score :  0.6752162164904176\n",
      "Mean 5-cv results : 0.6735291375314193 +- 0.004597000305695977\n",
      "####################################################################################################\n"
     ]
    },
    {
     "name": "stderr",
     "output_type": "stream",
     "text": [
      "[I 2025-01-17 22:14:57,425] Trial 326 finished with value: 0.6700122529475782 and parameters: {'max_bin': 1210, 'learning_rate': 0.10690965556481606, 'max_depth': 29, 'gamma': 0.6883923030835626, 'min_child_weight': 29.121577909974484, 'subsample': 0.8170169906181814, 'colsample_bytree': 0.8775209404653168, 'colsample_bylevel': 0.819374787687541, 'colsample_bynode': 0.8746815938271523, 'reg_alpha': 7.921048323893519, 'reg_lambda': 0.037918493725950894, 'max_cat_threshold': 13}. Best is trial 238 with value: 0.6763129944323751.\n"
     ]
    },
    {
     "name": "stdout",
     "output_type": "stream",
     "text": [
      "####################################################################################################\n",
      "OOF prediction score :  0.6700122529475782\n",
      "Mean 5-cv results : 0.6684651604059099 +- 0.003649328360738697\n",
      "####################################################################################################\n"
     ]
    },
    {
     "name": "stderr",
     "output_type": "stream",
     "text": [
      "[I 2025-01-17 22:15:07,305] Trial 327 finished with value: 0.6725243887979266 and parameters: {'max_bin': 1089, 'learning_rate': 0.1040724801990902, 'max_depth': 7, 'gamma': 0.3321591643373513, 'min_child_weight': 26.735617109759772, 'subsample': 0.8979758275173995, 'colsample_bytree': 0.8705549037454146, 'colsample_bylevel': 0.8157457599970452, 'colsample_bynode': 0.873592439985328, 'reg_alpha': 9.885503300636442, 'reg_lambda': 0.07285170073119762, 'max_cat_threshold': 11}. Best is trial 238 with value: 0.6763129944323751.\n"
     ]
    },
    {
     "name": "stdout",
     "output_type": "stream",
     "text": [
      "####################################################################################################\n",
      "OOF prediction score :  0.6725243887979266\n",
      "Mean 5-cv results : 0.6703469633769005 +- 0.004433748845855838\n",
      "####################################################################################################\n"
     ]
    },
    {
     "name": "stderr",
     "output_type": "stream",
     "text": [
      "[I 2025-01-17 22:15:16,650] Trial 328 finished with value: 0.673235602014027 and parameters: {'max_bin': 1146, 'learning_rate': 0.10890111161957987, 'max_depth': 5, 'gamma': 0.2535217510901408, 'min_child_weight': 31.320384537844284, 'subsample': 0.933022665327968, 'colsample_bytree': 0.8809732831052653, 'colsample_bylevel': 0.8166561765170289, 'colsample_bynode': 0.8689932303921248, 'reg_alpha': 5.70058731965719, 'reg_lambda': 0.030093943788824882, 'max_cat_threshold': 12}. Best is trial 238 with value: 0.6763129944323751.\n"
     ]
    },
    {
     "name": "stdout",
     "output_type": "stream",
     "text": [
      "####################################################################################################\n",
      "OOF prediction score :  0.673235602014027\n",
      "Mean 5-cv results : 0.6710534198561376 +- 0.003516254571505322\n",
      "####################################################################################################\n"
     ]
    },
    {
     "name": "stderr",
     "output_type": "stream",
     "text": [
      "[I 2025-01-17 22:15:24,936] Trial 329 finished with value: 0.6635603994438055 and parameters: {'max_bin': 1300, 'learning_rate': 0.106184240024983, 'max_depth': 5, 'gamma': 2.004058960677913, 'min_child_weight': 25.515461310878454, 'subsample': 0.9310257421716631, 'colsample_bytree': 0.8672700563728455, 'colsample_bylevel': 0.8245232669222329, 'colsample_bynode': 0.877781631803606, 'reg_alpha': 7.141490558877198, 'reg_lambda': 0.41337044349628604, 'max_cat_threshold': 9}. Best is trial 238 with value: 0.6763129944323751.\n"
     ]
    },
    {
     "name": "stdout",
     "output_type": "stream",
     "text": [
      "####################################################################################################\n",
      "OOF prediction score :  0.6635603994438055\n",
      "Mean 5-cv results : 0.662180105734143 +- 0.004127591799767799\n",
      "####################################################################################################\n"
     ]
    },
    {
     "name": "stderr",
     "output_type": "stream",
     "text": [
      "[I 2025-01-17 22:15:33,896] Trial 330 finished with value: 0.673468672365829 and parameters: {'max_bin': 1061, 'learning_rate': 0.10866329875677042, 'max_depth': 6, 'gamma': 0.46193489085026185, 'min_child_weight': 31.393185933968983, 'subsample': 0.806976415588578, 'colsample_bytree': 0.8744468397164634, 'colsample_bylevel': 0.8117992459695078, 'colsample_bynode': 0.8645436916893067, 'reg_alpha': 4.340246974408414, 'reg_lambda': 0.05157172880698136, 'max_cat_threshold': 11}. Best is trial 238 with value: 0.6763129944323751.\n"
     ]
    },
    {
     "name": "stdout",
     "output_type": "stream",
     "text": [
      "####################################################################################################\n",
      "OOF prediction score :  0.673468672365829\n",
      "Mean 5-cv results : 0.6717054299600604 +- 0.004728731396182609\n",
      "####################################################################################################\n"
     ]
    },
    {
     "name": "stderr",
     "output_type": "stream",
     "text": [
      "[I 2025-01-17 22:15:47,273] Trial 331 finished with value: 0.6762396567319592 and parameters: {'max_bin': 1393, 'learning_rate': 0.1042578151120456, 'max_depth': 4, 'gamma': 0.0060885144672367855, 'min_child_weight': 38.33368358053572, 'subsample': 0.9384885238535257, 'colsample_bytree': 0.8869077013866327, 'colsample_bylevel': 0.8058490443309133, 'colsample_bynode': 0.8732450729084003, 'reg_alpha': 9.82975687754914, 'reg_lambda': 0.0927263659157346, 'max_cat_threshold': 9}. Best is trial 238 with value: 0.6763129944323751.\n"
     ]
    },
    {
     "name": "stdout",
     "output_type": "stream",
     "text": [
      "####################################################################################################\n",
      "OOF prediction score :  0.6762396567319592\n",
      "Mean 5-cv results : 0.6743470917130069 +- 0.0038455289225949444\n",
      "####################################################################################################\n"
     ]
    },
    {
     "name": "stderr",
     "output_type": "stream",
     "text": [
      "[I 2025-01-17 22:16:00,483] Trial 332 finished with value: 0.6751644361620389 and parameters: {'max_bin': 1457, 'learning_rate': 0.10302846608015127, 'max_depth': 4, 'gamma': 0.24705722672954036, 'min_child_weight': 40.68349153524523, 'subsample': 0.8116625430936322, 'colsample_bytree': 0.890600173679537, 'colsample_bylevel': 0.8047181834393122, 'colsample_bynode': 0.8761490595232911, 'reg_alpha': 8.765787642079411, 'reg_lambda': 0.052342858344378664, 'max_cat_threshold': 10}. Best is trial 238 with value: 0.6763129944323751.\n"
     ]
    },
    {
     "name": "stdout",
     "output_type": "stream",
     "text": [
      "####################################################################################################\n",
      "OOF prediction score :  0.6751644361620389\n",
      "Mean 5-cv results : 0.673280406848263 +- 0.004270468778759365\n",
      "####################################################################################################\n"
     ]
    },
    {
     "name": "stderr",
     "output_type": "stream",
     "text": [
      "[I 2025-01-17 22:16:09,479] Trial 333 finished with value: 0.6683718867823187 and parameters: {'max_bin': 1748, 'learning_rate': 0.10345458468472772, 'max_depth': 4, 'gamma': 0.8693447695614489, 'min_child_weight': 37.12689095658718, 'subsample': 0.8061194338872013, 'colsample_bytree': 0.8883922173786657, 'colsample_bylevel': 0.806173217645856, 'colsample_bynode': 0.8734955117630429, 'reg_alpha': 9.804988389839677, 'reg_lambda': 0.029454709844687888, 'max_cat_threshold': 8}. Best is trial 238 with value: 0.6763129944323751.\n"
     ]
    },
    {
     "name": "stdout",
     "output_type": "stream",
     "text": [
      "####################################################################################################\n",
      "OOF prediction score :  0.6683718867823187\n",
      "Mean 5-cv results : 0.6669047393654807 +- 0.003135572207367932\n",
      "####################################################################################################\n"
     ]
    },
    {
     "name": "stderr",
     "output_type": "stream",
     "text": [
      "[I 2025-01-17 22:16:19,429] Trial 334 finished with value: 0.6707697378066491 and parameters: {'max_bin': 1488, 'learning_rate': 0.10259853801731318, 'max_depth': 4, 'gamma': 0.5865496415465528, 'min_child_weight': 33.93471598580146, 'subsample': 0.8012402167946845, 'colsample_bytree': 0.896691869631907, 'colsample_bylevel': 0.8014170590411804, 'colsample_bynode': 0.8768457944676605, 'reg_alpha': 9.971598788702876, 'reg_lambda': 0.0437544330310362, 'max_cat_threshold': 10}. Best is trial 238 with value: 0.6763129944323751.\n"
     ]
    },
    {
     "name": "stdout",
     "output_type": "stream",
     "text": [
      "####################################################################################################\n",
      "OOF prediction score :  0.6707697378066491\n",
      "Mean 5-cv results : 0.669168508341736 +- 0.0041728270281097485\n",
      "####################################################################################################\n"
     ]
    },
    {
     "name": "stderr",
     "output_type": "stream",
     "text": [
      "[I 2025-01-17 22:16:31,122] Trial 335 finished with value: 0.6732926412323639 and parameters: {'max_bin': 1413, 'learning_rate': 0.10446518803098227, 'max_depth': 6, 'gamma': 0.2985214274015326, 'min_child_weight': 38.57931142535647, 'subsample': 0.8880152312499083, 'colsample_bytree': 0.8933462434951992, 'colsample_bylevel': 0.8049551216853253, 'colsample_bynode': 0.8688890144708221, 'reg_alpha': 6.8268903027231005, 'reg_lambda': 0.04004881159673272, 'max_cat_threshold': 8}. Best is trial 238 with value: 0.6763129944323751.\n"
     ]
    },
    {
     "name": "stdout",
     "output_type": "stream",
     "text": [
      "####################################################################################################\n",
      "OOF prediction score :  0.6732926412323639\n",
      "Mean 5-cv results : 0.6711553798073406 +- 0.003372979924754829\n",
      "####################################################################################################\n"
     ]
    },
    {
     "name": "stderr",
     "output_type": "stream",
     "text": [
      "[I 2025-01-17 22:16:42,303] Trial 336 finished with value: 0.6753061308428746 and parameters: {'max_bin': 1657, 'learning_rate': 0.10190254848797158, 'max_depth': 4, 'gamma': 0.19547109228762435, 'min_child_weight': 20.699870937620823, 'subsample': 0.829127958185044, 'colsample_bytree': 0.8873515620736503, 'colsample_bylevel': 0.8081670482748966, 'colsample_bynode': 0.8725145450983609, 'reg_alpha': 5.075604075055983, 'reg_lambda': 0.0774358344436091, 'max_cat_threshold': 11}. Best is trial 238 with value: 0.6763129944323751.\n"
     ]
    },
    {
     "name": "stdout",
     "output_type": "stream",
     "text": [
      "####################################################################################################\n",
      "OOF prediction score :  0.6753061308428746\n",
      "Mean 5-cv results : 0.6733885408474484 +- 0.003790100365196551\n",
      "####################################################################################################\n"
     ]
    },
    {
     "name": "stderr",
     "output_type": "stream",
     "text": [
      "[I 2025-01-17 22:16:53,302] Trial 337 finished with value: 0.67482570460349 and parameters: {'max_bin': 1665, 'learning_rate': 0.1023093259385335, 'max_depth': 5, 'gamma': 0.0010156917602517973, 'min_child_weight': 19.430039467425164, 'subsample': 0.8145781536590223, 'colsample_bytree': 0.8928281816951684, 'colsample_bylevel': 0.8097699882724076, 'colsample_bynode': 0.875123534614033, 'reg_alpha': 4.814911567306555, 'reg_lambda': 0.06467342325784813, 'max_cat_threshold': 6}. Best is trial 238 with value: 0.6763129944323751.\n"
     ]
    },
    {
     "name": "stdout",
     "output_type": "stream",
     "text": [
      "####################################################################################################\n",
      "OOF prediction score :  0.67482570460349\n",
      "Mean 5-cv results : 0.672529186402427 +- 0.004776512127161802\n",
      "####################################################################################################\n"
     ]
    },
    {
     "name": "stderr",
     "output_type": "stream",
     "text": [
      "[I 2025-01-17 22:17:04,694] Trial 338 finished with value: 0.674950610440033 and parameters: {'max_bin': 1474, 'learning_rate': 0.1019104454237199, 'max_depth': 4, 'gamma': 0.4233592787930472, 'min_child_weight': 22.66016235301835, 'subsample': 0.8137524958412167, 'colsample_bytree': 0.8877614519794687, 'colsample_bylevel': 0.8051900010847581, 'colsample_bynode': 0.8699025130539058, 'reg_alpha': 2.5699105869009, 'reg_lambda': 0.0957034569939646, 'max_cat_threshold': 10}. Best is trial 238 with value: 0.6763129944323751.\n"
     ]
    },
    {
     "name": "stdout",
     "output_type": "stream",
     "text": [
      "####################################################################################################\n",
      "OOF prediction score :  0.674950610440033\n",
      "Mean 5-cv results : 0.6725847725050429 +- 0.0030524508290162545\n",
      "####################################################################################################\n"
     ]
    },
    {
     "name": "stderr",
     "output_type": "stream",
     "text": [
      "[I 2025-01-17 22:17:15,232] Trial 339 finished with value: 0.6731281096300692 and parameters: {'max_bin': 1345, 'learning_rate': 0.10459246853297884, 'max_depth': 7, 'gamma': 0.22486056744321994, 'min_child_weight': 20.351718880132253, 'subsample': 0.8265251229839501, 'colsample_bytree': 0.8902244397677582, 'colsample_bylevel': 0.8082313049061535, 'colsample_bynode': 0.8658336209444351, 'reg_alpha': 7.080250141717742, 'reg_lambda': 0.057605191994834506, 'max_cat_threshold': 12}. Best is trial 238 with value: 0.6763129944323751.\n"
     ]
    },
    {
     "name": "stdout",
     "output_type": "stream",
     "text": [
      "####################################################################################################\n",
      "OOF prediction score :  0.6731281096300692\n",
      "Mean 5-cv results : 0.6710354758187428 +- 0.005153637335424949\n",
      "####################################################################################################\n"
     ]
    },
    {
     "name": "stderr",
     "output_type": "stream",
     "text": [
      "[I 2025-01-17 22:17:22,272] Trial 340 finished with value: 0.671098176473001 and parameters: {'max_bin': 1979, 'learning_rate': 0.23062712619559983, 'max_depth': 5, 'gamma': 0.18136298626018668, 'min_child_weight': 17.780302292848447, 'subsample': 0.8200069879716727, 'colsample_bytree': 0.8987234214391336, 'colsample_bylevel': 0.8012401559291457, 'colsample_bynode': 0.8717921407057481, 'reg_alpha': 5.04493405767134, 'reg_lambda': 0.07967886749279067, 'max_cat_threshold': 7}. Best is trial 238 with value: 0.6763129944323751.\n"
     ]
    },
    {
     "name": "stdout",
     "output_type": "stream",
     "text": [
      "####################################################################################################\n",
      "OOF prediction score :  0.671098176473001\n",
      "Mean 5-cv results : 0.6690247827695635 +- 0.003219360154773988\n",
      "####################################################################################################\n"
     ]
    },
    {
     "name": "stderr",
     "output_type": "stream",
     "text": [
      "[I 2025-01-17 22:17:32,398] Trial 341 finished with value: 0.6674334338655115 and parameters: {'max_bin': 1563, 'learning_rate': 0.10731754712167256, 'max_depth': 8, 'gamma': 0.002900631245136157, 'min_child_weight': 23.426122518812118, 'subsample': 0.8121188499749632, 'colsample_bytree': 0.8853958823157458, 'colsample_bylevel': 0.8117311572277512, 'colsample_bynode': 0.8776324563988191, 'reg_alpha': 0.0018639490136354428, 'reg_lambda': 0.5178081847234108, 'max_cat_threshold': 9}. Best is trial 238 with value: 0.6763129944323751.\n"
     ]
    },
    {
     "name": "stdout",
     "output_type": "stream",
     "text": [
      "####################################################################################################\n",
      "OOF prediction score :  0.6674334338655115\n",
      "Mean 5-cv results : 0.6656402977067526 +- 0.003915601380470989\n",
      "####################################################################################################\n"
     ]
    },
    {
     "name": "stderr",
     "output_type": "stream",
     "text": [
      "[I 2025-01-17 22:17:40,837] Trial 342 finished with value: 0.6729527254057049 and parameters: {'max_bin': 1185, 'learning_rate': 0.1017915396217867, 'max_depth': 6, 'gamma': 0.6373296221132159, 'min_child_weight': 26.6847537510335, 'subsample': 0.8106073636625866, 'colsample_bytree': 0.8848348199387605, 'colsample_bylevel': 0.819891169522456, 'colsample_bynode': 0.8740091330577648, 'reg_alpha': 3.5939488182244492, 'reg_lambda': 0.0260937884616633, 'max_cat_threshold': 11}. Best is trial 238 with value: 0.6763129944323751.\n"
     ]
    },
    {
     "name": "stdout",
     "output_type": "stream",
     "text": [
      "####################################################################################################\n",
      "OOF prediction score :  0.6729527254057049\n",
      "Mean 5-cv results : 0.671268054628789 +- 0.0029820116750600006\n",
      "####################################################################################################\n"
     ]
    },
    {
     "name": "stderr",
     "output_type": "stream",
     "text": [
      "[I 2025-01-17 22:17:51,559] Trial 343 finished with value: 0.6720576658792974 and parameters: {'max_bin': 1810, 'learning_rate': 0.10410223070139259, 'max_depth': 4, 'gamma': 0.4409524622194141, 'min_child_weight': 33.163415104522684, 'subsample': 0.8377653689374913, 'colsample_bytree': 0.892182300831075, 'colsample_bylevel': 0.8121959332708433, 'colsample_bynode': 0.8787994454309062, 'reg_alpha': 9.925890663775292, 'reg_lambda': 0.015342118150800136, 'max_cat_threshold': 16}. Best is trial 238 with value: 0.6763129944323751.\n"
     ]
    },
    {
     "name": "stdout",
     "output_type": "stream",
     "text": [
      "####################################################################################################\n",
      "OOF prediction score :  0.6720576658792974\n",
      "Mean 5-cv results : 0.6702459794681416 +- 0.002663384264158148\n",
      "####################################################################################################\n"
     ]
    },
    {
     "name": "stderr",
     "output_type": "stream",
     "text": [
      "[I 2025-01-17 22:18:05,997] Trial 344 finished with value: 0.67629003616924 and parameters: {'max_bin': 2201, 'learning_rate': 0.10007729523155004, 'max_depth': 4, 'gamma': 0.2083194311080057, 'min_child_weight': 39.89102003404911, 'subsample': 0.8185892267500784, 'colsample_bytree': 0.8823780829145231, 'colsample_bylevel': 0.804627371452224, 'colsample_bynode': 0.8634303938796973, 'reg_alpha': 6.756157210680673, 'reg_lambda': 0.2603151965937947, 'max_cat_threshold': 10}. Best is trial 238 with value: 0.6763129944323751.\n"
     ]
    },
    {
     "name": "stdout",
     "output_type": "stream",
     "text": [
      "####################################################################################################\n",
      "OOF prediction score :  0.67629003616924\n",
      "Mean 5-cv results : 0.6742054569343412 +- 0.003110702292835721\n",
      "####################################################################################################\n"
     ]
    },
    {
     "name": "stderr",
     "output_type": "stream",
     "text": [
      "[I 2025-01-17 22:18:18,102] Trial 345 finished with value: 0.6745832975341973 and parameters: {'max_bin': 2649, 'learning_rate': 0.10067204661779447, 'max_depth': 4, 'gamma': 0.30494565605334684, 'min_child_weight': 41.90138901388672, 'subsample': 0.8262276894604471, 'colsample_bytree': 0.8836872315770357, 'colsample_bylevel': 0.8058220144040796, 'colsample_bynode': 0.8634265069605818, 'reg_alpha': 5.5798966666151, 'reg_lambda': 0.25783266633488255, 'max_cat_threshold': 7}. Best is trial 238 with value: 0.6763129944323751.\n"
     ]
    },
    {
     "name": "stdout",
     "output_type": "stream",
     "text": [
      "####################################################################################################\n",
      "OOF prediction score :  0.6745832975341973\n",
      "Mean 5-cv results : 0.6725321180407928 +- 0.003335833708285844\n",
      "####################################################################################################\n"
     ]
    },
    {
     "name": "stderr",
     "output_type": "stream",
     "text": [
      "[I 2025-01-17 22:18:27,819] Trial 346 finished with value: 0.6701483175752595 and parameters: {'max_bin': 1276, 'learning_rate': 0.10001451213046192, 'max_depth': 3, 'gamma': 0.7008961381280624, 'min_child_weight': 41.21724884259564, 'subsample': 0.823644264706677, 'colsample_bytree': 0.8890842614051423, 'colsample_bylevel': 0.8008554001625686, 'colsample_bynode': 0.8670415768956131, 'reg_alpha': 7.108117145174838, 'reg_lambda': 0.052632580491634925, 'max_cat_threshold': 12}. Best is trial 238 with value: 0.6763129944323751.\n"
     ]
    },
    {
     "name": "stdout",
     "output_type": "stream",
     "text": [
      "####################################################################################################\n",
      "OOF prediction score :  0.6701483175752595\n",
      "Mean 5-cv results : 0.66868559559273 +- 0.00367793792292679\n",
      "####################################################################################################\n"
     ]
    },
    {
     "name": "stderr",
     "output_type": "stream",
     "text": [
      "[I 2025-01-17 22:18:38,969] Trial 347 finished with value: 0.6721538435327946 and parameters: {'max_bin': 1396, 'learning_rate': 0.10644075511381573, 'max_depth': 18, 'gamma': 0.4698858073594785, 'min_child_weight': 38.64614464214093, 'subsample': 0.8334964507759048, 'colsample_bytree': 0.8957483270280553, 'colsample_bylevel': 0.8041759240909483, 'colsample_bynode': 0.8597801271815554, 'reg_alpha': 3.8859901018417693, 'reg_lambda': 0.1387713937476547, 'max_cat_threshold': 12}. Best is trial 238 with value: 0.6763129944323751.\n"
     ]
    },
    {
     "name": "stdout",
     "output_type": "stream",
     "text": [
      "####################################################################################################\n",
      "OOF prediction score :  0.6721538435327946\n",
      "Mean 5-cv results : 0.6696698078761498 +- 0.004342295181361192\n",
      "####################################################################################################\n"
     ]
    },
    {
     "name": "stderr",
     "output_type": "stream",
     "text": [
      "[I 2025-01-17 22:18:50,545] Trial 348 finished with value: 0.6755357357995949 and parameters: {'max_bin': 2302, 'learning_rate': 0.10255169539167125, 'max_depth': 4, 'gamma': 0.21292290718356524, 'min_child_weight': 33.1660818952822, 'subsample': 0.8104331257425847, 'colsample_bytree': 0.8863822404476809, 'colsample_bylevel': 0.8269608809785435, 'colsample_bynode': 0.8538505527607527, 'reg_alpha': 5.464481246568099, 'reg_lambda': 0.9275992235006472, 'max_cat_threshold': 9}. Best is trial 238 with value: 0.6763129944323751.\n"
     ]
    },
    {
     "name": "stdout",
     "output_type": "stream",
     "text": [
      "####################################################################################################\n",
      "OOF prediction score :  0.6755357357995949\n",
      "Mean 5-cv results : 0.6733415333054275 +- 0.003810033550186421\n",
      "####################################################################################################\n"
     ]
    },
    {
     "name": "stderr",
     "output_type": "stream",
     "text": [
      "[I 2025-01-17 22:18:56,598] Trial 349 finished with value: 0.6508000517309657 and parameters: {'max_bin': 3299, 'learning_rate': 0.10238768133606274, 'max_depth': 5, 'gamma': 9.27926195433148, 'min_child_weight': 33.06641075907064, 'subsample': 0.8123723203207337, 'colsample_bytree': 0.887301676967843, 'colsample_bylevel': 0.8239927920547322, 'colsample_bynode': 0.8546133869436289, 'reg_alpha': 2.54898196272696, 'reg_lambda': 0.8198820731941949, 'max_cat_threshold': 9}. Best is trial 238 with value: 0.6763129944323751.\n"
     ]
    },
    {
     "name": "stdout",
     "output_type": "stream",
     "text": [
      "####################################################################################################\n",
      "OOF prediction score :  0.6508000517309657\n",
      "Mean 5-cv results : 0.6497383154307296 +- 0.004196135915383741\n",
      "####################################################################################################\n"
     ]
    },
    {
     "name": "stderr",
     "output_type": "stream",
     "text": [
      "[I 2025-01-17 22:19:08,910] Trial 350 finished with value: 0.6745192983851989 and parameters: {'max_bin': 2309, 'learning_rate': 0.10016475862124981, 'max_depth': 6, 'gamma': 0.23892767393326478, 'min_child_weight': 35.709431931551755, 'subsample': 0.8192005080713733, 'colsample_bytree': 0.8822785587390378, 'colsample_bylevel': 0.8264201697431917, 'colsample_bynode': 0.8622946035927734, 'reg_alpha': 5.05746050712592, 'reg_lambda': 0.7555509174769376, 'max_cat_threshold': 10}. Best is trial 238 with value: 0.6763129944323751.\n"
     ]
    },
    {
     "name": "stdout",
     "output_type": "stream",
     "text": [
      "####################################################################################################\n",
      "OOF prediction score :  0.6745192983851989\n",
      "Mean 5-cv results : 0.6726917991472636 +- 0.003976552367050036\n",
      "####################################################################################################\n"
     ]
    },
    {
     "name": "stderr",
     "output_type": "stream",
     "text": [
      "[I 2025-01-17 22:19:18,881] Trial 351 finished with value: 0.673301644459122 and parameters: {'max_bin': 2082, 'learning_rate': 0.1044931371209805, 'max_depth': 4, 'gamma': 0.0013175133240656417, 'min_child_weight': 31.1090493052305, 'subsample': 0.8008230022207463, 'colsample_bytree': 0.8934469493986698, 'colsample_bylevel': 0.8080465973601608, 'colsample_bynode': 0.8670421743837494, 'reg_alpha': 0.68327074418311, 'reg_lambda': 1.0203455123678995, 'max_cat_threshold': 9}. Best is trial 238 with value: 0.6763129944323751.\n"
     ]
    },
    {
     "name": "stdout",
     "output_type": "stream",
     "text": [
      "####################################################################################################\n",
      "OOF prediction score :  0.673301644459122\n",
      "Mean 5-cv results : 0.6713157106350298 +- 0.003792988955961823\n",
      "####################################################################################################\n"
     ]
    },
    {
     "name": "stderr",
     "output_type": "stream",
     "text": [
      "[I 2025-01-17 22:19:27,105] Trial 352 finished with value: 0.6620087696191762 and parameters: {'max_bin': 1925, 'learning_rate': 0.10266963408027015, 'max_depth': 4, 'gamma': 2.4036401231482225, 'min_child_weight': 22.518684017794694, 'subsample': 0.8093314815003645, 'colsample_bytree': 0.8855850454677832, 'colsample_bylevel': 0.8267915697055465, 'colsample_bynode': 0.8538580738899736, 'reg_alpha': 6.391047448195002, 'reg_lambda': 0.07568892480804844, 'max_cat_threshold': 7}. Best is trial 238 with value: 0.6763129944323751.\n"
     ]
    },
    {
     "name": "stdout",
     "output_type": "stream",
     "text": [
      "####################################################################################################\n",
      "OOF prediction score :  0.6620087696191762\n",
      "Mean 5-cv results : 0.6606683471933416 +- 0.004014874470267251\n",
      "####################################################################################################\n"
     ]
    },
    {
     "name": "stderr",
     "output_type": "stream",
     "text": [
      "[I 2025-01-17 22:19:39,402] Trial 353 finished with value: 0.674275237924258 and parameters: {'max_bin': 1554, 'learning_rate': 0.10615974116499814, 'max_depth': 6, 'gamma': 0.21706821388200967, 'min_child_weight': 39.86384647316395, 'subsample': 0.8047880093017395, 'colsample_bytree': 0.9033673510232691, 'colsample_bylevel': 0.8215579729703362, 'colsample_bynode': 0.8717555348885772, 'reg_alpha': 7.766056240033147, 'reg_lambda': 0.5865913563661947, 'max_cat_threshold': 8}. Best is trial 238 with value: 0.6763129944323751.\n"
     ]
    },
    {
     "name": "stdout",
     "output_type": "stream",
     "text": [
      "####################################################################################################\n",
      "OOF prediction score :  0.674275237924258\n",
      "Mean 5-cv results : 0.6720374484086037 +- 0.0030811291114822294\n",
      "####################################################################################################\n"
     ]
    },
    {
     "name": "stderr",
     "output_type": "stream",
     "text": [
      "[I 2025-01-17 22:19:49,889] Trial 354 finished with value: 0.6734840918836865 and parameters: {'max_bin': 2403, 'learning_rate': 0.10194307786695476, 'max_depth': 5, 'gamma': 0.5025779295852871, 'min_child_weight': 27.181791961760368, 'subsample': 0.8200177376525843, 'colsample_bytree': 0.8782801208216479, 'colsample_bylevel': 0.8118415625824432, 'colsample_bynode': 0.86274427446607, 'reg_alpha': 3.0219471384775534, 'reg_lambda': 0.10750532955243484, 'max_cat_threshold': 15}. Best is trial 238 with value: 0.6763129944323751.\n"
     ]
    },
    {
     "name": "stdout",
     "output_type": "stream",
     "text": [
      "####################################################################################################\n",
      "OOF prediction score :  0.6734840918836865\n",
      "Mean 5-cv results : 0.6712065948339788 +- 0.0032368170305140487\n",
      "####################################################################################################\n"
     ]
    },
    {
     "name": "stderr",
     "output_type": "stream",
     "text": [
      "[I 2025-01-17 22:20:00,072] Trial 355 finished with value: 0.6746904970134093 and parameters: {'max_bin': 2144, 'learning_rate': 0.10448329751590868, 'max_depth': 4, 'gamma': 0.19662117651080863, 'min_child_weight': 19.21740484261407, 'subsample': 0.8157390420756767, 'colsample_bytree': 0.8815706868823148, 'colsample_bylevel': 0.8045260305876456, 'colsample_bynode': 0.8589883840844286, 'reg_alpha': 4.609284467440932, 'reg_lambda': 0.2421119097460135, 'max_cat_threshold': 11}. Best is trial 238 with value: 0.6763129944323751.\n"
     ]
    },
    {
     "name": "stdout",
     "output_type": "stream",
     "text": [
      "####################################################################################################\n",
      "OOF prediction score :  0.6746904970134093\n",
      "Mean 5-cv results : 0.6726919680579545 +- 0.004070472620061225\n",
      "####################################################################################################\n"
     ]
    },
    {
     "name": "stderr",
     "output_type": "stream",
     "text": [
      "[I 2025-01-17 22:20:06,459] Trial 356 finished with value: 0.6573296646959523 and parameters: {'max_bin': 2587, 'learning_rate': 0.10209182664780421, 'max_depth': 3, 'gamma': 3.821661697189909, 'min_child_weight': 31.42954175089381, 'subsample': 0.9393673603171189, 'colsample_bytree': 0.8889217649209907, 'colsample_bylevel': 0.9518161396994262, 'colsample_bynode': 0.871466264578824, 'reg_alpha': 1.6863168342002868, 'reg_lambda': 0.038542616482002225, 'max_cat_threshold': 8}. Best is trial 238 with value: 0.6763129944323751.\n"
     ]
    },
    {
     "name": "stdout",
     "output_type": "stream",
     "text": [
      "####################################################################################################\n",
      "OOF prediction score :  0.6573296646959523\n",
      "Mean 5-cv results : 0.6562482031022572 +- 0.003951925218623515\n",
      "####################################################################################################\n"
     ]
    },
    {
     "name": "stderr",
     "output_type": "stream",
     "text": [
      "[I 2025-01-17 22:20:15,010] Trial 357 finished with value: 0.6715368508673242 and parameters: {'max_bin': 2207, 'learning_rate': 0.10664010412019556, 'max_depth': 6, 'gamma': 0.36320956170689306, 'min_child_weight': 38.759613380764314, 'subsample': 0.9453155803176018, 'colsample_bytree': 0.8747201511767535, 'colsample_bylevel': 0.8148804208897463, 'colsample_bynode': 0.8569047596253836, 'reg_alpha': 7.188347710018652, 'reg_lambda': 0.9833926361692712, 'max_cat_threshold': 13}. Best is trial 238 with value: 0.6763129944323751.\n"
     ]
    },
    {
     "name": "stdout",
     "output_type": "stream",
     "text": [
      "####################################################################################################\n",
      "OOF prediction score :  0.6715368508673242\n",
      "Mean 5-cv results : 0.6700061915716299 +- 0.0038688918205406295\n",
      "####################################################################################################\n"
     ]
    },
    {
     "name": "stderr",
     "output_type": "stream",
     "text": [
      "[I 2025-01-17 22:20:21,096] Trial 358 finished with value: 0.6535239067471813 and parameters: {'max_bin': 1167, 'learning_rate': 0.10019447316129265, 'max_depth': 4, 'gamma': 6.183814220353504, 'min_child_weight': 42.80633658225474, 'subsample': 0.8307667510925723, 'colsample_bytree': 0.8801528315006946, 'colsample_bylevel': 0.8003341985711727, 'colsample_bynode': 0.8840161886105052, 'reg_alpha': 5.556636776601046, 'reg_lambda': 0.48559483707207446, 'max_cat_threshold': 10}. Best is trial 238 with value: 0.6763129944323751.\n"
     ]
    },
    {
     "name": "stdout",
     "output_type": "stream",
     "text": [
      "####################################################################################################\n",
      "OOF prediction score :  0.6535239067471813\n",
      "Mean 5-cv results : 0.6524298253279399 +- 0.0037860368091239484\n",
      "####################################################################################################\n"
     ]
    },
    {
     "name": "stderr",
     "output_type": "stream",
     "text": [
      "[I 2025-01-17 22:20:29,497] Trial 359 finished with value: 0.668376583907759 and parameters: {'max_bin': 1378, 'learning_rate': 0.10508992406876297, 'max_depth': 5, 'gamma': 0.8201012724661383, 'min_child_weight': 23.02648755974465, 'subsample': 0.8792068350017411, 'colsample_bytree': 0.9852016852083794, 'colsample_bylevel': 0.808141174772776, 'colsample_bynode': 0.8753341105713244, 'reg_alpha': 9.870078712755625, 'reg_lambda': 0.1833435636908154, 'max_cat_threshold': 56}. Best is trial 238 with value: 0.6763129944323751.\n"
     ]
    },
    {
     "name": "stdout",
     "output_type": "stream",
     "text": [
      "####################################################################################################\n",
      "OOF prediction score :  0.668376583907759\n",
      "Mean 5-cv results : 0.6666374786589917 +- 0.0036525190892699655\n",
      "####################################################################################################\n"
     ]
    },
    {
     "name": "stderr",
     "output_type": "stream",
     "text": [
      "[I 2025-01-17 22:20:41,074] Trial 360 finished with value: 0.6757332582548958 and parameters: {'max_bin': 1003, 'learning_rate': 0.107659635482891, 'max_depth': 3, 'gamma': 0.006096523814166609, 'min_child_weight': 30.447512216930026, 'subsample': 0.8068931365907122, 'colsample_bytree': 0.884576124664265, 'colsample_bylevel': 0.8205315357719664, 'colsample_bynode': 0.8683787841158455, 'reg_alpha': 4.324493189190632, 'reg_lambda': 0.06926129441530686, 'max_cat_threshold': 6}. Best is trial 238 with value: 0.6763129944323751.\n"
     ]
    },
    {
     "name": "stdout",
     "output_type": "stream",
     "text": [
      "####################################################################################################\n",
      "OOF prediction score :  0.6757332582548958\n",
      "Mean 5-cv results : 0.6733781439237765 +- 0.0036618206191186297\n",
      "####################################################################################################\n"
     ]
    },
    {
     "name": "stderr",
     "output_type": "stream",
     "text": [
      "[I 2025-01-17 22:20:53,070] Trial 361 finished with value: 0.6755204985189198 and parameters: {'max_bin': 1008, 'learning_rate': 0.10811700203299895, 'max_depth': 3, 'gamma': 0.012029926572051932, 'min_child_weight': 32.00082404008434, 'subsample': 0.8064884731362812, 'colsample_bytree': 0.9455532085498456, 'colsample_bylevel': 0.8201642337164091, 'colsample_bynode': 0.8705144352925936, 'reg_alpha': 3.7649513704427715, 'reg_lambda': 0.0787713347216384, 'max_cat_threshold': 4}. Best is trial 238 with value: 0.6763129944323751.\n"
     ]
    },
    {
     "name": "stdout",
     "output_type": "stream",
     "text": [
      "####################################################################################################\n",
      "OOF prediction score :  0.6755204985189198\n",
      "Mean 5-cv results : 0.6737328202081924 +- 0.004076958130709172\n",
      "####################################################################################################\n"
     ]
    },
    {
     "name": "stderr",
     "output_type": "stream",
     "text": [
      "[I 2025-01-17 22:21:05,294] Trial 362 finished with value: 0.6745469569296669 and parameters: {'max_bin': 1096, 'learning_rate': 0.1085659502009618, 'max_depth': 3, 'gamma': 0.011431289636997709, 'min_child_weight': 29.077430359175892, 'subsample': 0.8092527464123636, 'colsample_bytree': 0.8833744510268186, 'colsample_bylevel': 0.8215676617844343, 'colsample_bynode': 0.867943222514975, 'reg_alpha': 3.2671464158946857, 'reg_lambda': 0.08378876770253167, 'max_cat_threshold': 4}. Best is trial 238 with value: 0.6763129944323751.\n"
     ]
    },
    {
     "name": "stdout",
     "output_type": "stream",
     "text": [
      "####################################################################################################\n",
      "OOF prediction score :  0.6745469569296669\n",
      "Mean 5-cv results : 0.6725767181734439 +- 0.003452227649543442\n",
      "####################################################################################################\n"
     ]
    },
    {
     "name": "stderr",
     "output_type": "stream",
     "text": [
      "[I 2025-01-17 22:21:16,842] Trial 363 finished with value: 0.6749697766689553 and parameters: {'max_bin': 985, 'learning_rate': 0.10938321712330626, 'max_depth': 3, 'gamma': 0.014706762284077274, 'min_child_weight': 32.77860686158183, 'subsample': 0.8044019122960725, 'colsample_bytree': 0.9253528410773451, 'colsample_bylevel': 0.8279457205714256, 'colsample_bynode': 0.8491526576567482, 'reg_alpha': 1.9103607193535457, 'reg_lambda': 0.135617230140663, 'max_cat_threshold': 3}. Best is trial 238 with value: 0.6763129944323751.\n"
     ]
    },
    {
     "name": "stdout",
     "output_type": "stream",
     "text": [
      "####################################################################################################\n",
      "OOF prediction score :  0.6749697766689553\n",
      "Mean 5-cv results : 0.673198100711903 +- 0.003719993077936121\n",
      "####################################################################################################\n"
     ]
    },
    {
     "name": "stderr",
     "output_type": "stream",
     "text": [
      "[I 2025-01-17 22:21:28,549] Trial 364 finished with value: 0.6750336114052469 and parameters: {'max_bin': 1022, 'learning_rate': 0.10601364558440403, 'max_depth': 3, 'gamma': 0.18235519137918615, 'min_child_weight': 25.02842248674403, 'subsample': 0.8003469232877223, 'colsample_bytree': 0.9090148657013828, 'colsample_bylevel': 0.8193864545443215, 'colsample_bynode': 0.871173879167237, 'reg_alpha': 3.9776782046889587, 'reg_lambda': 0.08065746078727881, 'max_cat_threshold': 4}. Best is trial 238 with value: 0.6763129944323751.\n"
     ]
    },
    {
     "name": "stdout",
     "output_type": "stream",
     "text": [
      "####################################################################################################\n",
      "OOF prediction score :  0.6750336114052469\n",
      "Mean 5-cv results : 0.6731175470487338 +- 0.00391126097395372\n",
      "####################################################################################################\n"
     ]
    },
    {
     "name": "stderr",
     "output_type": "stream",
     "text": [
      "[I 2025-01-17 22:21:34,510] Trial 365 finished with value: 0.654332750006474 and parameters: {'max_bin': 1220, 'learning_rate': 0.10767782374187744, 'max_depth': 3, 'gamma': 5.776937019298953, 'min_child_weight': 29.250082932796577, 'subsample': 0.806205252788837, 'colsample_bytree': 0.9132603755111802, 'colsample_bylevel': 0.8231003054486628, 'colsample_bynode': 0.8812475496975578, 'reg_alpha': 4.647124000901829, 'reg_lambda': 0.2748678228826062, 'max_cat_threshold': 6}. Best is trial 238 with value: 0.6763129944323751.\n"
     ]
    },
    {
     "name": "stdout",
     "output_type": "stream",
     "text": [
      "####################################################################################################\n",
      "OOF prediction score :  0.654332750006474\n",
      "Mean 5-cv results : 0.652937958296308 +- 0.004743392946963618\n",
      "####################################################################################################\n"
     ]
    },
    {
     "name": "stderr",
     "output_type": "stream",
     "text": [
      "[I 2025-01-17 22:21:49,289] Trial 366 finished with value: 0.6647696884615879 and parameters: {'max_bin': 3053, 'learning_rate': 0.10455980739369794, 'max_depth': 25, 'gamma': 0.2094162819482514, 'min_child_weight': 26.026812141193137, 'subsample': 0.8079382083064014, 'colsample_bytree': 0.9724506634403576, 'colsample_bylevel': 0.8165924072639729, 'colsample_bynode': 0.8659523284192464, 'reg_alpha': 2.6642628533880406, 'reg_lambda': 0.13805953031065477, 'max_cat_threshold': 7}. Best is trial 238 with value: 0.6763129944323751.\n"
     ]
    },
    {
     "name": "stdout",
     "output_type": "stream",
     "text": [
      "####################################################################################################\n",
      "OOF prediction score :  0.6647696884615879\n",
      "Mean 5-cv results : 0.6628849140545439 +- 0.004620325187183508\n",
      "####################################################################################################\n"
     ]
    },
    {
     "name": "stderr",
     "output_type": "stream",
     "text": [
      "[I 2025-01-17 22:22:00,588] Trial 367 finished with value: 0.669474192189392 and parameters: {'max_bin': 954, 'learning_rate': 0.11020308228302839, 'max_depth': 45, 'gamma': 0.1653723937300375, 'min_child_weight': 34.62046691840257, 'subsample': 0.8049789869662863, 'colsample_bytree': 0.8856551575144322, 'colsample_bylevel': 0.8263904222333444, 'colsample_bynode': 0.8888702046996615, 'reg_alpha': 5.839990949005803, 'reg_lambda': 0.3920702493327967, 'max_cat_threshold': 14}. Best is trial 238 with value: 0.6763129944323751.\n"
     ]
    },
    {
     "name": "stdout",
     "output_type": "stream",
     "text": [
      "####################################################################################################\n",
      "OOF prediction score :  0.669474192189392\n",
      "Mean 5-cv results : 0.6674412878700839 +- 0.004705124681917674\n",
      "####################################################################################################\n"
     ]
    },
    {
     "name": "stderr",
     "output_type": "stream",
     "text": [
      "[I 2025-01-17 22:22:11,181] Trial 368 finished with value: 0.6740847534595182 and parameters: {'max_bin': 1032, 'learning_rate': 0.1071770698060301, 'max_depth': 4, 'gamma': 0.005003467531433464, 'min_child_weight': 20.801114135493673, 'subsample': 0.8223622359997425, 'colsample_bytree': 0.8788172940949978, 'colsample_bylevel': 0.8138903998534216, 'colsample_bynode': 0.8727898855765961, 'reg_alpha': 4.050807579735612, 'reg_lambda': 0.05093730248285028, 'max_cat_threshold': 5}. Best is trial 238 with value: 0.6763129944323751.\n"
     ]
    },
    {
     "name": "stdout",
     "output_type": "stream",
     "text": [
      "####################################################################################################\n",
      "OOF prediction score :  0.6740847534595182\n",
      "Mean 5-cv results : 0.6723696517727191 +- 0.00417305158017875\n",
      "####################################################################################################\n"
     ]
    },
    {
     "name": "stderr",
     "output_type": "stream",
     "text": [
      "[I 2025-01-17 22:22:21,956] Trial 369 finished with value: 0.6730429698471296 and parameters: {'max_bin': 1197, 'learning_rate': 0.10396275895664545, 'max_depth': 3, 'gamma': 0.43419808315386704, 'min_child_weight': 29.721454918323268, 'subsample': 0.8092014545817947, 'colsample_bytree': 0.8816024605469582, 'colsample_bylevel': 0.8185872051529425, 'colsample_bynode': 0.8842326284983884, 'reg_alpha': 6.73701490160471, 'reg_lambda': 0.1132423877856071, 'max_cat_threshold': 5}. Best is trial 238 with value: 0.6763129944323751.\n"
     ]
    },
    {
     "name": "stdout",
     "output_type": "stream",
     "text": [
      "####################################################################################################\n",
      "OOF prediction score :  0.6730429698471296\n",
      "Mean 5-cv results : 0.6716443265736054 +- 0.004219259211391221\n",
      "####################################################################################################\n"
     ]
    },
    {
     "name": "stderr",
     "output_type": "stream",
     "text": [
      "[I 2025-01-17 22:22:34,333] Trial 370 finished with value: 0.656316436064212 and parameters: {'max_bin': 1146, 'learning_rate': 0.10732456749451222, 'max_depth': 37, 'gamma': 0.18450600906476655, 'min_child_weight': 16.64472676649691, 'subsample': 0.817919894445412, 'colsample_bytree': 0.8717666823274923, 'colsample_bylevel': 0.8240019818001499, 'colsample_bynode': 0.8786238593523051, 'reg_alpha': 0.02657653188906013, 'reg_lambda': 0.07508779914508958, 'max_cat_threshold': 2}. Best is trial 238 with value: 0.6763129944323751.\n"
     ]
    },
    {
     "name": "stdout",
     "output_type": "stream",
     "text": [
      "####################################################################################################\n",
      "OOF prediction score :  0.656316436064212\n",
      "Mean 5-cv results : 0.653829316259495 +- 0.005775224713042838\n",
      "####################################################################################################\n"
     ]
    },
    {
     "name": "stderr",
     "output_type": "stream",
     "text": [
      "[I 2025-01-17 22:22:45,804] Trial 371 finished with value: 0.6761676692137549 and parameters: {'max_bin': 902, 'learning_rate': 0.1020704321623717, 'max_depth': 4, 'gamma': 0.005107502597128536, 'min_child_weight': 34.95615839261481, 'subsample': 0.9394355368103361, 'colsample_bytree': 0.9572279380521576, 'colsample_bylevel': 0.82050321469214, 'colsample_bynode': 0.8601565338496373, 'reg_alpha': 5.526801450432362, 'reg_lambda': 0.0058196323480474875, 'max_cat_threshold': 6}. Best is trial 238 with value: 0.6763129944323751.\n"
     ]
    },
    {
     "name": "stdout",
     "output_type": "stream",
     "text": [
      "####################################################################################################\n",
      "OOF prediction score :  0.6761676692137549\n",
      "Mean 5-cv results : 0.6739509257098817 +- 0.003931974048704458\n",
      "####################################################################################################\n"
     ]
    },
    {
     "name": "stderr",
     "output_type": "stream",
     "text": [
      "[I 2025-01-17 22:22:54,501] Trial 372 finished with value: 0.6720296658164173 and parameters: {'max_bin': 931, 'learning_rate': 0.14638213611456954, 'max_depth': 3, 'gamma': 0.4102329560189021, 'min_child_weight': 35.78031281849244, 'subsample': 0.9412270449390491, 'colsample_bytree': 0.8865345819949383, 'colsample_bylevel': 0.8204200666968223, 'colsample_bynode': 0.8609265263021869, 'reg_alpha': 3.509843888574277, 'reg_lambda': 0.0007009233843829941, 'max_cat_threshold': 5}. Best is trial 238 with value: 0.6763129944323751.\n"
     ]
    },
    {
     "name": "stdout",
     "output_type": "stream",
     "text": [
      "####################################################################################################\n",
      "OOF prediction score :  0.6720296658164173\n",
      "Mean 5-cv results : 0.6703678626753234 +- 0.003221535484278198\n",
      "####################################################################################################\n"
     ]
    },
    {
     "name": "stderr",
     "output_type": "stream",
     "text": [
      "[I 2025-01-17 22:23:04,537] Trial 373 finished with value: 0.6744954911841411 and parameters: {'max_bin': 905, 'learning_rate': 0.10939591535738886, 'max_depth': 5, 'gamma': 0.17732301898597924, 'min_child_weight': 35.02917224238313, 'subsample': 0.8300321491437876, 'colsample_bytree': 0.9317447485896944, 'colsample_bylevel': 0.8278336243468057, 'colsample_bynode': 0.8527317907804965, 'reg_alpha': 5.0761574484375345, 'reg_lambda': 0.03197475882528224, 'max_cat_threshold': 32}. Best is trial 238 with value: 0.6763129944323751.\n"
     ]
    },
    {
     "name": "stdout",
     "output_type": "stream",
     "text": [
      "####################################################################################################\n",
      "OOF prediction score :  0.6744954911841411\n",
      "Mean 5-cv results : 0.6720057703525261 +- 0.004268149397468668\n",
      "####################################################################################################\n"
     ]
    },
    {
     "name": "stderr",
     "output_type": "stream",
     "text": [
      "[I 2025-01-17 22:23:14,216] Trial 374 finished with value: 0.6740647295283637 and parameters: {'max_bin': 1077, 'learning_rate': 0.10490989601421222, 'max_depth': 4, 'gamma': 0.0035222708688219034, 'min_child_weight': 30.830217324337912, 'subsample': 0.9379346246422353, 'colsample_bytree': 0.9569216320618141, 'colsample_bylevel': 0.8216611573798719, 'colsample_bynode': 0.8579789362349584, 'reg_alpha': 1.4338047921723407, 'reg_lambda': 0.02132470441063323, 'max_cat_threshold': 6}. Best is trial 238 with value: 0.6763129944323751.\n"
     ]
    },
    {
     "name": "stdout",
     "output_type": "stream",
     "text": [
      "####################################################################################################\n",
      "OOF prediction score :  0.6740647295283637\n",
      "Mean 5-cv results : 0.6720178126149278 +- 0.004167330226069958\n",
      "####################################################################################################\n"
     ]
    },
    {
     "name": "stderr",
     "output_type": "stream",
     "text": [
      "[I 2025-01-17 22:23:22,633] Trial 375 finished with value: 0.6714582495933629 and parameters: {'max_bin': 2831, 'learning_rate': 0.10648447931228118, 'max_depth': 5, 'gamma': 0.5745099105423614, 'min_child_weight': 25.315427129688146, 'subsample': 0.9344293499895235, 'colsample_bytree': 0.9650050373542551, 'colsample_bylevel': 0.8172899828202523, 'colsample_bynode': 0.8655728263105321, 'reg_alpha': 0.00880234504387206, 'reg_lambda': 0.2374870193796455, 'max_cat_threshold': 7}. Best is trial 238 with value: 0.6763129944323751.\n"
     ]
    },
    {
     "name": "stdout",
     "output_type": "stream",
     "text": [
      "####################################################################################################\n",
      "OOF prediction score :  0.6714582495933629\n",
      "Mean 5-cv results : 0.6699639788381895 +- 0.0027537958312377603\n",
      "####################################################################################################\n"
     ]
    },
    {
     "name": "stderr",
     "output_type": "stream",
     "text": [
      "[I 2025-01-17 22:23:33,481] Trial 376 finished with value: 0.6737546302414166 and parameters: {'max_bin': 1018, 'learning_rate': 0.10248752039544061, 'max_depth': 3, 'gamma': 0.3892893134049628, 'min_child_weight': 36.426737704886754, 'subsample': 0.9406512244325348, 'colsample_bytree': 0.9543787423301904, 'colsample_bylevel': 0.828932560771262, 'colsample_bynode': 0.8428616431223765, 'reg_alpha': 2.2119804887815864, 'reg_lambda': 0.003616283567959892, 'max_cat_threshold': 4}. Best is trial 238 with value: 0.6763129944323751.\n"
     ]
    },
    {
     "name": "stdout",
     "output_type": "stream",
     "text": [
      "####################################################################################################\n",
      "OOF prediction score :  0.6737546302414166\n",
      "Mean 5-cv results : 0.6722182155290385 +- 0.002572902135542622\n",
      "####################################################################################################\n"
     ]
    },
    {
     "name": "stderr",
     "output_type": "stream",
     "text": [
      "[I 2025-01-17 22:23:42,983] Trial 377 finished with value: 0.6740057195575031 and parameters: {'max_bin': 888, 'learning_rate': 0.11005606499364678, 'max_depth': 4, 'gamma': 0.243380769097171, 'min_child_weight': 41.92940668255798, 'subsample': 0.8149892414173022, 'colsample_bytree': 0.9396922181752874, 'colsample_bylevel': 0.8257170333445552, 'colsample_bynode': 0.8635379928147082, 'reg_alpha': 3.2225075610914358, 'reg_lambda': 0.062093591684558885, 'max_cat_threshold': 6}. Best is trial 238 with value: 0.6763129944323751.\n"
     ]
    },
    {
     "name": "stdout",
     "output_type": "stream",
     "text": [
      "####################################################################################################\n",
      "OOF prediction score :  0.6740057195575031\n",
      "Mean 5-cv results : 0.671924848306508 +- 0.003482016454977357\n",
      "####################################################################################################\n"
     ]
    },
    {
     "name": "stderr",
     "output_type": "stream",
     "text": [
      "[I 2025-01-17 22:23:52,789] Trial 378 finished with value: 0.6726030652014314 and parameters: {'max_bin': 856, 'learning_rate': 0.1040977240303658, 'max_depth': 7, 'gamma': 0.1609829540746498, 'min_child_weight': 28.26148089469821, 'subsample': 0.8432912756744668, 'colsample_bytree': 0.9595807176758745, 'colsample_bylevel': 0.8150764761818066, 'colsample_bynode': 0.8692694694932113, 'reg_alpha': 5.782756603032127, 'reg_lambda': 0.006348990166774607, 'max_cat_threshold': 18}. Best is trial 238 with value: 0.6763129944323751.\n"
     ]
    },
    {
     "name": "stdout",
     "output_type": "stream",
     "text": [
      "####################################################################################################\n",
      "OOF prediction score :  0.6726030652014314\n",
      "Mean 5-cv results : 0.6706700612964412 +- 0.004484371217125907\n",
      "####################################################################################################\n"
     ]
    },
    {
     "name": "stderr",
     "output_type": "stream",
     "text": [
      "[I 2025-01-17 22:24:01,583] Trial 379 finished with value: 0.6727477939735544 and parameters: {'max_bin': 1179, 'learning_rate': 0.10789605673159132, 'max_depth': 5, 'gamma': 0.3451614875600719, 'min_child_weight': 31.95822634264935, 'subsample': 0.9450745627236432, 'colsample_bytree': 0.8760273143894137, 'colsample_bylevel': 0.8233852088912426, 'colsample_bynode': 0.854737832495683, 'reg_alpha': 0.18781988505326855, 'reg_lambda': 0.002091262937858968, 'max_cat_threshold': 9}. Best is trial 238 with value: 0.6763129944323751.\n"
     ]
    },
    {
     "name": "stdout",
     "output_type": "stream",
     "text": [
      "####################################################################################################\n",
      "OOF prediction score :  0.6727477939735544\n",
      "Mean 5-cv results : 0.6708766394517269 +- 0.0037922730355315413\n",
      "####################################################################################################\n"
     ]
    },
    {
     "name": "stderr",
     "output_type": "stream",
     "text": [
      "[I 2025-01-17 22:24:07,025] Trial 380 finished with value: 0.650918910837185 and parameters: {'max_bin': 1302, 'learning_rate': 0.10209041096446589, 'max_depth': 3, 'gamma': 9.835030375403013, 'min_child_weight': 37.3218366337799, 'subsample': 0.9359610853392771, 'colsample_bytree': 0.9470634860980944, 'colsample_bylevel': 0.8182603210600076, 'colsample_bynode': 0.8628509925071658, 'reg_alpha': 7.044955448219041, 'reg_lambda': 0.1836051946178914, 'max_cat_threshold': 8}. Best is trial 238 with value: 0.6763129944323751.\n"
     ]
    },
    {
     "name": "stdout",
     "output_type": "stream",
     "text": [
      "####################################################################################################\n",
      "OOF prediction score :  0.650918910837185\n",
      "Mean 5-cv results : 0.6494186130959275 +- 0.004586409859505606\n",
      "####################################################################################################\n"
     ]
    },
    {
     "name": "stderr",
     "output_type": "stream",
     "text": [
      "[I 2025-01-17 22:24:11,887] Trial 381 finished with value: 0.6511976716963639 and parameters: {'max_bin': 958, 'learning_rate': 0.2198660285414975, 'max_depth': 11, 'gamma': 8.442907921182893, 'min_child_weight': 24.653484648654473, 'subsample': 0.8474243097701328, 'colsample_bytree': 0.9475984959044191, 'colsample_bylevel': 0.8108383146277948, 'colsample_bynode': 0.8699592258196075, 'reg_alpha': 4.211508234566025, 'reg_lambda': 0.0014641136598547977, 'max_cat_threshold': 11}. Best is trial 238 with value: 0.6763129944323751.\n"
     ]
    },
    {
     "name": "stdout",
     "output_type": "stream",
     "text": [
      "####################################################################################################\n",
      "OOF prediction score :  0.6511976716963639\n",
      "Mean 5-cv results : 0.6497991301850418 +- 0.004217844293007017\n",
      "####################################################################################################\n"
     ]
    },
    {
     "name": "stderr",
     "output_type": "stream",
     "text": [
      "[I 2025-01-17 22:24:20,803] Trial 382 finished with value: 0.6706169795684555 and parameters: {'max_bin': 1074, 'learning_rate': 0.10579991330538949, 'max_depth': 4, 'gamma': 0.5794697990451507, 'min_child_weight': 45.7934093749705, 'subsample': 0.9413645294999025, 'colsample_bytree': 0.8998045735309289, 'colsample_bylevel': 0.8141383260436681, 'colsample_bynode': 0.8562749324311473, 'reg_alpha': 7.194211765110839, 'reg_lambda': 0.041634666260554835, 'max_cat_threshold': 8}. Best is trial 238 with value: 0.6763129944323751.\n"
     ]
    },
    {
     "name": "stdout",
     "output_type": "stream",
     "text": [
      "####################################################################################################\n",
      "OOF prediction score :  0.6706169795684555\n",
      "Mean 5-cv results : 0.6689214246070992 +- 0.003613072265868522\n",
      "####################################################################################################\n"
     ]
    },
    {
     "name": "stderr",
     "output_type": "stream",
     "text": [
      "[I 2025-01-17 22:24:29,974] Trial 383 finished with value: 0.6742313663536428 and parameters: {'max_bin': 716, 'learning_rate': 0.10364956004329447, 'max_depth': 6, 'gamma': 0.16385175640274563, 'min_child_weight': 32.40905992726576, 'subsample': 0.8821096825322429, 'colsample_bytree': 0.9450496701431679, 'colsample_bylevel': 0.8285568431638577, 'colsample_bynode': 0.8742937434224917, 'reg_alpha': 4.812505675486803, 'reg_lambda': 0.1083099494798768, 'max_cat_threshold': 5}. Best is trial 238 with value: 0.6763129944323751.\n"
     ]
    },
    {
     "name": "stdout",
     "output_type": "stream",
     "text": [
      "####################################################################################################\n",
      "OOF prediction score :  0.6742313663536428\n",
      "Mean 5-cv results : 0.6714503011356395 +- 0.003662550088166271\n",
      "####################################################################################################\n"
     ]
    },
    {
     "name": "stderr",
     "output_type": "stream",
     "text": [
      "[I 2025-01-17 22:24:41,613] Trial 384 finished with value: 0.66479165362828 and parameters: {'max_bin': 719, 'learning_rate': 0.10006515552426963, 'max_depth': 14, 'gamma': 0.00909636763095839, 'min_child_weight': 27.776005591674824, 'subsample': 0.8025836440854036, 'colsample_bytree': 0.9693657082558889, 'colsample_bylevel': 0.8211150394254318, 'colsample_bynode': 0.8892228201821861, 'reg_alpha': 2.6077712803622206, 'reg_lambda': 0.004628763452283985, 'max_cat_threshold': 3}. Best is trial 238 with value: 0.6763129944323751.\n"
     ]
    },
    {
     "name": "stdout",
     "output_type": "stream",
     "text": [
      "####################################################################################################\n",
      "OOF prediction score :  0.66479165362828\n",
      "Mean 5-cv results : 0.6628372582862468 +- 0.004138771249379064\n",
      "####################################################################################################\n"
     ]
    },
    {
     "name": "stderr",
     "output_type": "stream",
     "text": [
      "[I 2025-01-17 22:24:55,493] Trial 385 finished with value: 0.6753616094752474 and parameters: {'max_bin': 1290, 'learning_rate': 0.10988300038087936, 'max_depth': 3, 'gamma': 0.0007318345025851269, 'min_child_weight': 40.32529215956709, 'subsample': 0.8101391759842005, 'colsample_bytree': 0.8688597157333174, 'colsample_bylevel': 0.8251345689445879, 'colsample_bynode': 0.868926037284226, 'reg_alpha': 6.972685844072723, 'reg_lambda': 0.4466198305043365, 'max_cat_threshold': 13}. Best is trial 238 with value: 0.6763129944323751.\n"
     ]
    },
    {
     "name": "stdout",
     "output_type": "stream",
     "text": [
      "####################################################################################################\n",
      "OOF prediction score :  0.6753616094752474\n",
      "Mean 5-cv results : 0.6734471904225041 +- 0.0037770108033533373\n",
      "####################################################################################################\n"
     ]
    },
    {
     "name": "stderr",
     "output_type": "stream",
     "text": [
      "[I 2025-01-17 22:25:07,820] Trial 386 finished with value: 0.6753227161209802 and parameters: {'max_bin': 1270, 'learning_rate': 0.11059837049947996, 'max_depth': 3, 'gamma': 0.0006828399900264577, 'min_child_weight': 43.25973725233063, 'subsample': 0.8130098892024848, 'colsample_bytree': 0.9635351443014042, 'colsample_bylevel': 0.8079853042375948, 'colsample_bynode': 0.8601740387799621, 'reg_alpha': 3.5266742085679748, 'reg_lambda': 0.39787468793644326, 'max_cat_threshold': 15}. Best is trial 238 with value: 0.6763129944323751.\n"
     ]
    },
    {
     "name": "stdout",
     "output_type": "stream",
     "text": [
      "####################################################################################################\n",
      "OOF prediction score :  0.6753227161209802\n",
      "Mean 5-cv results : 0.6733840836458436 +- 0.002925865049309093\n",
      "####################################################################################################\n"
     ]
    },
    {
     "name": "stderr",
     "output_type": "stream",
     "text": [
      "[I 2025-01-17 22:25:16,681] Trial 387 finished with value: 0.674306187470603 and parameters: {'max_bin': 1663, 'learning_rate': 0.16536906083506092, 'max_depth': 3, 'gamma': 0.3436596811627073, 'min_child_weight': 44.81054042003853, 'subsample': 0.8119120032599033, 'colsample_bytree': 0.9684235817174182, 'colsample_bylevel': 0.8085612292512742, 'colsample_bynode': 0.8589129872086847, 'reg_alpha': 3.558636913518704, 'reg_lambda': 0.42234023466292125, 'max_cat_threshold': 17}. Best is trial 238 with value: 0.6763129944323751.\n"
     ]
    },
    {
     "name": "stdout",
     "output_type": "stream",
     "text": [
      "####################################################################################################\n",
      "OOF prediction score :  0.674306187470603\n",
      "Mean 5-cv results : 0.6725878419564533 +- 0.004935646155967167\n",
      "####################################################################################################\n"
     ]
    },
    {
     "name": "stderr",
     "output_type": "stream",
     "text": [
      "[I 2025-01-17 22:25:28,472] Trial 388 finished with value: 0.6731892094108971 and parameters: {'max_bin': 1447, 'learning_rate': 0.110833528974354, 'max_depth': 3, 'gamma': 0.5332902287731034, 'min_child_weight': 0.1858795901613718, 'subsample': 0.8097321781354078, 'colsample_bytree': 0.9536790899960773, 'colsample_bylevel': 0.8296560994763671, 'colsample_bynode': 0.84921896384979, 'reg_alpha': 2.422125970101831, 'reg_lambda': 0.3088572558091556, 'max_cat_threshold': 14}. Best is trial 238 with value: 0.6763129944323751.\n"
     ]
    },
    {
     "name": "stdout",
     "output_type": "stream",
     "text": [
      "####################################################################################################\n",
      "OOF prediction score :  0.6731892094108971\n",
      "Mean 5-cv results : 0.671339356116516 +- 0.0033782424506440447\n",
      "####################################################################################################\n"
     ]
    },
    {
     "name": "stderr",
     "output_type": "stream",
     "text": [
      "[I 2025-01-17 22:25:37,961] Trial 389 finished with value: 0.6745298170527053 and parameters: {'max_bin': 1362, 'learning_rate': 0.11115801443740994, 'max_depth': 4, 'gamma': 0.205729344449361, 'min_child_weight': 40.63150327680536, 'subsample': 0.8134821281029434, 'colsample_bytree': 0.9618403993499092, 'colsample_bylevel': 0.8182173249018041, 'colsample_bynode': 0.8630073450871556, 'reg_alpha': 3.2595976041844716, 'reg_lambda': 0.39278224101694603, 'max_cat_threshold': 16}. Best is trial 238 with value: 0.6763129944323751.\n"
     ]
    },
    {
     "name": "stdout",
     "output_type": "stream",
     "text": [
      "####################################################################################################\n",
      "OOF prediction score :  0.6745298170527053\n",
      "Mean 5-cv results : 0.6722609904595173 +- 0.004307843733472195\n",
      "####################################################################################################\n"
     ]
    },
    {
     "name": "stderr",
     "output_type": "stream",
     "text": [
      "[I 2025-01-17 22:25:46,089] Trial 390 finished with value: 0.6694060772181945 and parameters: {'max_bin': 1274, 'learning_rate': 0.10927422690342241, 'max_depth': 31, 'gamma': 1.0407987969805736, 'min_child_weight': 52.45085148546743, 'subsample': 0.8163823442520561, 'colsample_bytree': 0.9560724260387552, 'colsample_bylevel': 0.8083016667627171, 'colsample_bynode': 0.8681862805803391, 'reg_alpha': 5.039857938720137, 'reg_lambda': 0.5600866560286178, 'max_cat_threshold': 13}. Best is trial 238 with value: 0.6763129944323751.\n"
     ]
    },
    {
     "name": "stdout",
     "output_type": "stream",
     "text": [
      "####################################################################################################\n",
      "OOF prediction score :  0.6694060772181945\n",
      "Mean 5-cv results : 0.6677530771368709 +- 0.004687425870420409\n",
      "####################################################################################################\n"
     ]
    },
    {
     "name": "stderr",
     "output_type": "stream",
     "text": [
      "[I 2025-01-17 22:25:58,296] Trial 391 finished with value: 0.6745974404373422 and parameters: {'max_bin': 1276, 'learning_rate': 0.10891688290480991, 'max_depth': 4, 'gamma': 0.0029500795712562615, 'min_child_weight': 46.31471700882589, 'subsample': 0.8079642840810912, 'colsample_bytree': 0.9796366973346714, 'colsample_bylevel': 0.8253443406621138, 'colsample_bynode': 0.8591719862844617, 'reg_alpha': 5.745673669665495, 'reg_lambda': 0.009722225343625227, 'max_cat_threshold': 13}. Best is trial 238 with value: 0.6763129944323751.\n"
     ]
    },
    {
     "name": "stdout",
     "output_type": "stream",
     "text": [
      "####################################################################################################\n",
      "OOF prediction score :  0.6745974404373422\n",
      "Mean 5-cv results : 0.6729308188103514 +- 0.004345119683820152\n",
      "####################################################################################################\n"
     ]
    },
    {
     "name": "stderr",
     "output_type": "stream",
     "text": [
      "[I 2025-01-17 22:26:10,220] Trial 392 finished with value: 0.6746543429478508 and parameters: {'max_bin': 1125, 'learning_rate': 0.11083365532473638, 'max_depth': 3, 'gamma': 0.3575175267831531, 'min_child_weight': 40.242684809836874, 'subsample': 0.804284755981718, 'colsample_bytree': 0.9615603439521248, 'colsample_bylevel': 0.8128560406553411, 'colsample_bynode': 0.8657993934789356, 'reg_alpha': 4.3077495467387115, 'reg_lambda': 0.6181607838472223, 'max_cat_threshold': 15}. Best is trial 238 with value: 0.6763129944323751.\n"
     ]
    },
    {
     "name": "stdout",
     "output_type": "stream",
     "text": [
      "####################################################################################################\n",
      "OOF prediction score :  0.6746543429478508\n",
      "Mean 5-cv results : 0.6725170570259893 +- 0.0035087232939176286\n",
      "####################################################################################################\n"
     ]
    },
    {
     "name": "stderr",
     "output_type": "stream",
     "text": [
      "[I 2025-01-17 22:26:18,260] Trial 393 finished with value: 0.6736240309157951 and parameters: {'max_bin': 634, 'learning_rate': 0.10218298605214371, 'max_depth': 5, 'gamma': 0.6590215946519965, 'min_child_weight': 47.07735905627748, 'subsample': 0.8134958040495011, 'colsample_bytree': 0.9761381596816002, 'colsample_bylevel': 0.80006314469173, 'colsample_bynode': 0.8616756958217399, 'reg_alpha': 0.6686171085870771, 'reg_lambda': 0.27536371559642403, 'max_cat_threshold': 11}. Best is trial 238 with value: 0.6763129944323751.\n"
     ]
    },
    {
     "name": "stdout",
     "output_type": "stream",
     "text": [
      "####################################################################################################\n",
      "OOF prediction score :  0.6736240309157951\n",
      "Mean 5-cv results : 0.6718500643093337 +- 0.002084777377149429\n",
      "####################################################################################################\n"
     ]
    },
    {
     "name": "stderr",
     "output_type": "stream",
     "text": [
      "[I 2025-01-17 22:26:30,363] Trial 394 finished with value: 0.6754644182699614 and parameters: {'max_bin': 1016, 'learning_rate': 0.10764143570523765, 'max_depth': 4, 'gamma': 0.17883685444141842, 'min_child_weight': 36.68763622825944, 'subsample': 0.8088351319913178, 'colsample_bytree': 0.9588866535622519, 'colsample_bylevel': 0.805470539247163, 'colsample_bynode': 0.8566017035167365, 'reg_alpha': 6.444624618784597, 'reg_lambda': 0.3107415945839766, 'max_cat_threshold': 115}. Best is trial 238 with value: 0.6763129944323751.\n"
     ]
    },
    {
     "name": "stdout",
     "output_type": "stream",
     "text": [
      "####################################################################################################\n",
      "OOF prediction score :  0.6754644182699614\n",
      "Mean 5-cv results : 0.6737629074572012 +- 0.004140758828654491\n",
      "####################################################################################################\n"
     ]
    },
    {
     "name": "stderr",
     "output_type": "stream",
     "text": [
      "[I 2025-01-17 22:26:40,388] Trial 395 finished with value: 0.6746026001969379 and parameters: {'max_bin': 1014, 'learning_rate': 0.10774911749471129, 'max_depth': 4, 'gamma': 0.33030840699147723, 'min_child_weight': 36.235881470717096, 'subsample': 0.8082883047406868, 'colsample_bytree': 0.9645084196758623, 'colsample_bylevel': 0.8059393694272142, 'colsample_bynode': 0.8550107078696264, 'reg_alpha': 6.9392984019889745, 'reg_lambda': 0.18741161184794697, 'max_cat_threshold': 61}. Best is trial 238 with value: 0.6763129944323751.\n"
     ]
    },
    {
     "name": "stdout",
     "output_type": "stream",
     "text": [
      "####################################################################################################\n",
      "OOF prediction score :  0.6746026001969379\n",
      "Mean 5-cv results : 0.6727747693799936 +- 0.004314269482169348\n",
      "####################################################################################################\n"
     ]
    },
    {
     "name": "stderr",
     "output_type": "stream",
     "text": [
      "[I 2025-01-17 22:26:49,916] Trial 396 finished with value: 0.6725726485593221 and parameters: {'max_bin': 1849, 'learning_rate': 0.10470891959542739, 'max_depth': 6, 'gamma': 0.20176021399199282, 'min_child_weight': 38.895198363110396, 'subsample': 0.8200905738887614, 'colsample_bytree': 0.9588800142665611, 'colsample_bylevel': 0.8043641192261071, 'colsample_bynode': 0.8473945685106796, 'reg_alpha': 3.378487311230847, 'reg_lambda': 0.3434777292243135, 'max_cat_threshold': 112}. Best is trial 238 with value: 0.6763129944323751.\n"
     ]
    },
    {
     "name": "stdout",
     "output_type": "stream",
     "text": [
      "####################################################################################################\n",
      "OOF prediction score :  0.6725726485593221\n",
      "Mean 5-cv results : 0.670780347175621 +- 0.0040286374325385925\n",
      "####################################################################################################\n"
     ]
    },
    {
     "name": "stderr",
     "output_type": "stream",
     "text": [
      "[I 2025-01-17 22:27:01,437] Trial 397 finished with value: 0.6736238956353289 and parameters: {'max_bin': 1128, 'learning_rate': 0.10274209878350764, 'max_depth': 5, 'gamma': 0.502058238614288, 'min_child_weight': 34.95833425647911, 'subsample': 0.8096364776656946, 'colsample_bytree': 0.9520893642152516, 'colsample_bylevel': 0.9832486073813115, 'colsample_bynode': 0.8526455988734123, 'reg_alpha': 5.342379236267251, 'reg_lambda': 0.46855460198842974, 'max_cat_threshold': 20}. Best is trial 238 with value: 0.6763129944323751.\n"
     ]
    },
    {
     "name": "stdout",
     "output_type": "stream",
     "text": [
      "####################################################################################################\n",
      "OOF prediction score :  0.6736238956353289\n",
      "Mean 5-cv results : 0.6715486226549 +- 0.004410806939359777\n",
      "####################################################################################################\n"
     ]
    },
    {
     "name": "stderr",
     "output_type": "stream",
     "text": [
      "[I 2025-01-17 22:27:11,608] Trial 398 finished with value: 0.6737645035025948 and parameters: {'max_bin': 871, 'learning_rate': 0.10540816238900842, 'max_depth': 4, 'gamma': 0.21364205758952065, 'min_child_weight': 42.00100130871826, 'subsample': 0.8164384561416921, 'colsample_bytree': 0.9637010523667293, 'colsample_bylevel': 0.8089044590323811, 'colsample_bynode': 0.86017647266936, 'reg_alpha': 6.832080769034746, 'reg_lambda': 0.22856376923012134, 'max_cat_threshold': 22}. Best is trial 238 with value: 0.6763129944323751.\n"
     ]
    },
    {
     "name": "stdout",
     "output_type": "stream",
     "text": [
      "####################################################################################################\n",
      "OOF prediction score :  0.6737645035025948\n",
      "Mean 5-cv results : 0.6717929891480843 +- 0.004574494257834425\n",
      "####################################################################################################\n"
     ]
    },
    {
     "name": "stderr",
     "output_type": "stream",
     "text": [
      "[I 2025-01-17 22:27:17,116] Trial 399 finished with value: 0.6521603139533032 and parameters: {'max_bin': 991, 'learning_rate': 0.10820081287980741, 'max_depth': 5, 'gamma': 7.51474041712667, 'min_child_weight': 35.20790408264459, 'subsample': 0.8001205138895582, 'colsample_bytree': 0.9660699388948476, 'colsample_bylevel': 0.9764580253183202, 'colsample_bynode': 0.8567396064890822, 'reg_alpha': 3.9379398660361757, 'reg_lambda': 0.3257480793728475, 'max_cat_threshold': 12}. Best is trial 238 with value: 0.6763129944323751.\n"
     ]
    },
    {
     "name": "stdout",
     "output_type": "stream",
     "text": [
      "####################################################################################################\n",
      "OOF prediction score :  0.6521603139533032\n",
      "Mean 5-cv results : 0.6508776166394379 +- 0.0034942398417636016\n",
      "####################################################################################################\n"
     ]
    },
    {
     "name": "stderr",
     "output_type": "stream",
     "text": [
      "[I 2025-01-17 22:27:26,252] Trial 400 finished with value: 0.6717319154922347 and parameters: {'max_bin': 1289, 'learning_rate': 0.10208070007676992, 'max_depth': 4, 'gamma': 0.7369971196702011, 'min_child_weight': 47.9483123209896, 'subsample': 0.8067133986504896, 'colsample_bytree': 0.9984192447628052, 'colsample_bylevel': 0.9402300120837678, 'colsample_bynode': 0.8663347861072159, 'reg_alpha': 1.9386687627743067, 'reg_lambda': 0.6189449222151736, 'max_cat_threshold': 16}. Best is trial 238 with value: 0.6763129944323751.\n"
     ]
    },
    {
     "name": "stdout",
     "output_type": "stream",
     "text": [
      "####################################################################################################\n",
      "OOF prediction score :  0.6717319154922347\n",
      "Mean 5-cv results : 0.6704094088965638 +- 0.0030371394384645003\n",
      "####################################################################################################\n"
     ]
    },
    {
     "name": "stderr",
     "output_type": "stream",
     "text": [
      "[I 2025-01-17 22:27:41,303] Trial 401 finished with value: 0.6762952166860439 and parameters: {'max_bin': 2298, 'learning_rate': 0.10006927159775078, 'max_depth': 3, 'gamma': 0.0022180729924332065, 'min_child_weight': 31.566411035732983, 'subsample': 0.8120821596346006, 'colsample_bytree': 0.9585670654875934, 'colsample_bylevel': 0.8165374315427174, 'colsample_bynode': 0.8700239168911404, 'reg_alpha': 5.619482130460932, 'reg_lambda': 0.1500273199950699, 'max_cat_threshold': 5}. Best is trial 238 with value: 0.6763129944323751.\n"
     ]
    },
    {
     "name": "stdout",
     "output_type": "stream",
     "text": [
      "####################################################################################################\n",
      "OOF prediction score :  0.6762952166860439\n",
      "Mean 5-cv results : 0.6741307497106717 +- 0.004586276428886938\n",
      "####################################################################################################\n"
     ]
    },
    {
     "name": "stderr",
     "output_type": "stream",
     "text": [
      "[I 2025-01-17 22:27:53,059] Trial 402 finished with value: 0.6744010638071761 and parameters: {'max_bin': 2194, 'learning_rate': 0.10028511565874598, 'max_depth': 3, 'gamma': 0.39552423999074116, 'min_child_weight': 39.82969874202453, 'subsample': 0.8113411133430984, 'colsample_bytree': 0.9594405834305236, 'colsample_bylevel': 0.8113764237980657, 'colsample_bynode': 0.8684717014130833, 'reg_alpha': 2.878739762548875, 'reg_lambda': 0.15723180945753265, 'max_cat_threshold': 5}. Best is trial 238 with value: 0.6763129944323751.\n"
     ]
    },
    {
     "name": "stdout",
     "output_type": "stream",
     "text": [
      "####################################################################################################\n",
      "OOF prediction score :  0.6744010638071761\n",
      "Mean 5-cv results : 0.6724501524854171 +- 0.002857183686171978\n",
      "####################################################################################################\n"
     ]
    },
    {
     "name": "stderr",
     "output_type": "stream",
     "text": [
      "[I 2025-01-17 22:28:07,142] Trial 403 finished with value: 0.6760141807323087 and parameters: {'max_bin': 2743, 'learning_rate': 0.10021034191765146, 'max_depth': 3, 'gamma': 0.19067630341693317, 'min_child_weight': 32.44202353204306, 'subsample': 0.8042127469941107, 'colsample_bytree': 0.9428013305501771, 'colsample_bylevel': 0.8210222778312153, 'colsample_bynode': 0.8635161354931901, 'reg_alpha': 4.704516778165096, 'reg_lambda': 0.1883851355400024, 'max_cat_threshold': 4}. Best is trial 238 with value: 0.6763129944323751.\n"
     ]
    },
    {
     "name": "stdout",
     "output_type": "stream",
     "text": [
      "####################################################################################################\n",
      "OOF prediction score :  0.6760141807323087\n",
      "Mean 5-cv results : 0.6738523015515672 +- 0.0031489873164445036\n",
      "####################################################################################################\n"
     ]
    },
    {
     "name": "stderr",
     "output_type": "stream",
     "text": [
      "[I 2025-01-17 22:28:19,852] Trial 404 finished with value: 0.673831460607285 and parameters: {'max_bin': 2481, 'learning_rate': 0.1016095976338723, 'max_depth': 3, 'gamma': 0.5270877899566186, 'min_child_weight': 31.072288780111712, 'subsample': 0.8044271007420156, 'colsample_bytree': 0.9532880672052791, 'colsample_bylevel': 0.8202943233519678, 'colsample_bynode': 0.8712049033283363, 'reg_alpha': 4.589927283608655, 'reg_lambda': 0.13704123698444431, 'max_cat_threshold': 6}. Best is trial 238 with value: 0.6763129944323751.\n"
     ]
    },
    {
     "name": "stdout",
     "output_type": "stream",
     "text": [
      "####################################################################################################\n",
      "OOF prediction score :  0.673831460607285\n",
      "Mean 5-cv results : 0.6721746639661367 +- 0.004373947635432886\n",
      "####################################################################################################\n"
     ]
    },
    {
     "name": "stderr",
     "output_type": "stream",
     "text": [
      "[I 2025-01-17 22:28:36,141] Trial 405 finished with value: 0.6715808687250511 and parameters: {'max_bin': 3499, 'learning_rate': 0.10054956666462755, 'max_depth': 16, 'gamma': 0.31884556122469243, 'min_child_weight': 0.3337641771762708, 'subsample': 0.8042814547921968, 'colsample_bytree': 0.9446859656017039, 'colsample_bylevel': 0.8049489092293016, 'colsample_bynode': 0.8632101787909028, 'reg_alpha': 5.612332850258664, 'reg_lambda': 0.20028673306424613, 'max_cat_threshold': 4}. Best is trial 238 with value: 0.6763129944323751.\n"
     ]
    },
    {
     "name": "stdout",
     "output_type": "stream",
     "text": [
      "####################################################################################################\n",
      "OOF prediction score :  0.6715808687250511\n",
      "Mean 5-cv results : 0.6691162941513856 +- 0.0030875441472077857\n",
      "####################################################################################################\n"
     ]
    },
    {
     "name": "stderr",
     "output_type": "stream",
     "text": [
      "[I 2025-01-17 22:28:48,776] Trial 406 finished with value: 0.6751330517096851 and parameters: {'max_bin': 2654, 'learning_rate': 0.10000985820058698, 'max_depth': 3, 'gamma': 0.21125583783114604, 'min_child_weight': 35.28077424768274, 'subsample': 0.8134644745086849, 'colsample_bytree': 0.9353171795083074, 'colsample_bylevel': 0.8171945742990303, 'colsample_bynode': 0.8520773869669295, 'reg_alpha': 2.3703232920285973, 'reg_lambda': 0.2570941757691198, 'max_cat_threshold': 144}. Best is trial 238 with value: 0.6763129944323751.\n"
     ]
    },
    {
     "name": "stdout",
     "output_type": "stream",
     "text": [
      "####################################################################################################\n",
      "OOF prediction score :  0.6751330517096851\n",
      "Mean 5-cv results : 0.6733438460576593 +- 0.0037887208735357734\n",
      "####################################################################################################\n"
     ]
    },
    {
     "name": "stderr",
     "output_type": "stream",
     "text": [
      "[I 2025-01-17 22:28:57,805] Trial 407 finished with value: 0.671027022902093 and parameters: {'max_bin': 2744, 'learning_rate': 0.10235680519971468, 'max_depth': 4, 'gamma': 0.7636360451966256, 'min_child_weight': 30.914772728565996, 'subsample': 0.8200683893812609, 'colsample_bytree': 0.9498299994809166, 'colsample_bylevel': 0.8127504915820204, 'colsample_bynode': 0.8659308323107763, 'reg_alpha': 3.677847832632839, 'reg_lambda': 0.12417850150585644, 'max_cat_threshold': 5}. Best is trial 238 with value: 0.6763129944323751.\n"
     ]
    },
    {
     "name": "stdout",
     "output_type": "stream",
     "text": [
      "####################################################################################################\n",
      "OOF prediction score :  0.671027022902093\n",
      "Mean 5-cv results : 0.6693176349358329 +- 0.003975556304524636\n",
      "####################################################################################################\n"
     ]
    },
    {
     "name": "stderr",
     "output_type": "stream",
     "text": [
      "[I 2025-01-17 22:29:09,397] Trial 408 finished with value: 0.6742609666765268 and parameters: {'max_bin': 2401, 'learning_rate': 0.10346485238815108, 'max_depth': 4, 'gamma': 0.46246706284385297, 'min_child_weight': 33.91976046814359, 'subsample': 0.8103398458341896, 'colsample_bytree': 0.9577721471488507, 'colsample_bylevel': 0.8219415588174727, 'colsample_bynode': 0.8713465224329227, 'reg_alpha': 1.527047817261914, 'reg_lambda': 0.18575943247677504, 'max_cat_threshold': 4}. Best is trial 238 with value: 0.6763129944323751.\n"
     ]
    },
    {
     "name": "stdout",
     "output_type": "stream",
     "text": [
      "####################################################################################################\n",
      "OOF prediction score :  0.6742609666765268\n",
      "Mean 5-cv results : 0.6724459734686681 +- 0.004289788425955103\n",
      "####################################################################################################\n"
     ]
    },
    {
     "name": "stderr",
     "output_type": "stream",
     "text": [
      "[I 2025-01-17 22:29:22,938] Trial 409 finished with value: 0.6760244424579009 and parameters: {'max_bin': 2943, 'learning_rate': 0.10010676519039886, 'max_depth': 3, 'gamma': 0.21322467270278125, 'min_child_weight': 28.552554334929805, 'subsample': 0.8033558456601424, 'colsample_bytree': 0.9425480378656286, 'colsample_bylevel': 0.8089947292585185, 'colsample_bynode': 0.8592472275895633, 'reg_alpha': 5.7236459024666, 'reg_lambda': 0.0951251324321024, 'max_cat_threshold': 5}. Best is trial 238 with value: 0.6763129944323751.\n"
     ]
    },
    {
     "name": "stdout",
     "output_type": "stream",
     "text": [
      "####################################################################################################\n",
      "OOF prediction score :  0.6760244424579009\n",
      "Mean 5-cv results : 0.674416105321515 +- 0.004045834423308824\n",
      "####################################################################################################\n"
     ]
    },
    {
     "name": "stderr",
     "output_type": "stream",
     "text": [
      "[I 2025-01-17 22:29:34,550] Trial 410 finished with value: 0.6729425971054173 and parameters: {'max_bin': 2384, 'learning_rate': 0.10168569087251501, 'max_depth': 3, 'gamma': 0.5945015596990019, 'min_child_weight': 22.39043600214621, 'subsample': 0.8037494477957757, 'colsample_bytree': 0.9680888737235013, 'colsample_bylevel': 0.8077419724344316, 'colsample_bynode': 0.8574274463315855, 'reg_alpha': 5.7944044691909165, 'reg_lambda': 0.09077739317521186, 'max_cat_threshold': 3}. Best is trial 238 with value: 0.6763129944323751.\n"
     ]
    },
    {
     "name": "stdout",
     "output_type": "stream",
     "text": [
      "####################################################################################################\n",
      "OOF prediction score :  0.6729425971054173\n",
      "Mean 5-cv results : 0.671115881956615 +- 0.004594647182431709\n",
      "####################################################################################################\n"
     ]
    },
    {
     "name": "stderr",
     "output_type": "stream",
     "text": [
      "[I 2025-01-17 22:29:47,865] Trial 411 finished with value: 0.6752700909227232 and parameters: {'max_bin': 2908, 'learning_rate': 0.10026385841362977, 'max_depth': 3, 'gamma': 0.36653524856558645, 'min_child_weight': 27.193395369966044, 'subsample': 0.8076002443848732, 'colsample_bytree': 0.9401163662144429, 'colsample_bylevel': 0.8038680294140612, 'colsample_bynode': 0.851528717182664, 'reg_alpha': 4.143890194313715, 'reg_lambda': 0.09424870576784365, 'max_cat_threshold': 5}. Best is trial 238 with value: 0.6763129944323751.\n"
     ]
    },
    {
     "name": "stdout",
     "output_type": "stream",
     "text": [
      "####################################################################################################\n",
      "OOF prediction score :  0.6752700909227232\n",
      "Mean 5-cv results : 0.6736433554437399 +- 0.0032232862748706073\n",
      "####################################################################################################\n"
     ]
    },
    {
     "name": "stderr",
     "output_type": "stream",
     "text": [
      "[I 2025-01-17 22:29:57,131] Trial 412 finished with value: 0.6689831102661109 and parameters: {'max_bin': 3386, 'learning_rate': 0.10004488967515271, 'max_depth': 3, 'gamma': 0.9234872362949897, 'min_child_weight': 0.11991309346086687, 'subsample': 0.801438699807989, 'colsample_bytree': 0.9397666338490316, 'colsample_bylevel': 0.8094934065871154, 'colsample_bynode': 0.8595671152524018, 'reg_alpha': 7.40534671004929, 'reg_lambda': 0.150302314156696, 'max_cat_threshold': 4}. Best is trial 238 with value: 0.6763129944323751.\n"
     ]
    },
    {
     "name": "stdout",
     "output_type": "stream",
     "text": [
      "####################################################################################################\n",
      "OOF prediction score :  0.6689831102661109\n",
      "Mean 5-cv results : 0.6673573835345664 +- 0.004254395330000104\n",
      "####################################################################################################\n"
     ]
    },
    {
     "name": "stderr",
     "output_type": "stream",
     "text": [
      "[I 2025-01-17 22:30:10,390] Trial 413 finished with value: 0.6745638201075548 and parameters: {'max_bin': 4089, 'learning_rate': 0.1030353334881392, 'max_depth': 4, 'gamma': 0.19383539095182983, 'min_child_weight': 28.176132176700417, 'subsample': 0.8069555268832886, 'colsample_bytree': 0.9315431033273578, 'colsample_bylevel': 0.8154141687127138, 'colsample_bynode': 0.8681770691098067, 'reg_alpha': 3.120404388059679, 'reg_lambda': 0.2758918531678167, 'max_cat_threshold': 6}. Best is trial 238 with value: 0.6763129944323751.\n"
     ]
    },
    {
     "name": "stdout",
     "output_type": "stream",
     "text": [
      "####################################################################################################\n",
      "OOF prediction score :  0.6745638201075548\n",
      "Mean 5-cv results : 0.6723559041558033 +- 0.003882771946820753\n",
      "####################################################################################################\n"
     ]
    },
    {
     "name": "stderr",
     "output_type": "stream",
     "text": [
      "[I 2025-01-17 22:30:21,807] Trial 414 finished with value: 0.6745378279264466 and parameters: {'max_bin': 2196, 'learning_rate': 0.10391814346527556, 'max_depth': 5, 'gamma': 0.1894780605772053, 'min_child_weight': 23.684750652716087, 'subsample': 0.8124376102681208, 'colsample_bytree': 0.9178588080746815, 'colsample_bylevel': 0.8106529233956645, 'colsample_bynode': 0.8723639996584458, 'reg_alpha': 5.049308930987889, 'reg_lambda': 0.10885773740876449, 'max_cat_threshold': 5}. Best is trial 238 with value: 0.6763129944323751.\n"
     ]
    },
    {
     "name": "stdout",
     "output_type": "stream",
     "text": [
      "####################################################################################################\n",
      "OOF prediction score :  0.6745378279264466\n",
      "Mean 5-cv results : 0.6726568973986711 +- 0.00323074934773188\n",
      "####################################################################################################\n"
     ]
    },
    {
     "name": "stderr",
     "output_type": "stream",
     "text": [
      "[I 2025-01-17 22:30:31,426] Trial 415 finished with value: 0.6742081385832207 and parameters: {'max_bin': 3019, 'learning_rate': 0.17321339462751228, 'max_depth': 3, 'gamma': 0.38498210259607246, 'min_child_weight': 30.900128440791363, 'subsample': 0.8169672651199391, 'colsample_bytree': 0.9445063060211586, 'colsample_bylevel': 0.9701647608381441, 'colsample_bynode': 0.864608347555093, 'reg_alpha': 7.3050962582451335, 'reg_lambda': 0.19900713968662664, 'max_cat_threshold': 7}. Best is trial 238 with value: 0.6763129944323751.\n"
     ]
    },
    {
     "name": "stdout",
     "output_type": "stream",
     "text": [
      "####################################################################################################\n",
      "OOF prediction score :  0.6742081385832207\n",
      "Mean 5-cv results : 0.6721481393875663 +- 0.003392591780857446\n",
      "####################################################################################################\n"
     ]
    },
    {
     "name": "stderr",
     "output_type": "stream",
     "text": [
      "[I 2025-01-17 22:30:42,065] Trial 416 finished with value: 0.6729960431997575 and parameters: {'max_bin': 2088, 'learning_rate': 0.10005466813188407, 'max_depth': 6, 'gamma': 0.641126288249704, 'min_child_weight': 25.02530648319918, 'subsample': 0.8035058096753089, 'colsample_bytree': 0.9489971804863501, 'colsample_bylevel': 0.8844684828223103, 'colsample_bynode': 0.858868129748272, 'reg_alpha': 4.760439049466598, 'reg_lambda': 0.07281323024295944, 'max_cat_threshold': 4}. Best is trial 238 with value: 0.6763129944323751.\n"
     ]
    },
    {
     "name": "stdout",
     "output_type": "stream",
     "text": [
      "####################################################################################################\n",
      "OOF prediction score :  0.6729960431997575\n",
      "Mean 5-cv results : 0.6711863099420384 +- 0.003305049938778632\n",
      "####################################################################################################\n"
     ]
    },
    {
     "name": "stderr",
     "output_type": "stream",
     "text": [
      "[I 2025-01-17 22:30:52,547] Trial 417 finished with value: 0.6731301014559596 and parameters: {'max_bin': 2548, 'learning_rate': 0.10284400776552276, 'max_depth': 4, 'gamma': 0.1914393057708833, 'min_child_weight': 32.89049323126851, 'subsample': 0.8094402119694627, 'colsample_bytree': 0.9528461129566319, 'colsample_bylevel': 0.804953359141027, 'colsample_bynode': 0.8416652057754628, 'reg_alpha': 0.0005825856725602659, 'reg_lambda': 0.15087742773906154, 'max_cat_threshold': 94}. Best is trial 238 with value: 0.6763129944323751.\n"
     ]
    },
    {
     "name": "stdout",
     "output_type": "stream",
     "text": [
      "####################################################################################################\n",
      "OOF prediction score :  0.6731301014559596\n",
      "Mean 5-cv results : 0.6709464514503953 +- 0.003812170646011274\n",
      "####################################################################################################\n"
     ]
    },
    {
     "name": "stderr",
     "output_type": "stream",
     "text": [
      "[I 2025-01-17 22:31:03,356] Trial 418 finished with value: 0.6743562734334041 and parameters: {'max_bin': 3696, 'learning_rate': 0.10254118965705046, 'max_depth': 5, 'gamma': 0.41006509049760426, 'min_child_weight': 29.485791173478738, 'subsample': 0.8002361961570902, 'colsample_bytree': 0.9625678811671763, 'colsample_bylevel': 0.8002235503175111, 'colsample_bynode': 0.874186982661626, 'reg_alpha': 2.8282097771262733, 'reg_lambda': 0.39112816926805744, 'max_cat_threshold': 6}. Best is trial 238 with value: 0.6763129944323751.\n"
     ]
    },
    {
     "name": "stdout",
     "output_type": "stream",
     "text": [
      "####################################################################################################\n",
      "OOF prediction score :  0.6743562734334041\n",
      "Mean 5-cv results : 0.6726762872604974 +- 0.003754042982625959\n",
      "####################################################################################################\n"
     ]
    },
    {
     "name": "stderr",
     "output_type": "stream",
     "text": [
      "[I 2025-01-17 22:31:19,455] Trial 419 finished with value: 0.6758908952752684 and parameters: {'max_bin': 3162, 'learning_rate': 0.10421953828590733, 'max_depth': 3, 'gamma': 0.15555726357379687, 'min_child_weight': 21.297781205865427, 'subsample': 0.8150551269854087, 'colsample_bytree': 0.9370191886368651, 'colsample_bylevel': 0.9346463186070095, 'colsample_bynode': 0.8063526832098044, 'reg_alpha': 7.381491740845771, 'reg_lambda': 0.29467230888767976, 'max_cat_threshold': 5}. Best is trial 238 with value: 0.6763129944323751.\n"
     ]
    },
    {
     "name": "stdout",
     "output_type": "stream",
     "text": [
      "####################################################################################################\n",
      "OOF prediction score :  0.6758908952752684\n",
      "Mean 5-cv results : 0.6740081657602426 +- 0.003148756335309411\n",
      "####################################################################################################\n"
     ]
    },
    {
     "name": "stderr",
     "output_type": "stream",
     "text": [
      "[I 2025-01-17 22:31:30,381] Trial 420 finished with value: 0.6726764990523574 and parameters: {'max_bin': 3037, 'learning_rate': 0.1035835760175806, 'max_depth': 4, 'gamma': 0.5673322836624871, 'min_child_weight': 17.51751907602388, 'subsample': 0.8146909454449628, 'colsample_bytree': 0.9329047509524404, 'colsample_bylevel': 0.9250177964257903, 'colsample_bynode': 0.8241132123196739, 'reg_alpha': 7.552626404372901, 'reg_lambda': 0.2564128584977567, 'max_cat_threshold': 5}. Best is trial 238 with value: 0.6763129944323751.\n"
     ]
    },
    {
     "name": "stdout",
     "output_type": "stream",
     "text": [
      "####################################################################################################\n",
      "OOF prediction score :  0.6726764990523574\n",
      "Mean 5-cv results : 0.6706676651126862 +- 0.004171810706624565\n",
      "####################################################################################################\n"
     ]
    },
    {
     "name": "stderr",
     "output_type": "stream",
     "text": [
      "[I 2025-01-17 22:31:40,759] Trial 421 finished with value: 0.6701129777178234 and parameters: {'max_bin': 2863, 'learning_rate': 0.10003262864671617, 'max_depth': 7, 'gamma': 0.19670225308676717, 'min_child_weight': 23.134904097121687, 'subsample': 0.8223768048732377, 'colsample_bytree': 0.9423554214884466, 'colsample_bylevel': 0.9292626367704055, 'colsample_bynode': 0.8116830943019575, 'reg_alpha': 0.0008608576747819256, 'reg_lambda': 0.31157565744333265, 'max_cat_threshold': 5}. Best is trial 238 with value: 0.6763129944323751.\n"
     ]
    },
    {
     "name": "stdout",
     "output_type": "stream",
     "text": [
      "####################################################################################################\n",
      "OOF prediction score :  0.6701129777178234\n",
      "Mean 5-cv results : 0.6674689743306877 +- 0.002614870034415536\n",
      "####################################################################################################\n"
     ]
    },
    {
     "name": "stderr",
     "output_type": "stream",
     "text": [
      "[I 2025-01-17 22:31:53,266] Trial 422 finished with value: 0.6728413220027362 and parameters: {'max_bin': 3221, 'learning_rate': 0.10206520892222347, 'max_depth': 5, 'gamma': 0.3352681714698193, 'min_child_weight': 20.110669251719894, 'subsample': 0.8174163199883078, 'colsample_bytree': 0.9388558928811008, 'colsample_bylevel': 0.9599685606401983, 'colsample_bynode': 0.8280092714308048, 'reg_alpha': 9.662583458277345, 'reg_lambda': 0.21482904282804546, 'max_cat_threshold': 4}. Best is trial 238 with value: 0.6763129944323751.\n"
     ]
    },
    {
     "name": "stdout",
     "output_type": "stream",
     "text": [
      "####################################################################################################\n",
      "OOF prediction score :  0.6728413220027362\n",
      "Mean 5-cv results : 0.6711240485388998 +- 0.004045139828733168\n",
      "####################################################################################################\n"
     ]
    },
    {
     "name": "stderr",
     "output_type": "stream",
     "text": [
      "[I 2025-01-17 22:32:00,958] Trial 423 finished with value: 0.6601083536383943 and parameters: {'max_bin': 4164, 'learning_rate': 0.10427133911725402, 'max_depth': 4, 'gamma': 3.2069024372738864, 'min_child_weight': 21.887624547415438, 'subsample': 0.812639180416973, 'colsample_bytree': 0.9365017437948563, 'colsample_bylevel': 0.916578534090578, 'colsample_bynode': 0.8691577278903064, 'reg_alpha': 5.610635333202118, 'reg_lambda': 0.42711639506778937, 'max_cat_threshold': 6}. Best is trial 238 with value: 0.6763129944323751.\n"
     ]
    },
    {
     "name": "stdout",
     "output_type": "stream",
     "text": [
      "####################################################################################################\n",
      "OOF prediction score :  0.6601083536383943\n",
      "Mean 5-cv results : 0.6588047361321289 +- 0.003865087753050937\n",
      "####################################################################################################\n"
     ]
    },
    {
     "name": "stderr",
     "output_type": "stream",
     "text": [
      "[I 2025-01-17 22:32:13,259] Trial 424 finished with value: 0.6754698874487454 and parameters: {'max_bin': 1988, 'learning_rate': 0.10739324101607821, 'max_depth': 3, 'gamma': 0.18381161064766852, 'min_child_weight': 14.660569023558056, 'subsample': 0.8071523725884502, 'colsample_bytree': 0.9493164453145263, 'colsample_bylevel': 0.8072610565307973, 'colsample_bynode': 0.8657835035313423, 'reg_alpha': 6.9410399088668076, 'reg_lambda': 0.13528632510840502, 'max_cat_threshold': 9}. Best is trial 238 with value: 0.6763129944323751.\n"
     ]
    },
    {
     "name": "stdout",
     "output_type": "stream",
     "text": [
      "####################################################################################################\n",
      "OOF prediction score :  0.6754698874487454\n",
      "Mean 5-cv results : 0.6734051458180583 +- 0.004343231112087818\n",
      "####################################################################################################\n"
     ]
    },
    {
     "name": "stderr",
     "output_type": "stream",
     "text": [
      "[I 2025-01-17 22:32:24,188] Trial 425 finished with value: 0.6691314094478297 and parameters: {'max_bin': 1987, 'learning_rate': 0.11105604049605387, 'max_depth': 3, 'gamma': 0.8090985403373419, 'min_child_weight': 37.4894356937459, 'subsample': 0.8084074390089502, 'colsample_bytree': 0.9445588522000797, 'colsample_bylevel': 0.814244002214956, 'colsample_bynode': 0.8396876437776573, 'reg_alpha': 7.779249996089244, 'reg_lambda': 0.2111466769040933, 'max_cat_threshold': 3}. Best is trial 238 with value: 0.6763129944323751.\n"
     ]
    },
    {
     "name": "stdout",
     "output_type": "stream",
     "text": [
      "####################################################################################################\n",
      "OOF prediction score :  0.6691314094478297\n",
      "Mean 5-cv results : 0.6675782072793325 +- 0.003993543651939144\n",
      "####################################################################################################\n"
     ]
    },
    {
     "name": "stderr",
     "output_type": "stream",
     "text": [
      "[I 2025-01-17 22:32:35,558] Trial 426 finished with value: 0.6718087378875242 and parameters: {'max_bin': 2348, 'learning_rate': 0.10722707951822227, 'max_depth': 3, 'gamma': 0.4662149327770151, 'min_child_weight': 25.612106457620403, 'subsample': 0.807823586314407, 'colsample_bytree': 0.9560015735037629, 'colsample_bylevel': 0.8041239308945525, 'colsample_bynode': 0.8063258045264311, 'reg_alpha': 9.694038754867886, 'reg_lambda': 0.12511716401500242, 'max_cat_threshold': 7}. Best is trial 238 with value: 0.6763129944323751.\n"
     ]
    },
    {
     "name": "stdout",
     "output_type": "stream",
     "text": [
      "####################################################################################################\n",
      "OOF prediction score :  0.6718087378875242\n",
      "Mean 5-cv results : 0.6704503647071423 +- 0.004492350972647423\n",
      "####################################################################################################\n"
     ]
    },
    {
     "name": "stderr",
     "output_type": "stream",
     "text": [
      "[I 2025-01-17 22:32:50,284] Trial 427 finished with value: 0.6748335303179347 and parameters: {'max_bin': 2724, 'learning_rate': 0.10874659235574072, 'max_depth': 3, 'gamma': 0.20599119767490093, 'min_child_weight': 36.89156560766269, 'subsample': 0.8064030098512703, 'colsample_bytree': 0.9497174359354198, 'colsample_bylevel': 0.8131423962875791, 'colsample_bynode': 0.8645857839458454, 'reg_alpha': 6.2249998396451325, 'reg_lambda': 0.30622818023080656, 'max_cat_threshold': 39}. Best is trial 238 with value: 0.6763129944323751.\n"
     ]
    },
    {
     "name": "stdout",
     "output_type": "stream",
     "text": [
      "####################################################################################################\n",
      "OOF prediction score :  0.6748335303179347\n",
      "Mean 5-cv results : 0.6730357505190001 +- 0.004261779197323499\n",
      "####################################################################################################\n"
     ]
    },
    {
     "name": "stderr",
     "output_type": "stream",
     "text": [
      "[I 2025-01-17 22:33:01,382] Trial 428 finished with value: 0.6745078256094872 and parameters: {'max_bin': 2459, 'learning_rate': 0.11088344760520295, 'max_depth': 6, 'gamma': 0.1685235392877397, 'min_child_weight': 18.230377658962162, 'subsample': 0.803182468129309, 'colsample_bytree': 0.9491470288334888, 'colsample_bylevel': 0.8166752867712077, 'colsample_bynode': 0.8009850087850129, 'reg_alpha': 6.935967743549137, 'reg_lambda': 0.0010474334299743876, 'max_cat_threshold': 6}. Best is trial 238 with value: 0.6763129944323751.\n"
     ]
    },
    {
     "name": "stdout",
     "output_type": "stream",
     "text": [
      "####################################################################################################\n",
      "OOF prediction score :  0.6745078256094872\n",
      "Mean 5-cv results : 0.672208469263967 +- 0.004083244447192296\n",
      "####################################################################################################\n"
     ]
    },
    {
     "name": "stderr",
     "output_type": "stream",
     "text": [
      "[I 2025-01-17 22:33:13,886] Trial 429 finished with value: 0.6753022924310684 and parameters: {'max_bin': 3653, 'learning_rate': 0.10649882363076499, 'max_depth': 3, 'gamma': 0.011314278182395393, 'min_child_weight': 45.36447738436322, 'subsample': 0.8125087969837608, 'colsample_bytree': 0.9441367990711745, 'colsample_bylevel': 0.9100247602076532, 'colsample_bynode': 0.8610271229686001, 'reg_alpha': 4.299947528031042, 'reg_lambda': 0.15060214848930514, 'max_cat_threshold': 8}. Best is trial 238 with value: 0.6763129944323751.\n"
     ]
    },
    {
     "name": "stdout",
     "output_type": "stream",
     "text": [
      "####################################################################################################\n",
      "OOF prediction score :  0.6753022924310684\n",
      "Mean 5-cv results : 0.6729460807114506 +- 0.0029107293851995393\n",
      "####################################################################################################\n"
     ]
    },
    {
     "name": "stderr",
     "output_type": "stream",
     "text": [
      "[I 2025-01-17 22:33:26,772] Trial 430 finished with value: 0.6732555082544913 and parameters: {'max_bin': 3117, 'learning_rate': 0.10915836661079709, 'max_depth': 5, 'gamma': 0.3640686886001385, 'min_child_weight': 27.075744339133937, 'subsample': 0.8159787093876916, 'colsample_bytree': 0.9526747366207677, 'colsample_bylevel': 0.8070402559598244, 'colsample_bynode': 0.819658508085106, 'reg_alpha': 9.998876702292572, 'reg_lambda': 0.4045009186776526, 'max_cat_threshold': 9}. Best is trial 238 with value: 0.6763129944323751.\n"
     ]
    },
    {
     "name": "stdout",
     "output_type": "stream",
     "text": [
      "####################################################################################################\n",
      "OOF prediction score :  0.6732555082544913\n",
      "Mean 5-cv results : 0.6714731286172357 +- 0.0039094951304169175\n",
      "####################################################################################################\n"
     ]
    },
    {
     "name": "stderr",
     "output_type": "stream",
     "text": [
      "[I 2025-01-17 22:33:36,327] Trial 431 finished with value: 0.6738237387163116 and parameters: {'max_bin': 1051, 'learning_rate': 0.10534172531755272, 'max_depth': 4, 'gamma': 0.59503791139697, 'min_child_weight': 14.372565387023002, 'subsample': 0.8053745971370054, 'colsample_bytree': 0.9572169430574345, 'colsample_bylevel': 0.9928270408386637, 'colsample_bynode': 0.8319813873545876, 'reg_alpha': 6.295832841227685, 'reg_lambda': 0.012324080192238584, 'max_cat_threshold': 5}. Best is trial 238 with value: 0.6763129944323751.\n"
     ]
    },
    {
     "name": "stdout",
     "output_type": "stream",
     "text": [
      "####################################################################################################\n",
      "OOF prediction score :  0.6738237387163116\n",
      "Mean 5-cv results : 0.6725136665837541 +- 0.004474513038310718\n",
      "####################################################################################################\n"
     ]
    },
    {
     "name": "stderr",
     "output_type": "stream",
     "text": [
      "[I 2025-01-17 22:33:43,442] Trial 432 finished with value: 0.6712090832338513 and parameters: {'max_bin': 2741, 'learning_rate': 0.26868500009442553, 'max_depth': 4, 'gamma': 0.1826015241489957, 'min_child_weight': 34.4725468507019, 'subsample': 0.8104180019909148, 'colsample_bytree': 0.9425721483555382, 'colsample_bylevel': 0.8097723963544848, 'colsample_bynode': 0.8563813313435796, 'reg_alpha': 5.690744642975074, 'reg_lambda': 0.2023385339250244, 'max_cat_threshold': 8}. Best is trial 238 with value: 0.6763129944323751.\n"
     ]
    },
    {
     "name": "stdout",
     "output_type": "stream",
     "text": [
      "####################################################################################################\n",
      "OOF prediction score :  0.6712090832338513\n",
      "Mean 5-cv results : 0.6693313014192631 +- 0.004489994354695895\n",
      "####################################################################################################\n"
     ]
    },
    {
     "name": "stderr",
     "output_type": "stream",
     "text": [
      "[I 2025-01-17 22:33:55,295] Trial 433 finished with value: 0.671754711718041 and parameters: {'max_bin': 1886, 'learning_rate': 0.10779518252104789, 'max_depth': 21, 'gamma': 0.36745536707616827, 'min_child_weight': 51.2943312829743, 'subsample': 0.8037041250955551, 'colsample_bytree': 0.949077931170089, 'colsample_bylevel': 0.8179602857217079, 'colsample_bynode': 0.8673993043162244, 'reg_alpha': 4.096294399243566, 'reg_lambda': 0.4907623314454257, 'max_cat_threshold': 9}. Best is trial 238 with value: 0.6763129944323751.\n"
     ]
    },
    {
     "name": "stdout",
     "output_type": "stream",
     "text": [
      "####################################################################################################\n",
      "OOF prediction score :  0.671754711718041\n",
      "Mean 5-cv results : 0.6698273087413662 +- 0.005441385442955861\n",
      "####################################################################################################\n"
     ]
    },
    {
     "name": "stderr",
     "output_type": "stream",
     "text": [
      "[I 2025-01-17 22:34:06,244] Trial 434 finished with value: 0.6730951942995423 and parameters: {'max_bin': 1124, 'learning_rate': 0.10422992705210696, 'max_depth': 6, 'gamma': 0.004485222469501981, 'min_child_weight': 40.74343847166821, 'subsample': 0.9089427583087838, 'colsample_bytree': 0.9608261985587326, 'colsample_bylevel': 0.8000948156900117, 'colsample_bynode': 0.8629879931427731, 'reg_alpha': 7.562346834908319, 'reg_lambda': 0.2842321698076274, 'max_cat_threshold': 4}. Best is trial 238 with value: 0.6763129944323751.\n"
     ]
    },
    {
     "name": "stdout",
     "output_type": "stream",
     "text": [
      "####################################################################################################\n",
      "OOF prediction score :  0.6730951942995423\n",
      "Mean 5-cv results : 0.6705834000662046 +- 0.0039053781539765604\n",
      "####################################################################################################\n"
     ]
    },
    {
     "name": "stderr",
     "output_type": "stream",
     "text": [
      "[I 2025-01-17 22:34:18,173] Trial 435 finished with value: 0.6746184794746584 and parameters: {'max_bin': 949, 'learning_rate': 0.11224779645728554, 'max_depth': 3, 'gamma': 0.1750410437726205, 'min_child_weight': 30.43097056123284, 'subsample': 0.8947708303670556, 'colsample_bytree': 0.9559482109135344, 'colsample_bylevel': 0.8190149488479703, 'colsample_bynode': 0.8680083437309865, 'reg_alpha': 9.933597194033602, 'reg_lambda': 0.11584685491507421, 'max_cat_threshold': 10}. Best is trial 238 with value: 0.6763129944323751.\n"
     ]
    },
    {
     "name": "stdout",
     "output_type": "stream",
     "text": [
      "####################################################################################################\n",
      "OOF prediction score :  0.6746184794746584\n",
      "Mean 5-cv results : 0.6726745445752703 +- 0.003951860959384869\n",
      "####################################################################################################\n"
     ]
    },
    {
     "name": "stderr",
     "output_type": "stream",
     "text": [
      "[I 2025-01-17 22:34:28,527] Trial 436 finished with value: 0.6719065023427221 and parameters: {'max_bin': 1234, 'learning_rate': 0.10000881711984176, 'max_depth': 5, 'gamma': 0.5329661153746235, 'min_child_weight': 25.786982283121485, 'subsample': 0.8098522088251808, 'colsample_bytree': 0.9512630986484223, 'colsample_bylevel': 0.8122385647690734, 'colsample_bynode': 0.8103475058066566, 'reg_alpha': 5.7921933199771685, 'reg_lambda': 0.18282292530572677, 'max_cat_threshold': 6}. Best is trial 238 with value: 0.6763129944323751.\n"
     ]
    },
    {
     "name": "stdout",
     "output_type": "stream",
     "text": [
      "####################################################################################################\n",
      "OOF prediction score :  0.6719065023427221\n",
      "Mean 5-cv results : 0.6700710292560563 +- 0.004089338546675196\n",
      "####################################################################################################\n"
     ]
    },
    {
     "name": "stderr",
     "output_type": "stream",
     "text": [
      "[I 2025-01-17 22:34:40,394] Trial 437 finished with value: 0.6759391603956251 and parameters: {'max_bin': 1077, 'learning_rate': 0.10720549261819821, 'max_depth': 3, 'gamma': 0.0020489841591903903, 'min_child_weight': 34.27549920042649, 'subsample': 0.8007170719192231, 'colsample_bytree': 0.9378141828291151, 'colsample_bylevel': 0.9483330390078166, 'colsample_bynode': 0.8762827088191913, 'reg_alpha': 3.4775929736816193, 'reg_lambda': 0.31253535771874624, 'max_cat_threshold': 24}. Best is trial 238 with value: 0.6763129944323751.\n"
     ]
    },
    {
     "name": "stdout",
     "output_type": "stream",
     "text": [
      "####################################################################################################\n",
      "OOF prediction score :  0.6759391603956251\n",
      "Mean 5-cv results : 0.6740191965158273 +- 0.002901554638767228\n",
      "####################################################################################################\n"
     ]
    },
    {
     "name": "stderr",
     "output_type": "stream",
     "text": [
      "[I 2025-01-17 22:34:49,764] Trial 438 finished with value: 0.6733912949421459 and parameters: {'max_bin': 2060, 'learning_rate': 0.10557145179789951, 'max_depth': 4, 'gamma': 0.32789044847754645, 'min_child_weight': 32.91198242615816, 'subsample': 0.8028069832752388, 'colsample_bytree': 0.9374327982697954, 'colsample_bylevel': 0.9377611268267286, 'colsample_bynode': 0.8362045075808708, 'reg_alpha': 0.04506024949348862, 'reg_lambda': 0.13119301456475027, 'max_cat_threshold': 7}. Best is trial 238 with value: 0.6763129944323751.\n"
     ]
    },
    {
     "name": "stdout",
     "output_type": "stream",
     "text": [
      "####################################################################################################\n",
      "OOF prediction score :  0.6733912949421459\n",
      "Mean 5-cv results : 0.6717111465204747 +- 0.0036426686207239357\n",
      "####################################################################################################\n"
     ]
    },
    {
     "name": "stderr",
     "output_type": "stream",
     "text": [
      "[I 2025-01-17 22:35:00,649] Trial 439 finished with value: 0.6742083440585209 and parameters: {'max_bin': 1053, 'learning_rate': 0.10383502010660756, 'max_depth': 5, 'gamma': 0.19795803977809906, 'min_child_weight': 28.607027178186335, 'subsample': 0.8001161312018316, 'colsample_bytree': 0.9426033079460109, 'colsample_bylevel': 0.9441325074547112, 'colsample_bynode': 0.8767790566742625, 'reg_alpha': 2.1726903663915498, 'reg_lambda': 0.2566078676497952, 'max_cat_threshold': 28}. Best is trial 238 with value: 0.6763129944323751.\n"
     ]
    },
    {
     "name": "stdout",
     "output_type": "stream",
     "text": [
      "####################################################################################################\n",
      "OOF prediction score :  0.6742083440585209\n",
      "Mean 5-cv results : 0.6722190341066142 +- 0.0047923023177384215\n",
      "####################################################################################################\n"
     ]
    },
    {
     "name": "stderr",
     "output_type": "stream",
     "text": [
      "[I 2025-01-17 22:35:09,823] Trial 440 finished with value: 0.6711464587602191 and parameters: {'max_bin': 2259, 'learning_rate': 0.10757055352119596, 'max_depth': 4, 'gamma': 0.7181512317383769, 'min_child_weight': 23.060970409437555, 'subsample': 0.806746373609544, 'colsample_bytree': 0.9281748417850534, 'colsample_bylevel': 0.9508719091462697, 'colsample_bynode': 0.8746025775586955, 'reg_alpha': 4.493943902064554, 'reg_lambda': 0.1850338592548856, 'max_cat_threshold': 30}. Best is trial 238 with value: 0.6763129944323751.\n"
     ]
    },
    {
     "name": "stdout",
     "output_type": "stream",
     "text": [
      "####################################################################################################\n",
      "OOF prediction score :  0.6711464587602191\n",
      "Mean 5-cv results : 0.6697035526614312 +- 0.0037583214488684175\n",
      "####################################################################################################\n"
     ]
    },
    {
     "name": "stderr",
     "output_type": "stream",
     "text": [
      "[I 2025-01-17 22:35:18,733] Trial 441 finished with value: 0.6649248468759629 and parameters: {'max_bin': 994, 'learning_rate': 0.10222961001970525, 'max_depth': 3, 'gamma': 1.5862842212546409, 'min_child_weight': 36.75864006473968, 'subsample': 0.8057634284567521, 'colsample_bytree': 0.9211330845873565, 'colsample_bylevel': 0.9462390241731312, 'colsample_bynode': 0.8767782466613724, 'reg_alpha': 7.908081052488827, 'reg_lambda': 0.31679112802187487, 'max_cat_threshold': 23}. Best is trial 238 with value: 0.6763129944323751.\n"
     ]
    },
    {
     "name": "stdout",
     "output_type": "stream",
     "text": [
      "####################################################################################################\n",
      "OOF prediction score :  0.6649248468759629\n",
      "Mean 5-cv results : 0.663512843490284 +- 0.004272200163025564\n",
      "####################################################################################################\n"
     ]
    },
    {
     "name": "stderr",
     "output_type": "stream",
     "text": [
      "[I 2025-01-17 22:35:28,909] Trial 442 finished with value: 0.6730991185833862 and parameters: {'max_bin': 1131, 'learning_rate': 0.10576163163345463, 'max_depth': 6, 'gamma': 0.4237440532116978, 'min_child_weight': 31.97347250106465, 'subsample': 0.803473008484373, 'colsample_bytree': 0.9467246492280827, 'colsample_bylevel': 0.9306427414386678, 'colsample_bynode': 0.8717295372363494, 'reg_alpha': 6.54679268402236, 'reg_lambda': 0.09352931001847704, 'max_cat_threshold': 23}. Best is trial 238 with value: 0.6763129944323751.\n"
     ]
    },
    {
     "name": "stdout",
     "output_type": "stream",
     "text": [
      "####################################################################################################\n",
      "OOF prediction score :  0.6730991185833862\n",
      "Mean 5-cv results : 0.6709614780640671 +- 0.002563648139579226\n",
      "####################################################################################################\n"
     ]
    },
    {
     "name": "stderr",
     "output_type": "stream",
     "text": [
      "[I 2025-01-17 22:35:38,263] Trial 443 finished with value: 0.6749530456359204 and parameters: {'max_bin': 928, 'learning_rate': 0.1039628417026489, 'max_depth': 5, 'gamma': 0.1588125074629007, 'min_child_weight': 27.36323286502799, 'subsample': 0.8011325462025825, 'colsample_bytree': 0.9351197630938961, 'colsample_bylevel': 0.93335301632362, 'colsample_bynode': 0.8795083071840257, 'reg_alpha': 2.908489096863683, 'reg_lambda': 0.16453420247120445, 'max_cat_threshold': 5}. Best is trial 238 with value: 0.6763129944323751.\n"
     ]
    },
    {
     "name": "stdout",
     "output_type": "stream",
     "text": [
      "####################################################################################################\n",
      "OOF prediction score :  0.6749530456359204\n",
      "Mean 5-cv results : 0.673181601884135 +- 0.004110619063483502\n",
      "####################################################################################################\n"
     ]
    },
    {
     "name": "stderr",
     "output_type": "stream",
     "text": [
      "[I 2025-01-17 22:35:49,617] Trial 444 finished with value: 0.6748364918196257 and parameters: {'max_bin': 2603, 'learning_rate': 0.10817025513280158, 'max_depth': 3, 'gamma': 0.3400954290197716, 'min_child_weight': 16.423252527237675, 'subsample': 0.8088448294735184, 'colsample_bytree': 0.9390451422277577, 'colsample_bylevel': 0.9628012109234737, 'colsample_bynode': 0.8715449127310797, 'reg_alpha': 4.8517985136675295, 'reg_lambda': 0.005539071311329021, 'max_cat_threshold': 3}. Best is trial 238 with value: 0.6763129944323751.\n"
     ]
    },
    {
     "name": "stdout",
     "output_type": "stream",
     "text": [
      "####################################################################################################\n",
      "OOF prediction score :  0.6748364918196257\n",
      "Mean 5-cv results : 0.672914224319911 +- 0.0033496634505143824\n",
      "####################################################################################################\n"
     ]
    },
    {
     "name": "stderr",
     "output_type": "stream",
     "text": [
      "[I 2025-01-17 22:36:03,404] Trial 445 finished with value: 0.6749957385300871 and parameters: {'max_bin': 1156, 'learning_rate': 0.10213232709640217, 'max_depth': 4, 'gamma': 0.005632671546429538, 'min_child_weight': 36.38697928348017, 'subsample': 0.9030346487628841, 'colsample_bytree': 0.941742213296418, 'colsample_bylevel': 0.9532038119045835, 'colsample_bynode': 0.8678112424961448, 'reg_alpha': 9.906295843865461, 'reg_lambda': 2.2383801812650535e-05, 'max_cat_threshold': 19}. Best is trial 238 with value: 0.6763129944323751.\n"
     ]
    },
    {
     "name": "stdout",
     "output_type": "stream",
     "text": [
      "####################################################################################################\n",
      "OOF prediction score :  0.6749957385300871\n",
      "Mean 5-cv results : 0.6729727232026899 +- 0.004504884276665452\n",
      "####################################################################################################\n"
     ]
    },
    {
     "name": "stderr",
     "output_type": "stream",
     "text": [
      "[I 2025-01-17 22:36:14,132] Trial 446 finished with value: 0.6724695197766322 and parameters: {'max_bin': 3185, 'learning_rate': 0.10634732036526971, 'max_depth': 4, 'gamma': 0.5521503830765325, 'min_child_weight': 21.375059064256643, 'subsample': 0.800161725951979, 'colsample_bytree': 0.9465751814249637, 'colsample_bylevel': 0.8209246190642219, 'colsample_bynode': 0.884177095430194, 'reg_alpha': 6.645628408419942, 'reg_lambda': 0.5270682735151788, 'max_cat_threshold': 4}. Best is trial 238 with value: 0.6763129944323751.\n"
     ]
    },
    {
     "name": "stdout",
     "output_type": "stream",
     "text": [
      "####################################################################################################\n",
      "OOF prediction score :  0.6724695197766322\n",
      "Mean 5-cv results : 0.6709771287319837 +- 0.003987223979034993\n",
      "####################################################################################################\n"
     ]
    },
    {
     "name": "stderr",
     "output_type": "stream",
     "text": [
      "[I 2025-01-17 22:36:23,710] Trial 447 finished with value: 0.6704317267648398 and parameters: {'max_bin': 1027, 'learning_rate': 0.10254453785561175, 'max_depth': 8, 'gamma': 0.18946628665796492, 'min_child_weight': 25.311855889251593, 'subsample': 0.8742442037750092, 'colsample_bytree': 0.9355172809610747, 'colsample_bylevel': 0.829121033894136, 'colsample_bynode': 0.8776579481367677, 'reg_alpha': 3.6615607824183622, 'reg_lambda': 0.7117583938078889, 'max_cat_threshold': 50}. Best is trial 238 with value: 0.6763129944323751.\n"
     ]
    },
    {
     "name": "stdout",
     "output_type": "stream",
     "text": [
      "####################################################################################################\n",
      "OOF prediction score :  0.6704317267648398\n",
      "Mean 5-cv results : 0.6688355995022216 +- 0.001818733411952274\n",
      "####################################################################################################\n"
     ]
    },
    {
     "name": "stderr",
     "output_type": "stream",
     "text": [
      "[I 2025-01-17 22:36:33,372] Trial 448 finished with value: 0.6672379975846378 and parameters: {'max_bin': 2290, 'learning_rate': 0.10925821380319584, 'max_depth': 3, 'gamma': 1.177053884772385, 'min_child_weight': 32.3806344007974, 'subsample': 0.8154218314418136, 'colsample_bytree': 0.9472169144083887, 'colsample_bylevel': 0.8229900282416021, 'colsample_bynode': 0.8651683596345875, 'reg_alpha': 5.233615174329804, 'reg_lambda': 0.24949460267802823, 'max_cat_threshold': 34}. Best is trial 238 with value: 0.6763129944323751.\n"
     ]
    },
    {
     "name": "stdout",
     "output_type": "stream",
     "text": [
      "####################################################################################################\n",
      "OOF prediction score :  0.6672379975846378\n",
      "Mean 5-cv results : 0.6656085898348159 +- 0.0034681848752154834\n",
      "####################################################################################################\n"
     ]
    },
    {
     "name": "stderr",
     "output_type": "stream",
     "text": [
      "[I 2025-01-17 22:36:43,992] Trial 449 finished with value: 0.6745379128582861 and parameters: {'max_bin': 905, 'learning_rate': 0.10438740701191788, 'max_depth': 5, 'gamma': 0.007204871945968395, 'min_child_weight': 38.188120170091146, 'subsample': 0.8105408269753482, 'colsample_bytree': 0.941500926873312, 'colsample_bylevel': 0.8140867864583863, 'colsample_bynode': 0.8733433704936947, 'reg_alpha': 6.966801954428999, 'reg_lambda': 0.09296527628752956, 'max_cat_threshold': 7}. Best is trial 238 with value: 0.6763129944323751.\n"
     ]
    },
    {
     "name": "stdout",
     "output_type": "stream",
     "text": [
      "####################################################################################################\n",
      "OOF prediction score :  0.6745379128582861\n",
      "Mean 5-cv results : 0.6722455191218141 +- 0.002702810234285183\n",
      "####################################################################################################\n"
     ]
    },
    {
     "name": "stderr",
     "output_type": "stream",
     "text": [
      "[I 2025-01-17 22:36:52,832] Trial 450 finished with value: 0.6697930585933127 and parameters: {'max_bin': 1077, 'learning_rate': 0.1001244782354649, 'max_depth': 6, 'gamma': 0.9552540429139585, 'min_child_weight': 29.00152350732839, 'subsample': 0.8198248904627456, 'colsample_bytree': 0.8938524554710069, 'colsample_bylevel': 0.8186824257462341, 'colsample_bynode': 0.8870989095590943, 'reg_alpha': 4.011426147212204, 'reg_lambda': 0.12449841376658956, 'max_cat_threshold': 5}. Best is trial 238 with value: 0.6763129944323751.\n"
     ]
    },
    {
     "name": "stdout",
     "output_type": "stream",
     "text": [
      "####################################################################################################\n",
      "OOF prediction score :  0.6697930585933127\n",
      "Mean 5-cv results : 0.668600794014207 +- 0.0030713030199077365\n",
      "####################################################################################################\n"
     ]
    },
    {
     "name": "stderr",
     "output_type": "stream",
     "text": [
      "[I 2025-01-17 22:37:04,154] Trial 451 finished with value: 0.6735051667183946 and parameters: {'max_bin': 931, 'learning_rate': 0.10679823143767274, 'max_depth': 4, 'gamma': 0.3363680316952907, 'min_child_weight': 46.19958956734807, 'subsample': 0.8057744920039213, 'colsample_bytree': 0.9299859297880344, 'colsample_bylevel': 0.8250048158084871, 'colsample_bynode': 0.8813663444128186, 'reg_alpha': 2.8696989529704444, 'reg_lambda': 0.06626704549181565, 'max_cat_threshold': 8}. Best is trial 238 with value: 0.6763129944323751.\n"
     ]
    },
    {
     "name": "stdout",
     "output_type": "stream",
     "text": [
      "####################################################################################################\n",
      "OOF prediction score :  0.6735051667183946\n",
      "Mean 5-cv results : 0.6713059230296878 +- 0.003838819880019561\n",
      "####################################################################################################\n"
     ]
    },
    {
     "name": "stderr",
     "output_type": "stream",
     "text": [
      "[I 2025-01-17 22:37:17,421] Trial 452 finished with value: 0.6747662679282074 and parameters: {'max_bin': 2916, 'learning_rate': 0.1021280177258199, 'max_depth': 3, 'gamma': 0.18597206807928146, 'min_child_weight': 23.4764195089445, 'subsample': 0.9236939383237586, 'colsample_bytree': 0.8257511953378223, 'colsample_bylevel': 0.8046559473374179, 'colsample_bynode': 0.86898642032406, 'reg_alpha': 7.63937496943535, 'reg_lambda': 0.32748480661207363, 'max_cat_threshold': 6}. Best is trial 238 with value: 0.6763129944323751.\n"
     ]
    },
    {
     "name": "stdout",
     "output_type": "stream",
     "text": [
      "####################################################################################################\n",
      "OOF prediction score :  0.6747662679282074\n",
      "Mean 5-cv results : 0.6727682341097104 +- 0.003947740846840855\n",
      "####################################################################################################\n"
     ]
    },
    {
     "name": "stderr",
     "output_type": "stream",
     "text": [
      "[I 2025-01-17 22:37:23,966] Trial 453 finished with value: 0.6593347789001479 and parameters: {'max_bin': 1406, 'learning_rate': 0.10522644190364135, 'max_depth': 5, 'gamma': 3.417813409139005, 'min_child_weight': 18.620526689771566, 'subsample': 0.8109202210852476, 'colsample_bytree': 0.9548049015614182, 'colsample_bylevel': 0.8124708345460725, 'colsample_bynode': 0.8639576202466519, 'reg_alpha': 5.48536951218961, 'reg_lambda': 0.45445363292129054, 'max_cat_threshold': 26}. Best is trial 238 with value: 0.6763129944323751.\n"
     ]
    },
    {
     "name": "stdout",
     "output_type": "stream",
     "text": [
      "####################################################################################################\n",
      "OOF prediction score :  0.6593347789001479\n",
      "Mean 5-cv results : 0.6580994442790828 +- 0.0029796064851792124\n",
      "####################################################################################################\n"
     ]
    },
    {
     "name": "stderr",
     "output_type": "stream",
     "text": [
      "[I 2025-01-17 22:37:32,015] Trial 454 finished with value: 0.6702830323881375 and parameters: {'max_bin': 1566, 'learning_rate': 0.1971209547481615, 'max_depth': 7, 'gamma': 0.006495740061800445, 'min_child_weight': 33.820520946276645, 'subsample': 0.8070117583892095, 'colsample_bytree': 0.9514392204439831, 'colsample_bylevel': 0.8165528443437977, 'colsample_bynode': 0.8554418711745148, 'reg_alpha': 9.94738032906887, 'reg_lambda': 0.22462370157492928, 'max_cat_threshold': 4}. Best is trial 238 with value: 0.6763129944323751.\n"
     ]
    },
    {
     "name": "stdout",
     "output_type": "stream",
     "text": [
      "####################################################################################################\n",
      "OOF prediction score :  0.6702830323881375\n",
      "Mean 5-cv results : 0.6684500305233725 +- 0.004909777965599892\n",
      "####################################################################################################\n"
     ]
    },
    {
     "name": "stderr",
     "output_type": "stream",
     "text": [
      "[I 2025-01-17 22:37:44,490] Trial 455 finished with value: 0.6733364124845321 and parameters: {'max_bin': 2497, 'learning_rate': 0.10000938642951825, 'max_depth': 3, 'gamma': 0.5211013194323479, 'min_child_weight': 39.68154884188981, 'subsample': 0.816283940097475, 'colsample_bytree': 0.9050499164919934, 'colsample_bylevel': 0.9483093915565646, 'colsample_bynode': 0.8709819161120057, 'reg_alpha': 4.727731309966283, 'reg_lambda': 0.8366488264581142, 'max_cat_threshold': 9}. Best is trial 238 with value: 0.6763129944323751.\n"
     ]
    },
    {
     "name": "stdout",
     "output_type": "stream",
     "text": [
      "####################################################################################################\n",
      "OOF prediction score :  0.6733364124845321\n",
      "Mean 5-cv results : 0.6716348701943694 +- 0.0038464097896603973\n",
      "####################################################################################################\n"
     ]
    },
    {
     "name": "stderr",
     "output_type": "stream",
     "text": [
      "[I 2025-01-17 22:37:51,892] Trial 456 finished with value: 0.6713528823885153 and parameters: {'max_bin': 2024, 'learning_rate': 0.18284691825872612, 'max_depth': 4, 'gamma': 0.3214520519968748, 'min_child_weight': 29.468233945223613, 'subsample': 0.8039544274550343, 'colsample_bytree': 0.884035376258007, 'colsample_bylevel': 0.8212048251806657, 'colsample_bynode': 0.873887349672118, 'reg_alpha': 0.47204098812453743, 'reg_lambda': 0.16620371294368583, 'max_cat_threshold': 5}. Best is trial 238 with value: 0.6763129944323751.\n"
     ]
    },
    {
     "name": "stdout",
     "output_type": "stream",
     "text": [
      "####################################################################################################\n",
      "OOF prediction score :  0.6713528823885153\n",
      "Mean 5-cv results : 0.669311356960058 +- 0.005698701808264555\n",
      "####################################################################################################\n"
     ]
    },
    {
     "name": "stderr",
     "output_type": "stream",
     "text": [
      "[I 2025-01-17 22:38:00,051] Trial 457 finished with value: 0.6730935369635547 and parameters: {'max_bin': 855, 'learning_rate': 0.10968871132514485, 'max_depth': 5, 'gamma': 0.7188336524803249, 'min_child_weight': 50.692257643626384, 'subsample': 0.8227035001658165, 'colsample_bytree': 0.9909092005910829, 'colsample_bylevel': 0.9656278710222241, 'colsample_bynode': 0.8771170358372525, 'reg_alpha': 2.045338910139381, 'reg_lambda': 0.32209737589403314, 'max_cat_threshold': 7}. Best is trial 238 with value: 0.6763129944323751.\n"
     ]
    },
    {
     "name": "stdout",
     "output_type": "stream",
     "text": [
      "####################################################################################################\n",
      "OOF prediction score :  0.6730935369635547\n",
      "Mean 5-cv results : 0.6711539933692675 +- 0.0037748931944197326\n",
      "####################################################################################################\n"
     ]
    },
    {
     "name": "stderr",
     "output_type": "stream",
     "text": [
      "[I 2025-01-17 22:38:12,875] Trial 458 finished with value: 0.6718166864981641 and parameters: {'max_bin': 1204, 'learning_rate': 0.10743156058278257, 'max_depth': 19, 'gamma': 0.1790967591713122, 'min_child_weight': 26.085737052130305, 'subsample': 0.8131499082436083, 'colsample_bytree': 0.8303670651073614, 'colsample_bylevel': 0.9566044196926017, 'colsample_bynode': 0.8599665184513671, 'reg_alpha': 7.321510136305109, 'reg_lambda': 0.09922151336049204, 'max_cat_threshold': 6}. Best is trial 238 with value: 0.6763129944323751.\n"
     ]
    },
    {
     "name": "stdout",
     "output_type": "stream",
     "text": [
      "####################################################################################################\n",
      "OOF prediction score :  0.6718166864981641\n",
      "Mean 5-cv results : 0.6697744295144235 +- 0.0034870142947281526\n",
      "####################################################################################################\n"
     ]
    },
    {
     "name": "stderr",
     "output_type": "stream",
     "text": [
      "[I 2025-01-17 22:38:23,764] Trial 459 finished with value: 0.6742690200727467 and parameters: {'max_bin': 1033, 'learning_rate': 0.10385650999598443, 'max_depth': 3, 'gamma': 0.4748731544861048, 'min_child_weight': 34.42391491715044, 'subsample': 0.8075417553249088, 'colsample_bytree': 0.8915412287134785, 'colsample_bylevel': 0.8292163265691166, 'colsample_bynode': 0.8660838091364012, 'reg_alpha': 3.4602288417410785, 'reg_lambda': 0.646334303383704, 'max_cat_threshold': 12}. Best is trial 238 with value: 0.6763129944323751.\n"
     ]
    },
    {
     "name": "stdout",
     "output_type": "stream",
     "text": [
      "####################################################################################################\n",
      "OOF prediction score :  0.6742690200727467\n",
      "Mean 5-cv results : 0.6725611309712705 +- 0.005123256612360448\n",
      "####################################################################################################\n"
     ]
    },
    {
     "name": "stderr",
     "output_type": "stream",
     "text": [
      "[I 2025-01-17 22:38:35,474] Trial 460 finished with value: 0.6754416113113095 and parameters: {'max_bin': 3454, 'learning_rate': 0.11179762713555035, 'max_depth': 4, 'gamma': 0.17525376549413169, 'min_child_weight': 41.731479447347134, 'subsample': 0.8855630336834439, 'colsample_bytree': 0.9374182356135997, 'colsample_bylevel': 0.8080902444094489, 'colsample_bynode': 0.8829700358002146, 'reg_alpha': 5.740741378159872, 'reg_lambda': 0.1571650879343806, 'max_cat_threshold': 9}. Best is trial 238 with value: 0.6763129944323751.\n"
     ]
    },
    {
     "name": "stdout",
     "output_type": "stream",
     "text": [
      "####################################################################################################\n",
      "OOF prediction score :  0.6754416113113095\n",
      "Mean 5-cv results : 0.6733180258071079 +- 0.004361548658658814\n",
      "####################################################################################################\n"
     ]
    },
    {
     "name": "stderr",
     "output_type": "stream",
     "text": [
      "[I 2025-01-17 22:38:45,480] Trial 461 finished with value: 0.672074058915635 and parameters: {'max_bin': 3924, 'learning_rate': 0.15735144106673318, 'max_depth': 6, 'gamma': 0.31345243818101043, 'min_child_weight': 21.972059477767093, 'subsample': 0.8824268168381577, 'colsample_bytree': 0.9264942976869464, 'colsample_bylevel': 0.8077905323115668, 'colsample_bynode': 0.8877788418128304, 'reg_alpha': 4.583511864848424, 'reg_lambda': 0.147750617786122, 'max_cat_threshold': 8}. Best is trial 238 with value: 0.6763129944323751.\n"
     ]
    },
    {
     "name": "stdout",
     "output_type": "stream",
     "text": [
      "####################################################################################################\n",
      "OOF prediction score :  0.672074058915635\n",
      "Mean 5-cv results : 0.669535848471377 +- 0.003155211248569369\n",
      "####################################################################################################\n"
     ]
    },
    {
     "name": "stderr",
     "output_type": "stream",
     "text": [
      "[I 2025-01-17 22:38:53,350] Trial 462 finished with value: 0.6716175762198889 and parameters: {'max_bin': 3097, 'learning_rate': 0.11306339422559876, 'max_depth': 5, 'gamma': 0.6648588083624278, 'min_child_weight': 30.814328947703565, 'subsample': 0.9292244639794961, 'colsample_bytree': 0.9364547258862814, 'colsample_bylevel': 0.8034498961573768, 'colsample_bynode': 0.8850292058661813, 'reg_alpha': 1.2543770082989443, 'reg_lambda': 0.05482404661485277, 'max_cat_threshold': 9}. Best is trial 238 with value: 0.6763129944323751.\n"
     ]
    },
    {
     "name": "stdout",
     "output_type": "stream",
     "text": [
      "####################################################################################################\n",
      "OOF prediction score :  0.6716175762198889\n",
      "Mean 5-cv results : 0.6699070659074738 +- 0.0034955202468920053\n",
      "####################################################################################################\n"
     ]
    },
    {
     "name": "stderr",
     "output_type": "stream",
     "text": [
      "[I 2025-01-17 22:39:04,260] Trial 463 finished with value: 0.6740028915870918 and parameters: {'max_bin': 4467, 'learning_rate': 0.10198135875332424, 'max_depth': 5, 'gamma': 0.44336592019916915, 'min_child_weight': 47.236448780894975, 'subsample': 0.8381282326845237, 'colsample_bytree': 0.9326607411566048, 'colsample_bylevel': 0.8098244730778895, 'colsample_bynode': 0.8944330326498118, 'reg_alpha': 2.54055791178485, 'reg_lambda': 0.12450857073476156, 'max_cat_threshold': 10}. Best is trial 238 with value: 0.6763129944323751.\n"
     ]
    },
    {
     "name": "stdout",
     "output_type": "stream",
     "text": [
      "####################################################################################################\n",
      "OOF prediction score :  0.6740028915870918\n",
      "Mean 5-cv results : 0.671719392521364 +- 0.0041250956676012526\n",
      "####################################################################################################\n"
     ]
    },
    {
     "name": "stderr",
     "output_type": "stream",
     "text": [
      "[I 2025-01-17 22:39:16,796] Trial 464 finished with value: 0.6671511907109567 and parameters: {'max_bin': 3217, 'learning_rate': 0.10406102553677195, 'max_depth': 7, 'gamma': 0.19892025834763183, 'min_child_weight': 0.5603114395627514, 'subsample': 0.8881694793498772, 'colsample_bytree': 0.9405829950787369, 'colsample_bylevel': 0.8029363643593559, 'colsample_bynode': 0.882717562774413, 'reg_alpha': 0.13679435353747918, 'reg_lambda': 0.08271780211541957, 'max_cat_threshold': 7}. Best is trial 238 with value: 0.6763129944323751.\n"
     ]
    },
    {
     "name": "stdout",
     "output_type": "stream",
     "text": [
      "####################################################################################################\n",
      "OOF prediction score :  0.6671511907109567\n",
      "Mean 5-cv results : 0.6649837764757341 +- 0.004467350044517177\n",
      "####################################################################################################\n"
     ]
    },
    {
     "name": "stderr",
     "output_type": "stream",
     "text": [
      "[I 2025-01-17 22:39:26,479] Trial 465 finished with value: 0.6740790331474471 and parameters: {'max_bin': 3428, 'learning_rate': 0.11201268330227217, 'max_depth': 4, 'gamma': 0.3578817922035047, 'min_child_weight': 25.599160596575732, 'subsample': 0.8514706710767647, 'colsample_bytree': 0.937904501060173, 'colsample_bylevel': 0.8108884426749023, 'colsample_bynode': 0.8903549194943852, 'reg_alpha': 0.00039914941131695484, 'reg_lambda': 0.18179314551474896, 'max_cat_threshold': 69}. Best is trial 238 with value: 0.6763129944323751.\n"
     ]
    },
    {
     "name": "stdout",
     "output_type": "stream",
     "text": [
      "####################################################################################################\n",
      "OOF prediction score :  0.6740790331474471\n",
      "Mean 5-cv results : 0.6715215163786763 +- 0.00429224775138326\n",
      "####################################################################################################\n"
     ]
    },
    {
     "name": "stderr",
     "output_type": "stream",
     "text": [
      "[I 2025-01-17 22:39:39,483] Trial 466 finished with value: 0.6728160763640421 and parameters: {'max_bin': 3584, 'learning_rate': 0.10643543768946254, 'max_depth': 6, 'gamma': 0.003162752640121602, 'min_child_weight': 19.085104488996578, 'subsample': 0.8963862779455275, 'colsample_bytree': 0.9342623685301893, 'colsample_bylevel': 0.8061144325497092, 'colsample_bynode': 0.8806294059727697, 'reg_alpha': 5.684112645545299, 'reg_lambda': 0.002656026072405756, 'max_cat_threshold': 6}. Best is trial 238 with value: 0.6763129944323751.\n"
     ]
    },
    {
     "name": "stdout",
     "output_type": "stream",
     "text": [
      "####################################################################################################\n",
      "OOF prediction score :  0.6728160763640421\n",
      "Mean 5-cv results : 0.6704817578533242 +- 0.003875970100967629\n",
      "####################################################################################################\n"
     ]
    },
    {
     "name": "stderr",
     "output_type": "stream",
     "text": [
      "[I 2025-01-17 22:39:52,855] Trial 467 finished with value: 0.6747650200679838 and parameters: {'max_bin': 2782, 'learning_rate': 0.1019151590059379, 'max_depth': 4, 'gamma': 0.20773788271674895, 'min_child_weight': 38.28627673951548, 'subsample': 0.8678494317598275, 'colsample_bytree': 0.9434832589860773, 'colsample_bylevel': 0.8140731293773021, 'colsample_bynode': 0.8775122611295074, 'reg_alpha': 3.7539815591096377, 'reg_lambda': 0.24043979963970893, 'max_cat_threshold': 5}. Best is trial 238 with value: 0.6763129944323751.\n"
     ]
    },
    {
     "name": "stdout",
     "output_type": "stream",
     "text": [
      "####################################################################################################\n",
      "OOF prediction score :  0.6747650200679838\n",
      "Mean 5-cv results : 0.6722873341312161 +- 0.004740320230643973\n",
      "####################################################################################################\n"
     ]
    },
    {
     "name": "stderr",
     "output_type": "stream",
     "text": [
      "[I 2025-01-17 22:40:01,356] Trial 468 finished with value: 0.6725113299620527 and parameters: {'max_bin': 2496, 'learning_rate': 0.1044118661868324, 'max_depth': 5, 'gamma': 0.5531711687026728, 'min_child_weight': 44.290300102734385, 'subsample': 0.8904962302632033, 'colsample_bytree': 0.8856642092894198, 'colsample_bylevel': 0.800048038224437, 'colsample_bynode': 0.8172131795758972, 'reg_alpha': 0.001929392023451302, 'reg_lambda': 0.11719889359451749, 'max_cat_threshold': 4}. Best is trial 238 with value: 0.6763129944323751.\n"
     ]
    },
    {
     "name": "stdout",
     "output_type": "stream",
     "text": [
      "####################################################################################################\n",
      "OOF prediction score :  0.6725113299620527\n",
      "Mean 5-cv results : 0.6702741879552528 +- 0.0038946488421320426\n",
      "####################################################################################################\n"
     ]
    },
    {
     "name": "stderr",
     "output_type": "stream",
     "text": [
      "[I 2025-01-17 22:40:09,542] Trial 469 finished with value: 0.6680232863209506 and parameters: {'max_bin': 2929, 'learning_rate': 0.10793275615663143, 'max_depth': 4, 'gamma': 0.8181148284160309, 'min_child_weight': 31.03241708790755, 'subsample': 0.9185505399966795, 'colsample_bytree': 0.9451217565421969, 'colsample_bylevel': 0.8080462371504913, 'colsample_bynode': 0.8854352102420004, 'reg_alpha': 7.702038019229088, 'reg_lambda': 0.20391198594350834, 'max_cat_threshold': 8}. Best is trial 238 with value: 0.6763129944323751.\n"
     ]
    },
    {
     "name": "stdout",
     "output_type": "stream",
     "text": [
      "####################################################################################################\n",
      "OOF prediction score :  0.6680232863209506\n",
      "Mean 5-cv results : 0.6667254579404018 +- 0.0033748817403299967\n",
      "####################################################################################################\n"
     ]
    },
    {
     "name": "stderr",
     "output_type": "stream",
     "text": [
      "[I 2025-01-17 22:40:21,840] Trial 470 finished with value: 0.6744743884295105 and parameters: {'max_bin': 957, 'learning_rate': 0.10227934794998167, 'max_depth': 3, 'gamma': 0.18071907309910223, 'min_child_weight': 52.20108068845305, 'subsample': 0.9118982575663436, 'colsample_bytree': 0.9503958825567158, 'colsample_bylevel': 0.816182037844162, 'colsample_bynode': 0.8800491975122754, 'reg_alpha': 5.3910838297841135, 'reg_lambda': 0.06416734486165995, 'max_cat_threshold': 10}. Best is trial 238 with value: 0.6763129944323751.\n"
     ]
    },
    {
     "name": "stdout",
     "output_type": "stream",
     "text": [
      "####################################################################################################\n",
      "OOF prediction score :  0.6744743884295105\n",
      "Mean 5-cv results : 0.6726932439450295 +- 0.003857092710471766\n",
      "####################################################################################################\n"
     ]
    },
    {
     "name": "stderr",
     "output_type": "stream",
     "text": [
      "[I 2025-01-17 22:40:31,800] Trial 471 finished with value: 0.6718192038646432 and parameters: {'max_bin': 3495, 'learning_rate': 0.10564794770595934, 'max_depth': 6, 'gamma': 0.398260044591804, 'min_child_weight': 28.3227562142012, 'subsample': 0.933141783535084, 'colsample_bytree': 0.8970366983165097, 'colsample_bylevel': 0.8117273642659943, 'colsample_bynode': 0.8953922693695678, 'reg_alpha': 9.643210980682346, 'reg_lambda': 0.1477940223853555, 'max_cat_threshold': 6}. Best is trial 238 with value: 0.6763129944323751.\n"
     ]
    },
    {
     "name": "stdout",
     "output_type": "stream",
     "text": [
      "####################################################################################################\n",
      "OOF prediction score :  0.6718192038646432\n",
      "Mean 5-cv results : 0.6702078209383319 +- 0.003929365865865373\n",
      "####################################################################################################\n"
     ]
    },
    {
     "name": "stderr",
     "output_type": "stream",
     "text": [
      "[I 2025-01-17 22:40:42,071] Trial 472 finished with value: 0.6754849811098201 and parameters: {'max_bin': 852, 'learning_rate': 0.11005561350697181, 'max_depth': 4, 'gamma': 0.0071760692599647236, 'min_child_weight': 35.38096794934219, 'subsample': 0.8040843848453285, 'colsample_bytree': 0.9584744092230364, 'colsample_bylevel': 0.8058485871933488, 'colsample_bynode': 0.8752466317689056, 'reg_alpha': 3.2502555684386047, 'reg_lambda': 0.2730358983932586, 'max_cat_threshold': 3}. Best is trial 238 with value: 0.6763129944323751.\n"
     ]
    },
    {
     "name": "stdout",
     "output_type": "stream",
     "text": [
      "####################################################################################################\n",
      "OOF prediction score :  0.6754849811098201\n",
      "Mean 5-cv results : 0.6736384666254411 +- 0.0036602545969931233\n",
      "####################################################################################################\n"
     ]
    },
    {
     "name": "stderr",
     "output_type": "stream",
     "text": [
      "[I 2025-01-17 22:40:53,025] Trial 473 finished with value: 0.6694618456957425 and parameters: {'max_bin': 885, 'learning_rate': 0.11216122449990175, 'max_depth': 8, 'gamma': 0.20064423085946165, 'min_child_weight': 23.4712614471784, 'subsample': 0.8032269378274945, 'colsample_bytree': 0.9572674711399547, 'colsample_bylevel': 0.8036693743864879, 'colsample_bynode': 0.8755665538689406, 'reg_alpha': 2.8654518117779415, 'reg_lambda': 0.2902093793233711, 'max_cat_threshold': 3}. Best is trial 238 with value: 0.6763129944323751.\n"
     ]
    },
    {
     "name": "stdout",
     "output_type": "stream",
     "text": [
      "####################################################################################################\n",
      "OOF prediction score :  0.6694618456957425\n",
      "Mean 5-cv results : 0.6673801115465471 +- 0.0037642622462425797\n",
      "####################################################################################################\n"
     ]
    },
    {
     "name": "stderr",
     "output_type": "stream",
     "text": [
      "[I 2025-01-17 22:40:59,450] Trial 474 finished with value: 0.6614421757209177 and parameters: {'max_bin': 830, 'learning_rate': 0.11031754286651449, 'max_depth': 50, 'gamma': 2.9839100538219983, 'min_child_weight': 32.241441294016994, 'subsample': 0.8060236033161302, 'colsample_bytree': 0.9602936426288612, 'colsample_bylevel': 0.8070546790337175, 'colsample_bynode': 0.8736695753676778, 'reg_alpha': 1.8945514050725545, 'reg_lambda': 0.24443175823220992, 'max_cat_threshold': 3}. Best is trial 238 with value: 0.6763129944323751.\n"
     ]
    },
    {
     "name": "stdout",
     "output_type": "stream",
     "text": [
      "####################################################################################################\n",
      "OOF prediction score :  0.6614421757209177\n",
      "Mean 5-cv results : 0.6596653779258287 +- 0.003972460366131463\n",
      "####################################################################################################\n"
     ]
    },
    {
     "name": "stderr",
     "output_type": "stream",
     "text": [
      "[I 2025-01-17 22:41:09,485] Trial 475 finished with value: 0.6735751359420822 and parameters: {'max_bin': 976, 'learning_rate': 0.10002972876366073, 'max_depth': 5, 'gamma': 0.007227652498997445, 'min_child_weight': 15.056642646550904, 'subsample': 0.8010414939112721, 'colsample_bytree': 0.9603605498622555, 'colsample_bylevel': 0.8079386998270895, 'colsample_bynode': 0.8771950756445949, 'reg_alpha': 3.7095705543061492, 'reg_lambda': 0.3258859293487272, 'max_cat_threshold': 4}. Best is trial 238 with value: 0.6763129944323751.\n"
     ]
    },
    {
     "name": "stdout",
     "output_type": "stream",
     "text": [
      "####################################################################################################\n",
      "OOF prediction score :  0.6735751359420822\n",
      "Mean 5-cv results : 0.6709750032937862 +- 0.0042292027965349956\n",
      "####################################################################################################\n"
     ]
    },
    {
     "name": "stderr",
     "output_type": "stream",
     "text": [
      "[I 2025-01-17 22:41:19,126] Trial 476 finished with value: 0.6628055908169764 and parameters: {'max_bin': 821, 'learning_rate': 0.11352045090094928, 'max_depth': 35, 'gamma': 0.5291076714174037, 'min_child_weight': 27.14965537070859, 'subsample': 0.8003346847251321, 'colsample_bytree': 0.9560728422998274, 'colsample_bylevel': 0.8028480732382768, 'colsample_bynode': 0.8473533692083468, 'reg_alpha': 0.004920729483979186, 'reg_lambda': 0.2126129695026601, 'max_cat_threshold': 3}. Best is trial 238 with value: 0.6763129944323751.\n"
     ]
    },
    {
     "name": "stdout",
     "output_type": "stream",
     "text": [
      "####################################################################################################\n",
      "OOF prediction score :  0.6628055908169764\n",
      "Mean 5-cv results : 0.6603505999154675 +- 0.0025376941393997886\n",
      "####################################################################################################\n"
     ]
    },
    {
     "name": "stderr",
     "output_type": "stream",
     "text": [
      "[I 2025-01-17 22:41:28,635] Trial 477 finished with value: 0.6739388887562211 and parameters: {'max_bin': 1768, 'learning_rate': 0.141273549119507, 'max_depth': 4, 'gamma': 0.3016194139961888, 'min_child_weight': 21.028100285594306, 'subsample': 0.8770625714012362, 'colsample_bytree': 0.9480118575897161, 'colsample_bylevel': 0.9384346757059311, 'colsample_bynode': 0.8723151664125974, 'reg_alpha': 5.9894453546727595, 'reg_lambda': 0.1602163600117972, 'max_cat_threshold': 24}. Best is trial 238 with value: 0.6763129944323751.\n"
     ]
    },
    {
     "name": "stdout",
     "output_type": "stream",
     "text": [
      "####################################################################################################\n",
      "OOF prediction score :  0.6739388887562211\n",
      "Mean 5-cv results : 0.6723461598560079 +- 0.004284252456178593\n",
      "####################################################################################################\n"
     ]
    },
    {
     "name": "stderr",
     "output_type": "stream",
     "text": [
      "[I 2025-01-17 22:41:38,543] Trial 478 finished with value: 0.6736857951334038 and parameters: {'max_bin': 2200, 'learning_rate': 0.13644291018375213, 'max_depth': 6, 'gamma': 0.18328581386127563, 'min_child_weight': 33.299730122095774, 'subsample': 0.8063663133444318, 'colsample_bytree': 0.9518221915293653, 'colsample_bylevel': 0.8109323803399625, 'colsample_bynode': 0.8622204360688825, 'reg_alpha': 7.8008537996846234, 'reg_lambda': 0.4564762212642098, 'max_cat_threshold': 5}. Best is trial 238 with value: 0.6763129944323751.\n"
     ]
    },
    {
     "name": "stdout",
     "output_type": "stream",
     "text": [
      "####################################################################################################\n",
      "OOF prediction score :  0.6736857951334038\n",
      "Mean 5-cv results : 0.6717964914516718 +- 0.004722210530298495\n",
      "####################################################################################################\n"
     ]
    },
    {
     "name": "stderr",
     "output_type": "stream",
     "text": [
      "[I 2025-01-17 22:41:49,810] Trial 479 finished with value: 0.6742933814257457 and parameters: {'max_bin': 1130, 'learning_rate': 0.10901131981037358, 'max_depth': 5, 'gamma': 0.36896735158554433, 'min_child_weight': 37.392791615169976, 'subsample': 0.8124960194888436, 'colsample_bytree': 0.96706354763561, 'colsample_bylevel': 0.8048568970061946, 'colsample_bynode': 0.8699889356948042, 'reg_alpha': 2.8498191872179497, 'reg_lambda': 1.1286642435998553, 'max_cat_threshold': 9}. Best is trial 238 with value: 0.6763129944323751.\n"
     ]
    },
    {
     "name": "stdout",
     "output_type": "stream",
     "text": [
      "####################################################################################################\n",
      "OOF prediction score :  0.6742933814257457\n",
      "Mean 5-cv results : 0.6722896958785491 +- 0.004330801320083817\n",
      "####################################################################################################\n"
     ]
    },
    {
     "name": "stderr",
     "output_type": "stream",
     "text": [
      "[I 2025-01-17 22:41:55,992] Trial 480 finished with value: 0.6697443466337213 and parameters: {'max_bin': 870, 'learning_rate': 0.25260251939938294, 'max_depth': 4, 'gamma': 0.6840873539219675, 'min_child_weight': 25.423654958059515, 'subsample': 0.9016258799036385, 'colsample_bytree': 0.9394852270238448, 'colsample_bylevel': 0.8148639329985415, 'colsample_bynode': 0.8345918511503144, 'reg_alpha': 4.381036769076133, 'reg_lambda': 0.3434084814817805, 'max_cat_threshold': 7}. Best is trial 238 with value: 0.6763129944323751.\n"
     ]
    },
    {
     "name": "stdout",
     "output_type": "stream",
     "text": [
      "####################################################################################################\n",
      "OOF prediction score :  0.6697443466337213\n",
      "Mean 5-cv results : 0.6680039234445734 +- 0.002835384558255618\n",
      "####################################################################################################\n"
     ]
    },
    {
     "name": "stderr",
     "output_type": "stream",
     "text": [
      "[I 2025-01-17 22:42:06,180] Trial 481 finished with value: 0.6714838524648032 and parameters: {'max_bin': 993, 'learning_rate': 0.11050464006505041, 'max_depth': 7, 'gamma': 0.005570822395090547, 'min_child_weight': 1.1725724199793863, 'subsample': 0.8092561704831276, 'colsample_bytree': 0.8817752827094956, 'colsample_bylevel': 0.8104374627959458, 'colsample_bynode': 0.8559652526202876, 'reg_alpha': 6.263741371672944, 'reg_lambda': 0.23422220678374547, 'max_cat_threshold': 11}. Best is trial 238 with value: 0.6763129944323751.\n"
     ]
    },
    {
     "name": "stdout",
     "output_type": "stream",
     "text": [
      "####################################################################################################\n",
      "OOF prediction score :  0.6714838524648032\n",
      "Mean 5-cv results : 0.669793978468912 +- 0.0034958916057943198\n",
      "####################################################################################################\n"
     ]
    },
    {
     "name": "stderr",
     "output_type": "stream",
     "text": [
      "[I 2025-01-17 22:42:17,926] Trial 482 finished with value: 0.6743635956026047 and parameters: {'max_bin': 758, 'learning_rate': 0.10400001461616713, 'max_depth': 4, 'gamma': 0.18314993824090264, 'min_child_weight': 34.845324311997295, 'subsample': 0.8179655488828254, 'colsample_bytree': 0.9458103655125696, 'colsample_bylevel': 0.806149662567756, 'colsample_bynode': 0.8820672122723382, 'reg_alpha': 9.840569724807676, 'reg_lambda': 0.16078234034656302, 'max_cat_threshold': 2}. Best is trial 238 with value: 0.6763129944323751.\n"
     ]
    },
    {
     "name": "stdout",
     "output_type": "stream",
     "text": [
      "####################################################################################################\n",
      "OOF prediction score :  0.6743635956026047\n",
      "Mean 5-cv results : 0.671974322082877 +- 0.004319154927315939\n",
      "####################################################################################################\n"
     ]
    },
    {
     "name": "stderr",
     "output_type": "stream",
     "text": [
      "[I 2025-01-17 22:42:30,361] Trial 483 finished with value: 0.6735466197044888 and parameters: {'max_bin': 2683, 'learning_rate': 0.10817298941243317, 'max_depth': 3, 'gamma': 0.48277498838680505, 'min_child_weight': 28.949100585017238, 'subsample': 0.8062555649719151, 'colsample_bytree': 0.8894699619976083, 'colsample_bylevel': 0.8176339322738077, 'colsample_bynode': 0.8655722781318443, 'reg_alpha': 4.232369704653536, 'reg_lambda': 2.4547838855102006e-06, 'max_cat_threshold': 4}. Best is trial 238 with value: 0.6763129944323751.\n"
     ]
    },
    {
     "name": "stdout",
     "output_type": "stream",
     "text": [
      "####################################################################################################\n",
      "OOF prediction score :  0.6735466197044888\n",
      "Mean 5-cv results : 0.6715013979866659 +- 0.0035632836161494964\n",
      "####################################################################################################\n"
     ]
    },
    {
     "name": "stderr",
     "output_type": "stream",
     "text": [
      "[I 2025-01-17 22:42:39,468] Trial 484 finished with value: 0.6737378642811265 and parameters: {'max_bin': 1087, 'learning_rate': 0.10004580129329463, 'max_depth': 5, 'gamma': 0.00013455348175801405, 'min_child_weight': 45.22684754014757, 'subsample': 0.8142730786347951, 'colsample_bytree': 0.9310580972907192, 'colsample_bylevel': 0.8128736216135125, 'colsample_bynode': 0.8759793750465461, 'reg_alpha': 1.9887794999732857, 'reg_lambda': 0.009305978871462584, 'max_cat_threshold': 7}. Best is trial 238 with value: 0.6763129944323751.\n"
     ]
    },
    {
     "name": "stdout",
     "output_type": "stream",
     "text": [
      "####################################################################################################\n",
      "OOF prediction score :  0.6737378642811265\n",
      "Mean 5-cv results : 0.6719208767189244 +- 0.002831552777004322\n",
      "####################################################################################################\n"
     ]
    },
    {
     "name": "stderr",
     "output_type": "stream",
     "text": [
      "[I 2025-01-17 22:42:45,644] Trial 485 finished with value: 0.6557318829197678 and parameters: {'max_bin': 924, 'learning_rate': 0.10219655647417324, 'max_depth': 4, 'gamma': 4.62293052117159, 'min_child_weight': 29.557413952007675, 'subsample': 0.8036386218721583, 'colsample_bytree': 0.955237643214869, 'colsample_bylevel': 0.8005772489167569, 'colsample_bynode': 0.8506559140175459, 'reg_alpha': 7.324542653229349, 'reg_lambda': 0.5800736298294955, 'max_cat_threshold': 6}. Best is trial 238 with value: 0.6763129944323751.\n"
     ]
    },
    {
     "name": "stdout",
     "output_type": "stream",
     "text": [
      "####################################################################################################\n",
      "OOF prediction score :  0.6557318829197678\n",
      "Mean 5-cv results : 0.6544048774713763 +- 0.004295394092690114\n",
      "####################################################################################################\n"
     ]
    },
    {
     "name": "stderr",
     "output_type": "stream",
     "text": [
      "[I 2025-01-17 22:42:53,299] Trial 486 finished with value: 0.6581552876330742 and parameters: {'max_bin': 3901, 'learning_rate': 0.10646252635389727, 'max_depth': 6, 'gamma': 4.108024740111942, 'min_child_weight': 23.274056248648137, 'subsample': 0.9249720707290472, 'colsample_bytree': 0.958929477004214, 'colsample_bylevel': 0.8069942862549103, 'colsample_bynode': 0.8701895892116919, 'reg_alpha': 3.250397000969487, 'reg_lambda': 0.00014186343140806107, 'max_cat_threshold': 8}. Best is trial 238 with value: 0.6763129944323751.\n"
     ]
    },
    {
     "name": "stdout",
     "output_type": "stream",
     "text": [
      "####################################################################################################\n",
      "OOF prediction score :  0.6581552876330742\n",
      "Mean 5-cv results : 0.6568354344389338 +- 0.003451706988701549\n",
      "####################################################################################################\n"
     ]
    },
    {
     "name": "stderr",
     "output_type": "stream",
     "text": [
      "[I 2025-01-17 22:42:59,466] Trial 487 finished with value: 0.6550355906878634 and parameters: {'max_bin': 2280, 'learning_rate': 0.10412364798670312, 'max_depth': 3, 'gamma': 5.1623877916015495, 'min_child_weight': 40.80990244985466, 'subsample': 0.8100585699408491, 'colsample_bytree': 0.9237377481353757, 'colsample_bylevel': 0.8138937818260661, 'colsample_bynode': 0.8790263407639051, 'reg_alpha': 5.488509940963675, 'reg_lambda': 0.11635417670183433, 'max_cat_threshold': 5}. Best is trial 238 with value: 0.6763129944323751.\n"
     ]
    },
    {
     "name": "stdout",
     "output_type": "stream",
     "text": [
      "####################################################################################################\n",
      "OOF prediction score :  0.6550355906878634\n",
      "Mean 5-cv results : 0.6539817733892578 +- 0.004824013388690159\n",
      "####################################################################################################\n"
     ]
    },
    {
     "name": "stderr",
     "output_type": "stream",
     "text": [
      "[I 2025-01-17 22:43:10,160] Trial 488 finished with value: 0.6718584604678506 and parameters: {'max_bin': 1985, 'learning_rate': 0.11297610107537562, 'max_depth': 26, 'gamma': 0.31976311070780844, 'min_child_weight': 35.266606584611104, 'subsample': 0.8703862973787122, 'colsample_bytree': 0.9421001339398699, 'colsample_bylevel': 0.8092642087417363, 'colsample_bynode': 0.8611459571734958, 'reg_alpha': 9.981560467921318, 'reg_lambda': 0.3625591778435571, 'max_cat_threshold': 122}. Best is trial 238 with value: 0.6763129944323751.\n"
     ]
    },
    {
     "name": "stdout",
     "output_type": "stream",
     "text": [
      "####################################################################################################\n",
      "OOF prediction score :  0.6718584604678506\n",
      "Mean 5-cv results : 0.6697744308337326 +- 0.004665322463725621\n",
      "####################################################################################################\n"
     ]
    },
    {
     "name": "stderr",
     "output_type": "stream",
     "text": [
      "[I 2025-01-17 22:43:20,101] Trial 489 finished with value: 0.6747333105274456 and parameters: {'max_bin': 827, 'learning_rate': 0.10786656569510798, 'max_depth': 5, 'gamma': 0.17566268333317542, 'min_child_weight': 20.410859825383703, 'subsample': 0.804740376959764, 'colsample_bytree': 0.8879264409422828, 'colsample_bylevel': 0.8209936356123009, 'colsample_bynode': 0.8660389614945488, 'reg_alpha': 4.827708948662327, 'reg_lambda': 0.20448691305546007, 'max_cat_threshold': 10}. Best is trial 238 with value: 0.6763129944323751.\n"
     ]
    },
    {
     "name": "stdout",
     "output_type": "stream",
     "text": [
      "####################################################################################################\n",
      "OOF prediction score :  0.6747333105274456\n",
      "Mean 5-cv results : 0.6724497676557561 +- 0.004072268717719656\n",
      "####################################################################################################\n"
     ]
    },
    {
     "name": "stderr",
     "output_type": "stream",
     "text": [
      "[I 2025-01-17 22:43:29,944] Trial 490 finished with value: 0.6709274694866855 and parameters: {'max_bin': 1086, 'learning_rate': 0.10201363244636988, 'max_depth': 9, 'gamma': 0.37508876803416125, 'min_child_weight': 53.89042507763199, 'subsample': 0.8848205342203961, 'colsample_bytree': 0.9738019292889698, 'colsample_bylevel': 0.8157504895090268, 'colsample_bynode': 0.874323316714247, 'reg_alpha': 6.325779765290869, 'reg_lambda': 0.26777857906424957, 'max_cat_threshold': 42}. Best is trial 238 with value: 0.6763129944323751.\n"
     ]
    },
    {
     "name": "stdout",
     "output_type": "stream",
     "text": [
      "####################################################################################################\n",
      "OOF prediction score :  0.6709274694866855\n",
      "Mean 5-cv results : 0.6692479677189942 +- 0.0036553323235827815\n",
      "####################################################################################################\n"
     ]
    },
    {
     "name": "stderr",
     "output_type": "stream",
     "text": [
      "[I 2025-01-17 22:43:38,333] Trial 491 finished with value: 0.6729571881326237 and parameters: {'max_bin': 1194, 'learning_rate': 0.1107558916821626, 'max_depth': 4, 'gamma': 0.5966648326219258, 'min_child_weight': 25.1074976371783, 'subsample': 0.8112182561088173, 'colsample_bytree': 0.9524551327634266, 'colsample_bylevel': 0.9199605204921874, 'colsample_bynode': 0.9961725756179395, 'reg_alpha': 3.0947579916274925, 'reg_lambda': 0.09199516647078972, 'max_cat_threshold': 20}. Best is trial 238 with value: 0.6763129944323751.\n"
     ]
    },
    {
     "name": "stdout",
     "output_type": "stream",
     "text": [
      "####################################################################################################\n",
      "OOF prediction score :  0.6729571881326237\n",
      "Mean 5-cv results : 0.6710618049344739 +- 0.005178425837743311\n",
      "####################################################################################################\n"
     ]
    },
    {
     "name": "stderr",
     "output_type": "stream",
     "text": [
      "[I 2025-01-17 22:43:51,016] Trial 492 finished with value: 0.674592513618245 and parameters: {'max_bin': 945, 'learning_rate': 0.10512599894252965, 'max_depth': 3, 'gamma': 0.18024509377173054, 'min_child_weight': 32.51040734212409, 'subsample': 0.8006030683071721, 'colsample_bytree': 0.8829015274380508, 'colsample_bylevel': 0.8316144128037277, 'colsample_bynode': 0.8831888685154303, 'reg_alpha': 7.660597920374282, 'reg_lambda': 0.156811378046902, 'max_cat_threshold': 4}. Best is trial 238 with value: 0.6763129944323751.\n"
     ]
    },
    {
     "name": "stdout",
     "output_type": "stream",
     "text": [
      "####################################################################################################\n",
      "OOF prediction score :  0.674592513618245\n",
      "Mean 5-cv results : 0.6729974147876392 +- 0.004254192947373412\n",
      "####################################################################################################\n"
     ]
    },
    {
     "name": "stderr",
     "output_type": "stream",
     "text": [
      "[I 2025-01-17 22:44:01,868] Trial 493 finished with value: 0.6717976997156052 and parameters: {'max_bin': 3333, 'learning_rate': 0.10250543098168693, 'max_depth': 5, 'gamma': 0.8237056732200426, 'min_child_weight': 41.390327600352926, 'subsample': 0.8185270468610057, 'colsample_bytree': 0.964368378713795, 'colsample_bylevel': 0.8031212863469931, 'colsample_bynode': 0.8563072764828457, 'reg_alpha': 4.189793513176027, 'reg_lambda': 0.4407159657297007, 'max_cat_threshold': 5}. Best is trial 238 with value: 0.6763129944323751.\n"
     ]
    },
    {
     "name": "stdout",
     "output_type": "stream",
     "text": [
      "####################################################################################################\n",
      "OOF prediction score :  0.6717976997156052\n",
      "Mean 5-cv results : 0.6697952902157889 +- 0.003078605897062849\n",
      "####################################################################################################\n"
     ]
    },
    {
     "name": "stderr",
     "output_type": "stream",
     "text": [
      "[I 2025-01-17 22:44:12,629] Trial 494 finished with value: 0.6736749304313884 and parameters: {'max_bin': 2481, 'learning_rate': 0.10004508281001165, 'max_depth': 4, 'gamma': 0.35342785529638154, 'min_child_weight': 12.675727519181027, 'subsample': 0.8061034402025731, 'colsample_bytree': 0.9476192012207709, 'colsample_bylevel': 0.8190524296314388, 'colsample_bynode': 0.8695834244306108, 'reg_alpha': 2.3635883728389446, 'reg_lambda': 0.866573799873858, 'max_cat_threshold': 3}. Best is trial 238 with value: 0.6763129944323751.\n"
     ]
    },
    {
     "name": "stdout",
     "output_type": "stream",
     "text": [
      "####################################################################################################\n",
      "OOF prediction score :  0.6736749304313884\n",
      "Mean 5-cv results : 0.6718529117002177 +- 0.0032377279371511723\n",
      "####################################################################################################\n"
     ]
    },
    {
     "name": "stderr",
     "output_type": "stream",
     "text": [
      "[I 2025-01-17 22:44:20,762] Trial 495 finished with value: 0.6731584459743609 and parameters: {'max_bin': 58, 'learning_rate': 0.10831146505964671, 'max_depth': 6, 'gamma': 0.16360752762092812, 'min_child_weight': 28.280163224110513, 'subsample': 0.9317898503429828, 'colsample_bytree': 0.9367902718366136, 'colsample_bylevel': 0.8093172943810897, 'colsample_bynode': 0.862262218413039, 'reg_alpha': 5.888854496281542, 'reg_lambda': 0.2844304909845148, 'max_cat_threshold': 8}. Best is trial 238 with value: 0.6763129944323751.\n"
     ]
    },
    {
     "name": "stdout",
     "output_type": "stream",
     "text": [
      "####################################################################################################\n",
      "OOF prediction score :  0.6731584459743609\n",
      "Mean 5-cv results : 0.6710012744894281 +- 0.004239555279054362\n",
      "####################################################################################################\n"
     ]
    },
    {
     "name": "stderr",
     "output_type": "stream",
     "text": [
      "[I 2025-01-17 22:44:35,768] Trial 496 finished with value: 0.6751284552954243 and parameters: {'max_bin': 2906, 'learning_rate': 0.10571224607352987, 'max_depth': 3, 'gamma': 0.004695782817327604, 'min_child_weight': 17.36455575658003, 'subsample': 0.9057184210115753, 'colsample_bytree': 0.8923409823601605, 'colsample_bylevel': 0.8785081160845307, 'colsample_bynode': 0.8780813249704632, 'reg_alpha': 7.602902725960896, 'reg_lambda': 0.1306446672161281, 'max_cat_threshold': 12}. Best is trial 238 with value: 0.6763129944323751.\n"
     ]
    },
    {
     "name": "stdout",
     "output_type": "stream",
     "text": [
      "####################################################################################################\n",
      "OOF prediction score :  0.6751284552954243\n",
      "Mean 5-cv results : 0.6736813777692839 +- 0.004188095211037816\n",
      "####################################################################################################\n"
     ]
    },
    {
     "name": "stderr",
     "output_type": "stream",
     "text": [
      "[I 2025-01-17 22:44:45,029] Trial 497 finished with value: 0.6716207210564267 and parameters: {'max_bin': 768, 'learning_rate': 0.10386783796299226, 'max_depth': 4, 'gamma': 0.4761605945617558, 'min_child_weight': 36.55146303070791, 'subsample': 0.8000803518473043, 'colsample_bytree': 0.8790187656278479, 'colsample_bylevel': 0.8887204633169264, 'colsample_bynode': 0.8741583112624914, 'reg_alpha': 9.995669669400758, 'reg_lambda': 0.190559527668727, 'max_cat_threshold': 9}. Best is trial 238 with value: 0.6763129944323751.\n"
     ]
    },
    {
     "name": "stdout",
     "output_type": "stream",
     "text": [
      "####################################################################################################\n",
      "OOF prediction score :  0.6716207210564267\n",
      "Mean 5-cv results : 0.6699150586392972 +- 0.004245965792075702\n",
      "####################################################################################################\n"
     ]
    },
    {
     "name": "stderr",
     "output_type": "stream",
     "text": [
      "[I 2025-01-17 22:44:54,219] Trial 498 finished with value: 0.6745599865222242 and parameters: {'max_bin': 1023, 'learning_rate': 0.11102359373136349, 'max_depth': 5, 'gamma': 0.1879853737760977, 'min_child_weight': 44.20783483423152, 'subsample': 0.8146015062710749, 'colsample_bytree': 0.882004238353322, 'colsample_bylevel': 0.8123659730176228, 'colsample_bynode': 0.8660924031631754, 'reg_alpha': 0.8813153835574101, 'reg_lambda': 0.6309733591579303, 'max_cat_threshold': 7}. Best is trial 238 with value: 0.6763129944323751.\n"
     ]
    },
    {
     "name": "stdout",
     "output_type": "stream",
     "text": [
      "####################################################################################################\n",
      "OOF prediction score :  0.6745599865222242\n",
      "Mean 5-cv results : 0.6725219030788525 +- 0.0044196488391979975\n",
      "####################################################################################################\n"
     ]
    },
    {
     "name": "stderr",
     "output_type": "stream",
     "text": [
      "[I 2025-01-17 22:45:06,313] Trial 499 finished with value: 0.6732645828056946 and parameters: {'max_bin': 862, 'learning_rate': 0.10693812218964917, 'max_depth': 3, 'gamma': 0.3628044915044476, 'min_child_weight': 23.297760062401775, 'subsample': 0.9214717586505226, 'colsample_bytree': 0.8855406854420522, 'colsample_bylevel': 0.804587232518615, 'colsample_bynode': 0.8253346803532741, 'reg_alpha': 4.043398074561403, 'reg_lambda': 0.34762286016320754, 'max_cat_threshold': 224}. Best is trial 238 with value: 0.6763129944323751.\n"
     ]
    },
    {
     "name": "stdout",
     "output_type": "stream",
     "text": [
      "####################################################################################################\n",
      "OOF prediction score :  0.6732645828056946\n",
      "Mean 5-cv results : 0.6715431377685389 +- 0.0038064791544188815\n",
      "####################################################################################################\n"
     ]
    }
   ],
   "source": [
    "from sklearn.model_selection import KFold\n",
    "\n",
    "model = XGBoostModel\n",
    "kf = KFold(n_splits=5, shuffle=True, random_state=42)\n",
    "\n",
    "optimizer = OptunaHyperparameterOptimizer(X,\n",
    "                                          y,\n",
    "                                          model,\n",
    "                                          XGBoostGBTreeDepthwise(),\n",
    "                                          kf,\n",
    "                                          scci_metric,\n",
    "                                          model_wrapper=SurvivalModelWrapper(\"kaplanmeier\")\n",
    "                                          direction = 'maximize',\n",
    "                                          n_trials=1000,\n",
    "                                          study_name = 'km_xgboost',\n",
    "                                          random_state=42)\n",
    "\n",
    "best_params = optimizer.optimize(timeout=3600*10)"
   ]
  },
  {
   "cell_type": "code",
   "execution_count": null,
   "id": "814e6a97",
   "metadata": {
    "papermill": {
     "duration": 0.065404,
     "end_time": "2025-01-17T22:45:06.548544",
     "exception": false,
     "start_time": "2025-01-17T22:45:06.483140",
     "status": "completed"
    },
    "tags": []
   },
   "outputs": [],
   "source": []
  }
 ],
 "metadata": {
  "kaggle": {
   "accelerator": "none",
   "dataSources": [
    {
     "databundleVersionId": 10381525,
     "sourceId": 70942,
     "sourceType": "competition"
    }
   ],
   "dockerImageVersionId": 30822,
   "isGpuEnabled": false,
   "isInternetEnabled": true,
   "language": "python",
   "sourceType": "notebook"
  },
  "kernelspec": {
   "display_name": "Python 3",
   "language": "python",
   "name": "python3"
  },
  "language_info": {
   "codemirror_mode": {
    "name": "ipython",
    "version": 3
   },
   "file_extension": ".py",
   "mimetype": "text/x-python",
   "name": "python",
   "nbconvert_exporter": "python",
   "pygments_lexer": "ipython3",
   "version": "3.10.12"
  },
  "papermill": {
   "default_parameters": {},
   "duration": 4647.40561,
   "end_time": "2025-01-17T22:45:07.845590",
   "environment_variables": {},
   "exception": null,
   "input_path": "__notebook__.ipynb",
   "output_path": "__notebook__.ipynb",
   "parameters": {},
   "start_time": "2025-01-17T21:27:40.439980",
   "version": "2.6.0"
  }
 },
 "nbformat": 4,
 "nbformat_minor": 5
}
